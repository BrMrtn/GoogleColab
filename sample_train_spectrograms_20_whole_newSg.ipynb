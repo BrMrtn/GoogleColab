{
  "nbformat": 4,
  "nbformat_minor": 0,
  "metadata": {
    "colab": {
      "provenance": [],
      "authorship_tag": "ABX9TyMjTc2+G6RXfDS9FLcD1Qql",
      "include_colab_link": true
    },
    "kernelspec": {
      "name": "python3",
      "display_name": "Python 3"
    },
    "language_info": {
      "name": "python"
    }
  },
  "cells": [
    {
      "cell_type": "markdown",
      "metadata": {
        "id": "view-in-github",
        "colab_type": "text"
      },
      "source": [
        "<a href=\"https://colab.research.google.com/github/BrMrtn/GoogleColab/blob/main/sample_train_spectrograms_20_whole_newSg.ipynb\" target=\"_parent\"><img src=\"https://colab.research.google.com/assets/colab-badge.svg\" alt=\"Open In Colab\"/></a>"
      ]
    },
    {
      "cell_type": "code",
      "execution_count": null,
      "metadata": {
        "id": "aG4UmdnSivKk"
      },
      "outputs": [],
      "source": [
        "import librosa\n",
        "import numpy as np\n",
        "import matplotlib.pyplot as plt\n",
        "from tqdm import tqdm\n",
        "import os\n",
        "\n",
        "from google.colab import drive\n",
        "drive.mount('/content/drive')\n",
        "\n",
        "path = '/content/drive/MyDrive/DeepLearning'"
      ]
    },
    {
      "cell_type": "code",
      "source": [
        "# Turns audio to spectrograms and saves them to the given folder\n",
        "def save_spectrogram_to_disk(path_to_audio, path_to_spectrogram_ogg, sample_duration_sec=5.0, hop_length_sec=2.5):\n",
        "  audio_data, audio_rate = librosa.load(path_to_audio)\n",
        "\n",
        "  sample_duration_frames = int(sample_duration_sec * audio_rate)\n",
        "  hop_length_frames = int(hop_length_sec * audio_rate)\n",
        "\n",
        "  n_fft = 2048\n",
        "  hop_length = 512\n",
        "  n_mels = 250\n",
        "  # win_length is automatically equal to n_fft\n",
        "\n",
        "  # Pad audio with zeros if smaller than sample_duration_sec\n",
        "  if len(audio_data) < sample_duration_frames:\n",
        "    audio_data = librosa.util.fix_length(audio_data, size=sample_duration_frames)\n",
        "\n",
        "  # Divide the audio into sample_duration_sec seconds long samples\n",
        "  for i, sample_start in tqdm(enumerate(range(0, len(audio_data), hop_length_frames))):\n",
        "    sample_end = min(sample_start+sample_duration_frames, len(audio_data)-1)\n",
        "    sample = audio_data[sample_start:sample_end]\n",
        "\n",
        "    # If the sample is the remainder of dividing the audio, thus smaller than the sample duration sould be, we discard the sample\n",
        "    # The end of the audio containing crucial data is highly unlikely\n",
        "    if len(sample) < sample_duration_frames:\n",
        "      continue\n",
        "\n",
        "    # Generate mel spectrogram\n",
        "    S = librosa.feature.melspectrogram(\n",
        "        y=sample,\n",
        "        sr=audio_rate,\n",
        "        n_fft=n_fft,\n",
        "        hop_length=hop_length,\n",
        "        n_mels=n_mels\n",
        "    )\n",
        "\n",
        "    # Convert to decibel scale\n",
        "    S_db = librosa.power_to_db(S, ref=np.max)\n",
        "\n",
        "    # Convert spectrogram into an image\n",
        "    # img = librosa.display.specshow(S_db, sr=audio_rate, x_axis='time', y_axis='mel')\n",
        "\n",
        "    spectrogram_file_path = path_to_spectrogram_ogg.split('.')[0]+f'_{i}.png'\n",
        "\n",
        "    img = librosa.display.specshow(S_db, sr=audio_rate, hop_length=hop_length, cmap='gray')\n",
        "\n",
        "    plt.axis('off')\n",
        "    plt.savefig(spectrogram_file_path, bbox_inches='tight', pad_inches=0)"
      ],
      "metadata": {
        "id": "4-rpESXTjXWW"
      },
      "execution_count": null,
      "outputs": []
    },
    {
      "cell_type": "code",
      "source": [
        "folders = os.listdir(path+'/sample_train_audio')\n",
        "\n",
        "for j, folder in enumerate(folders):\n",
        "  # if (j >= 5): break # for now, we only create spectrograms for audio in the first 5 folders\n",
        "\n",
        "  print(\"current folder:\", folder)\n",
        "  folder_path = path+'/sample_train_audio/'+folder+'/'\n",
        "\n",
        "  spectrogram_folder_path = path+'/sample_train_spectrograms_20_whole_oldSg/'+folder+'/'\n",
        "  if not os.path.exists(spectrogram_folder_path):\n",
        "    os.makedirs(spectrogram_folder_path)\n",
        "\n",
        "  files = os.listdir(folder_path)\n",
        "\n",
        "  for i, file in enumerate(files):\n",
        "    # if (i >= 20): break # for now, we only look at the first 20 elements of a folder (maximum)\n",
        "    save_spectrogram_to_disk(folder_path+file, spectrogram_folder_path+file)"
      ],
      "metadata": {
        "id": "2rougCW3jfKj"
      },
      "execution_count": null,
      "outputs": []
    }
  ]
}