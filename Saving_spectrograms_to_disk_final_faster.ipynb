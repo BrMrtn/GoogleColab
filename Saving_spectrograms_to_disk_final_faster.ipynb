{
  "nbformat": 4,
  "nbformat_minor": 0,
  "metadata": {
    "colab": {
      "provenance": [],
      "gpuType": "V28",
      "include_colab_link": true
    },
    "kernelspec": {
      "name": "python3",
      "display_name": "Python 3"
    },
    "language_info": {
      "name": "python"
    },
    "accelerator": "TPU"
  },
  "cells": [
    {
      "cell_type": "markdown",
      "metadata": {
        "id": "view-in-github",
        "colab_type": "text"
      },
      "source": [
        "<a href=\"https://colab.research.google.com/github/BrMrtn/GoogleColab/blob/main/Saving_spectrograms_to_disk_final_faster.ipynb\" target=\"_parent\"><img src=\"https://colab.research.google.com/assets/colab-badge.svg\" alt=\"Open In Colab\"/></a>"
      ]
    },
    {
      "cell_type": "code",
      "execution_count": 13,
      "metadata": {
        "id": "aG4UmdnSivKk",
        "outputId": "a5a3fc21-d597-4ac2-8af0-decd3b8c5acb",
        "colab": {
          "base_uri": "https://localhost:8080/"
        }
      },
      "outputs": [
        {
          "output_type": "stream",
          "name": "stdout",
          "text": [
            "Drive already mounted at /content/drive; to attempt to forcibly remount, call drive.mount(\"/content/drive\", force_remount=True).\n"
          ]
        }
      ],
      "source": [
        "import librosa\n",
        "import numpy as np\n",
        "import matplotlib.pyplot as plt\n",
        "from tqdm import tqdm\n",
        "import os\n",
        "from multiprocessing.pool import ThreadPool\n",
        "\n",
        "from google.colab import drive\n",
        "drive.mount('/content/drive')\n",
        "\n",
        "path = '/content/drive/MyDrive/DeepLearning'"
      ]
    },
    {
      "cell_type": "code",
      "source": [
        "# Turns audio to spectrograms and saves them to the given folder\n",
        "def save_spectrogram_to_disk(path_to_audio, path_to_spectrogram_png, sample_duration_sec=5.0):\n",
        "  audio_data, _ = librosa.load(path_to_audio)\n",
        "  audio_rate = 32000 # given by the competition rules\n",
        "\n",
        "  sample_duration_frames = int(sample_duration_sec * audio_rate) # length of the samples in frames\n",
        "\n",
        "  n_fft = 2048 # [2024 2nd place]\n",
        "  hop_length = 512 # [2024 2nd place]\n",
        "  n_mels = 128 # [2024 2nd place]\n",
        "  # win_length is automatically equal to n_fft\n",
        "\n",
        "  # Pad audio with zeros if it's smaller than sample_duration_sec - original data is in the center\n",
        "  if len(audio_data) < sample_duration_frames:\n",
        "    padding_length = sample_duration_frames - len(audio_data)\n",
        "    pad_start = padding_length // 2\n",
        "    pad_end = padding_length - pad_start\n",
        "    audio_data = np.pad(audio_data, (pad_start, pad_end), mode='constant', constant_values=0)\n",
        "\n",
        "  # Cut first 5 seconds from audio_data\n",
        "  sample = audio_data[:sample_duration_frames]\n",
        "\n",
        "  # Generate mel spectrogram\n",
        "  S = librosa.feature.melspectrogram(\n",
        "      y=sample,\n",
        "      sr=audio_rate,\n",
        "      n_fft=n_fft,\n",
        "      hop_length=hop_length,\n",
        "      n_mels=n_mels,\n",
        "      fmin=40, # [2024 1st place]\n",
        "      fmax=16000 # Bird calls are usually high pitched, we don't want to remove those frequencies\n",
        "  )\n",
        "\n",
        "  # Convert to decibel scale\n",
        "  S_db = librosa.power_to_db(S, ref=np.max)\n",
        "\n",
        "  img_data = (255 * (S_db - S_db.min()) / (S_db.max() - S_db.min())).astype(np.uint8)\n",
        "\n",
        "  img = Image.fromarray(img_data)\n",
        "  img = img.transpose(Image.FLIP_TOP_BOTTOM)\n",
        "  img.save(path_to_spectrogram_png)"
      ],
      "metadata": {
        "id": "4-rpESXTjXWW"
      },
      "execution_count": 14,
      "outputs": []
    },
    {
      "cell_type": "code",
      "source": [
        "def process_file(args):\n",
        "    folder_path, file, spectrogram_folder_path = args\n",
        "    save_spectrogram_to_disk(folder_path + file, spectrogram_folder_path + file.replace(\".ogg\", \".png\"))\n",
        "\n",
        "def process_folder(folder):\n",
        "    folder_path = path + '/sample_train_audio/' + folder + '/'\n",
        "    spectrogram_folder_path = path + '/ugyanaz?/' + folder + '/'\n",
        "    os.makedirs(spectrogram_folder_path, exist_ok=True)\n",
        "    files = os.listdir(folder_path)\n",
        "    args = [(folder_path, file, spectrogram_folder_path) for file in files]\n",
        "    with Pool(processes=os.cpu_count()) as pool:\n",
        "        pool.map(process_file, args)"
      ],
      "metadata": {
        "id": "qwuYmwnjDGMh"
      },
      "execution_count": 15,
      "outputs": []
    },
    {
      "cell_type": "code",
      "source": [
        "folders = os.listdir(path+'/sample_train_audio')\n",
        "\n",
        "with ThreadPool(processes=os.cpu_count()) as pool:\n",
        "    pool.map(process_folder, folders)"
      ],
      "metadata": {
        "id": "2rougCW3jfKj",
        "outputId": "6d320fc7-f237-40b3-8e01-72f2d72f68d4",
        "colab": {
          "base_uri": "https://localhost:8080/",
          "height": 1000
        }
      },
      "execution_count": 16,
      "outputs": [
        {
          "output_type": "stream",
          "name": "stderr",
          "text": [
            "Process ForkPoolWorker-704:\n",
            "Process ForkPoolWorker-1099:\n",
            "Process ForkPoolWorker-1394:\n",
            "Process ForkPoolWorker-1865:\n",
            "Process ForkPoolWorker-1887:\n",
            "Process ForkPoolWorker-1942:\n",
            "Process ForkPoolWorker-1879:\n",
            "Process ForkPoolWorker-1912:\n",
            "Process ForkPoolWorker-632:\n",
            "Process ForkPoolWorker-1922:\n",
            "Process ForkPoolWorker-1886:\n",
            "Process ForkPoolWorker-1920:\n",
            "Process ForkPoolWorker-1904:\n",
            "Process ForkPoolWorker-1892:\n",
            "Process ForkPoolWorker-1855:\n",
            "Process ForkPoolWorker-1560:\n",
            "Process ForkPoolWorker-1881:\n",
            "Process ForkPoolWorker-1632:\n",
            "Process ForkPoolWorker-1907:\n"
          ]
        },
        {
          "output_type": "error",
          "ename": "KeyboardInterrupt",
          "evalue": "",
          "traceback": [
            "\u001b[0;31m---------------------------------------------------------------------------\u001b[0m",
            "\u001b[0;31mKeyboardInterrupt\u001b[0m                         Traceback (most recent call last)",
            "\u001b[0;32m<ipython-input-16-53ba016b7cbc>\u001b[0m in \u001b[0;36m<cell line: 3>\u001b[0;34m()\u001b[0m\n\u001b[1;32m      2\u001b[0m \u001b[0;34m\u001b[0m\u001b[0m\n\u001b[1;32m      3\u001b[0m \u001b[0;32mwith\u001b[0m \u001b[0mThreadPool\u001b[0m\u001b[0;34m(\u001b[0m\u001b[0mprocesses\u001b[0m\u001b[0;34m=\u001b[0m\u001b[0mos\u001b[0m\u001b[0;34m.\u001b[0m\u001b[0mcpu_count\u001b[0m\u001b[0;34m(\u001b[0m\u001b[0;34m)\u001b[0m\u001b[0;34m)\u001b[0m \u001b[0;32mas\u001b[0m \u001b[0mpool\u001b[0m\u001b[0;34m:\u001b[0m\u001b[0;34m\u001b[0m\u001b[0;34m\u001b[0m\u001b[0m\n\u001b[0;32m----> 4\u001b[0;31m     \u001b[0mpool\u001b[0m\u001b[0;34m.\u001b[0m\u001b[0mmap\u001b[0m\u001b[0;34m(\u001b[0m\u001b[0mprocess_folder\u001b[0m\u001b[0;34m,\u001b[0m \u001b[0mfolders\u001b[0m\u001b[0;34m)\u001b[0m\u001b[0;34m\u001b[0m\u001b[0;34m\u001b[0m\u001b[0m\n\u001b[0m",
            "\u001b[0;32m/usr/lib/python3.10/multiprocessing/pool.py\u001b[0m in \u001b[0;36mmap\u001b[0;34m(self, func, iterable, chunksize)\u001b[0m\n\u001b[1;32m    365\u001b[0m         \u001b[0;32min\u001b[0m \u001b[0ma\u001b[0m \u001b[0mlist\u001b[0m \u001b[0mthat\u001b[0m \u001b[0;32mis\u001b[0m \u001b[0mreturned\u001b[0m\u001b[0;34m.\u001b[0m\u001b[0;34m\u001b[0m\u001b[0;34m\u001b[0m\u001b[0m\n\u001b[1;32m    366\u001b[0m         '''\n\u001b[0;32m--> 367\u001b[0;31m         \u001b[0;32mreturn\u001b[0m \u001b[0mself\u001b[0m\u001b[0;34m.\u001b[0m\u001b[0m_map_async\u001b[0m\u001b[0;34m(\u001b[0m\u001b[0mfunc\u001b[0m\u001b[0;34m,\u001b[0m \u001b[0miterable\u001b[0m\u001b[0;34m,\u001b[0m \u001b[0mmapstar\u001b[0m\u001b[0;34m,\u001b[0m \u001b[0mchunksize\u001b[0m\u001b[0;34m)\u001b[0m\u001b[0;34m.\u001b[0m\u001b[0mget\u001b[0m\u001b[0;34m(\u001b[0m\u001b[0;34m)\u001b[0m\u001b[0;34m\u001b[0m\u001b[0;34m\u001b[0m\u001b[0m\n\u001b[0m\u001b[1;32m    368\u001b[0m \u001b[0;34m\u001b[0m\u001b[0m\n\u001b[1;32m    369\u001b[0m     \u001b[0;32mdef\u001b[0m \u001b[0mstarmap\u001b[0m\u001b[0;34m(\u001b[0m\u001b[0mself\u001b[0m\u001b[0;34m,\u001b[0m \u001b[0mfunc\u001b[0m\u001b[0;34m,\u001b[0m \u001b[0miterable\u001b[0m\u001b[0;34m,\u001b[0m \u001b[0mchunksize\u001b[0m\u001b[0;34m=\u001b[0m\u001b[0;32mNone\u001b[0m\u001b[0;34m)\u001b[0m\u001b[0;34m:\u001b[0m\u001b[0;34m\u001b[0m\u001b[0;34m\u001b[0m\u001b[0m\n",
            "\u001b[0;32m/usr/lib/python3.10/multiprocessing/pool.py\u001b[0m in \u001b[0;36mget\u001b[0;34m(self, timeout)\u001b[0m\n\u001b[1;32m    766\u001b[0m \u001b[0;34m\u001b[0m\u001b[0m\n\u001b[1;32m    767\u001b[0m     \u001b[0;32mdef\u001b[0m \u001b[0mget\u001b[0m\u001b[0;34m(\u001b[0m\u001b[0mself\u001b[0m\u001b[0;34m,\u001b[0m \u001b[0mtimeout\u001b[0m\u001b[0;34m=\u001b[0m\u001b[0;32mNone\u001b[0m\u001b[0;34m)\u001b[0m\u001b[0;34m:\u001b[0m\u001b[0;34m\u001b[0m\u001b[0;34m\u001b[0m\u001b[0m\n\u001b[0;32m--> 768\u001b[0;31m         \u001b[0mself\u001b[0m\u001b[0;34m.\u001b[0m\u001b[0mwait\u001b[0m\u001b[0;34m(\u001b[0m\u001b[0mtimeout\u001b[0m\u001b[0;34m)\u001b[0m\u001b[0;34m\u001b[0m\u001b[0;34m\u001b[0m\u001b[0m\n\u001b[0m\u001b[1;32m    769\u001b[0m         \u001b[0;32mif\u001b[0m \u001b[0;32mnot\u001b[0m \u001b[0mself\u001b[0m\u001b[0;34m.\u001b[0m\u001b[0mready\u001b[0m\u001b[0;34m(\u001b[0m\u001b[0;34m)\u001b[0m\u001b[0;34m:\u001b[0m\u001b[0;34m\u001b[0m\u001b[0;34m\u001b[0m\u001b[0m\n\u001b[1;32m    770\u001b[0m             \u001b[0;32mraise\u001b[0m \u001b[0mTimeoutError\u001b[0m\u001b[0;34m\u001b[0m\u001b[0;34m\u001b[0m\u001b[0m\n",
            "\u001b[0;32m/usr/lib/python3.10/multiprocessing/pool.py\u001b[0m in \u001b[0;36mwait\u001b[0;34m(self, timeout)\u001b[0m\n\u001b[1;32m    763\u001b[0m \u001b[0;34m\u001b[0m\u001b[0m\n\u001b[1;32m    764\u001b[0m     \u001b[0;32mdef\u001b[0m \u001b[0mwait\u001b[0m\u001b[0;34m(\u001b[0m\u001b[0mself\u001b[0m\u001b[0;34m,\u001b[0m \u001b[0mtimeout\u001b[0m\u001b[0;34m=\u001b[0m\u001b[0;32mNone\u001b[0m\u001b[0;34m)\u001b[0m\u001b[0;34m:\u001b[0m\u001b[0;34m\u001b[0m\u001b[0;34m\u001b[0m\u001b[0m\n\u001b[0;32m--> 765\u001b[0;31m         \u001b[0mself\u001b[0m\u001b[0;34m.\u001b[0m\u001b[0m_event\u001b[0m\u001b[0;34m.\u001b[0m\u001b[0mwait\u001b[0m\u001b[0;34m(\u001b[0m\u001b[0mtimeout\u001b[0m\u001b[0;34m)\u001b[0m\u001b[0;34m\u001b[0m\u001b[0;34m\u001b[0m\u001b[0m\n\u001b[0m\u001b[1;32m    766\u001b[0m \u001b[0;34m\u001b[0m\u001b[0m\n\u001b[1;32m    767\u001b[0m     \u001b[0;32mdef\u001b[0m \u001b[0mget\u001b[0m\u001b[0;34m(\u001b[0m\u001b[0mself\u001b[0m\u001b[0;34m,\u001b[0m \u001b[0mtimeout\u001b[0m\u001b[0;34m=\u001b[0m\u001b[0;32mNone\u001b[0m\u001b[0;34m)\u001b[0m\u001b[0;34m:\u001b[0m\u001b[0;34m\u001b[0m\u001b[0;34m\u001b[0m\u001b[0m\n",
            "\u001b[0;32m/usr/lib/python3.10/threading.py\u001b[0m in \u001b[0;36mwait\u001b[0;34m(self, timeout)\u001b[0m\n\u001b[1;32m    605\u001b[0m             \u001b[0msignaled\u001b[0m \u001b[0;34m=\u001b[0m \u001b[0mself\u001b[0m\u001b[0;34m.\u001b[0m\u001b[0m_flag\u001b[0m\u001b[0;34m\u001b[0m\u001b[0;34m\u001b[0m\u001b[0m\n\u001b[1;32m    606\u001b[0m             \u001b[0;32mif\u001b[0m \u001b[0;32mnot\u001b[0m \u001b[0msignaled\u001b[0m\u001b[0;34m:\u001b[0m\u001b[0;34m\u001b[0m\u001b[0;34m\u001b[0m\u001b[0m\n\u001b[0;32m--> 607\u001b[0;31m                 \u001b[0msignaled\u001b[0m \u001b[0;34m=\u001b[0m \u001b[0mself\u001b[0m\u001b[0;34m.\u001b[0m\u001b[0m_cond\u001b[0m\u001b[0;34m.\u001b[0m\u001b[0mwait\u001b[0m\u001b[0;34m(\u001b[0m\u001b[0mtimeout\u001b[0m\u001b[0;34m)\u001b[0m\u001b[0;34m\u001b[0m\u001b[0;34m\u001b[0m\u001b[0m\n\u001b[0m\u001b[1;32m    608\u001b[0m             \u001b[0;32mreturn\u001b[0m \u001b[0msignaled\u001b[0m\u001b[0;34m\u001b[0m\u001b[0;34m\u001b[0m\u001b[0m\n\u001b[1;32m    609\u001b[0m \u001b[0;34m\u001b[0m\u001b[0m\n",
            "\u001b[0;32m/usr/lib/python3.10/threading.py\u001b[0m in \u001b[0;36mwait\u001b[0;34m(self, timeout)\u001b[0m\n\u001b[1;32m    318\u001b[0m         \u001b[0;32mtry\u001b[0m\u001b[0;34m:\u001b[0m    \u001b[0;31m# restore state no matter what (e.g., KeyboardInterrupt)\u001b[0m\u001b[0;34m\u001b[0m\u001b[0;34m\u001b[0m\u001b[0m\n\u001b[1;32m    319\u001b[0m             \u001b[0;32mif\u001b[0m \u001b[0mtimeout\u001b[0m \u001b[0;32mis\u001b[0m \u001b[0;32mNone\u001b[0m\u001b[0;34m:\u001b[0m\u001b[0;34m\u001b[0m\u001b[0;34m\u001b[0m\u001b[0m\n\u001b[0;32m--> 320\u001b[0;31m                 \u001b[0mwaiter\u001b[0m\u001b[0;34m.\u001b[0m\u001b[0macquire\u001b[0m\u001b[0;34m(\u001b[0m\u001b[0;34m)\u001b[0m\u001b[0;34m\u001b[0m\u001b[0;34m\u001b[0m\u001b[0m\n\u001b[0m\u001b[1;32m    321\u001b[0m                 \u001b[0mgotit\u001b[0m \u001b[0;34m=\u001b[0m \u001b[0;32mTrue\u001b[0m\u001b[0;34m\u001b[0m\u001b[0;34m\u001b[0m\u001b[0m\n\u001b[1;32m    322\u001b[0m             \u001b[0;32melse\u001b[0m\u001b[0;34m:\u001b[0m\u001b[0;34m\u001b[0m\u001b[0;34m\u001b[0m\u001b[0m\n",
            "\u001b[0;31mKeyboardInterrupt\u001b[0m: "
          ]
        },
        {
          "output_type": "stream",
          "name": "stderr",
          "text": [
            "Process ForkPoolWorker-1916:\n",
            "Process ForkPoolWorker-1856:\n",
            "Process ForkPoolWorker-1537:\n",
            "Process ForkPoolWorker-290:\n",
            "Process ForkPoolWorker-207:\n",
            "Process ForkPoolWorker-1867:\n",
            "Process ForkPoolWorker-1873:\n",
            "Process ForkPoolWorker-880:\n",
            "Process ForkPoolWorker-1937:\n",
            "Process ForkPoolWorker-1936:\n",
            "Process ForkPoolWorker-200:\n",
            "Process ForkPoolWorker-952:\n",
            "Process ForkPoolWorker-873:\n",
            "Process ForkPoolWorker-1827:\n",
            "Process ForkPoolWorker-1686:\n",
            "Process ForkPoolWorker-1852:\n",
            "Process ForkPoolWorker-1700:\n",
            "Process ForkPoolWorker-1899:\n",
            "Process ForkPoolWorker-1784:\n",
            "Process ForkPoolWorker-1549:\n",
            "Process ForkPoolWorker-1769:\n",
            "Process ForkPoolWorker-1447:\n",
            "Process ForkPoolWorker-275:\n",
            "Process ForkPoolWorker-195:\n",
            "Process ForkPoolWorker-1584:\n",
            "Process ForkPoolWorker-1846:\n",
            "Process ForkPoolWorker-1542:\n",
            "Process ForkPoolWorker-1613:\n",
            "Process ForkPoolWorker-1877:\n",
            "Process ForkPoolWorker-1473:\n",
            "Process ForkPoolWorker-1534:\n",
            "Process ForkPoolWorker-1833:\n",
            "Process ForkPoolWorker-1889:\n",
            "Process ForkPoolWorker-98:\n",
            "Process ForkPoolWorker-681:\n",
            "Process ForkPoolWorker-1773:\n",
            "Process ForkPoolWorker-1503:\n",
            "Process ForkPoolWorker-539:\n",
            "Process ForkPoolWorker-416:\n",
            "Process ForkPoolWorker-488:\n",
            "Process ForkPoolWorker-1822:\n",
            "Process ForkPoolWorker-596:\n",
            "Process ForkPoolWorker-1658:\n",
            "Process ForkPoolWorker-152:\n",
            "Process ForkPoolWorker-1815:\n",
            "Process ForkPoolWorker-1825:\n",
            "Process ForkPoolWorker-1860:\n",
            "Process ForkPoolWorker-1598:\n",
            "Process ForkPoolWorker-1364:\n",
            "Process ForkPoolWorker-1646:\n"
          ]
        }
      ]
    }
  ]
}