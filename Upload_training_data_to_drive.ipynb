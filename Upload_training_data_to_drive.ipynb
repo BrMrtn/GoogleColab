{
  "nbformat": 4,
  "nbformat_minor": 0,
  "metadata": {
    "colab": {
      "provenance": [],
      "authorship_tag": "ABX9TyMABHXj5dL8MdEXvaZ5UMD5",
      "include_colab_link": true
    },
    "kernelspec": {
      "name": "python3",
      "display_name": "Python 3"
    },
    "language_info": {
      "name": "python"
    }
  },
  "cells": [
    {
      "cell_type": "markdown",
      "metadata": {
        "id": "view-in-github",
        "colab_type": "text"
      },
      "source": [
        "<a href=\"https://colab.research.google.com/github/BrMrtn/GoogleColab/blob/main/Upload_training_data_to_drive.ipynb\" target=\"_parent\"><img src=\"https://colab.research.google.com/assets/colab-badge.svg\" alt=\"Open In Colab\"/></a>"
      ]
    },
    {
      "cell_type": "markdown",
      "source": [
        "**Mounting Google Drive to this notebook**"
      ],
      "metadata": {
        "id": "xQdSsDCEh05O"
      }
    },
    {
      "cell_type": "code",
      "execution_count": 6,
      "metadata": {
        "id": "zIm_WQIIhQpP",
        "colab": {
          "base_uri": "https://localhost:8080/"
        },
        "outputId": "46de85d4-bc37-483b-b865-f39da4be3258"
      },
      "outputs": [
        {
          "output_type": "stream",
          "name": "stdout",
          "text": [
            "Mounted at /content/drive\n"
          ]
        }
      ],
      "source": [
        "from google.colab import drive\n",
        "drive.mount('/content/drive')"
      ]
    },
    {
      "cell_type": "markdown",
      "source": [
        "**Bind the KAGGLE_KEY and KAGGLE_USERNAME, so that we can download from Kaggle's database.**\n",
        "\n",
        "It's necessary to provide the name-value pairs for each key in Colab's Secret Codes tab. You can get these values from Kaggle by downloading a .json under Profile->Settings->API->Create New Token"
      ],
      "metadata": {
        "id": "8Ge_vF85mlU9"
      }
    },
    {
      "cell_type": "code",
      "source": [
        "from google.colab import userdata\n",
        "import os\n",
        "\n",
        "os.environ[\"KAGGLE_KEY\"] = userdata.get('KAGGLE_KEY')\n",
        "os.environ[\"KAGGLE_USERNAME\"] = userdata.get('KAGGLE_USERNAME')\n",
        "\n",
        "path = '/content/drive/MyDrive/DeepLearning'"
      ],
      "metadata": {
        "id": "UFBJmYCpmZww"
      },
      "execution_count": 16,
      "outputs": []
    },
    {
      "cell_type": "markdown",
      "source": [
        "**Download the kaggle competition data to the desired folder**"
      ],
      "metadata": {
        "id": "kxfRIsydh-X4"
      }
    },
    {
      "cell_type": "code",
      "source": [
        "%cd /content/drive/MyDrive/DeepLearning\n",
        "!kaggle competitions download -c birdclef-2024"
      ],
      "metadata": {
        "id": "2p6hJJfThapN"
      },
      "execution_count": null,
      "outputs": []
    },
    {
      "cell_type": "markdown",
      "source": [
        "**Unzip downloaded data into the drive folder**"
      ],
      "metadata": {
        "id": "ENJ2l2ADiOxs"
      }
    },
    {
      "cell_type": "code",
      "source": [
        "import zipfile\n",
        "with zipfile.ZipFile(path + '/birdclef-2024.zip', 'r') as zip_ref:\n",
        "    zip_ref.extractall(path)"
      ],
      "metadata": {
        "id": "BVj38WWhhydG"
      },
      "execution_count": null,
      "outputs": []
    },
    {
      "cell_type": "markdown",
      "source": [
        "**Create sample training data with same structure but smaller size**"
      ],
      "metadata": {
        "id": "sIbuCP7XyFS-"
      }
    },
    {
      "cell_type": "code",
      "source": [
        "import random\n",
        "import shutil\n",
        "\n",
        "train_audio_path = path + '/train_audio'\n",
        "sample_train_audio_path = path + '/sample_train_audio'\n",
        "\n",
        "# Get a list of all the folders in the train_audio folder\n",
        "folders = os.listdir(train_audio_path)\n",
        "\n",
        "# Get 500 random folders by shuffling than taking the first 500\n",
        "random.shuffle(folders)\n",
        "sample_folders = folders[:500]\n",
        "\n",
        "# Copy each folder to the sample_train_audio folder\n",
        "for folder in sample_folders:\n",
        "    shutil.copytree(os.path.join(train_audio_path, folder), os.path.join(sample_train_audio_path, folder))"
      ],
      "metadata": {
        "id": "fadQZTBotq4n"
      },
      "execution_count": 15,
      "outputs": []
    }
  ]
}