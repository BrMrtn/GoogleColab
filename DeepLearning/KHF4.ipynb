{
  "nbformat": 4,
  "nbformat_minor": 0,
  "metadata": {
    "colab": {
      "provenance": [],
      "authorship_tag": "ABX9TyP//YUtBCWljF7sDaCFal+y",
      "include_colab_link": true
    },
    "kernelspec": {
      "name": "python3",
      "display_name": "Python 3"
    },
    "language_info": {
      "name": "python"
    }
  },
  "cells": [
    {
      "cell_type": "markdown",
      "metadata": {
        "id": "view-in-github",
        "colab_type": "text"
      },
      "source": [
        "<a href=\"https://colab.research.google.com/github/BrMrtn/GoogleColab/blob/main/DeepLearning/KHF4.ipynb\" target=\"_parent\"><img src=\"https://colab.research.google.com/assets/colab-badge.svg\" alt=\"Open In Colab\"/></a>"
      ]
    },
    {
      "cell_type": "markdown",
      "source": [
        "A cél egy előtanított CNN háló tovább tanítása.\n",
        " - Válassz ki három tetszőleges kategóriát a Google Open Image Dataset-ből (tensorflow datasets eléri) és tölts le 400 képet kategóriánként.\n",
        " - Tölts be tetszőleges előtanított hálót (pl. Inception v3, VGG, ResNet) és tanítsd tovább (transfer learning) a kiválasztott három kategóriával:\n",
        "     - Előbb csak a végső fully-connected rétegek tanuljanak.\n",
        "     - Majd az így tovább tanított hálót tanítsd még tovább úgy, hogy a konvolúciós rétegek felsőbb rétegei is tanulnak (az alsóbbak nem).\n",
        " - Egy elkülönített teszt adatbázison, a kiválasztott három kategóriával értékeld ki a megoldás hatékonyságát. A tanító adatbázisban 200-200, a validációsban 100-100, a tesztben 100-100 kép legyen. Egy képet csak egy adatbázis részben használj fel, azonos előfeldolgozó eljárást használj, mint amit az előtanított hálónál alkalmaztak."
      ],
      "metadata": {
        "id": "Iyv-TInWEgp_"
      }
    },
    {
      "cell_type": "markdown",
      "source": [
        "A Tensorflow datasets segítségével hozzáférhetünk a Google Open Image Datasethez."
      ],
      "metadata": {
        "id": "RUb0UzoFD5dX"
      }
    },
    {
      "cell_type": "code",
      "execution_count": null,
      "metadata": {
        "id": "N05O4f-a2Pzt"
      },
      "outputs": [],
      "source": [
        "# Import tensorflow datasets\n",
        "import tensorflow_datasets as tfds\n",
        "\n",
        "\n"
      ]
    }
  ]
}