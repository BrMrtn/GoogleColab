{
  "cells": [
    {
      "cell_type": "markdown",
      "metadata": {
        "id": "view-in-github",
        "colab_type": "text"
      },
      "source": [
        "<a href=\"https://colab.research.google.com/github/BrMrtn/GoogleColab/blob/main/Saving_spectrograms_to_disk_not_final_v0.ipynb\" target=\"_parent\"><img src=\"https://colab.research.google.com/assets/colab-badge.svg\" alt=\"Open In Colab\"/></a>"
      ]
    },
    {
      "cell_type": "code",
      "execution_count": null,
      "metadata": {
        "colab": {
          "base_uri": "https://localhost:8080/"
        },
        "id": "4e33OiEl6my4",
        "outputId": "c0f6c5fd-97df-4cf6-8e6d-08f574d2254c"
      },
      "outputs": [
        {
          "output_type": "stream",
          "name": "stdout",
          "text": [
            "Mounted at /content/drive\n"
          ]
        }
      ],
      "source": [
        "import librosa\n",
        "import numpy as np\n",
        "import matplotlib.pyplot as plt\n",
        "from tqdm import tqdm\n",
        "import os\n",
        "\n",
        "from google.colab import drive\n",
        "drive.mount('/content/drive')\n",
        "\n",
        "path = '/content/drive/MyDrive/DeepLearning'"
      ]
    },
    {
      "cell_type": "markdown",
      "source": [
        "We could randomly choose 5-second-long parts in every iteration (epoch), but that'd most likely skip most of the important data from the recordings."
      ],
      "metadata": {
        "id": "zXThHayZ42Bw"
      }
    },
    {
      "cell_type": "markdown",
      "source": [
        "Function for converting the input audio to a Fourier-transformed spectrograms, than padding/clipping it's first dimension to 2048"
      ],
      "metadata": {
        "id": "nmkJOH-ruJxx"
      }
    },
    {
      "cell_type": "code",
      "source": [
        "# Turns audio to spectrograms and saves them to the given folder\n",
        "def save_spectrogram_to_disk(path_to_audio, path_to_spectrogram_ogg, sample_duration_sec=5.0, hop_length_sec=2.5):\n",
        "  audio_data, audio_rate = librosa.load(path_to_audio)\n",
        "\n",
        "  sample_duration_frames = int(sample_duration_sec * audio_rate)\n",
        "  hop_length_frames = int(hop_length_sec * audio_rate)\n",
        "\n",
        "  n_fft = 2048\n",
        "  hop_length = 512\n",
        "  n_mels = 250\n",
        "  # win_length is automatically equal to n_fft\n",
        "\n",
        "  # Pad audio with zeros if smaller than sample_duration_sec\n",
        "  if len(audio_data) < sample_duration_frames:\n",
        "    audio_data = librosa.util.fix_length(audio_data, size=sample_duration_frames)\n",
        "\n",
        "  # Divide the audio into sample_duration_sec seconds long samples\n",
        "  for i, sample_start in tqdm(enumerate(range(0, len(audio_data), hop_length_frames))):\n",
        "    sample_end = min(sample_start+sample_duration_frames, len(audio_data)-1)\n",
        "    sample = audio_data[sample_start:sample_end]\n",
        "\n",
        "    # If the sample is the remainder of dividing the audio, thus smaller than the sample duration sould be, we discard the sample\n",
        "    # The end of the audio containing crucial data is highly unlikely\n",
        "    if len(sample) < sample_duration_frames:\n",
        "      continue\n",
        "\n",
        "    # Generate mel spectrogram\n",
        "    S = librosa.feature.melspectrogram(\n",
        "        y=sample,\n",
        "        sr=audio_rate,\n",
        "        n_fft=n_fft,\n",
        "        hop_length=hop_length,\n",
        "        n_mels=n_mels\n",
        "    )\n",
        "\n",
        "    # Convert to decibel scale\n",
        "    S_db = librosa.power_to_db(S, ref=np.max)\n",
        "\n",
        "    # Convert spectrogram into an image\n",
        "    # img = librosa.display.specshow(S_db, sr=audio_rate, x_axis='time', y_axis='mel')\n",
        "\n",
        "    spectrogram_file_path = path_to_spectrogram_ogg.split('.')[0]+f'_{i}.png'\n",
        "\n",
        "    plt.figure(figsize=(4, 4))\n",
        "    plt.axis('off')\n",
        "    plt.imshow(S_db, aspect='auto', origin='lower', cmap='viridis')\n",
        "    plt.savefig(spectrogram_file_path, bbox_inches='tight', pad_inches=0)\n",
        "    plt.close()"
      ],
      "metadata": {
        "id": "MF8BtdoC2dW1"
      },
      "execution_count": null,
      "outputs": []
    },
    {
      "cell_type": "markdown",
      "source": [
        "Save 5 second long spectrograms to the disk (Google Drive) as pictures"
      ],
      "metadata": {
        "id": "HNNwLKyRwPAb"
      }
    },
    {
      "cell_type": "code",
      "source": [
        "folders = os.listdir(path+'/sample_train_audio')\n",
        "\n",
        "for j, folder in enumerate(folders):\n",
        "  if (j >= 5): break # for now, we only create spectrograms for audio in the first 5 folders\n",
        "\n",
        "  print(\"current folder:\", folder)\n",
        "  folder_path = path+'/sample_train_audio/'+folder+'/'\n",
        "\n",
        "  spectrogram_folder_path = path+'/sample_train_spectrograms/'+folder+'/'\n",
        "  if not os.path.exists(spectrogram_folder_path):\n",
        "    os.makedirs(spectrogram_folder_path)\n",
        "\n",
        "  files = os.listdir(folder_path)\n",
        "\n",
        "  for i, file in enumerate(files):\n",
        "    if (i >= 20): break # for now, we only look at the first 20 elements of a folder (maximum)\n",
        "    save_spectrogram_to_disk(folder_path+file, spectrogram_folder_path+file)"
      ],
      "metadata": {
        "id": "C5bK-jka4aGv",
        "outputId": "6a6b1330-76ec-434b-e02c-3fe6cb0f7471",
        "colab": {
          "base_uri": "https://localhost:8080/"
        }
      },
      "execution_count": null,
      "outputs": [
        {
          "output_type": "stream",
          "name": "stdout",
          "text": [
            "current folder: blrwar1\n"
          ]
        },
        {
          "output_type": "stream",
          "name": "stderr",
          "text": [
            "57it [00:09,  5.89it/s]\n",
            "51it [00:07,  6.52it/s]\n",
            "64it [00:11,  5.60it/s]\n",
            "58it [00:10,  5.47it/s]\n",
            "19it [00:02,  7.50it/s]\n",
            "57it [00:10,  5.33it/s]\n",
            "56it [00:10,  5.41it/s]\n",
            "47it [00:06,  6.84it/s]\n",
            "14it [00:01,  7.66it/s]\n",
            "20it [00:03,  5.61it/s]\n",
            "10it [00:01,  5.38it/s]\n",
            "16it [00:02,  6.50it/s]\n",
            "57it [00:08,  6.92it/s]\n",
            "104it [00:18,  5.74it/s]\n",
            "84it [00:14,  5.97it/s]\n",
            "38it [00:05,  6.95it/s]\n",
            "213it [00:38,  5.59it/s]\n",
            "11it [00:01,  8.26it/s]\n",
            "71it [00:11,  5.93it/s]\n",
            "40it [00:05,  7.17it/s]\n"
          ]
        },
        {
          "output_type": "stream",
          "name": "stdout",
          "text": [
            "current folder: categr\n"
          ]
        },
        {
          "output_type": "stream",
          "name": "stderr",
          "text": [
            "5it [00:00, 10.84it/s]\n",
            "2it [00:00, 3327.49it/s]\n",
            "25it [00:07,  3.37it/s]\n",
            "30it [00:04,  7.04it/s]\n",
            "7it [00:00, 10.32it/s]\n",
            "17it [00:02,  6.64it/s]\n",
            "41it [00:07,  5.72it/s]\n",
            "30it [00:03,  7.60it/s]\n",
            "4it [00:00, 13.20it/s]\n",
            "5it [00:00, 11.14it/s]\n",
            "9it [00:01,  8.82it/s]\n",
            "22it [00:04,  4.93it/s]\n",
            "9it [00:01,  7.19it/s]\n",
            "8it [00:00,  8.97it/s]\n",
            "10it [00:01,  8.30it/s]\n",
            "12it [00:01,  7.93it/s]\n",
            "17it [00:02,  7.88it/s]\n",
            "48it [00:08,  5.50it/s]\n",
            "5it [00:00, 12.24it/s]\n",
            "11it [00:01,  8.44it/s]\n"
          ]
        },
        {
          "output_type": "stream",
          "name": "stdout",
          "text": [
            "current folder: forwag1\n"
          ]
        },
        {
          "output_type": "stream",
          "name": "stderr",
          "text": [
            "17it [00:02,  7.59it/s]\n",
            "25it [00:05,  4.85it/s]\n",
            "5it [00:00,  6.59it/s]\n",
            "11it [00:01,  8.18it/s]\n",
            "63it [00:10,  5.88it/s]\n",
            "6it [00:00, 10.12it/s]\n",
            "12it [00:01,  8.14it/s]\n",
            "16it [00:02,  7.50it/s]\n",
            "29it [00:05,  5.37it/s]\n",
            "16it [00:02,  7.62it/s]\n",
            "23it [00:03,  7.56it/s]\n",
            "9it [00:01,  8.81it/s]\n",
            "6it [00:00,  6.77it/s]\n",
            "63it [00:09,  6.79it/s]\n",
            "4it [00:00,  7.89it/s]\n",
            "12it [00:01,  7.95it/s]\n",
            "4it [00:00, 12.17it/s]\n",
            "2it [00:00, 3587.94it/s]\n",
            "10it [00:01,  8.70it/s]\n",
            "5it [00:00, 11.08it/s]\n"
          ]
        },
        {
          "output_type": "stream",
          "name": "stdout",
          "text": [
            "current folder: grenig1\n"
          ]
        },
        {
          "output_type": "stream",
          "name": "stderr",
          "text": [
            "29it [00:05,  5.43it/s]\n",
            "9it [00:01,  8.35it/s]\n",
            "11it [00:01,  7.87it/s]\n",
            "20it [00:02,  7.64it/s]\n",
            "9it [00:00,  9.08it/s]\n",
            "5it [00:00,  7.69it/s]\n",
            "15it [00:02,  6.60it/s]\n",
            "21it [00:04,  5.19it/s]\n",
            "4it [00:00, 13.93it/s]\n",
            "10it [00:01,  8.29it/s]\n",
            "64it [00:10,  6.04it/s]\n",
            "19it [00:03,  6.23it/s]\n",
            "11it [00:01,  6.12it/s]\n",
            "8it [00:00,  8.80it/s]\n",
            "15it [00:01,  7.72it/s]\n",
            "20it [00:02,  7.32it/s]\n",
            "16it [00:03,  4.73it/s]\n",
            "10it [00:01,  8.34it/s]\n",
            "10it [00:01,  8.18it/s]\n",
            "8it [00:00,  8.42it/s]\n"
          ]
        },
        {
          "output_type": "stream",
          "name": "stdout",
          "text": [
            "current folder: jerbus2\n"
          ]
        },
        {
          "output_type": "stream",
          "name": "stderr",
          "text": [
            "27it [00:04,  6.39it/s]\n",
            "50it [00:07,  6.69it/s]\n",
            "10it [00:01,  8.89it/s]\n",
            "14it [00:02,  5.02it/s]\n",
            "8it [00:00,  8.87it/s]\n",
            "8it [00:00,  8.87it/s]\n",
            "8it [00:00,  8.87it/s]\n",
            "7it [00:00,  9.27it/s]\n",
            "11it [00:01,  7.85it/s]\n",
            "36it [00:06,  5.37it/s]\n",
            "17it [00:02,  7.81it/s]\n",
            "6it [00:00, 10.40it/s]\n",
            "11it [00:01,  8.05it/s]\n",
            "8it [00:01,  6.06it/s]\n",
            "2it [00:00, 3865.72it/s]\n",
            "5it [00:00, 11.42it/s]\n",
            "20it [00:02,  7.34it/s]\n",
            "14it [00:01,  8.08it/s]\n",
            "20it [00:03,  5.92it/s]\n"
          ]
        }
      ]
    }
  ],
  "metadata": {
    "colab": {
      "provenance": [],
      "gpuType": "T4",
      "include_colab_link": true
    },
    "kernelspec": {
      "display_name": "Python 3",
      "name": "python3"
    },
    "language_info": {
      "name": "python"
    },
    "accelerator": "GPU"
  },
  "nbformat": 4,
  "nbformat_minor": 0
}