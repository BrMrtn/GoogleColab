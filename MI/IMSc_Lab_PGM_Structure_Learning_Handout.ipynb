{
  "nbformat": 4,
  "nbformat_minor": 0,
  "metadata": {
    "colab": {
      "provenance": [],
      "collapsed_sections": [
        "tRXLPhk4LMVJ",
        "gyiSlZggxk4v",
        "ggEVqGGcF7Tm",
        "iC5L9dnigRdz",
        "2_Sn--yEFwZ5"
      ],
      "include_colab_link": true
    },
    "kernelspec": {
      "name": "python3",
      "display_name": "Python 3"
    },
    "language_info": {
      "name": "python"
    }
  },
  "cells": [
    {
      "cell_type": "markdown",
      "metadata": {
        "id": "view-in-github",
        "colab_type": "text"
      },
      "source": [
        "<a href=\"https://colab.research.google.com/github/BrMrtn/GoogleColab/blob/main/MI/IMSc_Lab_PGM_Structure_Learning_Handout.ipynb\" target=\"_parent\"><img src=\"https://colab.research.google.com/assets/colab-badge.svg\" alt=\"Open In Colab\"/></a>"
      ]
    },
    {
      "cell_type": "markdown",
      "source": [
        "![flexsys_logo.png](data:image/png;base64,iVBORw0KGgoAAAANSUhEUgAAAFoAAABFCAYAAADKKPFMAAAABHNCSVQICAgIfAhkiAAAAAlwSFlzAAAGOAAABjgBco5mFwAAABl0RVh0U29mdHdhcmUAd3d3Lmlua3NjYXBlLm9yZ5vuPBoAAAUySURBVHic7ZxNiBxFGIbfr2dMgpOkN+q6xhBD1MN2dA2J6MGLXgRPXtRcRcL6gyBGFA9hd34i6EEQBUFQEAQPUdCIgkJWDx4EUdlFyQwxEhHMZvPLzmZ3NrLpej2soJmuqrF7Zmp7l3qO885X9fXbM1Vf/1QJPFdRC3ftI3hYpwkwMd5sPJil3aC7tNYeBMWsgVnb9UY7whvtCG+0I7zRjihmDaxt3vUZhdtShAwAYpxoAEAKeHj8Yv1Y1pzyTGajKWoEkJ0po6yqirE+az55xw8djvBGO8Ib7QhvtCNyZXQRKlf59JLMVQfsJcQJAJcBKbULArWDkIIuKA4Kg13kk4CAVAFtSVkBVC/76kQ3Rttq4mfLzcZRnVANo9MAbtI2SMx0kU+CWhj9IMDdWk1k7/hsfbKX/dlYs3/VvOGNdoQ32hHeaEd4ox3RTdXRc0h8WA2jVqoYYLLSbIxqRZG3hdiqkwpLwXSGFO+qhtFHOmFT89LjL+DPRVNgrowGGKWNEGDBpJVn6+93l0+CIQCP6YSlG0r7cd4cuBaGjjtXOoH/w6o3WgDtVWbeWPVGrxa80Y7I2WTYW2pbhkegsE6nqVKpUZn+KVWF0w25MpqQZwD+ppEeEOCgPgYnje0p+RzADq3YurwHwFTKFH8G5BWdsHh+6yJw3BiYK6MDwffjs43EHbVqGF1vCbvUx5TaOVNu1j/WS3VroB+jHeGNdoQ32hHeaEd4ox3hjXaEN9oR3mhHeKMd4Y12hDfaEd5oR3ijHeGNdoQ32hHeaEd4ox3hjXbESjzKMr7AriCGVQTqFtNvQoCd1TB6TacR2GLqTMjnqmF0NhFDRmJadypIs4D1KpwbXW42tG/7W2GwzXR6CGwH8LJOsy7TBZ/QxtgW9xJD1iYtODf69VvvmyisX3dj++dq6cpS69y5R8eax393nZMLnBtdGhq8/envjiReAfji+crZyQ8Ob3SdTxrYxRN3PxmmIAB+7SI2H0iHnQ9WO7kxGgIoy35Gq51cvalkIpBr3iT/+lGnSSAtEn+4yEMoc1lji7VwWLvgEQBUXFiszB+zv+vkglhtYCHQ17DEhfFm4xOddOi64VEV6xZ0igqIN8bmGifalUoY7RXwSW1fBZnC8qrgBLWBO3aT6iHDEagiIV/DcKEgBV4EcJshuKeICAIWtUMHg3g3IIMEv9LIYwDe08WpGKOA3KORWkrwKTSmFYUjMeUpbR6KUwDe0WqM74VIicS37ZoArxZFsEDyZl0wgMSV00ohgnp5tjHR/nktjF5K3xji7DvYWaD8UmnWtTm6nwzJ1IdI6a0tthlXKdNtgE5tmuMISH6qjr5gO3h9hWPfrTF7VVSkgu0UmxXKEQbQb/twBadTZyICZemP7F3pZ9sW00anIDF8RQBm3yUs4FugYSOTzZtmMJ+1ZTcIO/qWgJ29NpLZaKEcJYrfJD4HRzC/eAjAl+kaNB+EQMi+zF6964sdxhWr0bZAAU6Wm/VEGVQdiA5k8UREGFhyNf0tO2DIRMzSskr9r7fDjVdL/j2fDKWLrX9dQhSynLjMQ0dfqg7rHszm6q4v+zanJWtfIvaysOdGZzZFBMpSWWSsFEy5WNvKFAT7BNuXX7RtPLU+KnKIZDhx3VUdATcK5ZShYeOJIDBcC6PETmAktpN80RQ3Nz2z4d37HznDWMX8zzgyd2qmZJoMCaFADtTCaF97c5Tklm//Igsgp6X9ypK41nRLVqAIyCyA1vJXsQTwn63b5IKpJwKE4GAtjPZrtD1/Ay3aiOaEeIwPAAAAAElFTkSuQmCC) Mesterséges Intelligencia és Rendszertervezés Tanszék, ©2024. BME-MIT, Sándor Dániel  \n",
        "# **VIMIAC16 - Mesterséges Intelligencia**\n",
        "## 2024. Őszi félév\n",
        "## **iMSc Laborgyakorlat** **- Valószínűségi hálók+**"
      ],
      "metadata": {
        "id": "2aQn4W_z6xc6"
      }
    },
    {
      "cell_type": "markdown",
      "source": [
        "# Oksági felfedezés valószínűségi gráfos modellekben\n",
        "\n",
        "Ahogy a korábbi gyakorlaton láthattuk a Bayes-hálók leegyszerűsítik változók közötti függetlenségek vizuális megjelenítését és a következtetést, ezért jól használhatók különböző szakterületek modellezésére. A struktúrájuk (gráf éleinek megléte és iránya) meghatározható szakértők által (lásd előző gyakorlat), de gyakori, hogy adatokból akarjuk adott feltevések mellett visszakapni az adatot generáló DAG struktúrát, ez utóbbit nevezzük struktúra tanulásnak vagy oksági felfedezésnek.\n",
        "\n",
        "Ezen a gyakorlaton a [Sachs adathalmazt](http://www.esalq.usp.br/lepse/imgs/conteudo_thumb/Causal-Protein-Signaling-Networks-Derived-from-Multiparameter-Single-Cell-Data.pdf) fogjuk használni. Ez proteinek közötti jelzéseket tartalmaz, kísérletekkel megerősített referencia struktúrával. A mérések cytometriai adatokat tartalmaznak, a különböző molekulák relatív megjelenésére különböző perturbációk hatására.\n",
        "\n",
        "Elsőként futtassuk az alábbi 5 cellát a gráf betöltéséig!"
      ],
      "metadata": {
        "id": "KcxtoOQOjGJz"
      }
    },
    {
      "cell_type": "markdown",
      "source": [
        "## Setup"
      ],
      "metadata": {
        "id": "tRXLPhk4LMVJ"
      }
    },
    {
      "cell_type": "code",
      "source": [
        "! pip install pgmpy --quiet\n",
        "! pip install cdt --quiet"
      ],
      "metadata": {
        "id": "k7LndyZyZBE6"
      },
      "execution_count": null,
      "outputs": []
    },
    {
      "cell_type": "code",
      "source": [
        "import pandas as pd\n",
        "import numpy as np\n",
        "import matplotlib.pyplot as plt\n",
        "\n",
        "import scipy.linalg as slin\n",
        "import scipy.optimize as sopt\n",
        "from scipy.special import expit as sigmoid\n",
        "from sklearn.metrics import mutual_info_score\n",
        "\n",
        "import pgmpy\n",
        "from pgmpy.estimators import BicScore\n",
        "from cdt.data import load_dataset\n",
        "import networkx as nx\n",
        "\n",
        "np.random.seed(123)"
      ],
      "metadata": {
        "id": "al9-Nt_oDL78"
      },
      "execution_count": null,
      "outputs": []
    },
    {
      "cell_type": "code",
      "source": [
        "s_data, s_graph = load_dataset('sachs')\n",
        "s_graph.remove_edge('PIP2', 'PIP3')\n",
        "s_graph.add_edge('PIP3', 'PIP2')"
      ],
      "metadata": {
        "id": "4FZSNwQ3ISgM"
      },
      "execution_count": null,
      "outputs": []
    },
    {
      "cell_type": "code",
      "source": [
        "N_BINS = 4\n",
        "discrete_s_data = s_data.copy()\n",
        "for c in s_data.columns:\n",
        "  discrete_s_data[c] = pd.cut(x=discrete_s_data[c], bins=[np.nanquantile(discrete_s_data[c], (1/N_BINS)*i)  if i!=0 else 0 for i in range(N_BINS+1)],\n",
        "                     labels=[0,1,2,3])"
      ],
      "metadata": {
        "id": "c6lrg4ugiYR6"
      },
      "execution_count": null,
      "outputs": []
    },
    {
      "cell_type": "markdown",
      "source": [
        "## 0. Feladat\n",
        "\n"
      ],
      "metadata": {
        "id": "gyiSlZggxk4v"
      }
    },
    {
      "cell_type": "markdown",
      "source": [
        "Ismerkedjünk meg az alábbi gráffal!\n",
        "\n",
        "Opcionálisan: Próbáljunk 1-2 interakciókat igazolni forrásokkal! Miben játszanak szerepet a vizsgált proteinek? Van olyan interakció, amelyet nem sikerült igazolni pár kereséssel?\n"
      ],
      "metadata": {
        "id": "_FRcKcSvahNk"
      }
    },
    {
      "cell_type": "code",
      "source": [
        "nx.draw(s_graph, pos=nx.circular_layout(s_graph), with_labels=True)\n",
        "plt.title('Ground truth')\n",
        "plt.show()"
      ],
      "metadata": {
        "id": "zi3d5GyKZOPl"
      },
      "execution_count": null,
      "outputs": []
    },
    {
      "cell_type": "markdown",
      "source": [
        "## 1. Feladat: Kölcsönös információ-alapú összefüggések\n",
        "\n"
      ],
      "metadata": {
        "id": "ggEVqGGcF7Tm"
      }
    },
    {
      "cell_type": "markdown",
      "source": [
        "Készítsünk egy baseline módszert, amellyel ugyan DAG-ot nem tudunk kapni, de egy irányítatlan gráfstruktúrával közelítsük a valós gráfot! Ehhez a változókra páronként számoljuk ki a kölcsönös információt egy mátrixba (`mutual_info_score`)!  Majd válasszunk egy olyan küszöbértéket, amellyel elvágva egy \"hihető\" összefüggési gráfot kapunk! A második cellával plotoljuk és vizsgáljuk meg a kapott struktúrát! Miben egyezik és miben tér el az eredetitől?\n",
        "\n",
        "A kölcsönös információ képlete:\n",
        "\n",
        "$I(X,Y) = H(X) - H(X|Y)$"
      ],
      "metadata": {
        "id": "NHP66uy-Nzch"
      }
    },
    {
      "cell_type": "code",
      "source": [
        "data = discrete_s_data.to_numpy()\n",
        "mut_infos = np.zeros((data.shape[1],data.shape[1]))\n",
        "\n",
        "# TODO: páronkénti kölcsönös információ számítása\n",
        "\n",
        "threshold = ... # TODO: küszöb érték meghatározása\n",
        "mut_infos[mut_infos < threshold] = 0"
      ],
      "metadata": {
        "id": "beaM45ViGCfx"
      },
      "execution_count": null,
      "outputs": []
    },
    {
      "cell_type": "code",
      "source": [
        "nx_graph_mut_info = nx.from_numpy_array(mut_infos)\n",
        "nx_graph_mut_info = nx.relabel_nodes(nx_graph_mut_info, {a:b for (a,b) in zip(range(data.shape[1]), s_data.columns)})\n",
        "nx.draw(nx_graph_mut_info, pos=nx.circular_layout(s_graph), with_labels=True)\n",
        "plt.title('Mutual information based associations')\n",
        "plt.show()"
      ],
      "metadata": {
        "id": "foP2H4vqew0m"
      },
      "execution_count": null,
      "outputs": []
    },
    {
      "cell_type": "markdown",
      "source": [
        "## 2. Feladat: Score-alapú diszkrét keresés\n",
        "\n",
        "\n"
      ],
      "metadata": {
        "id": "iC5L9dnigRdz"
      }
    },
    {
      "cell_type": "markdown",
      "source": [
        "A diszkrét keresés lényege, hogy DAG állapotok között oly módon lépkedünk, hogy lehetőleg egyre jobban illeszkedjen az adatunkhoz. Számos keresési módszer áll rendelkezésünkre, most a választott a valószínűségi alapú hegymászás (Probabilistic Hill Climb) lesz. Ehhez minden lépésben legeneráljuk a lehetséges szomszédokat, majd kiszámoljuk rájuk a score-beli különbséget és ezzel arányos valószínűség alapján választjuk ki a következő állapotot.\n",
        "\n",
        "### 2.1 Szomszédos DAG-ok felsorolása\n",
        "\n",
        "Szomszédosnak tekintünk most két DAG állapotot, ha azok csak egy élben térnek el (hozzáadás elvétel vagy megfordítás). Első lépésként állítsuk elő a lehetséges szomszédokat! Ehhez az él felvételt és eltávolítást megírtuk előre, most egészítsük ki a megfordítással! Az első két függvényhez hasonlóan a ```potential_edges_to_flip``` függvény is egy dicitionary-vel térjen vissza, amelynek kulcsa a megfordítandó él és értéke a scoreok különbözete (Vigyázzunk, itt két node szülei is változnak).\n"
      ],
      "metadata": {
        "id": "LLueLXwGNu2g"
      }
    },
    {
      "cell_type": "code",
      "source": [
        "def potential_edges_to_add(model, data, score):\n",
        "  pot_edges = {}\n",
        "  for u in model.nodes():\n",
        "    for v in model.nodes():\n",
        "      if((u,v) not in model.edges() and not nx.has_path(model, v, u)):\n",
        "        old_parents = model.get_parents(v)\n",
        "        new_parents = model.get_parents(v)+[u]\n",
        "        pot_edges[(u,v)] = score(v, new_parents) - score(v, old_parents)\n",
        "  return pot_edges\n",
        "\n",
        "def potential_edges_to_remove(model, data, score):\n",
        "  pot_edges = {}\n",
        "  for u,v in model.edges():\n",
        "    old_parents = model.get_parents(v)\n",
        "    new_parents = [p for p in model.get_parents(v) if p != u]\n",
        "    pot_edges[(u,v)] = score(v, new_parents) - score(v, old_parents)\n",
        "  return pot_edges\n",
        "\n",
        "def potential_edges_to_flip(model, data, score):\n",
        "  # TODO: Megfordítható élek dicitionary-ben felsorolva\n",
        "  pass\n",
        "\n",
        "\n",
        "def generate_potential_actions(model, data, score):\n",
        "  pot_add = potential_edges_to_add(model, data, score)\n",
        "  pot_rem = potential_edges_to_remove(model, data, score)\n",
        "  pot_flip = potential_edges_to_flip(model, data, score)\n",
        "\n",
        "  pot_actions = []\n",
        "\n",
        "  for ka in pot_add.keys():\n",
        "    pot_actions.append(('add', ka, pot_add[ka]))\n",
        "  for kr in pot_rem.keys():\n",
        "    pot_actions.append(('remove', kr, pot_rem[kr]))\n",
        "  for kf in pot_flip.keys():\n",
        "    pot_actions.append(('flip', kf, pot_flip[kf]))\n",
        "\n",
        "  return pot_actions\n"
      ],
      "metadata": {
        "id": "vf16dwBHIcO8"
      },
      "execution_count": null,
      "outputs": []
    },
    {
      "cell_type": "markdown",
      "source": [
        "### 2.2 Algoritmus összeállítása\n",
        "\n",
        "A keresés egy üres DAG-ból indul. Majd konvergenciáig legeneráljuk a létező akciókat, a fenti `generate_potential_actions` függvénnyel. Ez tripletek listáját adja vissza: (akció, él, score különbség) formában. Ezeket mintavételezzük a score-al arányos valószínűségekkel és végezzük el a lépést, ehhez használjuk a `np.random.choice` függvényt. Az algoritmus álljon le, ha már epsilonnál kisebb scorekülönbséget választanánk és térjen vissza a `model`-el!"
      ],
      "metadata": {
        "id": "O23fuRVsJNmm"
      }
    },
    {
      "cell_type": "code",
      "source": [
        "def hill_climb(df_data, score, iters, eps):\n",
        "  model = pgmpy.base.DAG()\n",
        "  model.add_nodes_from(df_data.columns)\n",
        "  for i in range(iters):\n",
        "\n",
        "    # akciók legenerálása\n",
        "    potential_actions = ...\n",
        "\n",
        "    # akció választás\n",
        "    scores = ...\n",
        "    if(np.all(np.array(scores) < eps)):\n",
        "      print(f'Iter {i}: Ended')\n",
        "      break\n",
        "    probs = ...\n",
        "    idx = ...\n",
        "    chosen_action = potential_actions[idx]\n",
        "\n",
        "    # akció végehajtása\n",
        "    if (chosen_action[0] == 'add'):\n",
        "      print(f'Iter {i}: Added {chosen_action[1]}')\n",
        "      ...\n",
        "    elif(chosen_action[0] == 'remove'):\n",
        "      print(f'Iter {i}: Removed {chosen_action[1]}')\n",
        "      ...\n",
        "    elif(chosen_action[0] == 'flip'):\n",
        "      print(f'Iter {i}: Flipped {chosen_action[1]}')\n",
        "      ...\n",
        "  return model"
      ],
      "metadata": {
        "id": "RpYrxyXviSOH"
      },
      "execution_count": null,
      "outputs": []
    },
    {
      "cell_type": "markdown",
      "source": [
        "### 2.3 Futtassuk az algoritmust\n",
        "\n",
        "Válasszuk a Bayesian Information Criterion (BIC) score függvényt a pgmpy [dokumentációból](https://pgmpy.org/structure_estimator/hill.html#structure-score) és próbáljuk ki az algoritmust. Ne feledjük, ez többsége diszkrét változókon működik, ezért használjuk a diszkretizált `discrete_s_data` dataframe-et."
      ],
      "metadata": {
        "id": "bvdS6wsALpvy"
      }
    },
    {
      "cell_type": "code",
      "source": [
        "score_fn = ...# TODO: score választás\n",
        "model = hill_climb(discrete_s_data, score_fn, 100, 0.00001)"
      ],
      "metadata": {
        "id": "ryANClUyOWSP"
      },
      "execution_count": null,
      "outputs": []
    },
    {
      "cell_type": "code",
      "source": [
        "nx_graph_hill_climb = nx.DiGraph(model.edges())\n",
        "nx.draw(nx_graph_hill_climb, pos=nx.circular_layout(s_graph), with_labels=True)\n",
        "plt.title('Hill climbing')\n",
        "plt.show()"
      ],
      "metadata": {
        "id": "I8M1eYCoolpt"
      },
      "execution_count": null,
      "outputs": []
    },
    {
      "cell_type": "markdown",
      "source": [
        "## 3. Feladat kiértékelés"
      ],
      "metadata": {
        "id": "2_Sn--yEFwZ5"
      }
    },
    {
      "cell_type": "markdown",
      "source": [
        "### 3.1 Metrikák definiálása\n",
        "\n",
        "Gyors és szemléletes kiértékeléshez használjuk a Strukturális Hamming Távolságot (SHD), amely a hiányzó, hamisan behúzott és fordítva behúzott élek összege. Három esetre definiáltuk: irányított, irányítatlan és részben irányított gráfokra.\n",
        "\n",
        "Egészítsük ki a `directed_shd` függvényt az `undirected_shd` mintájára. Figyeljünk arra, hogy itt számít az élek iránya!"
      ],
      "metadata": {
        "id": "1iVMcgxxsYBM"
      }
    },
    {
      "cell_type": "code",
      "source": [
        "def directed_shd(pred_edges, truth_edges):\n",
        "  # TODO\n",
        "  pass\n",
        "\n",
        "def undirected_shd(pred_edges, truth_edges):\n",
        "  shd = 0\n",
        "  for (a,b) in truth_edges:\n",
        "    if (a,b) not in pred_edges and (b,a) not in pred_edges :\n",
        "      shd += 1\n",
        "  for (a,b) in pred_edges:\n",
        "    if (a,b) not in truth_edges and (b,a) not in truth_edges:\n",
        "      shd += 1\n",
        "  return shd\n",
        "\n",
        "def partial_shd(pred_directed, truth_directed, pred_undirected, truth_undirected):\n",
        "  d = directed_shd(pred_directed, truth_directed)\n",
        "  u = undirected_shd(pred_undirected, truth_undirected)\n",
        "  return d + u\n"
      ],
      "metadata": {
        "id": "lp7rFJupLUm0"
      },
      "execution_count": null,
      "outputs": []
    },
    {
      "cell_type": "markdown",
      "source": [
        "### 3.2 Markov ekvivalencia osztály meghatározása\n",
        "\n",
        "A struktúratanulás megfigyelt adatokból jellemzően nem képes a teljes DAG-ot rekonstruálni, csupán a Markov-ekvivalencia osztály erejéig. A kiértékeléshez tehát szükség van a megtalált ekvivalencia osztályok összehasonlíthatóságára. Ehhez futtassuk a `create_pdag` függvényt!\n",
        "\n",
        "A függvény először megalkotja a skeletont, azaz a létező éleket, amelyek alap esetben irányítatlanok. Ezután az ütköző V struktúrákat azonosítja (ezek biztosan irányítottak). Majd a [4 Meek szabály](https://arxiv.org/ftp/arxiv/papers/1302/1302.4972.pdf) sorbani alkalmazásával megirányítja a lehetséges éleket."
      ],
      "metadata": {
        "id": "ckREYD3gtI8s"
      }
    },
    {
      "cell_type": "code",
      "source": [
        "def create_pdag(dag):\n",
        "  dag = pgmpy.base.DAG(dag)\n",
        "\n",
        "  # skeleton\n",
        "  skeleton = list(dag.edges())\n",
        "  skeleton.extend([(b, a) for (a,b) in skeleton])\n",
        "  directed = []\n",
        "\n",
        "  # immoralities\n",
        "  immoralities = dag.get_immoralities()\n",
        "\n",
        "  for (a, b) in immoralities:\n",
        "    a_children = set(dag.get_children(a))\n",
        "    b_children = set(dag.get_children(b))\n",
        "    common_children = list(a_children.intersection(b_children))\n",
        "    a_edges = [(a, c) for c in common_children]\n",
        "    b_edges = [(b, c) for c in common_children]\n",
        "    directed.extend(a_edges)\n",
        "    directed.extend(b_edges)\n",
        "\n",
        "  # meek rules\n",
        "  next_dag = pgmpy.base.DAG()\n",
        "  next_dag.add_nodes_from(dag.nodes())\n",
        "  next_dag.add_edges_from(directed)\n",
        "  previous_dag = None\n",
        "\n",
        "  while next_dag != previous_dag:\n",
        "    previous_dag = next_dag\n",
        "    # 1\n",
        "    for (a, b) in skeleton:\n",
        "      if (a, b) in next_dag.edges() or (b, a) in next_dag.edges():\n",
        "        continue\n",
        "      if np.all([(c, b) not in skeleton for c in next_dag.get_parents(a)]):\n",
        "        next_dag.add_edge(a,b)\n",
        "\n",
        "    # 2\n",
        "    for (a, b) in skeleton:\n",
        "      if (a, b) in next_dag.edges() or (b, a) in next_dag.edges():\n",
        "        continue\n",
        "      if nx.has_path(next_dag, a, b):\n",
        "        next_dag.add_edge(a,b)\n",
        "    # 3\n",
        "    for (a, b) in skeleton:\n",
        "      if (a, b) in next_dag.edges() or (b, a) in next_dag.edges():\n",
        "        continue\n",
        "      for (i1, i2) in next_dag.get_immoralities():\n",
        "        if i1 in next_dag.get_parents(b) and i2 in next_dag.get_parents(b) and (a, i1) in skeleton and (a, i2) in skeleton:\n",
        "          next_dag.add_edge(a,b)\n",
        "    #4\n",
        "    for (a, b) in skeleton:\n",
        "      if (a, b) in next_dag.edges() or (b, a) in next_dag.edges():\n",
        "        continue\n",
        "      for pa_b in next_dag.get_parents(b):\n",
        "        if (pa_b,a) in skeleton:\n",
        "          for pa_pa_b in next_dag.get_parents(pa_b):\n",
        "            if (pa_pa_b, a) in skeleton:\n",
        "              next_dag.add_edge(a,b)\n",
        "              break\n",
        "\n",
        "  directed.extend(list(next_dag.edges()))\n",
        "\n",
        "  undirected = []\n",
        "  for (a,b) in skeleton:\n",
        "    if (a,b) not in undirected and (b,a) not in undirected:\n",
        "      if (a,b) not in directed and (b,a) not in directed:\n",
        "        undirected.append((a,b))\n",
        "\n",
        "\n",
        "  pdag = pgmpy.base.PDAG(directed_ebunch=directed,\n",
        "                         undirected_ebunch=undirected)\n",
        "\n",
        "  return pdag"
      ],
      "metadata": {
        "id": "mcqE5HOqBqUh"
      },
      "execution_count": null,
      "outputs": []
    },
    {
      "cell_type": "markdown",
      "source": [
        "### 3.3 Gráfok értékelése\n",
        "\n",
        "Futtassuk le a kiértékelést és értékeljük a kapott eredményeket és válaszoljunk a kérdésekre!\n",
        "- Melyik módszer közelíti legjobban a valós gráfot?\n",
        "- Mi garantálja az egyes módszerekben, hogy a kapott gráf DAG?\n"
      ],
      "metadata": {
        "id": "embgAOQ71TOo"
      }
    },
    {
      "cell_type": "code",
      "source": [
        "true_dag = s_graph\n",
        "true_pdag = create_pdag(s_graph)\n",
        "\n",
        "# Mut-info graph\n",
        "mut_info_undirected_shd = undirected_shd(nx_graph_mut_info.edges(), true_dag.edges())\n",
        "print(f'Hill climb undirected shd: {mut_info_undirected_shd}')\n",
        "\n",
        "# Hill climb graph\n",
        "hill_directed_shd = directed_shd(nx_graph_hill_climb.edges(), true_dag.edges())\n",
        "hill_undirected_shd = undirected_shd(nx_graph_hill_climb.edges(), true_dag.edges())\n",
        "\n",
        "hill_pdag = create_pdag(nx_graph_hill_climb)\n",
        "hill_partial_shd = partial_shd(hill_pdag.directed_edges, true_pdag.directed_edges,\n",
        "                    hill_pdag.undirected_edges, true_pdag.undirected_edges)\n",
        "\n",
        "print(f'Hill climb directed shd: {hill_directed_shd}, undirected shd: {hill_undirected_shd}, partially directed shd: {hill_partial_shd}')\n"
      ],
      "metadata": {
        "id": "lxHlyM1LcpVY"
      },
      "execution_count": null,
      "outputs": []
    },
    {
      "cell_type": "code",
      "source": [
        "nx.draw_networkx_nodes(true_pdag, pos=nx.circular_layout(s_graph))\n",
        "nx.draw_networkx_labels(true_pdag, pos=nx.circular_layout(s_graph))\n",
        "nx.draw_networkx_edges(true_pdag, pos=nx.circular_layout(s_graph), edgelist=true_pdag.directed_edges)\n",
        "nx.draw_networkx_edges(true_pdag, pos=nx.circular_layout(s_graph), edgelist=true_pdag.undirected_edges, arrows=False)\n",
        "plt.title('True PDAG')\n",
        "plt.show()"
      ],
      "metadata": {
        "id": "J1I1WYgzMdDy"
      },
      "execution_count": null,
      "outputs": []
    },
    {
      "cell_type": "code",
      "source": [
        "nx.draw_networkx_nodes(hill_pdag, pos=nx.circular_layout(s_graph))\n",
        "nx.draw_networkx_labels(hill_pdag, pos=nx.circular_layout(s_graph))\n",
        "nx.draw_networkx_edges(hill_pdag, pos=nx.circular_layout(s_graph), edgelist=hill_pdag.directed_edges)\n",
        "nx.draw_networkx_edges(hill_pdag, pos=nx.circular_layout(s_graph), edgelist=hill_pdag.undirected_edges, arrows=False)\n",
        "plt.title('Hill Climb PDAG')\n",
        "plt.show()"
      ],
      "metadata": {
        "id": "6bmAcJTWbmPi"
      },
      "execution_count": null,
      "outputs": []
    }
  ]
}