{
  "nbformat": 4,
  "nbformat_minor": 0,
  "metadata": {
    "colab": {
      "provenance": [],
      "include_colab_link": true
    },
    "kernelspec": {
      "name": "python3",
      "display_name": "Python 3"
    },
    "language_info": {
      "name": "python"
    }
  },
  "cells": [
    {
      "cell_type": "markdown",
      "metadata": {
        "id": "view-in-github",
        "colab_type": "text"
      },
      "source": [
        "<a href=\"https://colab.research.google.com/github/BrMrtn/GoogleColab/blob/main/MI/BSc_MI_Labor_CSP_hallgatoi_v2_2024.ipynb\" target=\"_parent\"><img src=\"https://colab.research.google.com/assets/colab-badge.svg\" alt=\"Open In Colab\"/></a>"
      ]
    },
    {
      "cell_type": "markdown",
      "source": [
        "![flexsys_logo.png](data:image/png;base64,iVBORw0KGgoAAAANSUhEUgAAAFoAAABFCAYAAADKKPFMAAAABHNCSVQICAgIfAhkiAAAAAlwSFlzAAAGOAAABjgBco5mFwAAABl0RVh0U29mdHdhcmUAd3d3Lmlua3NjYXBlLm9yZ5vuPBoAAAUySURBVHic7ZxNiBxFGIbfr2dMgpOkN+q6xhBD1MN2dA2J6MGLXgRPXtRcRcL6gyBGFA9hd34i6EEQBUFQEAQPUdCIgkJWDx4EUdlFyQwxEhHMZvPLzmZ3NrLpej2soJmuqrF7Zmp7l3qO885X9fXbM1Vf/1QJPFdRC3ftI3hYpwkwMd5sPJil3aC7tNYeBMWsgVnb9UY7whvtCG+0I7zRjihmDaxt3vUZhdtShAwAYpxoAEAKeHj8Yv1Y1pzyTGajKWoEkJ0po6yqirE+az55xw8djvBGO8Ib7QhvtCNyZXQRKlf59JLMVQfsJcQJAJcBKbULArWDkIIuKA4Kg13kk4CAVAFtSVkBVC/76kQ3Rttq4mfLzcZRnVANo9MAbtI2SMx0kU+CWhj9IMDdWk1k7/hsfbKX/dlYs3/VvOGNdoQ32hHeaEd4ox3RTdXRc0h8WA2jVqoYYLLSbIxqRZG3hdiqkwpLwXSGFO+qhtFHOmFT89LjL+DPRVNgrowGGKWNEGDBpJVn6+93l0+CIQCP6YSlG0r7cd4cuBaGjjtXOoH/w6o3WgDtVWbeWPVGrxa80Y7I2WTYW2pbhkegsE6nqVKpUZn+KVWF0w25MpqQZwD+ppEeEOCgPgYnje0p+RzADq3YurwHwFTKFH8G5BWdsHh+6yJw3BiYK6MDwffjs43EHbVqGF1vCbvUx5TaOVNu1j/WS3VroB+jHeGNdoQ32hHeaEd4ox3hjXaEN9oR3mhHeKMd4Y12hDfaEd5oR3ijHeGNdoQ32hHeaEd4ox3hjXbESjzKMr7AriCGVQTqFtNvQoCd1TB6TacR2GLqTMjnqmF0NhFDRmJadypIs4D1KpwbXW42tG/7W2GwzXR6CGwH8LJOsy7TBZ/QxtgW9xJD1iYtODf69VvvmyisX3dj++dq6cpS69y5R8eax393nZMLnBtdGhq8/envjiReAfji+crZyQ8Ob3SdTxrYxRN3PxmmIAB+7SI2H0iHnQ9WO7kxGgIoy35Gq51cvalkIpBr3iT/+lGnSSAtEn+4yEMoc1lji7VwWLvgEQBUXFiszB+zv+vkglhtYCHQ17DEhfFm4xOddOi64VEV6xZ0igqIN8bmGifalUoY7RXwSW1fBZnC8qrgBLWBO3aT6iHDEagiIV/DcKEgBV4EcJshuKeICAIWtUMHg3g3IIMEv9LIYwDe08WpGKOA3KORWkrwKTSmFYUjMeUpbR6KUwDe0WqM74VIicS37ZoArxZFsEDyZl0wgMSV00ohgnp5tjHR/nktjF5K3xji7DvYWaD8UmnWtTm6nwzJ1IdI6a0tthlXKdNtgE5tmuMISH6qjr5gO3h9hWPfrTF7VVSkgu0UmxXKEQbQb/twBadTZyICZemP7F3pZ9sW00anIDF8RQBm3yUs4FugYSOTzZtmMJ+1ZTcIO/qWgJ29NpLZaKEcJYrfJD4HRzC/eAjAl+kaNB+EQMi+zF6964sdxhWr0bZAAU6Wm/VEGVQdiA5k8UREGFhyNf0tO2DIRMzSskr9r7fDjVdL/j2fDKWLrX9dQhSynLjMQ0dfqg7rHszm6q4v+zanJWtfIvaysOdGZzZFBMpSWWSsFEy5WNvKFAT7BNuXX7RtPLU+KnKIZDhx3VUdATcK5ZShYeOJIDBcC6PETmAktpN80RQ3Nz2z4d37HznDWMX8zzgyd2qmZJoMCaFADtTCaF97c5Tklm//Igsgp6X9ypK41nRLVqAIyCyA1vJXsQTwn63b5IKpJwKE4GAtjPZrtD1/Ay3aiOaEeIwPAAAAAElFTkSuQmCC) Mesterséges Intelligencia és Rendszertervezés Tanszék, ©2024. BME-MIT, Révy Gábor, Dr. Hullám Gábor  \n",
        "# **VIMIAC16 - Mesterséges Intelligencia**\n",
        "## 2024. Őszi félév\n",
        "## **2. Laborgyakorlat**"
      ],
      "metadata": {
        "id": "61rMoE_YUZYD"
      }
    },
    {
      "cell_type": "markdown",
      "source": [
        "# Kényszerkielégítési problémák\n",
        "\n",
        "A kényszerkielégítési problémák (constraint satisfaction problem, CSP) az alábbi $\\langle X, D, C \\rangle $ hármassal definiálhatóak:\n",
        "- $X = {X_1, \\ldots, X_n}$ a változók halmaza\n",
        "- $D = {D_1, \\ldots, D_n}$ ezen változók lehetséges értékeinek nem üres tartománya (domain)\n",
        "- $C = {C_1, \\ldots, C_m}$ a kényszerek (constraint) halmaza\n",
        "\n",
        "Célunk az $X_i$ változókhoz egy olyan hozzárendelést találni a $D_i$ tartományokból, amely megfelel a $C_i$ kényszereknek.\n",
        "\n",
        "A CSP-kről részletes leírás és példa [itt](http://project.mit.bme.hu/mi_almanach/books/aima/ch05s01) található."
      ],
      "metadata": {
        "id": "flIg-ZEAr-gX"
      }
    },
    {
      "cell_type": "markdown",
      "source": [
        "A labor során az [OR-TOOLS](https://developers.google.com/optimization) constraint programming könyvtárát fogjuk használni. Ezt az alábbi kódblokk futtatásával lehet telepíteni."
      ],
      "metadata": {
        "id": "jNzo7uB0v9Te"
      }
    },
    {
      "cell_type": "code",
      "source": [
        "# @title Telepítés, letöltés\n",
        "print('0/2 INSTALL STARTED')\n",
        "!pip install ortools &> /dev/null\n",
        "print('1/2 INSTALL DONE')\n",
        "!wget -q -O helpers.zip https://gist.github.com/revygabor/9a84a459fd26d46cbbc656ca9b0e17b0/archive/d500e6e4f4b5efdabf809a38ebdce4e404aa6973.zip\n",
        "!unzip -qj helpers.zip\n",
        "print('2/2 DOWNLOAD DONE')"
      ],
      "metadata": {
        "id": "J2-TBVXm5zXt",
        "cellView": "form"
      },
      "execution_count": null,
      "outputs": []
    },
    {
      "cell_type": "markdown",
      "source": [
        "A feladatok megoldásakor a változókat, azok domainjét és a kényszereket kell definiálni. A változók definiálásakor már azok domainjét is meghatározzuk.\n",
        "\n",
        "A megoldáshoz szükséges példa kódrészletek:\n",
        "\n",
        "- a könyvtár importálása\n",
        "<br/> ```from ortools.sat.python import cp_model```\n",
        "\n",
        "- a CSP problémát megoldó modell létrehozása\n",
        "<br/> ```model = cp_model.CpModel()```\n",
        "\n",
        "- $x$ nevű, 1 és 10 közötti egész értéket felvevő változó definiálása\n",
        "<br/> ```x = model.NewIntVar(1, 10, \"x\")```\n",
        "\n",
        "- korábban definiált ```x, y``` változókra vonatkozó kényszer definiálása\n",
        "<br/> ```model.Add(3 * x + 5 * y <= 48)```\n",
        "<br/> \"nem egyenlő\" kényszerre a ```!=``` operátor használható\n",
        "<br/> több változó különbözőségi kényszerét egy listával adhatjuk a modellhez\n",
        "<br/> ```model.AddAllDifferent([x, y, z])```\n",
        "\n",
        "- ha van célfüggvény - pl. maximalizálás - , akkor azt is a változók definiálása után lehet megfogalmazni (a labor során nem lesz célfüggvény)\n",
        "<br/> ```model.Maximize(3 * x + 2 * y)```\n",
        "\n",
        "- ezután következik a megoldás keresése\n",
        "<br/> ```solver = cp_model.CpSolver()```\n",
        "<br/> ```status = solver.Solve(model)```\n",
        "\n",
        "- a futás eredménye a következőképpen kérhető le:\n",
        "  - a ```status``` változó egy \"[enum](https://developers.google.com/optimization/cp/cp_solver#cp-sat_return_values)\", szövegesen a ```solver.StatusName(status)``` kóddal kapjuk meg az állapotot\n",
        "  - alapesetben a program ez első megoldást adja vissza\n",
        "  <br/> ```solution_x = solver.Value(x)```\n",
        "  <br/> ha több megoldást is szeretnénk megkapni, akkor callback függvényt kell írnunk (a laboron ezzel nem kell foglalkozni)\n",
        "\n",
        "\n",
        "A kódot a __TODO__-val megjelölt helyeken kell csak kiegészíteni.\n",
        "\n"
      ],
      "metadata": {
        "id": "QZULOVV3wbBu"
      }
    },
    {
      "cell_type": "markdown",
      "source": [
        "## Kriptoaritmetika\n",
        "\n",
        "Az első feladat egy kriptoaritmetika feladvány megoldása.\n",
        "\n",
        "\\begin{array}{}\n",
        "  & S & E & N & D \\\\\n",
        "+ & M & O & R & E \\\\ \\hline\n",
        "M & O & N & E & Y \\\\\n",
        "\\end{array}\n",
        "\n",
        "\n",
        "Itt a különböző betűk különböző, az egyformák pedig azonos számjegyet takarnak. A változók definiálásakor érdemes odafigyelni a szavak kezdőbetűinek domainjére."
      ],
      "metadata": {
        "id": "QAUHrh4a-4_m"
      }
    },
    {
      "cell_type": "code",
      "source": [
        "%reset -f\n",
        "\n",
        "from ortools.sat.python import cp_model\n",
        "\n",
        "\"\"\"Solve the SEND+MORE==MONEY cryptarithm.\"\"\"\n",
        "\"\"\"\n",
        "  SEND\n",
        "+ MORE\n",
        "------\n",
        " MONEY\n",
        "\"\"\"\n",
        "# Create CP model\n",
        "model = cp_model.CpModel()\n",
        "\n",
        "base = 10\n",
        "\n",
        "# Create variables and define their intervals.\n",
        "# Mind the first letters of the words!\n",
        "# TODO\n",
        "# s =\n",
        "# e =\n",
        "# ...\n",
        "\n",
        "# We need to group variables in a list to use the constraint AllDifferent.\n",
        "letters = [s, e, n, d, m, o, r, y]\n",
        "\n",
        "# Define constraints.\n",
        "# 1) All letters have a different value.\n",
        "# TODO\n",
        "\n",
        "# 2) SEND + MORE = MONEY\n",
        "# TODO\n",
        "\n",
        "# Create a solver and solves the model.\n",
        "solver = cp_model.CpSolver()\n",
        "# Enumerate all solutions.\n",
        "solver.parameters.enumerate_all_solutions = True\n",
        "# Solve.\n",
        "status = solver.Solve(model)\n",
        "\n",
        "# Result.\n",
        "print(f\"status: {solver.StatusName(status)}\")\n",
        "print(f\"assignment:\")\n",
        "for l in letters:\n",
        "  print(f'\\t{l}: {solver.Value(l)}')\n",
        "print(f\"{''.join([str(solver.Value(l)) for l in [s, e, n, d]])} + \"\n",
        "f\"{''.join([str(solver.Value(l)) for l in [m, o, r, e]])} =? \"\n",
        "f\"{''.join([str(solver.Value(l)) for l in [m, o, n, e, y]])}\")"
      ],
      "metadata": {
        "id": "pkb1OxUP6rZc"
      },
      "execution_count": null,
      "outputs": []
    },
    {
      "cell_type": "markdown",
      "source": [
        "A feladatnak 1 db megoldása van a következő hozzárendeléssel:\n",
        "\n",
        "| betű | érték |\n",
        "| ---- | ----- |\n",
        "| S | 9 |\n",
        "| E | 5 |\n",
        "| N | 6 |\n",
        "| D | 7 |\n",
        "| M | 1 |\n",
        "| O | 0 |\n",
        "| R | 8 |\n",
        "| Y | 2 |"
      ],
      "metadata": {
        "id": "LEzOTw2pKx60"
      }
    },
    {
      "cell_type": "markdown",
      "source": [
        "## Térképszínezés\n",
        "\n",
        "A [négyszín-tétel](https://hu.wikipedia.org/wiki/N%C3%A9gysz%C3%ADn-t%C3%A9tel) óta tudjuk. hogy minden síkbarajzolható gráf 4 színnel színezhető. Célunk egy kontinensen az országok kiszínezése úgy, hogy szomszédos országok nem lehetnek azonos színűek. Ennek kényszergráfja síkbarajzolható, tehát elvileg a feladat megoldható."
      ],
      "metadata": {
        "id": "8dhF_8EeDuvW"
      }
    },
    {
      "cell_type": "markdown",
      "source": [
        "Ehhez először töltsük le a világtérképet, majd töltsünk be egy kontinenst, pl. Afrikát."
      ],
      "metadata": {
        "id": "c8W06wB1I5_T"
      }
    },
    {
      "cell_type": "code",
      "source": [
        "%reset -f\n",
        "\n",
        "import geopandas as gpd\n",
        "import matplotlib.pyplot as plt\n",
        "from map_coloring_helper import get_bordering_countries, plot_colored_map\n",
        "\n",
        "# Load world map from file and select a continent\n",
        "world = gpd.read_file(\"https://naciscdn.org/naturalearth/110m/cultural/ne_110m_admin_0_countries.zip\")\n",
        "print(f\"continents: {', '.join(world['CONTINENT'].unique())}\")\n",
        "world[['CONTINENT', 'SOVEREIGNT']]"
      ],
      "metadata": {
        "id": "DGIJzvNUfVDx"
      },
      "execution_count": null,
      "outputs": []
    },
    {
      "cell_type": "code",
      "source": [
        "continent_name = 'Africa'\n",
        "continent = world[world['CONTINENT'] == continent_name].copy().reset_index(drop=True)\n",
        "\n",
        "# Plot continent\n",
        "continent.plot(color='white', edgecolor='black')\n",
        "plt.axis('off');"
      ],
      "metadata": {
        "id": "EAV9Ls5IMCpR"
      },
      "execution_count": null,
      "outputs": []
    },
    {
      "cell_type": "markdown",
      "source": [
        "A színeket jelöljék egész számok, és így fogalmazzuk meg a kényszereket is.\n",
        "A ```bordering_country_index_pairs``` változó a kontinensen található szomszédos országok indexpárjait tartalmazza."
      ],
      "metadata": {
        "id": "bQG0ZzBeI7Wo"
      }
    },
    {
      "cell_type": "code",
      "source": [
        "from ortools.sat.python import cp_model\n",
        "\n",
        "# Define the constraints for the map coloring problem\n",
        "def map_coloring_csp(map_):\n",
        "    model = cp_model.CpModel()\n",
        "    # set number of colors\n",
        "    num_colors =   # TODO\n",
        "    num_countries = len(map_)\n",
        "\n",
        "    # Create the variables:\n",
        "    # There are `num_countries` number of variables, each encoding the color (integer) of a country.\n",
        "    # TODO\n",
        "    # country_colors = [... for i in range(num_countries)]\n",
        "\n",
        "    # Calculate index pairs of bordering countries (returns list of tuples)\n",
        "    bordering_country_index_pairs = get_bordering_countries(map_)\n",
        "\n",
        "    # Define constraints\n",
        "    # 1) Bordering countries cannot have the same color\n",
        "    # TODO\n",
        "    # for c1, c2 in bordering_country_index_pairs:\n",
        "    #   ...\n",
        "\n",
        "    # Use ortools to solve the CSP problem\n",
        "    solver = cp_model.CpSolver()\n",
        "    status = solver.Solve(model)\n",
        "\n",
        "    print(f'Status: {solver.StatusName(status)}')\n",
        "    if status == cp_model.OPTIMAL:\n",
        "        coloring = [solver.Value(color) for color in country_colors]\n",
        "        return coloring\n",
        "    else:\n",
        "        print(\"No solution found.\")\n",
        "        return None\n",
        "\n",
        "coloring = map_coloring_csp(continent)\n",
        "if coloring:\n",
        "    plot_colored_map(continent, coloring)"
      ],
      "metadata": {
        "id": "InF8s2ZE7HG3"
      },
      "execution_count": null,
      "outputs": []
    },
    {
      "cell_type": "markdown",
      "source": [
        "## N királynő probléma\n",
        "\n",
        "A feladat nyolckirálynő probléma általánosítása: az $n \\times n$-es sakktáblán $n$ db királynőt kell elhelyezni úgy, hogy azok egymást ne tudják ütni. Tehát nem helyezkedhet el 2 királynő adott sorban, oszlopban vagy átlón. Mivel minden oszlopban pontosan egy királynő helyezkedik el, ezért az oszlopindexük alapján azonosítjuk őket, a változók pedig a sorindexet fogják tartalmazni majd. Célunk az összes megoldás megtalálása."
      ],
      "metadata": {
        "id": "Syj9gc3X_GjP"
      }
    },
    {
      "cell_type": "code",
      "source": [
        "%reset -f\n",
        "\n",
        "from ortools.sat.python import cp_model\n",
        "from n_queens_helper import NQueenSolutionPrinter\n",
        "\n",
        "def solve_n_queens(board_size):\n",
        "    # Create solver\n",
        "    model = cp_model.CpModel()\n",
        "\n",
        "    # Create the variables:\n",
        "    # There are `board_size` number of variables, one for a queen in each column\n",
        "    # of the board. The value of each variable is the row that the queen is in.\n",
        "    # TODO\n",
        "    # queens = [... for i in range(board_size)]\n",
        "\n",
        "    # Create constraints\n",
        "    # 1) All rows must be different.\n",
        "    # TODO\n",
        "\n",
        "    # 2) No two queens can be on the same diagonal.\n",
        "    # TODO\n",
        "\n",
        "    # Solve the model.\n",
        "    solver = cp_model.CpSolver()\n",
        "    solution_printer = NQueenSolutionPrinter(queens)\n",
        "    solver.parameters.enumerate_all_solutions = True\n",
        "    solver.Solve(model, solution_printer)\n",
        "\n",
        "    # Statistics.\n",
        "    print(\"\\nStatistics\")\n",
        "    print(f\"  conflicts      : {solver.NumConflicts()}\")\n",
        "    print(f\"  branches       : {solver.NumBranches()}\")\n",
        "    print(f\"  wall time      : {solver.WallTime()} s\")\n",
        "    print(f\"  solutions found: {solution_printer.solution_count()}\")\n",
        "\n",
        "chess_board_size = 8\n",
        "solve_n_queens(chess_board_size)"
      ],
      "metadata": {
        "id": "O9dhnwYVUL8R"
      },
      "execution_count": null,
      "outputs": []
    },
    {
      "cell_type": "markdown",
      "source": [
        "# **Feladatbeadás**\n",
        "\n",
        "**Ebben a feladatban a cél egy sudoku megoldó elkészítése.**\n",
        "\n",
        "##Feladatleírás\n",
        "A sudoku lényege röviden:\n",
        "- Adott egy $9 \\times 9$-es táblázat, benne 9 db $3 \\times 3$-as résztáblázat.\n",
        "- A cél, hogy a táblázatot kitöltsük az 1, 2, ..., 8, 9 számokkal úgy, hogy..\n",
        " - minden sorban\n",
        " - minden oszlopban\n",
        " - minden résztáblázatban\n",
        " - az $1...9$ számok mindegyike pontosan egyszer forduljon elő.\n",
        "- A táblázat részben előre ki van töltve számokkal.\n",
        "\n",
        "##Specifikáció\n",
        "A moodle felületre egy `sudoku_solver.py` nevű python fájlt kell feltölteni. Ennek implementálnia kell egy\n",
        "`solve_sudoku` nevű függvényt, ami átveszi az előre kitöltött táblázatot és visszaad egy megoldást azonos\n",
        "formátumban.  \n",
        "**A táblázat formátuma:** listák listája, ahol az 1. index a sort, a 2. index az oszlopot indexeli. A táblázat kitöltetlen celláit 0-ás jelöli.\n",
        "\n",
        "Tehát valahogy így néz ki a feltöltendő file:\n",
        "\n",
        "```python\n",
        "from ortools.sat.python import cp_model\n",
        "import math\n",
        "\n",
        "def solve_sudoku(board):\n",
        "  solution = ...\n",
        "  return solution\n",
        "```\n"
      ],
      "metadata": {
        "id": "XfhuUjHNN8jW"
      }
    },
    {
      "cell_type": "markdown",
      "source": [
        "## Hasznos tudnivalók\n",
        "### Megoldási környezet\n",
        "A megoldáshoz javasoljuk az ortools könyvtár használatát. Ez elérhető a kiértékelő szerveren is.\n",
        "\n",
        "### Pontozás\n",
        "A kiértékelés 4 különböző kitöltöttségű (0.2, 0.5, 0.8 és 0.9) táblázaton történik, rendre 1, 3, 4 és 4 pontért. Ha a feltöltött megoldás elér 8 pontot, akkor a laborfeladatot a Moodle elfogadja.\n"
      ],
      "metadata": {
        "id": "_2WJZ6H5RXlM"
      }
    },
    {
      "cell_type": "markdown",
      "source": [
        "## Beadás\n",
        "A Moodle-ön található beadófelület ezen a linken érhető el:\n",
        "\n",
        "https://edu.vik.bme.hu/mod/quiz/view.php?id=151004"
      ],
      "metadata": {
        "id": "7aGnzQQYSwul"
      }
    }
  ]
}