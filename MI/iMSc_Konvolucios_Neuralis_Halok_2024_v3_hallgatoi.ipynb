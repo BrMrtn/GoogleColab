{
  "cells": [
    {
      "cell_type": "markdown",
      "metadata": {
        "id": "view-in-github",
        "colab_type": "text"
      },
      "source": [
        "<a href=\"https://colab.research.google.com/github/BrMrtn/GoogleColab/blob/main/MI/iMSc_Konvolucios_Neuralis_Halok_2024_v3_hallgatoi.ipynb\" target=\"_parent\"><img src=\"https://colab.research.google.com/assets/colab-badge.svg\" alt=\"Open In Colab\"/></a>"
      ]
    },
    {
      "cell_type": "markdown",
      "source": [
        "![flexsys_logo.png](data:image/png;base64,iVBORw0KGgoAAAANSUhEUgAAAFoAAABFCAYAAADKKPFMAAAABHNCSVQICAgIfAhkiAAAAAlwSFlzAAAGOAAABjgBco5mFwAAABl0RVh0U29mdHdhcmUAd3d3Lmlua3NjYXBlLm9yZ5vuPBoAAAUySURBVHic7ZxNiBxFGIbfr2dMgpOkN+q6xhBD1MN2dA2J6MGLXgRPXtRcRcL6gyBGFA9hd34i6EEQBUFQEAQPUdCIgkJWDx4EUdlFyQwxEhHMZvPLzmZ3NrLpej2soJmuqrF7Zmp7l3qO885X9fXbM1Vf/1QJPFdRC3ftI3hYpwkwMd5sPJil3aC7tNYeBMWsgVnb9UY7whvtCG+0I7zRjihmDaxt3vUZhdtShAwAYpxoAEAKeHj8Yv1Y1pzyTGajKWoEkJ0po6yqirE+az55xw8djvBGO8Ib7QhvtCNyZXQRKlf59JLMVQfsJcQJAJcBKbULArWDkIIuKA4Kg13kk4CAVAFtSVkBVC/76kQ3Rttq4mfLzcZRnVANo9MAbtI2SMx0kU+CWhj9IMDdWk1k7/hsfbKX/dlYs3/VvOGNdoQ32hHeaEd4ox3RTdXRc0h8WA2jVqoYYLLSbIxqRZG3hdiqkwpLwXSGFO+qhtFHOmFT89LjL+DPRVNgrowGGKWNEGDBpJVn6+93l0+CIQCP6YSlG0r7cd4cuBaGjjtXOoH/w6o3WgDtVWbeWPVGrxa80Y7I2WTYW2pbhkegsE6nqVKpUZn+KVWF0w25MpqQZwD+ppEeEOCgPgYnje0p+RzADq3YurwHwFTKFH8G5BWdsHh+6yJw3BiYK6MDwffjs43EHbVqGF1vCbvUx5TaOVNu1j/WS3VroB+jHeGNdoQ32hHeaEd4ox3hjXaEN9oR3mhHeKMd4Y12hDfaEd5oR3ijHeGNdoQ32hHeaEd4ox3hjXbESjzKMr7AriCGVQTqFtNvQoCd1TB6TacR2GLqTMjnqmF0NhFDRmJadypIs4D1KpwbXW42tG/7W2GwzXR6CGwH8LJOsy7TBZ/QxtgW9xJD1iYtODf69VvvmyisX3dj++dq6cpS69y5R8eax393nZMLnBtdGhq8/envjiReAfji+crZyQ8Ob3SdTxrYxRN3PxmmIAB+7SI2H0iHnQ9WO7kxGgIoy35Gq51cvalkIpBr3iT/+lGnSSAtEn+4yEMoc1lji7VwWLvgEQBUXFiszB+zv+vkglhtYCHQ17DEhfFm4xOddOi64VEV6xZ0igqIN8bmGifalUoY7RXwSW1fBZnC8qrgBLWBO3aT6iHDEagiIV/DcKEgBV4EcJshuKeICAIWtUMHg3g3IIMEv9LIYwDe08WpGKOA3KORWkrwKTSmFYUjMeUpbR6KUwDe0WqM74VIicS37ZoArxZFsEDyZl0wgMSV00ohgnp5tjHR/nktjF5K3xji7DvYWaD8UmnWtTm6nwzJ1IdI6a0tthlXKdNtgE5tmuMISH6qjr5gO3h9hWPfrTF7VVSkgu0UmxXKEQbQb/twBadTZyICZemP7F3pZ9sW00anIDF8RQBm3yUs4FugYSOTzZtmMJ+1ZTcIO/qWgJ29NpLZaKEcJYrfJD4HRzC/eAjAl+kaNB+EQMi+zF6964sdxhWr0bZAAU6Wm/VEGVQdiA5k8UREGFhyNf0tO2DIRMzSskr9r7fDjVdL/j2fDKWLrX9dQhSynLjMQ0dfqg7rHszm6q4v+zanJWtfIvaysOdGZzZFBMpSWWSsFEy5WNvKFAT7BNuXX7RtPLU+KnKIZDhx3VUdATcK5ZShYeOJIDBcC6PETmAktpN80RQ3Nz2z4d37HznDWMX8zzgyd2qmZJoMCaFADtTCaF97c5Tklm//Igsgp6X9ypK41nRLVqAIyCyA1vJXsQTwn63b5IKpJwKE4GAtjPZrtD1/Ay3aiOaEeIwPAAAAAElFTkSuQmCC) Mesterséges Intelligencia és Rendszertervezés Tanszék, ©2024. BME-MIT, Révy Gábor, Dr. Hullám Gábor  \n",
        "# **VIMIAC16 - Mesterséges Intelligencia**\n",
        "## 2024. Őszi félév\n",
        "## **IMSc Laborgyakorlat - Konvolúciós neurális hálók**"
      ],
      "metadata": {
        "id": "6n5ch5YjiCMp"
      }
    },
    {
      "cell_type": "markdown",
      "source": [
        "## A labor célja\n",
        "A labor célja, hogy a hallgatókat megismertesse a konvolúciós neurális hálók működésével és használatával, mely mára már megkerülhetelen az automatikus képfeldolgozás és a gépi látás területén."
      ],
      "metadata": {
        "id": "VqIwlpRx3Ve5"
      }
    },
    {
      "cell_type": "markdown",
      "metadata": {
        "id": "ujOfCTplVYi3"
      },
      "source": [
        "# E. Elméleti háttér\n",
        "\n",
        "\n",
        "\n",
        "## E.1 Matematikai alapok: Vektorok\n",
        "\n",
        "A koordinátageometriából ismert vektorokat rendszerint $[a, b]$ rendezett számpárokkal jelöljük, melyek első elemét (vagy $x$ koordinátáját) a Descartes féle koordinátarendszer y tengelyétől mért távolságként, második elemét (vagy $y$ koordinátáját) az x tengelytől mért távolságként tudjuk értelmezni. Így a helyvektort ábrázolni tudjuk, az origóból az $x = a$, $y = b$ pontba mutató nyíllal.\n",
        "Ilyen számpárok segítségével a sík minden pontja jellemezhető és a pontokból alkotott halmazokkal a síkbeli alkazatok is előállíthatók. (Pl.: egyenes egyenlete: azon $[a, b]$ koordinátájú pontok halmaza a síkon melyekre valamely $w_0$, $w_1$ súlyok mellett igaz, hogy $b = a * w_1 + w_0$, kör egyenlete, stb.)\n",
        "\n",
        "#### **Műveletek vektorokkal**\n",
        "\n",
        "Korábbi ismereteinkből tudjuk, hogy\n",
        "- Két vektor összege: $$ [a_1, b_1] + [a_2, b_2]  = [a_1+a_2, b_1+b_2],$$ a koordinátánkénti összegből alkotott számpár.\n",
        "- Egy vektor számszorosa: $$ c \\cdot [a_1, b_1]  = [c \\cdot a_1, c \\cdot b_1],$$ a koordináták adott számszorosából alkotott számpár.\n",
        "- Két vektor skaláris szorzata: $$\\langle [a_1, b_1], [a_2, b_2] \\rangle = a_1  \\cdot a_2 + b_1 \\cdot b_2,$$ az összetartozó koordináták szorzatainak összege. Fontos kiemelni, hogy ennek a műveletnek az eredménye a korábbi kettővel ellentétben nem vektor, hanem egy szám (skalár).\n",
        "\n",
        "#### **Távolság**\n",
        "\n",
        "Két pont közötti távolság mérésére több lehetséges módszer is adódik. Az első és mindenki által ismert az euklideszi távolság, melynek számítása $P_1=[a_1, b_1]$ és $P_2=[a_2, b_2]$ pontok esetén $$d_e(P_1, P_2) =  \\sqrt{(a_1-a_2)^2 + (b_1-b_2)^2 }.$$\n",
        "\n",
        "Ezen túl azonban bizonyos problémák esetén érdemes más fajta távolság mértéket alkalmazni. Egy híres példa a megszokott euklideszi távolságtól különböző távolság mértékre a Manhattan távolság, mely nevét Manhattan híresen szabályos utcáiról kapta. Kiszámítása $P_1=[a_1, b_1]$ és $P_2=[a_2, b_2]$ pontok esetén $$d_e(P_1, P_2) = |a_1-a_2| + |b_1-b_2|,$$ tehát a távolság az x koordináták különbségéhez hozzáadva az y koordináták különbsége. Mintha csak Manhattan két pontja között számolnánk ki, hogy mennyi sétával juthatunk el az egyik pontból a másikba.\n",
        "\n",
        "Szélsőséges példa, de ha meggondoljuk, a háromszög egyenlőtlenség teljesül rá, és bizonyos esetekben hasznos lehet a következő távolságfüggvény:\n",
        "$$d_0(P_1, P_2)=\\begin{cases} 0, & a_1=a_2 \\;\\text{és}\\; b_1=b_2 \\text{ esetén} \\\\  1, & \\text{egyébként}. \\end{cases}$$\n",
        "\n",
        "#### **Magasabb dimenziós vektorok**\n",
        "A vektorok fogalmát kiterjeszthetjük rendezett számhármasokra. Így lehetőségünk van például térbeli pontoknak és alakzatoknak a fentihez hasonló leírására. Számhármasokon a fentiekhez hasonlóan definiálhatjuk a három alapműveletet és a távolság mértékek is kiterjeszthetőek a célnak megfelelően.\n",
        "\n",
        "Így a skaláris szorzat például:\n",
        "$$\\langle [a_1, b_1, c_1], [a_2, b_2, c_2] \\rangle = a_1 \\cdot a_2 + b_1 \\cdot b_2 + c_1 \\cdot c_2,$$\n",
        "két pont euklideszi távolsága pedig\n",
        " $$d_e(P_1, P_2) =  \\sqrt{(a_1-a_2)^2 + (b_1-b_2)^2 + (c_1-c_2)^2}$$ alakban írható fel.\n",
        "\n",
        "Semmi elméleti akadálya nincsen annak, hogy a vektor fogalmunkat a továbbiakban kiterjesszük szám _n-esekre_, így az n dimenziós tér vektoraira és pontjaira szintén gond nélkül értelmezni tudjuk a korábbi műveleteket és távolságokat. Természetesen ezekhez a pontokhoz és vektorokhoz nem tudunk könnyen értelmezhető ábrákat készíteni vagy a belőlük alkotott alakzatokat elképzelni, de a műveletek alapos ismerete lehetővé teszi, hogy mégis dolgozzunk velük és következtetéseket vonjunk le az általuk leírt világról.\n",
        "\n",
        "Vegyünk egy példát magasabb dimenziós adatra. Ha egy orvos két számmal akarja leírni a betegeit, megteheti, hogy egy $[$_magasság, testsúly_$]$ vektort rendel minden pácienséhez. A pácienseiről a rendelkezésére álló adatok alapján diagramot készíthet, amin a hasonló testfelépítésű emberekhez tartozó adatpontok közel lesznek egymáshoz. Azt mondhatjuk, hogy ha két vektor távolsága kicsi, akkor a két páciens hasonló, ha ez a távolság $0$, akkor a rendelkezésre álló adatok alapján megkülönböztethetetlenek.\n",
        "\n",
        "Ha az orvos könnyebben megkülönböztethetővé akarja tenni pácienseit, megteheti, hogy a $[$_magasság, testsúly, életkor_$]$ vektor alapján ábrázolja őket egy háromdimenziós diagramon. Látható, hogy így korábban megkülönböztethetelen emberek akár \"20 év távolságba\" is kerülhetnek egymástól. További adatok hozzávételével még alaposabb ismereteket szerezhetünk a pácienseinkről. Tegyük fel, hogy rendelkezésünkre áll $[$_magasság, testsúly, életkor, pulzus, szisztolés vérnyomás, diasztolés vérnyomás, test hőmérséklet, szem dioptria, stb..._$]$ vektor. Ekkor már nem egyszerű feladat szemléletes ábrát készíteni a páciensekről, viszont megpróbálkozhatunk például hasonló állapotú páciensek keresésével, hogy azonosítsuk egy betegség potenciális áldozatait. Ehhez megpróbálkozhatunk azzal, hogy adott betegséggel megfertőzött emberekhez tartozó pontokhoz közeli pontokat keresünk a számontartott többi pont között. Ha találunk elég közeli pontokat, akkor az adott pácienseket figyelmeztethetjük, vagy elküldhetjük szűrésre, ezzel megelőzve a nagyobb bajt.\n",
        "\n",
        "Azt is megtehetjük, hogy az egész teret előre felosztjuk zónákra aszerint, hogy az ott lévő pontok (amikhez még nem is feltétlenül tartozik valós páciens) feltételezhetően egészségesek vagy betegek lennének a rendelkezésünkre álló adatok alapján. Így ha egy új páciens érkezik, akkor az előírt általános vizsgálatok elvégzése után könnyen eldönthetjük, hogy el kell-e küldeni további speciális vizsgálatra.\n"
      ]
    },
    {
      "cell_type": "markdown",
      "metadata": {
        "id": "TcDbS5ohE2Fv"
      },
      "source": [
        "\n",
        "##E.2 Konvolúció\n",
        "A konvolúció a jelfeldolgozásban és azon belül a képfeldolgozásban is gyakran használt művelet. A művelet kimerítő és matematikailag pontos definíciója helyett nézzünk egy példát a képfeldolgozási alkalmazások szempontjából legfontosabb diszkrét 2D konvolúcióra.\n",
        "\n",
        "<center><img width=\"500\" height=\"280\" src=\"https://miro.medium.com/max/669/1*Zx-ZMLKab7VOCQTxdZ1OAw.gif\">\n",
        "<a href=\"https://towardsdatascience.com/intuitively-understanding-convolutions-for-deep-learning-1f6f42faee1\">forrás</a>\n",
        "</center>\n",
        "\n",
        "Legyen adott az 5x5-ös $A$ matrix, azaz a bemeneti kép, továbbá vegyünk egy 3x3-mas $K$ mátrixot (ennek neve kernel mátrix):\n",
        "\n",
        "$$\n",
        "A=\n",
        "\\left(\\begin{array}{cc}\n",
        "3 & 3 & 2 & 1 & 0\\\\\n",
        "0 & 0 & 1 & 3 & 1\\\\\n",
        "3 & 1 & 2 & 2 & 3\\\\\n",
        "2 & 0 & 0 & 2 & 2\\\\\n",
        "2 & 0 & 0 & 0 & 1\n",
        "\\end{array}\\right)\n",
        "K =\n",
        "\\left(\\begin{array}{cc}\n",
        "0 & 1 & 2\\\\\n",
        "2 & 2 & 0\\\\\n",
        "0 & 1 & 2\n",
        "\\end{array}\\right)\n",
        "$$\n",
        "\n",
        "Jelölje $A * K$ a két mátrix konvolúcióját. Ekkor az $A * K = B$ mátrix egyes elemeit a következőképpen számíthatjuk: a $K$ mátrixot az $A$ mátrix fölött az összes lehetséges pozíción \"végigcsúsztatjuk\", és minden pozícióban kiszámoljuk az azonos pozíciójú elemek szorzatát, majd az így kapott értékeket összeadjuk. Az animációban is szemléltetett módon elvégezve a műveletet a következőt kapjuk:\n",
        "$$A * K = B =\n",
        "\\left(\\begin{array}{cc}\n",
        "12 & 12 & 17\\\\\n",
        "10 & 17 & 19\\\\\n",
        "9 & 6 & 14\n",
        "\\end{array}\\right),$$\n",
        "ahol például $14 = 2 \\cdot 0+2 \\cdot 1+3 \\cdot 2+0 \\cdot 2+2 \\cdot 2+2 \\cdot 0+0 \\cdot 0+0 \\cdot 1+1 \\cdot 2$\n",
        "\n",
        "Jól látható, hogy így a kimeneti $B$ mérete kisebb mint az $A$ bemeneté. Ahhoz, hogy ezt elkerüljük, a bemenetet körben ki kell egészíteni plusz pixelekkel. Erre a kitöltésre több mód is van, de a laggyakoribb a nullákkal való kitöltés. Ezt a kiegészítést nevezik _padding_-nek. Példa animáció látható erre is a fenti animáció forrását követve.\n"
      ]
    },
    {
      "cell_type": "markdown",
      "metadata": {
        "id": "lgpUKvZAA8PO"
      },
      "source": [
        "## E.3 Konvolúciós neurális háló\n",
        "\n",
        "A konvolúció művelete a képfeldolgozásban különösen jelentős. Kereskedelmi forgalomban lévő képszerkesztő alkalmazásokban is találkozhatunk rejtett, vagy direkt alkalmazásával. Használható képek élesítésére,  jellemzők kiemelésére, vagy sok egyéb, bonyolultabb szűrő megvalósítására.\n",
        "\n",
        "Különböző konvolúciós kernelek közvetlen alkalmazásának eredménye:\n",
        "\n",
        "elmosás\n",
        "<center><img src=\"https://www.pyimagesearch.com/wp-content/uploads/2016/06/convolutions_opencv_largeblur-768x286.jpg\" width=\"350\"></center>\n",
        "\n",
        "élesítés\n",
        "<center><img src=\"https://www.pyimagesearch.com/wp-content/uploads/2016/06/convolutions_opencv_sharpen-768x288.jpg\" width=\"350\"></center>\n",
        "\n",
        "élkiemelés\n",
        "<center><img src=\"https://www.pyimagesearch.com/wp-content/uploads/2016/06/convolutions_opencv_sobelx-768x295.jpg\" width=\"350\"></center>\n",
        "\n",
        "[ebben](https://www.pyimagesearch.com/2016/07/25/convolutions-with-opencv-and-python/) a tutorialban.\n",
        "\n",
        "Mint ahogy sima előrecsatolt neurális hálónál is az volt a célunk, hogy bizonyos paramétereit egy modellnek ne előzetes számolással kelljen meghatározni, hanem optimalizáció útján kaphassuk meg, a konvolúciós neurális hálók (CNN - Convolutional Neural Network) esetében is ez a célunk: olyan kernelek tanulása, melyek a kép különböző jellemzőit kiemelve segítik a hálót az automatikus döntéshozásban.\n",
        "\n",
        "Ehhez a korábbi neurális hálóhoz hasonló struktúrát fogunk alkalmazni, de a számokat előállító neuronok helyére ebben az esetben képeket (kép mátrixokat) előállító csatornákat teszünk. Az egymás utáni rétegek közötti súlyokat pedig  konvolúciós kernelekre cseréljük.\n",
        "\n",
        "A jellemző kiemelő konvolúciós rétegek mellett még rengeteg féle rétege lehet egy CNN-nek. Ezek közül most még az átméretező rétegeket emelnénk ki. Ezek szükségességét az indokolja, hogy a bemeneti képek jellemzően nagy felbontásúak, de kevés információt tartalmaznak. (Egy-egy objektum per kép.) Az információk tömörebb ábrázolásának és könnyebb feldolgozásának érdekében a képeket egyre zsugorítjuk. Ehhez _pooling rétegeket_ használunk, melyek közül a MaxPooling a 3. feladatban elő is kerül. Ennek működése egyszerű: beállítható ablakmérettel (a konvolúcióhoz hasonlóan) végigpásztázunk a képen és minden ablakból kiválasztjuk a maximum értéket. Ezt rendszerint nem átlapoló ablakokkal tesszük, hanem a lépésköz mindig megegyezik az ablak méretével.\n",
        "\n",
        "Nézzünk egy példát $2\\times2$-es ablakméretű MaxPoolingra:\n",
        "$$\n",
        "\\left(\\begin{array}{cc}\n",
        "7 & 3 & 5 & 2\\\\\n",
        "8 & 7 & 1 & 6\\\\\n",
        "4 & 9 & 3 & 9\\\\\n",
        "0 & 8 & 4 & 5\n",
        "\\end{array}\\right)\n",
        "\\Rightarrow\n",
        "\\left(\\begin{array}{cc}\n",
        "8 & 6\\\\\n",
        "9 & 9\n",
        "\\end{array}\\right)\n",
        "$$\n",
        "\n",
        "Szemléletesen mutaja be a konvolúciós és maxpooling réteg egymás után alkalmazását [ez a példaprojekt](http://scs.ryerson.ca/~aharley/vis/conv/flat.html), melyekben kézzel írt számjegyek felismeréséhez használtak CNN-t az alkotók.\n",
        "\n",
        "Jellemző ezekre a modellekre, hogy az egyre mélyebb és mélyebb rétegekben már ember számára nem is értelmezhetőek azok a jellemzők, amik a hálót a döntés meghozatalához segítik.\n",
        "\n",
        "</center>"
      ]
    },
    {
      "cell_type": "markdown",
      "metadata": {
        "id": "yQAxWoppa3MY"
      },
      "source": [
        "Az alábbi táblázat egy jó ökölszabályt mutat arra, hogy a feladat függvényében hogyan érdemes beállítani a neurális hálózat bizonyos tulajdonságait.\n",
        "\n",
        "![image.png](data:image/png;base64,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)"
      ]
    },
    {
      "cell_type": "markdown",
      "metadata": {
        "id": "rRxY-EJc1qN2"
      },
      "source": [
        "Alább láthatóak a leggyakoribb aktivációs függvények.  \n",
        "\n",
        "![image.png](data:image/png;base64,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)"
      ]
    },
    {
      "cell_type": "markdown",
      "metadata": {
        "id": "iYWZlqScBr6p"
      },
      "source": [
        "# 0. Előkészítés\n",
        "\n",
        "A Runtime menüpont alatt a Change runtime type pontra kattintva állítsa át a \"hardware accelerator type\" beállítást GPU-ra, hogy azt használja a futási környezet hardware-es gyorsítóként!"
      ]
    },
    {
      "cell_type": "markdown",
      "metadata": {
        "id": "2dfY1UCoVyNw"
      },
      "source": [
        "# F1. Képek osztályozása\n",
        "\n",
        "Ebben a feladatban kutya és macska képeket fogunk osztályozni. A neurális hálózat bemenete tehát egy RGB kép (magasság x szélesség x 3), kimenete pedig az osztály bináris (0 vagy 1) enkódolással.\n",
        "\n",
        "Az adathalmaz, amit használni fogunk: [Cats vs Dogs\n",
        "](https://www.tensorflow.org/datasets/catalog/cats_vs_dogs)\n",
        "\n",
        "Az adatok kezeléséhez pedig a tensorflow [Dataset](https://www.tensorflow.org/api_docs/python/tf/data/Dataset) API-ját fogjuk használni."
      ]
    },
    {
      "cell_type": "markdown",
      "source": [
        "Importáljuk a szükséges csomagokat:\n",
        "- [tensorflow](https://https://www.tensorflow.org/overview): nyílt forráskódú könyvtár gépi tanuláshoz, melyet modellek építéséhez, tanításához és kiértékeléséhez fogunk használni.\n",
        "- [numpy](https://https://numpy.org/): a könyvtár széleskörű támogatást nyújt sokdimenziós tömbök és mátrixok tárolásához, valamint az ezekkel végzett matematikai műveletekhez, függvényekhez. A mai laboron az adathalmazok előállításához és ábrázolásához fogjuk használni.\n",
        "- [matplotlib.pyplot](https://matplotlib.org/api/pyplot_api.html): ábrák készítéséhez és megjelenítéséhez.\n",
        "- os: operációs rendszer műveletekhez, mint fájl olvasás, letöltés, stb.\n"
      ],
      "metadata": {
        "id": "hGVpZn5b1BwI"
      }
    },
    {
      "cell_type": "code",
      "execution_count": null,
      "metadata": {
        "id": "cA0bXUVsXZBd"
      },
      "outputs": [],
      "source": [
        "import os\n",
        "os.environ['TF_CPP_MIN_LOG_LEVEL'] = '3'\n",
        "import tensorflow as tf\n",
        "import tensorflow_datasets as tfds\n",
        "import numpy as np\n",
        "import matplotlib.pyplot as plt\n",
        "\n",
        "# check tf version\n",
        "print(tf.__version__)\n",
        "\n",
        "gpus = tf.config.list_physical_devices('GPU')\n",
        "for device in gpus:\n",
        "    tf.config.experimental.set_memory_growth(device, True)\n",
        "    print(f\"Found GPU {device.name}, and set memory growth to True.\")"
      ]
    },
    {
      "cell_type": "markdown",
      "metadata": {
        "id": "d4Os4uHRWhj2"
      },
      "source": [
        "## F1.1 Adatok beolvasása\n",
        "\n",
        "Az adathalmaz letöltését és szétvágását megtehetjük a `tensorflow_datasets.load` függvénnyel.\n",
        "Neurális hálózatok tanításkor 3 adathalmazt szoktunk használni:\n",
        " - tanító (train): közvetlenül csak ezeken az adatmintákon tanul a neurális hálózat\n",
        " - validációs (validation) adathalmaz: tanítás közben használjuk a modell teljesítményének kiértékelésére; ha ezen nem javul a teljesímény, akkor érdemes leállítani a tanítást\n",
        " - teszt (test) adathalmaz: a tanítás után ezen értékeljük ki a modellt; a validációs adathalmaztól független kell, hogy legyen, mivel a validációs adathalmaz a tanítás paramétereinek meghatározásában közrejátszik\n",
        "\n",
        "Mivel az adathalmaz eredetileg nem tartalmaz validációs és teszt partíciót, ezért a `train` (tanító) részt fogjuk 80%/10%/10% (train/validation/test) arányban kettévágni.\n",
        "Ehhez használjuk a [Slicing API-t](https://www.tensorflow.org/datasets/splits). Itt érdemes megnézni a Slicing $→$ Percent lehetőséget.\n",
        "\n",
        "Az eredeti *train* adathalmazt felhasználva hozzunk létre tanító, validációs és teszt partíciókat!"
      ]
    },
    {
      "cell_type": "code",
      "execution_count": null,
      "metadata": {
        "id": "4zYsFvYQQqKL"
      },
      "outputs": [],
      "source": [
        "(train_dataset, val_dataset, test_dataset), dataset_info = \\\n",
        "            tfds.load('cats_vs_dogs',\n",
        "                      # TODO:\n",
        "                      split= ,\n",
        "                      shuffle_files=False, with_info=True, as_supervised=True)\n",
        "\n",
        "classes = dataset_info.features['label'].names  # label name of the classes\n",
        "n_classes = len(classes)  # number of classes"
      ]
    },
    {
      "cell_type": "markdown",
      "metadata": {
        "id": "rYAtOHF9ZyFG"
      },
      "source": [
        "## F1.2 Adathalmaz megismerése"
      ]
    },
    {
      "cell_type": "markdown",
      "metadata": {
        "id": "aej6jlcN4cDu"
      },
      "source": [
        "Az alábbi kódblokk futtatásával mintákat láthatunk a tanító adathalmazból, ami kutya-macska képeket és a képnek megfelelő címkét tartalmazza."
      ]
    },
    {
      "cell_type": "code",
      "execution_count": null,
      "metadata": {
        "id": "7N4g_i7X6ysf"
      },
      "outputs": [],
      "source": [
        "tfds.visualization.show_examples(train_dataset, dataset_info);"
      ]
    },
    {
      "cell_type": "markdown",
      "metadata": {
        "id": "Zk4SrKlOcIu7"
      },
      "source": [
        "## F1.3 Adatok előkészítése\n",
        "\n",
        "A tanításhoz az adatokat megkeverjük, a képeket normalizáljuk a $[0, 1]$ tartományba, fix méretre (256 x 256) átméretezzük és batch-eket (tanító csomagokat) készítünk. A batch-ek létrehozására azért van szükség, mert az összes kép + címke nem fér el egyszerre a memóriában."
      ]
    },
    {
      "cell_type": "code",
      "execution_count": null,
      "metadata": {
        "id": "QDMriljELdJ0"
      },
      "outputs": [],
      "source": [
        "IMAGE_RESOLUTION = 256\n",
        "def resize_image(image, label):\n",
        "  image = tf.image.resize_with_pad(image, IMAGE_RESOLUTION, IMAGE_RESOLUTION) / 255.\n",
        "  return image, label\n",
        "\n",
        "BATCH_SIZE = 64\n",
        "train_batches = train_dataset.shuffle(len(train_dataset)//4).map(resize_image).batch(BATCH_SIZE).prefetch(1)\n",
        "val_batches = val_dataset.map(resize_image).batch(BATCH_SIZE).prefetch(1)\n",
        "test_batches = test_dataset.map(resize_image).batch(BATCH_SIZE).prefetch(1)"
      ]
    },
    {
      "cell_type": "code",
      "execution_count": null,
      "metadata": {
        "id": "3vYSujBaLdLm"
      },
      "outputs": [],
      "source": [
        "print('dataset:')\n",
        "print(f'  # training images: {len(train_dataset)}')\n",
        "print(f'  # validation images: {len(val_dataset)}')\n",
        "print(f'  # test images: {len(test_dataset)}')"
      ]
    },
    {
      "cell_type": "markdown",
      "metadata": {
        "id": "rG6K8QOMc17D"
      },
      "source": [
        "Nézzük meg, hogy kellően kiegyenlített-e az adat! Ha ugyanis az egyik osztály nagymértékben felülreprezentált, és ezt nem kezeljük, akkor a háló csak azt fogja megtanulni, hogy melyik osztályra való tippeléssel ér el jobb eredményt."
      ]
    },
    {
      "cell_type": "code",
      "execution_count": null,
      "metadata": {
        "id": "VO62YbrVBUGW"
      },
      "outputs": [],
      "source": [
        "def plot_label_frequencies(ds_names, ds, classes):\n",
        "  fig_ds, axes = plt.subplots(1, 3, figsize=(10, 4))\n",
        "  for i, (ds_type, ds) in enumerate(zip(ds_names, ds)):\n",
        "    labels = [x[1].numpy() for x in ds]\n",
        "    bin_edges = np.concatenate(([-.5], np.arange(len(classes))+.5))\n",
        "    axes[i].hist(labels, bins=bin_edges, density=False, rwidth=0.6)\n",
        "    axes[i].set_title(ds_type)\n",
        "    axes[i].set_xticks(np.arange(len(classes)))\n",
        "    axes[i].set_xticklabels(classes)\n",
        "plot_label_frequencies(['Training', 'Validation', 'Test'], [train_dataset, val_dataset, test_dataset], classes)"
      ]
    },
    {
      "cell_type": "markdown",
      "metadata": {
        "id": "NqPh_dLPX0fC"
      },
      "source": [
        "## F1.4 Neurális hálózat definiálása\n",
        "\n",
        "Az adat már elő van készítve, most hozzuk létre a neurális hálózatot. Ehhez válaszolja meg a következő kérdéseket! *(Segítség: a fenti [táblázatban](#scrollTo=yQAxWoppa3MY&line=1&uniqifier=1) látható **Binary classification** típusú problémába tartozik a mostani feladat.)*\n",
        "\n",
        "Mekkora lesz a bemenet mérete? (a batch méretétől most tekintsünk el)\n",
        "```\n",
        "# TODO:\n",
        "```\n",
        "\\\n",
        "Mekkora lesz a kimenet mérete?\n",
        "```\n",
        "# TODO:\n",
        "```\n",
        "\\\n",
        "Milyen aktivációs függvényt érdemes használni?\n",
        "```\n",
        "# TODO:\n",
        "```\n",
        "\\\n",
        "Milyen hibafüggvényt érdemes használni?\n",
        "```\n",
        "# TODO:\n",
        "```\n"
      ]
    },
    {
      "cell_type": "markdown",
      "metadata": {
        "id": "QUFcU4p6gU18"
      },
      "source": [
        "A neurális hálózat létrehozásához a tensorflow [Functional API](https://www.tensorflow.org/guide/keras/functional#use_the_same_graph_of_layers_to_define_multiple_models)-ját fogjuk használni. Ezzel rugalmasan lehet a hálókat leírni. Figyeljük meg, hogy a létrehozott réteget mindig meg kell hívni az előző réteggel (ez egy szimbolikus tenzor, ami alapján az API össze tudja kötni a rétegeket). Példa egy 5 bemenetű, 4 rétegű háló leírására:\n",
        "\n",
        "```\n",
        "inputs = Input(shape=(5,))  # 1., bemeneti réteg\n",
        "x = layers.Dense(64, activation=\"relu\")(inputs)  # 2. réteg\n",
        "x = layers.Dense(64, activation=\"relu\")(x)  # 3. réteg\n",
        "outputs = layers.Dense(10)(x) # 4. réteg\n",
        "\n",
        "# modell definiálása a bemenetekkel és kimenetekkel:\n",
        "model = keras.Model(inputs=inputs, outputs=outputs, name=\"my_model\")  \n",
        "```"
      ]
    },
    {
      "cell_type": "markdown",
      "metadata": {
        "id": "UOnu3cKihezZ"
      },
      "source": [
        "Definiáljuk a következő hálót:\n",
        "- bemeneti réteg\n",
        "- 2D konvolúciós réteg 16 filterrel (channel, csatorna), $3\\times3$-as kernellel, `padding='same'` paddeléssel, **ReLU** aktivációval\n",
        "\n",
        "- MaxPooling réteg ($2\\times2$-es kernel méret, `padding='valid'`, de ezek a default paraméterek)\n",
        "- 2D konvolúciós réteg **32** filterrel$^*$\n",
        "- MaxPooling réteg\n",
        "- 2D konvolúciós réteg **64** filterrel$^*$\n",
        "- MaxPooling réteg\n",
        "- 2D konvolúciós réteg **128** filterrel$^*$\n",
        "- MaxPooling réteg\n",
        "- 2D konvolúciós réteg **32** filterrel$^*$\n",
        "- MaxPooling réteg\n",
        "- előző réteget kilapító réteg (flatten)\n",
        "- teljesen összekötött (dense) réteg **64** neuronnal, **ReLU** aktivációval\n",
        "- teljesen összekötött réteg **32** neuronnal, **ReLU** aktivációval\n",
        "- teljesen összekötött, kimeneti réteg, megfelelő számú neuronnal és megfelelő aktivációs függvénnyel\n",
        "\n",
        "$^*$: azt jelzi, hogy a további paraméterek ugyanazok, mint a korábbi, ugyanolyan típusú rétegnél\n",
        "\n",
        "A rétegtípusok dokumentációi [itt](https://www.tensorflow.org/api_docs/python/tf/keras/layers) találhatók.\\\n",
        "A modell bemenettel és kimenettel való definiálása [itt](https://www.tensorflow.org/api_docs/python/tf/keras/Model#args) található.\n",
        "\n",
        "A szükséges rétegtípusok a következő blokkban importálva vannak, azokat már csak a megfelelő módon példányosítani kell."
      ]
    },
    {
      "cell_type": "code",
      "execution_count": null,
      "metadata": {
        "id": "T8bgQDqDLdQF"
      },
      "outputs": [],
      "source": [
        "from tensorflow.keras.layers import Flatten, Conv2D, Dense, Input, MaxPooling2D, Dropout\n",
        "from tensorflow.keras import Model"
      ]
    },
    {
      "cell_type": "code",
      "execution_count": null,
      "metadata": {
        "id": "-SQAoOdTxBSB"
      },
      "outputs": [],
      "source": [
        "# TODO\n",
        "input =\n",
        "x = ...(input)\n",
        "x = ...(x)\n",
        "...\n",
        "output = ...(x)\n",
        "# TODO\n",
        "\n",
        "dvc_classification_model = Model(inputs=input, outputs=output, name='dvc_classification_model')\n",
        "dvc_classification_model.summary()"
      ]
    },
    {
      "cell_type": "markdown",
      "metadata": {
        "id": "_IvkzucY3xbP"
      },
      "source": [
        "## F1.5 Háló konfigurálása\n",
        "\n",
        "Konfiguráljuk a modellt a tanításhoz! Ehhez a modell [compile](https://www.tensorflow.org/api_docs/python/tf/keras/Model#compile) függvényét használjuk. A következő paramétereket kell megadnunk:\n",
        "- optimalizáló ([tf.keras.optimizers](https://www.tensorflow.org/api_docs/python/tf/keras/optimizers)): használjunk Adam optimalizálót\n",
        "- hibafüggvény ([tf.keras.losses](https://www.tensorflow.org/api_docs/python/tf/keras/losses/)): a bináris osztályzásnak megfelelően\n",
        "- [metrika](https://www.tensorflow.org/api_docs/python/tf/keras/metrics): lista, megadja, hogy milyen metrikákat használjunk a tanítás során a teljesítmény mérésére. Most használjunk pontosságot (`accuracy`)."
      ]
    },
    {
      "cell_type": "code",
      "execution_count": null,
      "metadata": {
        "id": "EHzjtiaQxBUV"
      },
      "outputs": [],
      "source": [
        "dvc_classification_model.compile(\n",
        "    # TODO:\n",
        "    optimizer=,\n",
        "    loss=,\n",
        "    metrics=)"
      ]
    },
    {
      "cell_type": "markdown",
      "metadata": {
        "id": "0DGSne_lK545"
      },
      "source": [
        "## F1.6 Tanítás\n",
        "\n",
        "Annak érdekében, hogy ne tanuljon túl a modellünk, itt is checkpointot használunk. Az utoljára kimentett modell súlyait a tanítás végén visszatöltjük.\n",
        "\n",
        "A `fit()` függvénynek a következő paramétereket kell megadnunk:\n",
        "- `x:` tanító adathalmaz\\\n",
        "most mindent a Dataset API kezel, tehát csak a megfelelő`tf.Dataset` objektumot kell átadni\n",
        "- `epochs:` hányszor tanuljon a háló a tanító adathalmazon\\\n",
        "egy epoch során minden adatot egyszer lát a neurális hálózat\\\n",
        "kezdetnek állítsuk be az értékét a `n_epochs` változóra\n",
        "- `validation data:` validációs adathalmaz, amin tanítás közben mérjük a hálózat teljesítményét\\\n",
        "szintén csak a megfelelő`tf.Dataset` objektumot kell átadni\n",
        "- `callbacks:` listában kell felsorolni a callbackeket\\\n",
        "egyetlen checkpointer callback-et használunk"
      ]
    },
    {
      "cell_type": "code",
      "execution_count": null,
      "metadata": {
        "id": "ECVFZzbZxBXB"
      },
      "outputs": [],
      "source": [
        "n_epochs = 10  # number of epochs to train the neural network\n",
        "# checkpointing based on the validation loss\n",
        "model_checkpoint_callback = tf.keras.callbacks.ModelCheckpoint('dvc_classification_model.keras', monitor='val_loss', save_best_only=True, save_weights_only=False, verbose=1)\n",
        "# model training\n",
        "dvc_history = dvc_classification_model.fit(x=, epochs=, validation_data=,  # TODO\n",
        "                                           callbacks=)\n",
        "dvc_classification_model.load_weights('dvc_classification_model.keras')  # load weights back"
      ]
    },
    {
      "cell_type": "markdown",
      "metadata": {
        "id": "4Y7tLvKjMh1p"
      },
      "source": [
        "Az alábbi kódblokk lefuttatásával láthatjuk, hogy a tanítás során hogyan alakultak a hibaértékek."
      ]
    },
    {
      "cell_type": "code",
      "execution_count": null,
      "metadata": {
        "id": "lZPVRY6lMldR"
      },
      "outputs": [],
      "source": [
        "def plot_training_graphs():\n",
        "  plt.plot(dvc_history.history['loss'])\n",
        "  plt.plot(dvc_history.history['val_loss'])\n",
        "  plt.title('model loss')\n",
        "  plt.ylabel('loss')\n",
        "  plt.xlabel('epoch')\n",
        "  plt.legend(['loss', 'val_loss'], loc='upper left')\n",
        "plot_training_graphs()"
      ]
    },
    {
      "cell_type": "markdown",
      "metadata": {
        "id": "Yn5L5g4uAaED"
      },
      "source": [
        "Mi figyelhető meg a görbéken (hogyan változnak az értékek a görbék mentén, ill. a görbék egymáshoz való viszonya hogyan változik)? Mit jelent ez?\n",
        "\n",
        "```\n",
        "# TODO:\n",
        "```\n",
        "\n",
        "\n",
        "Hogyan változtatna ez alapján a tanításon?\n",
        "\n",
        "```\n",
        "# TODO:\n",
        "```"
      ]
    },
    {
      "cell_type": "markdown",
      "metadata": {
        "id": "XF70VZfkOEwZ"
      },
      "source": [
        "## F1.7 Kiértékelés\n",
        "\n",
        "[Értékeljük](https://www.tensorflow.org/api_docs/python/tf/keras/Model#evaluate) ki a modellünk teljesítményét a teszt adathalmazon:"
      ]
    },
    {
      "cell_type": "code",
      "execution_count": null,
      "metadata": {
        "id": "A7KuKxDSxBZp"
      },
      "outputs": [],
      "source": [
        "# TODO\n",
        "dvc_classification_loss, dvc_classification_acc = dvc_classification_model..."
      ]
    },
    {
      "cell_type": "markdown",
      "metadata": {
        "id": "mxHunHuvBlCd"
      },
      "source": [
        "Mekkora a pontossága a modellnek?\n",
        "```\n",
        "# TODO:\n",
        "```\n",
        "\\\n",
        "Mit jelent ez?\n",
        "```\n",
        "# TODO:\n",
        "```"
      ]
    },
    {
      "cell_type": "markdown",
      "metadata": {
        "id": "tpmg7DbtOZc3"
      },
      "source": [
        "## Példák a predikcióra"
      ]
    },
    {
      "cell_type": "code",
      "execution_count": null,
      "metadata": {
        "id": "acJBi0sGxBqz"
      },
      "outputs": [],
      "source": [
        "def plot_test_examples(test_ds, model):\n",
        "  test_example_batch = test_batches.take(1)\n",
        "  pred = np.squeeze(model.predict(test_example_batch))\n",
        "  dog_probs = pred\n",
        "  probs = np.stack([1-dog_probs, dog_probs]).T\n",
        "  imgs, labels = list(test_example_batch)[0]\n",
        "  n_examples = len(imgs)\n",
        "  n_cols = 5\n",
        "  n_rows = (n_examples-1)//5+1\n",
        "  fig_test, axes_test = plt.subplots(nrows=n_rows, ncols=n_cols, figsize=(20, n_rows*6))\n",
        "  axes_test_flatten = axes_test.flatten()\n",
        "  [a.axis('off') for a in axes_test_flatten]\n",
        "  for i in range(n_examples):\n",
        "    axes_test_flatten[i].imshow(imgs[i])\n",
        "    prob_text = ',\\n'.join([f'{c}: {p:.2f}' for c, p in zip(classes, probs[i])])\n",
        "    text = f'{classes[labels[i]]}\\n{prob_text}'\n",
        "    color = 'green' if np.argmax(probs[i]) == labels[i] else 'red'\n",
        "    axes_test_flatten[i].set_title(text, wrap=True, color=color)\n",
        "\n",
        "plot_test_examples(test_batches, dvc_classification_model)"
      ]
    },
    {
      "cell_type": "markdown",
      "metadata": {
        "id": "PtVJ8rs1IiIB"
      },
      "source": [
        "Amennyiben a teszt halmazon mért pontosság `0.75` alatti, javítson a modellen! Ezt a paraméterek változtatásával teheti meg. Javaslatok:\n",
        "- konvolúciós rétegek száma\n",
        "- filterek száma a konvolúciós rétegekben\n",
        "- teljesen összekötött rétegek száma / az abban található neuronok száma\n",
        "- dropout rétegek használata a maxpooling rétegek után\n",
        "- epochok száma\n",
        "\n",
        "Tipp: Általánosan érdemes törekedni arra, hogy a modell paramétereinek száma ne legyen túlzottan magas, különös tekintettel a teljesen összekötött réteg(ek) paramétereire."
      ]
    },
    {
      "cell_type": "markdown",
      "metadata": {
        "id": "m-cQkZeWAcBg"
      },
      "source": [
        "# F2. Magyarázatgenerálás \"black-box\" modellekhez\n",
        "\n",
        "Ebben a példában megvizsgáljuk az összetett modellek kimenetének magyarázhatóságát, az előző (3-as) feladat által is használt \"kutya-macska\" képosztályozási problémán keresztül.\n",
        "\n",
        "Tekintve, hogy a neurális háló modellek paramétereinek száma bonyolultabb problémák (pl. képfeldolgozó vagy nyelvi modellek) esetén a százezres nagyságrendtől egészen milliárdos nagyságrendig terjed, a modell működésének a paraméterek közvetlen vizsgálatával történő megértése rendkívül nehéz, jellemzően kivitelezhetetlen feladat.\n",
        "Ebből eredően a modern modellmagyarázó módszerek célja, hogy valamilyen hatásvizsgálat segítségével megállapítsák, hogy a modell kimenetének meghatározásában mely bemeneti paraméterek játszanak jelentős szerepet, így betekintést engedve azon \"szempontrendszerbe\", amely alapján a predikció előállt.\n",
        "\n",
        "A leggyakoribb magyarázatgenerálásra használt módszerek alapvetően két fő csoportba sorolhatók: (1) a modellfüggetlen módszerek (nevükből is sejthető módon) pusztán a modell bemenetére, és az arra adott kimenetre (\"válaszra\") koncentrálnak, míg (2) a modellspecifikus módszerek a modell struktúráját és paramétereit is figyelembe veszik a hatásvizsgálat során.\n",
        "\n",
        "A gyakorlati rész megkezdése előtt fontos megjegyezni, hogy habár a jelen példában képosztályozó modellek magyarázásával foglalkozunk, más modelltípusok is magyarázhatóak hasonló elven alapuló módszerek segítségével.\n"
      ]
    },
    {
      "cell_type": "markdown",
      "metadata": {
        "id": "Izz7LMbEKPMZ"
      },
      "source": [
        "Első, előkészítő lépésként állítsuk alaphelyzetbe a futtatókörnyezetet, majd végezzük el a szükséges könyvtárak telepítését (`lime` és `alibi`) és importálását az alábbi kódblokkok futtatásával:"
      ]
    },
    {
      "cell_type": "code",
      "execution_count": null,
      "metadata": {
        "id": "I77oNvLyw3W3"
      },
      "outputs": [],
      "source": [
        "%%capture\n",
        "\n",
        "# delete previous variables:\n",
        "%reset -f\n",
        "\n",
        "# install required libraries:\n",
        "!pip install alibi[tensorflow]\n",
        "!pip install lime\n",
        "\n",
        "# import required packages:\n",
        "import os\n",
        "import cv2\n",
        "import tensorflow as tf\n",
        "import tensorflow_datasets as tfds\n",
        "import numpy as np\n",
        "import matplotlib.pyplot as plt\n",
        "from lime import lime_image\n",
        "from alibi.explainers import IntegratedGradients"
      ]
    },
    {
      "cell_type": "markdown",
      "source": [
        "Ezt követően töltsük be az adatot, és válasszunk ki néhány magyarázni kívánt képet:"
      ],
      "metadata": {
        "id": "HV088UA0u4GR"
      }
    },
    {
      "cell_type": "code",
      "execution_count": null,
      "metadata": {
        "id": "KclRFTzwL7tk"
      },
      "outputs": [],
      "source": [
        "IMAGE_RESOLUTION = 256\n",
        "\n",
        "(train_dataset, val_dataset, test_dataset), dataset_info = \\\n",
        "            tfds.load('cats_vs_dogs',\n",
        "                      split=['train[:80%]', 'train[80%:90%]', 'train[90%:]'],\n",
        "                      shuffle_files=False, with_info=True, as_supervised=True)\n",
        "\n",
        "classes = dataset_info.features['label'].names  # label name of the classes\n",
        "n_classes = len(classes)  # number of classes\n",
        "\n",
        "test_images, test_labels = [], []\n",
        "\n",
        "for img, lab in test_dataset.take(200):\n",
        "    img_resized = tf.image.resize_with_pad(img, IMAGE_RESOLUTION, IMAGE_RESOLUTION) / 255.\n",
        "    test_images.append(img_resized.numpy())\n",
        "    test_labels.append(lab.numpy().flatten())\n",
        "\n",
        "test_images = np.array(test_images)\n",
        "test_labels = np.array(test_labels)"
      ]
    },
    {
      "cell_type": "markdown",
      "source": [
        "Ehhez a demonstrációhoz az előző feladatnál használt architektúra egy módosított, és előtanított változatát fogjuk használni, az eredmények egységessége érdekében.\n",
        "\n",
        "Töltsük be ezt a modellt az alábbi kódblokk lefuttatásával:"
      ],
      "metadata": {
        "id": "lOnIlGmfu9ZW"
      }
    },
    {
      "cell_type": "code",
      "source": [
        "from urllib import request\n",
        "\n",
        "model_address = \"https://share.mit.bme.hu/index.php/s/9mqHpNxgPe9onqN/download/dvc_classification_model.keras\"\n",
        "request.urlretrieve(model_address, \"dvc_model_revised.keras\")\n",
        "\n",
        "dvc_classification_model = tf.keras.models.load_model(\"dvc_model_revised.keras\")\n",
        "\n",
        "dvc_classification_model.compile(\n",
        "    optimizer=tf.keras.optimizers.Adam(),\n",
        "    loss=tf.keras.losses.BinaryCrossentropy(),\n",
        "    metrics=['accuracy'])"
      ],
      "metadata": {
        "id": "65Rl2MVC0Pnt"
      },
      "execution_count": null,
      "outputs": []
    },
    {
      "cell_type": "markdown",
      "source": [
        "## F2.1 Modellfüggetlen magyarázat - LIME\n",
        "\n",
        "Elsőként vizsgáljuk meg a Local Interpretable Model-Agnostic Explanations (röviden LIME) magyarázó módszert.\n",
        "\n",
        "Ezen módszer működését röviden az alábbi lépéssor foglalja össze:\n",
        "\n",
        "1. Mintavételezzük a bemeneti teret a magyarázni kívánt bemenet körül (pl. a bemenethez társított véletlenszerű additív zaj segítségével)\n",
        "2. Rögzítsük a modell predikcióit a mintavételezett pontokra.\n",
        "3. Illesszünk egy egyszerű (jellemzően lineáris) modellt az így kapott bemenet-kimenet párokra úgy, hogy a modell elkészítése során a mintákat az eredeti (magyarázni kívánt) bemenettől való távolság inverzével súlyozzuk.\n",
        "4. Az így kapott egyszerű modell magyarázható, és a vizsgált bemenet környezetében feltehetően jól imitálja az eredeti modell viselkedését, tehát illeszkedik a döntési felületre. Az egyszerű modell paramétereiből megállapíthatjuk az egyes bemenetek szerepét az osztályozó döntésének kialakításában.\n",
        "\n",
        "A fent prezentált lépéssor első három elemét az alábbi ábra foglalja össze:\n",
        "\n",
        "![LIME image](https://raw.githubusercontent.com/marcotcr/lime/master/doc/images/lime.png)\n",
        "\n",
        "Ahol a magyarázni kívánt minta piros kereszttel, a bemeneti térből vett minták keresztekkel és körökkel, az eredeti modell döntési felületét a háttér színezésével, a mintákra illesztett magyarázható (lineáris) modell döntési felületét pedig szaggatott vonallal jelölték.\n",
        "\n",
        "A LIME módszer részletes leírása a [kapcsolódó publikációban](https://arxiv.org/pdf/1602.04938v3.pdf) fellelhető.\n",
        "\n",
        "> Összefoglalva tehát a LIME módszer pusztán a bemenetek, és a modell azokra adott válasza alapján definiál egy magyarázható modellt, amely közelíti a magyarázandó modell viselkedését a bemenet környezetében. Mivel a LIME nem követel meg semmilyen feltételezést a magyarázandó modell belső működésével kapcsolatban, így bármilyen prediktív modell kimenetének magyarázására felhasználható, tehát modellfüggetlen módszer."
      ],
      "metadata": {
        "id": "K7I8IjCDwIgc"
      }
    },
    {
      "cell_type": "markdown",
      "source": [
        "Esetünkben a LIME módszer egy kifejezetten képi bemenetekhez megalkotott változatát fogjuk használni, ami a fent bevezetett alapokon felül a bemeneteket textúra alapján összefüggő részekre, úgynevezett szuperpixelekre osztja, majd az egyes szuperpixelek attribúcióit állapítja meg. Ez az előzetes lépés kritikus, ugyanis ha a kép akár több százezer pixelét külön változóknak vennénk, akkor rendkívül sok mintára lenne szükség a bemeneti tér lokális lefedéséhez.\n",
        "\n",
        "Alapértelmezésben a LIME a szuperpixelekre való szegmentáláshoz a Quickshift algoritmust használja, amely módszer működését a [kapcsolódó publikáció](https://link.springer.com/chapter/10.1007/978-3-540-88693-8_52) részletesen kifejti.\n",
        "\n",
        "Az alábbi kódblokkban definiáljuk a LIME Explainert, majd magyarázatot generáltatunk vele 16 véletlenszerűen kiválasztott képhez:"
      ],
      "metadata": {
        "id": "L4nQR-Gl2pRA"
      }
    },
    {
      "cell_type": "code",
      "execution_count": null,
      "metadata": {
        "id": "zvrfkUYDxHnm"
      },
      "outputs": [],
      "source": [
        "correct_imgs_to_explain = 10\n",
        "incorrect_imgs_to_explain = 6\n",
        "\n",
        "test_predictions = dvc_classification_model.predict(test_images, verbose=0)\n",
        "\n",
        "correct_preds_mask = test_predictions.flatten().round().astype(int) == test_labels.flatten()\n",
        "imgs_correct, labels_correct = test_images[correct_preds_mask], test_labels[correct_preds_mask]\n",
        "imgs_incorrect, labels_incorrect = test_images[np.logical_not(correct_preds_mask)], test_labels[np.logical_not(correct_preds_mask)]\n",
        "\n",
        "random_selection_mask = np.full(len(imgs_correct), False)\n",
        "random_selection_mask[:correct_imgs_to_explain] = True\n",
        "np.random.shuffle(random_selection_mask)\n",
        "\n",
        "selected_images, selected_labels = imgs_correct[random_selection_mask], labels_correct[random_selection_mask]\n",
        "\n",
        "random_selection_mask = np.full(len(imgs_incorrect), False)\n",
        "random_selection_mask[:incorrect_imgs_to_explain] = True\n",
        "np.random.shuffle(random_selection_mask)\n",
        "\n",
        "selected_images = np.concatenate((selected_images, imgs_incorrect[random_selection_mask]), axis=0)\n",
        "selected_labels = np.concatenate((selected_labels, labels_incorrect[random_selection_mask]), axis=0)\n",
        "\n",
        "explainer = lime_image.LimeImageExplainer()\n",
        "\n",
        "test_explanations_lime, test_predictions = [], []\n",
        "\n",
        "for img in selected_images:\n",
        "  test_explanations_lime.append(explainer.explain_instance(img, lambda x: dvc_classification_model.predict(x, verbose=0), top_labels=1, num_samples=1000))\n",
        "  test_predictions.append(dvc_classification_model.predict(img[None, :, :, :], verbose=0))"
      ]
    },
    {
      "cell_type": "markdown",
      "source": [
        "A fenti kódblokk futása legfeljebb 10 percet vesz igénybe.\n",
        "\n",
        "Amíg az összesen 16 darab kép magyarázata elkészül, válaszoljon az alábbi kérdésre:\n",
        "\n",
        "**Előzetes feltételezése szerint egy adott kép mely része releváns, illetve mely részei irrelevánsak az osztályozás szempontjából?**\n",
        "\\\n",
        "*Tipp: Referenciaként tekintsen vissza az előző feladatban kirajzolt mintaképekre.*\n",
        "```\n",
        "TODO: válasz\n",
        "```\n",
        "\n",
        "\n",
        "Végül ábrázoljuk a legjelentősebb szuperpixeleket mindkét osztály mellett:"
      ],
      "metadata": {
        "id": "n2K3KWDx8t57"
      }
    },
    {
      "cell_type": "code",
      "execution_count": null,
      "metadata": {
        "id": "90lbTZzH9x8b"
      },
      "outputs": [],
      "source": [
        "num_superpixels_per_class = 5\n",
        "\n",
        "fig, axes = plt.subplots(4, 4, figsize=(12, 16))\n",
        "\n",
        "for prediction, explanation, label, ax in zip(np.array(test_predictions).flatten(), test_explanations_lime, selected_labels.flatten(), axes.flatten()):\n",
        "    temp, mask_dog = explanation.get_image_and_mask(0, positive_only=True,\n",
        "                                                    num_features=num_superpixels_per_class, hide_rest=False)\n",
        "    temp, mask_cat = explanation.get_image_and_mask(0, positive_only=False, negative_only=True,\n",
        "                                                    num_features=num_superpixels_per_class, hide_rest=False)\n",
        "\n",
        "    mask_transparent = np.full(temp.shape[:2], np.nan)\n",
        "    mask_transparent[mask_dog.astype(bool)] = 1\n",
        "    mask_transparent[mask_cat.astype(bool)] = 0\n",
        "\n",
        "    ax.imshow(temp)\n",
        "    # Yellow: dog --- Blue: cat\n",
        "    ax.imshow(mask_transparent, cmap=\"plasma\", alpha=0.5)\n",
        "    ax.axis(\"off\")\n",
        "    ax.set_title(f\"{'cat' if label == 0 else 'dog'}\\ncat:  {(1. - prediction):.2f}\\ndog: {prediction:.2f}\", color=\"green\" if np.round(prediction) == label else \"red\")\n",
        "\n",
        "plt.tight_layout()\n",
        "plt.show();"
      ]
    },
    {
      "cell_type": "markdown",
      "source": [
        "A fenti eredményeken a modell által leginkább figyelembe vett szuperpixelek vannak kiemelve, sárga vagy kék színezéssel. A a sárga szín azon szuperpixeleket jelöli, amelyek a modell döntését az 1-es (kutya), a kék szín pedig azokat amik a modell döntését a 0-s (macska) osztály felé tolja el. Emellett minden kép fölött szerepel a modell által adott predikció szöveges formában, amely szöveg színezése azt jelöli, hogy a modell predikciója helyes-e vagy sem (zöld: helyes predikció, piros: hibás predikció)\n",
        "\n",
        "Figyelem: Mindkét osztály \"mellett\" az N darab (alapértelmezetten 5) legjelentősebb szuperpixel lett bejelölve. Ebből adódóan mindkét osztály szuperpixelei jelen vannak minden képen.\n",
        "\n",
        "A fenti információk és az eredmények függvényében válaszolja meg az alábbi kérdéseket:\n",
        "\n",
        "**Lát-e valamilyen összefüggést a LIME módszer által adott attribúciók (\"magyarázatok\") és a modell döntése, illetve a modell döntésének helyessége között? Ha igen, akkor mi lehet ennek az oka?**\n",
        "```\n",
        "TODO: válasz\n",
        "```\n",
        "\n",
        "**Megfigyelhető-e valamilyen összefüggés a modell bizonytalansága (tehát hogy a predikció mennyire van közel a 0.5-ös \"teljesen bizonytalan\" értékhez) és a LIME által meghatározott attribúciók között?**\n",
        "```\n",
        "TODO: válasz\n",
        "```\n",
        "\n",
        "**Hogyan változnak az attribúciók a kiemelt szuperpixelek számának függvényében? Az esetleges változás milyen hatással van az előző kérdésekben fölvetett szempontokra?**\n",
        "\\\n",
        "*Tipp: a szuperpixelek osztályonkénti számát a fenti kódblokk elején található `num_superpixels_per_class` változóval, lehet beállítani, ami után a kódblokkot értelemszerűen újra kell futtatni. A szuperpixelek száma osztályonként alapértelmezetten 5.*\n",
        "```\n",
        "TODO: válasz\n",
        "```"
      ],
      "metadata": {
        "id": "HyteEZEU_Dfd"
      }
    },
    {
      "cell_type": "markdown",
      "source": [
        "## F2.2 Modellspecifikus magyarázat - Integrált Gradiens\n",
        "\n",
        "Az Integrált Gradiens módszer kihasználja a neurális hálók azon tulajdonságát, hogy - ideális esetben - az általuk megvalósított leképezés teljes egészében deriválható (ez ugyanaz a tulajdonság, amelyet kihasználva a neurális hálók tanítása is zajlik).\n",
        "\n",
        "A módszer nagyvonalakban az alábbi lépésekből áll:\n",
        "1. Határozzunk meg egy referenciapontot a bemeneti térben (képosztályozásnál ez jellemzően egy teljesen fekete kép), majd interpoláljunk egy egyenes szakaszt ezen referenciapont és a magyarázni kívánt bemenet között.\n",
        "2. Az interpolált egyenes mentén adott lépésközzel haladva állítsunk elő példabemeneteket. - Ezen egyenesen haladva minden előállított kép egy átmenet lesz a referencia kép és a magyarázni kívánt kép között.\n",
        "3. Minden előállított bemenetre számítsuk ki a kimenet deriváltját a bemenet változóinak (pixeleinek) függvényében.\n",
        "4. Az így előállított gradiensek értékének becsüljük meg az integrálját az interpolált szakaszon. Az így kapott integrál értéke lesz az adott változóhoz társított attribúció (tehát hogy a kimenetet milyen irányban, és mekkora mértékben befolyásolja).\n",
        "\n",
        "A módszer részletes leírása a kapcsolódó cikkben olvasható: [Axiomatic Attribution for Deep Networks](https://arxiv.org/pdf/1703.01365.pdf)\n",
        "\n",
        "> Fontos megjegyezni, hogy ezen módszer eredménye bizonyos esetekben nagy mértékben függhet a felhasznált referenciaponttól. A \"baseline\" (vagyis referencia-bemenet) megválasztásának hatásáról az alábbi oldal ad bővebb leírást: [Visualizing the Impact of Feature Attribution Baselines](https://distill.pub/2020/attribution-baselines/)\n",
        "\n",
        "> További fontos, előzetes megjegyzés, hogy az Integrált Gradiens módszer pixelek szintjén állapítja meg a bemenet attribúcióit, szemben a LIME módszerrel, amely szuperpixelek szintjén működik a mintavételezés sajátosságai miatt.\n",
        "\n",
        "Az alábbi kódblokk segítségével inicializáljuk az Integrált Gradiens módszert megvalósító osztályt, majd számítsuk ki az előző példában kiválasztott bemenetek attribúcióit:"
      ],
      "metadata": {
        "id": "CurEUfR7V4mm"
      }
    },
    {
      "cell_type": "code",
      "execution_count": null,
      "metadata": {
        "id": "ejlFnRlI9x8c"
      },
      "outputs": [],
      "source": [
        "ig = IntegratedGradients(dvc_classification_model,\n",
        "                         layer=None,\n",
        "                         method=\"gausslegendre\",\n",
        "                         n_steps=50,\n",
        "                         internal_batch_size=100)\n",
        "\n",
        "test_explanations_intgrad = []\n",
        "\n",
        "for img, prediction in zip(selected_images, np.array(test_predictions).flatten()):\n",
        "  test_explanations_intgrad.append(ig.explain(img[None, :, :, :], target=0))"
      ]
    },
    {
      "cell_type": "markdown",
      "source": [
        "Majd rajzoljuk ki a kapott attribúció-értékeket:"
      ],
      "metadata": {
        "id": "UWA8aaQNc4vP"
      }
    },
    {
      "cell_type": "code",
      "execution_count": null,
      "metadata": {
        "id": "UV4o4ZkQ9x8c"
      },
      "outputs": [],
      "source": [
        "inclusion_percentile = 5.\n",
        "cutoff_rate = 0.25\n",
        "\n",
        "fig, axes = plt.subplots(4, 4, figsize=(12, 16))\n",
        "\n",
        "for prediction, explanation, label, image, ax in zip(np.array(test_predictions).flatten(), test_explanations_intgrad, selected_labels.flatten(), selected_images, axes.flatten()):\n",
        "    avg_decolored_mask = explanation.attributions[0][0].mean(axis=-1)\n",
        "    mask_dog = avg_decolored_mask < np.percentile(avg_decolored_mask, inclusion_percentile)\n",
        "    mask_cat = avg_decolored_mask > np.percentile(avg_decolored_mask, 100. - inclusion_percentile)\n",
        "\n",
        "    mask = mask_dog + mask_cat\n",
        "    mask = np.tile(mask[:, :, None], 3).astype(np.uint8) * 255\n",
        "    mask_blurred = cv2.GaussianBlur(mask, (13,13), 11)\n",
        "    mask_blurred_capped = mask_blurred.mean(axis=-1)\n",
        "    mask_blurred_capped[mask_blurred_capped < np.round(cutoff_rate * 255.)] = np.nan\n",
        "\n",
        "    ax.imshow(image)\n",
        "    ax.imshow(mask_blurred_capped, cmap=\"Reds\", vmin=0, vmax=255, alpha=0.5)\n",
        "\n",
        "    ax.axis(\"off\")\n",
        "    ax.set_title(f\"{'cat' if label == 0 else 'dog'}\\ncat:  {(1. - prediction):.2f}\\ndog: {prediction:.2f}\", color=\"green\" if np.round(prediction) == label else \"red\")\n",
        "\n",
        "plt.tight_layout()\n",
        "plt.show();"
      ]
    },
    {
      "cell_type": "markdown",
      "source": [
        "Mivel az Integrált Gradiens módszer kivétel nélkül minden pixelhez társít egy attribúció-értéket, így az átlátható megjelenítés érdekében a fenti megjelenítés csak a szélsőértékeken lévő pixel-értékek által lefedett területeket jeleníti meg, illetve a megjelenített pixelek láthatóságát egy Gauss-elmosás tovább növeli.\n",
        "\\\n",
        "A kódblokk elején található `inclusion_percentile` változó meghatározza, hogy mely alsó- és felső percentilis fölé (illetve alá) eső attribúció-értékek kerülnek megjelenítésre. Alapértelmezetten az értéke 5, ami azt jelenti, hogy az 5. percentilis alatti, és a (100 - 5 =) 95. percentilis fölötti attribúciókat jelenítjük meg. Ennek a változónak az értéke 0-50 között mozoghat.\n",
        "\\\n",
        "A másik, megjelenítést szabályozó változó a `cutoff_rate`, amely azt határozza meg, hogy mekkora az a minimum relatív attribúciós érték, amely alatt az attribúciós maszk teljesen áttetszővé válik (tehát csak az eredeti pixel-érték jelenik meg a képen). Az értéke alapértelmezetten 0.25, és 0-1 között mozoghat.\n",
        "\n",
        "> Habár az Integrált Gradiens módszer (a LIME-hoz hasonlóan) képes elkülöníteni az egyes osztályokhoz tartozó attribúciókat, ezek pixelről pixelre erősen változnak, így tehát a két osztályhoz attributált területek szinte minden esetben átlapolódnak. Ebből adódóan a fenti példán osztályoktól függetlenül, pusztán az attribúció 0-tól való eltérése alapján történik a megjelenítés.\n",
        "\n",
        "A fent látottakat és a módszerek sajátosságait figyelembe véve válaszolja meg az alábbi kérdéseket:\n",
        "\n",
        "**Lát összefüggést az osztályozás helyessége és az attribúciók között? Miben mások az attribúciós maszkok a LIME-nál látottakhoz képest?**\n",
        "```\n",
        "TODO: válasz\n",
        "```\n",
        "\n",
        "**Mi az eltérés az itt tapasztalt attribúciós maszkok és a LIME-nál látott attribúciók között a kép sajátosságait illetően? Hogyan függ ez a viszony a kódblokk elején beállított, megjelenítéshez használatos paraméterektől?**\n",
        "\\\n",
        "*Tipp: Figyeljük meg, hogy az egyes módszerek által előállított maszkok mennyire illeszkednek a képen található természetes \"határokra\" (élekre).*\n",
        "```\n",
        "TODO: válasz\n",
        "```"
      ],
      "metadata": {
        "id": "PLecoFdFmhsr"
      }
    },
    {
      "cell_type": "markdown",
      "source": [
        "# B1. __Feladatbeadás__\n",
        "\n",
        "Ebben a házi feladatban a cél divatcikkek osztályzása lesz kép alapján neurális hálózat segítségével.\n",
        "\n",
        "##B1.1 Feladatleírás\n",
        "Az adathalmaz [itt](https://github.com/zalandoresearch/fashion-mnist) érhető el. Ugyanitt található róla egy rövid leírás is. A szürkeárnyalatos képeken láthatóak cipők, ruhák, pólók, táskák, amelyek a Zalandotól (divatcikk kiskereskedő) származnak. A cél, hogy minél pontosabb legyen a predikció, amit accuracy alapján határozunk meg.\n",
        "\n",
        "A tanító (train) adathalmaz elérhető a [fenti](https://github.com/zalandoresearch/fashion-mnist) oldalon (képek: `train-images-idx3-ubyte.gz`, címkék: `train--images--idx3--ubyte.gz`, betöltés [így](https://github.com/zalandoresearch/fashion-mnist?tab=readme-ov-file#loading-data-with-python-requires-numpy)), vagy akár [könyvtár](https://github.com/zalandoresearch/fashion-mnist#loading-data-with-other-machine-learning-libraries) segítségével is betölthetjük, pl. [TensorFlow-ból](https://www.tensorflow.org/api_docs/python/tf/keras/datasets/fashion_mnist/load_data) [így](https://github.com/zalandoresearch/fashion-mnist?tab=readme-ov-file#loading-data-with-tensorflow) (ez a javasolt megoldás). A teszt adathalmazt a moodle-ről lehet letölteni. Az adathalmaz linkje a moodle-ben a házi feladat alatt található a \"Dataset assignment\"-nél (ami egy 0 pontos quiz). [Link a Moodle-hoz](https://edu.vik.bme.hu/mod/quiz/view.php?id=150963)  \n",
        "A teszt adathalmazt a következő módon lehet betölteni pythonban:\n",
        "\n",
        "```python\n",
        "x_test = np.load('x_test_xyz.npy')\n",
        "```\n",
        "\n",
        "A pontozás accuracy (pontosság) alapján történik: 0.7 és 0.95 között lineáris, ezen kívül pedig nearest neighbor interpolációval határozzuk meg.\n",
        "\n",
        "##B1.2 Beadandó\n",
        "A moodle felületre egy .npy fájlt kell feltölteni a prediktált értékekkel, tehát egy 1D integer vektort az osztályok indexével. Ezt python környezetben a numpy segítségével a np.save függvénnyel tehetjük meg könnyen.\n",
        "```\n",
        "np.save('y_test.npy', y_test)\n",
        "```\n",
        "##B1.3 Hasznos tudnivalók\n",
        "\n",
        "### Megoldási környezet\n",
        "\n",
        "A javasolt megoldási környezet a Google Colaboratory, ahol iPython notebookokat lehet futtatni. A neurális hálózat felépítéséhez és tanításához pedig ajánlott a TensorFlow környezetet használni.\n",
        "\n",
        "### Fájlok\n",
        "\n",
        "A moodle-ről letöltött `x_test_xxxxxx.npy` tartalmazza a teszt adathalmazt, azaz $9000$ db ($28 \\times 28$)-as képet egy ($9000 \\times 28 \\times 28$)-as tenzorban.\n",
        "\n",
        "### Adat előfeldolgozása\n",
        "\n",
        "A neurális hálózatok könnyebben tanulnak, ha az adat normalizálva van. Ez képek esetén jellemzően annyit jelent, hogy a \\(0-1\\) tartományba visszük a kép csatornáinak intenzitásértékeit."
      ],
      "metadata": {
        "id": "Ckz8y3KkhZOZ"
      }
    },
    {
      "cell_type": "markdown",
      "source": [
        "Beadás:\n",
        "\n",
        "https://edu.vik.bme.hu/mod/quiz/view.php?id=150967\n"
      ],
      "metadata": {
        "id": "jx7jnCb8DU2-"
      }
    },
    {
      "cell_type": "code",
      "source": [],
      "metadata": {
        "id": "gGUmVvtlDQvE"
      },
      "execution_count": null,
      "outputs": []
    }
  ],
  "metadata": {
    "accelerator": "GPU",
    "colab": {
      "collapsed_sections": [
        "iYWZlqScBr6p"
      ],
      "gpuType": "T4",
      "provenance": [],
      "include_colab_link": true
    },
    "kernelspec": {
      "display_name": "Python 3",
      "name": "python3"
    },
    "language_info": {
      "codemirror_mode": {
        "name": "ipython",
        "version": 3
      },
      "file_extension": ".py",
      "mimetype": "text/x-python",
      "name": "python",
      "nbconvert_exporter": "python",
      "pygments_lexer": "ipython3",
      "version": "3.9.17"
    }
  },
  "nbformat": 4,
  "nbformat_minor": 0
}