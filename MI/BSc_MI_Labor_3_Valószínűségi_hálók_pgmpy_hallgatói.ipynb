{
  "nbformat": 4,
  "nbformat_minor": 0,
  "metadata": {
    "colab": {
      "provenance": [],
      "include_colab_link": true
    },
    "kernelspec": {
      "name": "python3",
      "display_name": "Python 3"
    }
  },
  "cells": [
    {
      "cell_type": "markdown",
      "metadata": {
        "id": "view-in-github",
        "colab_type": "text"
      },
      "source": [
        "<a href=\"https://colab.research.google.com/github/BrMrtn/GoogleColab/blob/main/MI/BSc_MI_Labor_3_Val%C3%B3sz%C3%ADn%C5%B1s%C3%A9gi_h%C3%A1l%C3%B3k_pgmpy_hallgat%C3%B3i.ipynb\" target=\"_parent\"><img src=\"https://colab.research.google.com/assets/colab-badge.svg\" alt=\"Open In Colab\"/></a>"
      ]
    },
    {
      "cell_type": "markdown",
      "source": [
        "![flexsys_logo.png](data:image/png;base64,iVBORw0KGgoAAAANSUhEUgAAAFoAAABFCAYAAADKKPFMAAAABHNCSVQICAgIfAhkiAAAAAlwSFlzAAAGOAAABjgBco5mFwAAABl0RVh0U29mdHdhcmUAd3d3Lmlua3NjYXBlLm9yZ5vuPBoAAAUySURBVHic7ZxNiBxFGIbfr2dMgpOkN+q6xhBD1MN2dA2J6MGLXgRPXtRcRcL6gyBGFA9hd34i6EEQBUFQEAQPUdCIgkJWDx4EUdlFyQwxEhHMZvPLzmZ3NrLpej2soJmuqrF7Zmp7l3qO885X9fXbM1Vf/1QJPFdRC3ftI3hYpwkwMd5sPJil3aC7tNYeBMWsgVnb9UY7whvtCG+0I7zRjihmDaxt3vUZhdtShAwAYpxoAEAKeHj8Yv1Y1pzyTGajKWoEkJ0po6yqirE+az55xw8djvBGO8Ib7QhvtCNyZXQRKlf59JLMVQfsJcQJAJcBKbULArWDkIIuKA4Kg13kk4CAVAFtSVkBVC/76kQ3Rttq4mfLzcZRnVANo9MAbtI2SMx0kU+CWhj9IMDdWk1k7/hsfbKX/dlYs3/VvOGNdoQ32hHeaEd4ox3RTdXRc0h8WA2jVqoYYLLSbIxqRZG3hdiqkwpLwXSGFO+qhtFHOmFT89LjL+DPRVNgrowGGKWNEGDBpJVn6+93l0+CIQCP6YSlG0r7cd4cuBaGjjtXOoH/w6o3WgDtVWbeWPVGrxa80Y7I2WTYW2pbhkegsE6nqVKpUZn+KVWF0w25MpqQZwD+ppEeEOCgPgYnje0p+RzADq3YurwHwFTKFH8G5BWdsHh+6yJw3BiYK6MDwffjs43EHbVqGF1vCbvUx5TaOVNu1j/WS3VroB+jHeGNdoQ32hHeaEd4ox3hjXaEN9oR3mhHeKMd4Y12hDfaEd5oR3ijHeGNdoQ32hHeaEd4ox3hjXbESjzKMr7AriCGVQTqFtNvQoCd1TB6TacR2GLqTMjnqmF0NhFDRmJadypIs4D1KpwbXW42tG/7W2GwzXR6CGwH8LJOsy7TBZ/QxtgW9xJD1iYtODf69VvvmyisX3dj++dq6cpS69y5R8eax393nZMLnBtdGhq8/envjiReAfji+crZyQ8Ob3SdTxrYxRN3PxmmIAB+7SI2H0iHnQ9WO7kxGgIoy35Gq51cvalkIpBr3iT/+lGnSSAtEn+4yEMoc1lji7VwWLvgEQBUXFiszB+zv+vkglhtYCHQ17DEhfFm4xOddOi64VEV6xZ0igqIN8bmGifalUoY7RXwSW1fBZnC8qrgBLWBO3aT6iHDEagiIV/DcKEgBV4EcJshuKeICAIWtUMHg3g3IIMEv9LIYwDe08WpGKOA3KORWkrwKTSmFYUjMeUpbR6KUwDe0WqM74VIicS37ZoArxZFsEDyZl0wgMSV00ohgnp5tjHR/nktjF5K3xji7DvYWaD8UmnWtTm6nwzJ1IdI6a0tthlXKdNtgE5tmuMISH6qjr5gO3h9hWPfrTF7VVSkgu0UmxXKEQbQb/twBadTZyICZemP7F3pZ9sW00anIDF8RQBm3yUs4FugYSOTzZtmMJ+1ZTcIO/qWgJ29NpLZaKEcJYrfJD4HRzC/eAjAl+kaNB+EQMi+zF6964sdxhWr0bZAAU6Wm/VEGVQdiA5k8UREGFhyNf0tO2DIRMzSskr9r7fDjVdL/j2fDKWLrX9dQhSynLjMQ0dfqg7rHszm6q4v+zanJWtfIvaysOdGZzZFBMpSWWSsFEy5WNvKFAT7BNuXX7RtPLU+KnKIZDhx3VUdATcK5ZShYeOJIDBcC6PETmAktpN80RQ3Nz2z4d37HznDWMX8zzgyd2qmZJoMCaFADtTCaF97c5Tklm//Igsgp6X9ypK41nRLVqAIyCyA1vJXsQTwn63b5IKpJwKE4GAtjPZrtD1/Ay3aiOaEeIwPAAAAAElFTkSuQmCC) Mesterséges Intelligencia és Rendszertervezés Tanszék, ©2024. BME-MIT, Révy Gábor, Dr. Hullám Gábor  \n",
        "# **VIMIAC16 - Mesterséges Intelligencia**\n",
        "## 2024. Őszi félév\n",
        "## **3. Laborgyakorlat** **- Valószínűségi hálók**"
      ],
      "metadata": {
        "id": "lYVwcWpZkSYR"
      }
    },
    {
      "cell_type": "markdown",
      "source": [
        "## A labor célja\n",
        "\n",
        "A labor során a hallgatók egy átfogó gyakorlati példán keresztül ismerhetik meg alapszinten a valószínűségi hálók működését, a hálókban történő következtetést, és annak gyakorlati alkalmazásait. Ezen felül a labor kitér a Bayes-hálók kibővítéseként előállított döntési hálók alkalmazására döntéstámogató és döntéshozó rendszerekben.\n"
      ],
      "metadata": {
        "id": "pOxyeU1sRT4z"
      }
    },
    {
      "cell_type": "markdown",
      "metadata": {
        "id": "wT3MeOQ_g79R"
      },
      "source": [
        "# **1. Elméleti háttér**"
      ]
    },
    {
      "cell_type": "markdown",
      "source": [
        "## 1.1 Valószínűségszámítás alapok, feltételes valószínűség\n",
        "\n",
        "Valós mesterséges intelligencia alkalmazásokban gyakran végzünk valószínűségi következtetést, amely során valószínűségi változók értékét becsüljük meg megfigyelések illetve előzetesen ismert információk (háttértudás) alapán. A következtetés folyamán megkülönböztetjük egymástól az (1) előzetesen ismert (a priori) valószínűséget, és a (2) más változók értékétől függő feltételes valószínűséget.\n",
        "\n",
        "Az előzetesen ismert valószínűség egy egyéb változóktól független értéket jelent, például egy ideális világban kockadobásnál $P(Dice=6)=\\frac{1}{6}$ (annak az esélye, hogy hatost dobunk) előzetes valószínűségnek számít.\n",
        "\n",
        "Ezzel szemben hogyha feltételezzük, hogy a kocka valamilyen valószínűséggel cinkelt lehet, akkor bevezethetünk egy új változót, amelynek értéke befolyásolja az előbb felírt valószínűség értékét. Ekkor például a $P(Dice=6|Weighted=yes)=\\frac{1}{3}$ valószínűséget **feltételes valószínűségnek**, a $Weighted=yes$ megfigyelésünket pedig **evidenciának** nevezzük.\n",
        "\n",
        "Így tehát általánosan $P(A)$-val jelöljük az $A$ valószínűségi változóhoz tartozó valószínűséget, és $P(A|B)$-vel $A$ feltételes valószínűségét $B$ evidencia ismeretében, amennyiben $A$ valószínűsége függ $B$-től.\n",
        "\n",
        "A feltételes valószínűség értékét a két változó együttes valószínűsége $P(A,B)$ és a feltétel előzetes valószínűsége $P(B)$ hányadosaként is felírhatjuk: $P(A|B)=\\frac{P(A,B)}{P(B)}$"
      ],
      "metadata": {
        "id": "klEaRRjyRRqM"
      }
    },
    {
      "cell_type": "markdown",
      "source": [
        "## 1.2 Valószínűségi változók függetlensége, feltételes függetlenség\n",
        "\n",
        "Két valószínűségi változó **független** egymástól, amennyiben mindkettőre igaz, hogy lehetséges értékeinek valószínűsége állandó marad a másik értékének ismeretében, bármilyen értéket is vegyen az föl. Például ugyanakkora valószínűséggel dobunk hatost akkor is, ha felhős idő van, és akkor is, ha napos. Általánosan $A$ és $B$ független valószínűségi változók mellett mindig igaz, hogy\n",
        "\n",
        "$P(A|B)=P(A)$, \\\\\n",
        "$P(B|A)=P(B)$ és  \n",
        "$P(A,B)=P(A)P(B)$.\n",
        "\n",
        "Amennyiben ezek bármelyike nem teljesül, akkor a valószínűségi változók **összefüggőek**.\n",
        "\n",
        "<!-- Esetünkben a valószínűségi következtetés során valamilyen esemény valószínűsége alatt annak az éppen ismert evidenciák melletti valószínűségét értjük. Így tehát két változó akkor összefüggő, hogyha valamelyikük egy adott értékének evidenciaként való bevezetése megváltoztatja a másik valószínűségét. -->\n",
        "\n",
        "Előfordulhat olyan eset is, amikor egy változó ismerete egy másik változó értékét irrelevánssá teszi a vizsgált valószínűségi változó eloszlására való tekintettel.\n",
        "\n",
        ">Például tegyük fel, hogy egy játékban veszünk részt, ahol bizonyos valószínűséggel lebukhatunk, ha cinkelt kockát használunk. Ekkor ha nem tudjuk, hogy a kocka cinkelt-e, akkor a kockadobás eredménye hatással van arra, hogy lebukunk-e, mert megnövelheti (vagy csökkentheti) a cinkelt kocka valószínűségét. Viszont hogyha tudjuk, hogy a kocka nem cinkelt, akkor bármennyit is dobunk, nem fogunk lebukni, ugyanis nem követtünk el csalást. Ekkor azt mondjuk, hogy a $Weighted$ változó értékének ismeretében a $Caught$ (lebukás) változó független a $Dice$ változótól.\n",
        "\n",
        "Általánosan, ha $B$ változó $C$ változó ismeretében nem szolgál plusz információval $A$ változó eloszlásáról, vagyis $P(A|B,C)=P(A|C)$ teljesül, akkor azt mondjuk, hogy $A$ és $B$ változók **feltételesen függetlenek** $C$ ismeretében. Formálisan erre az $I(A,B|C)$ jelölést használjuk.\n",
        "\n",
        ">Az előző példára vetítve ez azt jelenti, hogy $P(Caught|Weighted,Dice)=P(Caught|Weighted)$, tehát $I(Caught,Dice|Weighted)$."
      ],
      "metadata": {
        "id": "FIM4sIW2ROHu"
      }
    },
    {
      "cell_type": "markdown",
      "source": [
        "## 1.3 A Bayes-tétel és alkalmazása\n",
        "\n",
        "Két valószínűségi változó együttes valószínűségét a feltételes valószínűség definiciója alapján az alábbi módon is felírhatjuk: $P(A,B)=P(A|B)P(B)$. Tehát $A$ feltétles valószínűsége $B$ ismeretében szorozva $B$ valószínűségével.\n",
        "Hasonlóképpen $P(B,A)=P(B|A)P(A)$.\n",
        "\n",
        "Mivel az együttes valószínűségben a változók lehetséges értékei között fennálló ÉS kapcsolat kommutatív, vagyis $P(A,B)=P(B,A)$, ezért $P(A|B)P(B)=P(B|A)P(A)$.\n",
        "ekkor a $P(B)$-vel való osztás után az alábbi egyenlőséget kapjuk:\n",
        "\n",
        "$$P(A|B)=\\frac{P(B|A)P(A)}{P(B)}$$\n",
        "\n",
        "\n",
        "Ezt az azonosságot felfedezője után **Bayes-tétel**nek nevezzük, és nagy jelentőséggel bír a valószínűségi következtetésben. Sokszor ugyanis az a célunk, hogy a rendelkezésre álló adat $D$ alapján tudjunk következtetést levonni a háttérben lévő modellről $M$, amit nem ismerünk $P(M|D)$, és ez így kihívást jelent. Jóval egyszerűbb egy ismert modellt feltételezve meghatározni a megfigyelt adat feltételes valószínűségét $P(D|M)$, amit **likelihoodnak** nevezünk. A Bayes-tétel tehát lehetővé teszi, hogy a megfigyeléseket követő, vagy más néven **a posteriori** valószínűséget $P(M|D)$ kiszámítsuk a likelihood $P(D|M)$ alapján:\n",
        "\n",
        "$$P(M|D)=\\frac{P(D|M)P(M)}{P(D)}$$\n",
        "\n",
        "Ebben a kontextusban a $P(M)$ kifejezést előzetesen ismert, vagy más néven **a priori** valószínűségnek nevezzük, a $P(D)$ kifejezést pedig normalizációs konstansnak tekintjük és gyakran elhanyagoljuk.\n",
        "\n",
        "\n",
        ">A Bayes-tételt alkalmazva például a kockadobás esetén a dobott érték, és a két változó előzetes valószínűsége alapján meg tudjuk határozni annak a valószínűségét, hogy a kocka cinkelt, amennyiben hatost dobtunk:\n",
        "$$P(Weighted=true|Dice=6)=\\frac{P(Dice=6|Weighted=true)P(Weighted=true)}{P(Dice=6)}$$\n",
        "Ekkor a $P(Weighted=true)$ valószínűséget előzetesen ismert, vagy **a priori** valószínűségnek, $P(Dice=6|Weighted=true)$ valószínűséget **likelihoodnak**, a $P(Weighted=true|Dice=6)$ valószínűséget pedig megfigyelés utáni, vagyis **a posteriori** valószínűségnek nevezzük."
      ],
      "metadata": {
        "id": "11JM9SNMRIHW"
      }
    },
    {
      "cell_type": "markdown",
      "source": [
        "## 1.4 \"Likelihood\" versus \"a posteriori valószínűség\"\n",
        "\n",
        "Következtetésnél fontos megkülönböztetni az *a posteriori valószínűség* és a *likelihood* fogalmát.\n",
        "\n",
        "**Likelihood** alatt azt értjük, amikor ismerjük (vagy legalábbis feltételezzük) a változó eloszlását, és azt szeretnénk tudni, hogy egy konkrét értéke (vagy egy adott tartományba eső érték folytonos esetben) mekkora valószínűséggel fordul elő. Ez a kockadobásnál annak felel meg, hogy már van valamilyen feltételezésünk arról, hogy a kocka cinkelt-e, és tudni szeretnénk, hogy ha ezen feltételezésünk igaz, akkor mekkora eséllyel dobunk hatost. Konkrétabban $P(Dice|Weighted)$ értékére vagyunk kíváncsiak ebben az esetben.\n",
        "\n",
        "**A posteriori valószínűség** esetén ezzel szemben arra vagyunk kíváncsiak, hogy adott megfigyelés esetén mekkora a valószínűsége annak, hogy azt egy adott eloszlásból kaptuk. Kockadobás esetén ez azt jelenti, hogy tudjuk a kockadobás eredményét, és azt szeretnénk tudni, hogy így mekkora a valószínűsége annak, hogy a kocka cinkelt. Így tehát ezen analógia mentén a $P(Weighted|Dice)$ érték a posteriori valószínűségnek számít."
      ],
      "metadata": {
        "id": "31-AyD1NRENC"
      }
    },
    {
      "cell_type": "markdown",
      "source": [
        "## 1.5 A valószínűségi hálók\n",
        "\n",
        "Az előző bekezdésben beláttuk, hogy két változó együttes valószínűségét fel lehet bontani az alábbi módon: $P(A,B)=P(A|B)P(B)$. Ezen felbontás tetszőleges számú változóra történő általánosítását **lánc-szabálynak** nevezzük, amely $n$ darab változóra az alábbi módon alkalmazható:\n",
        "\n",
        "$$P(X_1,X_2,...,X_n)=P(X_n|X_{n-1},X_{n-2},...,X_1)P(X_{n-1}|X_{n-2},X_{n-3},...,X_1)...P(X_2|X_1)P(X_1)$$\n",
        "\n",
        "Vagy rövidebben:\n",
        "\n",
        "$$P(X_1,X_2,...,X_n)=\\prod_{i=1}^{n}P(X_i|X_{i-1},...,X_1)$$\n",
        "\n",
        "<!-- >Amennyiben a modellünk változói között vannak egymástól (feltételesen) független változók (amely gyakorlati alkalmazásokban általában igaz), akkor egy ennél (akár jelentősen) rövidebb, vagyis kevesebb feltételt tartalmazó felbontás is elegendő a modell együttes valószínűségének felírásához. Például egy $A$, $B$, $C$ és $D$ valószínűségi változókat tartalmazó modell együttes valószínűsége alapvetően az alábbi módon bontható fel:\n",
        "$$P(A,B,C,D)=P(A|B,C,D)P(B|C,D)P(C|D)P(D)$$\n",
        "Azonban hogyha $A$, $B$ és $C$ változók $D$ ismeretében feltételesen függetlenek, tehát $I(A,B,C|D)$ teljesül, akkor a felbontás jelentősen egyszerűbben is elvégezhető:\n",
        "$$P(A,B,C,D)=P(A|D)P(B|D)P(C|D)P(D)$$\n",
        "Gyakorlati alkalmazásokban ez általában azt jelenti, hogy $D$ valószínűségi változó értéke *közvetlenül befolyásolja* a modell másik három változójának valószínűségét.-->\n",
        "\n",
        "Egy modell változóinak együttes valószínűsége ilyen ábrázolásban viszonylag nehezen átlátható, főleg nagyobb méretű modellek esetén. Ebből adódóan érdemes valamilyen grafikus reprezentációt bevezetnünk, amely könnyebben értelmezhető formában mutatja be a modell változói között fennálló kapcsolatokat. Először is feltételezzük, hogy a modell minden $A$ változójára létezik egy olyan $Parents(A)$ változóhalmaz, amely halmazok esetén az alábbi felbontás (faktorizáció) érvényes felbontása lesz a modell együttes valószínűségének, $n$ darab változót tartalmazó modell esetén:\n",
        "\n",
        "$$P(X_1,X_2,...,X_n)=\\prod_{i=1}^nP(X_i|Parents(X_i))$$\n",
        "\n",
        "Ekkor a $Parents(A)$ halmaz elemeit $A$ változó **szüleinek**, azon $X$ változókat pedig, amelyekre a $A \\in Parents(X)$ pedig $A$ **gyerekeinek** nevezzük (az adott felbontás szerint).\n",
        "\n",
        "\n",
        "**Bayes-háló (Definíció)**: Azt a körmentes irányított gráfot (Directed Acyclic Graph - DAG), amelynek csomópontjai a modellben található valószínűségi változók, élei pedig a változók közötti függőségi (szülő-gyerek) kapcsolatot reprezentálják úgy, hogy az él a szülőből kiindulva annak gyerekébe mutat, **valószínűségi hálónak**, vagy **Bayes-hálónak** nevezzük, ha minden csomóponthoz tartozik egy feltételes valószínűségi eloszlás, amely a szülők értékei függvényében határozza meg a csomópont által reprezentált valószínűségi változó eloszlását.\n",
        "\n",
        ">Például a kockadobás esetén $I(Caught,Dice|Weighted)$ feltételes függetlenség miatt érvényes az alábbi felbontás: $P(Caught,Dice,Weighted)=P(Caught|Weighted)P(Dice|Weighted)P(Weighted)$.\n",
        "\n",
        ">Eszerint a felbontás szerint $Parents(Caught)=\\{Weighted\\}$, $Parents(Dice)=\\{Weighted\\}$ és $Parents(Weighted)=\\{\\}$, így tehát a modell ezen felbontáshoz tartozó Bayes-háló struktúrája a hozzá tartozó **feltételes valószínűségi táblázattal** együtt az alábbi:\n",
        "\n",
        "<center><img src=\"https://i.ibb.co/09Gd9P2/Weighted-Dice.png\" width=\"350\"></center>\n",
        "\n",
        "| $Weighted$ | $P(Weighted)$ | \\| | $Dice$ | $Weighted$ | $P(Dice|Weighted)$ | \\| | $Caught$ | $Weighted$ | $P(Caught|Weighted)$ |\n",
        "|:----------:|:-------------:|:--:|:------:|:----------:|:------------------:|:--:|:--------:|:----------:|:--------------------:|\n",
        "| $true$ | $0.1$ | \\| | $1$ | $false$ | $1/6$ | \\| | $false$ | $false$ | $1$ |\n",
        "| $false$ | $0.9$ | \\| | $2$ | $false$ | $1/6$ | \\| | $true$ | $false$ | $0$ |\n",
        "|  |  | \\| | $3$ | $false$ | $1/6$ | \\| | $false$ | $true$ | $0.7$ |\n",
        "|  |  | \\| | $4$ | $false$ | $1/6$ | \\| | $true$ | $true$ | $0.3$ |\n",
        "|  |  | \\| | $5$ | $false$ | $1/6$ | \\| |  |  |  |\n",
        "|  |  | \\| | $6$ | $false$ | $1/6$ | \\| |  |  |  |\n",
        "|  |  | \\| | $1$ | $true$ | $2/15$ | \\| |  |  |  |\n",
        "|  |  | \\| | $2$ | $true$ | $2/15$ | \\| |  |  |  |\n",
        "|  |  | \\| | $3$ | $true$ | $2/15$ | \\| |  |  |  |\n",
        "|  |  | \\| | $4$ | $true$ | $2/15$ | \\| |  |  |  |\n",
        "|  |  | \\| | $5$ | $true$ | $2/15$ | \\| |  |  |  |\n",
        "|  |  | \\| | $6$ | $true$ | $1/3$ | \\| |  |  |  |\n",
        "\n",
        ">Ebben az esetben a feltételes valószínűségi táblázat azzal ekvivalens, mintha felírtuk volna az egyes feltételes valószínűséggel rendelkező valószínűségi változók összes lehetséges értékének valószínűségét a feltételként fennálló változók összes lehetséges értékkombinációja mellett.\n",
        "\n",
        ">*Megjegyzés:* a fent látható valószínűségi háló egyszerűsített eset, ugyanis a valóságban a dobások sorozata során kijött értékek is nagyban befolyásolják a lebukás valószínűségét, jelen példában azonban elhanyagoljuk az időbeliséget, és feltételezzük, hogy minden körülmények között azonos eséllyel bukunk le egy cinkelt kockával."
      ],
      "metadata": {
        "id": "mIbUGIccQ_Tq"
      }
    },
    {
      "cell_type": "markdown",
      "source": [
        "## 1.6 Következtetés Bayes-hálókban\n",
        "\n",
        "Valószínűségi modellek esetén következtetés alatt azt értjük, hogy egy adott változóhalmaz (evidencia) értékének ismeretében kiszámítjuk az ismeretlen értékű valószínűségi változók egy részhalmazának együttes valószínűségét. A következtetés talán legegyszerűbb módja az úgynevezett **felsorolásos egzakt következtetés**.\n",
        "\n",
        "\n",
        "\n",
        "<!--   Ennek során adott evidenciahalmaz mellett összegezzük az ismeretlen változók lehetséges érték-kombinációinak valószínűségét, amelyből meghatározzuk a keresett együttes valószínűséget. Legyen $\\boldsymbol{X}$ az (ismeretlen értékű) célváltozóink halmaza, $\\boldsymbol{e}$ az ismert evidenciák értéke, $\\boldsymbol{Y}$ pedig az összes többi változót tartalmazó halmaz. Ekkor a keresett $\\boldsymbol{X}$ változóhalmaz együttes valószínűségét felírhatjuk az alábbi módon, $\\boldsymbol{Y}$ változóhalmaz lehetséges értékei fölött összegezve:   \n",
        "\n",
        "$$P(\\boldsymbol{X}|\\boldsymbol{e}) = \\alpha P(\\boldsymbol{X},\\boldsymbol{e}) = \\alpha \\sum_{\\boldsymbol{y} \\in \\boldsymbol{Y}}P(\\boldsymbol{X}, \\boldsymbol{e}, \\boldsymbol{y})$$\n",
        "\n",
        "ahol $\\alpha$ az úgynevezett normalizációs tényező, amely értékét úgy kell megválasztani, hogy az összes lehetséges (és természetesen nemnegatív) együttes valószínűség értékének összege $1$ legyen.\n",
        "\n",
        "A következtetés szemléltetése értekében vegyük elő újból a kockadobás példáját. Tegyük fel, hogy a kocka 10% eséllyel cinkelt, a cinkelt kocka megduplázza annak valószínűségét, hogy hatost dobunk, és csalás (tehát cinkelt kocka) esetén 30% eséllyel bukunk le. Ekkor a modell változóinak valószínűségei az alábbiak:\n",
        "\n",
        "$$P(Weighted=true)=0.1$$\n",
        "$$P(Weighted=false)=0.9$$\n",
        "$$P(Dice=1|Weighted=false)=1/6$$\n",
        "$$P(Dice=2|Weighted=false)=1/6$$\n",
        "$$P(Dice=3|Weighted=false)=1/6$$\n",
        "$$P(Dice=4|Weighted=false)=1/6$$\n",
        "$$P(Dice=5|Weighted=false)=1/6$$\n",
        "$$P(Dice=6|Weighted=false)=1/6$$\n",
        "$$P(Dice=1|Weighted=true)=2/15$$\n",
        "$$P(Dice=2|Weighted=true)=2/15$$\n",
        "$$P(Dice=3|Weighted=true)=2/15$$\n",
        "$$P(Dice=4|Weighted=true)=2/15$$\n",
        "$$P(Dice=5|Weighted=true)=2/15$$\n",
        "$$P(Dice=6|Weighted=true)=1/3$$\n",
        "$$P(Caught=false|Weighted=false)=1$$\n",
        "$$P(Caught=true|Weighted=false)=0$$\n",
        "$$P(Caught=false|Weighted=true)=0.7$$\n",
        "$$P(Caught=true|Weighted=true)=0.3$$\n",
        "\n",
        "Már elkezdtük a játékot, és dobtunk egy hatost, viszont nem tudjuk hogy a kocka cinkelt-e. Azt viszont szeretnénk tudni, hogy mekkora eséllyel bukunk le, a játékból ugyanis akkor is kizárnak bennünket, hogyha csaltunk, de nem tudtunk róla. Ekkor evicenciaként egyetlen változó-értékünk van: $\\boldsymbol{e}=\\{Dice=6\\}$, és a célváltozóink halmaza is egyetlen elemből áll: $\\boldsymbol{X}=\\{Caught\\}$. Az $Y$ halmaz ekkor az egyetlen, eddig említett halmazba sem tartozó változót tartalmazza: $\\boldsymbol{Y}=\\{Weighted\\}$. Ezeket helyettesítsük be a fenti képletbe:\n",
        "\n",
        "$$P(Caught|Dice=6)=\\alpha P(Caught,Dice=6)=\\alpha (P(Caught,Dice=6,Weighted=true) + P(Caught,Dice=6,Weighted=false))$$\n",
        "\n",
        "A \"Valószínűségi hálók\" bekezdésben említett módszer segítségével a modell változóinak együttes valószínűségét felbonthatjuk az alábbi módon:\n",
        "\n",
        "$$P(Caught,Dice,Weighted)=P(Caught|Weighted)P(Dice|Weighted)P(Weighted)$$\n",
        "\n",
        "Amely felbontás segítségével kiszámíthatjuk a lebukás valószínűségét, a fenti értékek behelyettesítése után:\n",
        "\n",
        "$$P(Caught=true|Dice=6)=\\alpha (P(Caught=true,Dice=6,Weighted=true) + P(Caught=true,Dice=6,Weighted=false))=$$\n",
        "\n",
        "$$=\\alpha (P(Caught=true|Weighted=true)P(Dice=6|Weighted=true)P(Weighted=true) + P(Caught=true|Weighted=false)P(Dice=6|Weighted=false)P(Weighted=false))=$$\n",
        "\n",
        "$$=\\alpha (0.3 \\cdot \\frac{1}{3} \\cdot 0.1 + 0 \\cdot \\frac{1}{6} \\cdot 0.9) = 0.01\\alpha$$\n",
        "\n",
        "$\\alpha$ értékének meghatározásához ki kell számítanunk $Caught=false$-hoz tartozó értéket is:\n",
        "\n",
        "$$P(Caught=false|Dice=6)=\\alpha (P(Caught=false,Dice=6,Weighted=true) + P(Caught=false,Dice=6,Weighted=false))=$$\n",
        "\n",
        "$$=\\alpha (P(Caught=false|Weighted=true)P(Dice=6|Weighted=true)P(Weighted=true) + P(Caught=false|Weighted=false)P(Dice=6|Weighted=false)P(Weighted=false))=$$\n",
        "\n",
        "$$=\\alpha (0.7 \\cdot \\frac{1}{3} \\cdot 0.1 + 1 \\cdot \\frac{1}{6} \\cdot 0.9) = 0.17\\dot 3\\alpha$$\n",
        "\n",
        "Ezekből az $\\alpha$ értéke:\n",
        "\n",
        "$$0.01\\alpha + 0.17\\dot 3\\alpha = 1$$\n",
        "$$\\alpha = 5.\\dot 4 \\dot 5$$\n",
        "\n",
        "Végül pedig a valószínűség:\n",
        "\n",
        "$$P(Caught=true|Dice=6)=0.01\\alpha=0.0\\dot 5\\dot 4 \\approx 0.055$$\n",
        "$$P(Caught=false|Dice=6)=0.17\\dot 3\\alpha=0.9\\dot 4 \\dot 5 \\approx 0.945$$\n",
        "\n",
        "amelyre az $\\alpha = 5.\\dot 4 \\dot 5$ választásnak köszönhetően teljesül, hogy\n",
        "\n",
        "$$P(Caught=true|Dice=6)+P(Caught=false|Dice=6)=1$$\n",
        "\n",
        "Az előzőek fényében szembetűnő, hogy a feltételes valószínűségek egyenként történő felsorolása egy nem kifejezetten átlátható felírást eredményez. Egy ennél átláthatóbb módszert kínál az úgynevezett feltételes valószínűségi tábla, amely a kockadobásra felírt valószínűségek esetén az alábbi:\n",
        "\n",
        "| $Weighted$ | $P(Weighted)$ | \\| | $Dice$ | $Weighted$ | $P(Dice|Weighted)$ | \\| | $Caught$ | $Weighted$ | $P(Caught|Weighted)$ |\n",
        "|:----------:|:-------------:|:--:|:------:|:----------:|:------------------:|:--:|:--------:|:----------:|:--------------------:|\n",
        "| $true$ | $0.1$ | \\| | $1$ | $false$ | $1/6$ | \\| | $false$ | $false$ | $1$ |\n",
        "| $false$ | $0.9$ | \\| | $2$ | $false$ | $1/6$ | \\| | $true$ | $false$ | $0$ |\n",
        "|  |  | \\| | $3$ | $false$ | $1/6$ | \\| | $false$ | $true$ | $0.7$ |\n",
        "|  |  | \\| | $4$ | $false$ | $1/6$ | \\| | $true$ | $true$ | $0.3$ |\n",
        "|  |  | \\| | $5$ | $false$ | $1/6$ | \\| |  |  |  |\n",
        "|  |  | \\| | $6$ | $false$ | $1/6$ | \\| |  |  |  |\n",
        "|  |  | \\| | $1$ | $true$ | $2/15$ | \\| |  |  |  |\n",
        "|  |  | \\| | $2$ | $true$ | $2/15$ | \\| |  |  |  |\n",
        "|  |  | \\| | $3$ | $true$ | $2/15$ | \\| |  |  |  |\n",
        "|  |  | \\| | $4$ | $true$ | $2/15$ | \\| |  |  |  |\n",
        "|  |  | \\| | $5$ | $true$ | $2/15$ | \\| |  |  |  |\n",
        "|  |  | \\| | $6$ | $true$ | $1/3$ | \\| |  |  |  |\n",
        "\n",
        "Végül fontos kiemelni, hogy a felsorolásos egzakt következtetés komplexitása többszörösen összekötött hálók (olyan hálók, amelyeknek van két, egynél több irányított úttal összekötött csomópontja) esetén a csomópontok számára exponenciális, így nagyobb hálók esetén nem praktikus a használata. Ennek kiküszöbölésére léteznek egyéb, egzakt következtetést megvalósító, de hatékonyabb algoritmusok, illetve közelítő (tehát nem egzakt) következtetést megvalósító algoritmusok is.-->\n",
        "\n",
        "Továbbá léteznek egzakt következtetést megvalósító, de hatékonyabb algoritmusok, illetve közelítő (tehát nem egzakt) következtetést megvalósító algoritmusok is.\n",
        "Ezek részletes leírása megtalálható: Stuart Russell és Peter Norvig Mesterséges Intelligencia - Modern megközelítésben című könyvének [14.4.](https://mialmanach.mit.bme.hu/aima/ch14s04) és [14.5.](https://mialmanach.mit.bme.hu/aima/ch14s05) fejezetében."
      ],
      "metadata": {
        "id": "8qyWQ6x8Q2H8"
      }
    },
    {
      "cell_type": "markdown",
      "metadata": {
        "id": "NO6O3VzgoSy2"
      },
      "source": [
        "---\n",
        "\n",
        "# **2. Előkészítés**\n",
        "\n",
        "## 2.1 A keretrendszer\n",
        "\n",
        "A labor során feltételezzük a Python nyelv, és a Google Colab környezet alapszintű ismeretét. Ezeken felül lényegében két eszközt fogunk használni: a pgmpy python könyvtárat a valószínűségi hálók implementációjához, illetve az ez által használt pygraphviz könyvtárat a megalkotott hálók vizualizációjához.\n",
        "\n",
        "Ezek telepítéséhez futtassa le az alábbi kódblokkot (a telepítés több percet is igénybe vehet):"
      ]
    },
    {
      "cell_type": "code",
      "metadata": {
        "id": "qUIRK-HzMd6f"
      },
      "source": [
        "%%capture\n",
        "!pip install pgmpy==0.1.24\n",
        "!apt-get install -y graphviz-dev\n",
        "!pip install pygraphviz"
      ],
      "execution_count": null,
      "outputs": []
    },
    {
      "cell_type": "markdown",
      "metadata": {
        "id": "rRP4MRm42njN"
      },
      "source": [
        "Várja meg, amíg a telepítés befejeződik, majd importálja a kezdetben szükséges könyvtárakat az alábbi kódblokk lefuttatásával:"
      ]
    },
    {
      "cell_type": "code",
      "metadata": {
        "id": "05eIkkv6NxB7"
      },
      "source": [
        "%matplotlib inline\n",
        "\n",
        "import matplotlib as mpl\n",
        "# Just so the generated figures won't look too ugly\n",
        "mpl.rcParams['figure.figsize'] = [3, 2]\n",
        "mpl.rcParams['figure.dpi'] = 200\n",
        "\n",
        "from matplotlib import pyplot as plt\n",
        "\n",
        "import pgmpy as pg; print('pg: ' + pg.__version__)\n",
        "import numpy as np; print('np: ' + np.__version__)"
      ],
      "execution_count": null,
      "outputs": []
    },
    {
      "cell_type": "markdown",
      "metadata": {
        "id": "vp_JzjbA-iQg"
      },
      "source": [
        "Amennyiben a telepítés során, vagy a későbbiekben hibát észlel, vagy bármilyen egyéb kérdése van, forduljon bátran a mérésvezetőkhöz."
      ]
    },
    {
      "cell_type": "markdown",
      "metadata": {
        "id": "D4UNXsK7-LAj"
      },
      "source": [
        "## 2.2 A modell bemutatása\n",
        "\n",
        "A modern autóiparban egyre gyakrabban alkalmaznak vezetői fáradtságot detektáló rendszereket. A labor során egy ilyen rendszer implementálása által fogjuk megismerni a Bayes-hálón alapuló valószínűségi következtető rendszerek működését. A változók tekintetében az egyszerűség kedvéért feltételezzük, hogy a rendszer már előzetesen feldolgozott, magas szintű információt kap, így a bemenetek mindegyike diszkrét, többségük bináris.\n",
        "\n",
        "A modellben bevezetendő valószínűségi változók az alábbiak:\n",
        "\n",
        "*   Az út hossza (**LengthOfDrive**): Bináris változó, értéke *long*, hogyha a vezető által egyhuzamban megtett út hossza egy adott határértéknél magasabb. Ellenkező esetben *short*.\n",
        "*   Forgalmi dugó (**TrafficJam**): Értéke *jammed*, hogyha az út során a sofőr jelentős dugóba kerül. Ellenkező esetben *clear*.\n",
        "*   Szívverés (**HeartRate**): Értéke *low*, hogyha a sofőr pulzusa az alvás során jellemző tartományban van. Ellenkező esetben *normal*.\n",
        " *  A pulzus mérhető például egy, a kormánykeréken elhelyezett szenzor segítségével.\n",
        "*   Sávtartás (**LaneStability**): Attól függően, hogy a sofőr tartja a sávot, enyhén instabilan vezet, vagy éppen elhagyja a sávot, az értéke lehet *straight*, *slalom* vagy *leaving*.\n",
        "*   Szemek (**Eyes**): Értéke lehet *open*, *blink* vagy *closed* attól függően, hogy a sofőr szeme folyamatosan nyitva van, gyakran pislog, vagy teljesen csukva van.\n",
        " *  A szemek viselkedése egy, a sofőrrel szemben elhelyezett kamera képéből kinyerhető valamilyen képfeldolgozó modell segítségével.\n",
        "*   Fáradtság (**Fatigue**): Értéke *fatigued*, hogyha a vezető fáradtsága annyira magas, hogy nagy valószínűséggel elalszik a volánnál. Ellenkező esetben kipihent, vagyis *rested*.\n",
        "\n",
        "A továbbakban a kompaktság érdekében képletek esetén az alábbi jelölést alkalmazzuk a változókra:\n",
        "\n",
        "| Változó neve | Jelölés |\n",
        "| :---: | :---: |\n",
        "| **LengthOfDrive** | $LOD$ |\n",
        "| **TrafficJam** | $TJ$ |\n",
        "| **HeartRate** | $HR$ |\n",
        "| **LaneStability** | $LS$ |\n",
        "| **Eyes** | $E$ |\n",
        "| **Fatigue** | $F$ |\n",
        "\n",
        "Könnyen belátható, hogy az első két változó (**LengthOfDrive**, **TrafficJam**) a fáradtságnak (**Fatigue**) okai, az utánuk következő három pedig (**HeartRate**,**LaneStability**, **Eyes**) következményei. Ebből adódóan a változók együttes valószínűsége felírható az alábbi módon:\n",
        "\n",
        "$$P(LOD,TJ,HR,LS,E,F)=P(LOD)P(TJ)P(F|LOD,TJ)P(HR|F)P(LS|F)P(E|F)$$\n",
        "\n",
        "A változók valószínűségi eloszlását pedig az alábbi **feltételes valószínűségi táblázat** adja meg:\n",
        "\n",
        "|  $LOD$  \t| $P(LOD)$ \t| \\| \t|   $TJ$  \t| $P(TJ)$ \t| \\| \t|  $LOD$  \t|   $TJ$  \t|   $F$   \t| $P(F|LOD,TJ)$ \t| \\| \t|   $F$   \t|  $HR$  \t| $P(HR|F)$ \t| \\| \t|   $F$   \t|    $LS$    \t| $P(LS|F)$ \t| \\| \t|   $F$   \t|    $E$   \t| $P(E|F)$ \t|\n",
        "|:-------:\t|:--------:\t|:--:\t|:-------:\t|:-------:\t|:--:\t|:-------:\t|:-------:\t|:-------:\t|:-------------:\t|:--:\t|:-------:\t|:-------:\t|:----------:\t|:--:\t|:-------:\t|:----------:\t|:---------:\t|:--:\t|:-------:\t|:--------:\t|:--------:\t|\n",
        "| $long$  \t|   $0.1$  \t| \\| \t| $jammed$  \t| $0.3$   \t| \\| \t| $long$  \t| $jammed$  \t| $fatigued$  \t| $0.65$        \t| \\| \t| $fatigued$  \t| $low$  \t| $0.8$      \t| \\| \t| $fatigued$  \t| $straight$ \t| $0.89$    \t| \\| \t| $fatigued$  \t| $open$   \t| $0.1$    \t|\n",
        "| $short$ \t|   $0.9$  \t| \\| \t| $clear$ \t| $0.7$   \t| \\| \t| $long$  \t| $jammed$  \t| $rested$ \t| $0.35$        \t| \\| \t| $fatigued$  \t| $normal$ \t| $0.2$      \t| \\| \t| $fatigued$  \t| $slalom$   \t| $0.1$     \t| \\| \t| $fatigued$  \t| $blink$  \t| $0.85$   \t|\n",
        "|         \t|          \t| \\| \t|         \t|         \t| \\| \t| $long$  \t| $clear$ \t| $fatigued$  \t| $0.45$        \t| \\| \t| $rested$ \t| $low$  \t| $0.3$      \t| \\| \t| $fatigued$  \t| $leaving$  \t| $0.01$    \t| \\| \t| $fatigued$  \t| $closed$ \t| $0.05$   \t|\n",
        "|         \t|          \t| \\| \t|         \t|         \t| \\| \t| $long$  \t| $clear$ \t| $rested$ \t| $0.55$        \t| \\| \t| $rested$ \t| $normal$ \t| $0.7$      \t| \\| \t| $rested$ \t| $straight$ \t| $0.99$    \t| \\| \t| $rested$ \t| $open$   \t| $0.94$   \t|\n",
        "|         \t|          \t| \\| \t|         \t|         \t| \\| \t| $short$ \t| $jammed$  \t| $fatigued$  \t| $0.55$        \t| \\| \t|         \t|         \t|            \t| \\| \t| $rested$ \t| $slalom$   \t| $0.01$    \t| \\| \t| $rested$ \t| $blink$  \t| $0.05$   \t|\n",
        "|         \t|          \t| \\| \t|         \t|         \t| \\| \t| $short$ \t| $jammed$  \t| $rested$ \t| $0.45$        \t| \\| \t|         \t|         \t|            \t| \\| \t| $rested$ \t| $leaving$  \t| $0$       \t| \\| \t| $rested$ \t| $closed$ \t| $0.01$   \t|\n",
        "|         \t|          \t| \\| \t|         \t|         \t| \\| \t| $short$ \t| $clear$ \t| $fatigued$  \t| $0.35$        \t| \\| \t|         \t|         \t|            \t| \\| \t|         \t|            \t|           \t| \\| \t|         \t|          \t|          \t|\n",
        "|         \t|          \t| \\| \t|         \t|         \t| \\| \t| $short$ \t| $clear$ \t| $rested$ \t| $0.65$        \t| \\| \t|         \t|         \t|            \t| \\| \t|         \t|            \t|           \t| \\| \t|         \t|          \t|          \t|"
      ]
    },
    {
      "cell_type": "markdown",
      "metadata": {
        "id": "2sh-ccsla1Hl"
      },
      "source": [
        "## 2.3 A modell implementációja\n",
        "\n",
        "Kezdetben hozzunk létre egy Bayes-hálót a **LengthOfDrive**, **TrafficJam**, **Fatigue** és **HeartRate** változókból. Ehhez először inicializálja a változók eloszlásait (feltételes valószínűségi táblák, azaz `TabularCPD`-k formájában) az alábbi kódblokk lefuttatásával:"
      ]
    },
    {
      "cell_type": "code",
      "metadata": {
        "id": "3Y_g_YvHbF6N"
      },
      "source": [
        "from pgmpy.factors.discrete import TabularCPD\n",
        "\n",
        "lengthOfDrive = TabularCPD(\"LengthOfDrive\", 2, [[0.1], [0.9]],\n",
        "                           state_names={\"LengthOfDrive\": [\"long\", \"short\"]})\n",
        "\n",
        "trafficJam = TabularCPD(\"TrafficJam\", 2, [[0.3], [0.7]],\n",
        "                        state_names={\"TrafficJam\": [\"jammed\", \"clear\"]})\n",
        "\n",
        "fatigue = TabularCPD(\"Fatigue\", 2, [[0.65, 0.45, 0.55, 0.35],\n",
        "                                    [0.35, 0.55, 0.45, 0.65]],\n",
        "                     evidence=[\"LengthOfDrive\", \"TrafficJam\"],\n",
        "                     evidence_card=[2, 2],\n",
        "                     state_names={\n",
        "                         \"Fatigue\": [\"fatigued\", \"rested\"],\n",
        "                         \"LengthOfDrive\": [\"long\", \"short\"],\n",
        "                         \"TrafficJam\": [\"jammed\", \"clear\"]\n",
        "                     })\n",
        "\n",
        "heartRate = TabularCPD(\"HeartRate\", 2, [[0.8, 0.3],\n",
        "                                        [0.2, 0.7]],\n",
        "                       evidence=[\"Fatigue\"],\n",
        "                       evidence_card=[2],\n",
        "                       state_names={\n",
        "                           \"HeartRate\": [\"low\", \"normal\"],\n",
        "                           \"Fatigue\": [\"fatigued\", \"rested\"]\n",
        "                       })"
      ],
      "execution_count": null,
      "outputs": []
    },
    {
      "cell_type": "markdown",
      "metadata": {
        "id": "cm3Hxy3VDk-n"
      },
      "source": [
        "Mint látható, a pgmpy könyvtárban az önálló eloszlások (a kódban `TabularCPD`) meghatározása során a feltételes valószínűségeket mátrixos formában kell megadni, ahol a mátrix oszlopai a szülőváltozó(k) érték-kombinációinak, sorai pedig az adott változó a bemeneti értékkombináció függvényében vett eloszlását (értékeinek valószínűségeit) adják. Evidens, hogy utóbbi ok miatt minden oszlop összege pontosan $1$ kell, hogy legyen. Ezen kívül a változó meghatározásához meg kell adni annak nevét, kardinalitását és lehetséges értékeit, illetve minden szülője esetében meg kell adni ugyanezt. További információ és példák a pgmpy [dokumentációjában](https://pgmpy.org/factors/discrete.html#module-pgmpy.factors.discrete.CPD) láthatók."
      ]
    },
    {
      "cell_type": "markdown",
      "metadata": {
        "id": "8-3Ji1EKJK6E"
      },
      "source": [
        "A változók és azok eloszlásainak definiálását követően példányosítsunk egy hálót, majd adjuk hozzá a változók eloszlásait tartalmazó CPD-ket:"
      ]
    },
    {
      "cell_type": "code",
      "metadata": {
        "id": "VimB7wyuJ6b_"
      },
      "source": [
        "from pgmpy.models import BayesianNetwork\n",
        "\n",
        "# Initialize a new Bayesian network\n",
        "partialModel = BayesianNetwork([(\"LengthOfDrive\", \"Fatigue\"),\n",
        "                                (\"TrafficJam\", \"Fatigue\"),\n",
        "                                (\"Fatigue\", \"HeartRate\")])\n",
        "\n",
        "# Add the previously defined conditional probability tables to the model\n",
        "partialModel.add_cpds(lengthOfDrive, trafficJam, fatigue, heartRate)"
      ],
      "execution_count": null,
      "outputs": []
    },
    {
      "cell_type": "markdown",
      "metadata": {
        "id": "XIM-gy3YMDJT"
      },
      "source": [
        "Az így elkészült modell struktúráját gráf formájában kirajzolhatjuk az alább definiált, `pygraphviz` könyvtárra épülő `plot_model` függvény segítségével:"
      ]
    },
    {
      "cell_type": "code",
      "source": [
        "from pgmpy.base import DAG\n",
        "import tempfile\n",
        "\n",
        "def plot_model(model: DAG):\n",
        "  model_gvz = model.to_graphviz()\n",
        "  with tempfile.NamedTemporaryFile() as tf:\n",
        "    model_gvz.draw(tf.name, format='png', prog='dot')\n",
        "    img = mpl.image.imread(tf.name)\n",
        "    plt.imshow(img)\n",
        "    plt.axis('off')\n",
        "    plt.show()"
      ],
      "metadata": {
        "id": "FF9x5ZAdWAz_"
      },
      "execution_count": null,
      "outputs": []
    },
    {
      "cell_type": "code",
      "source": [
        "plot_model(partialModel)"
      ],
      "metadata": {
        "id": "yMT2valfOHSJ"
      },
      "execution_count": null,
      "outputs": []
    },
    {
      "cell_type": "markdown",
      "source": [
        "# **3. Gyakorló feladatok**"
      ],
      "metadata": {
        "id": "fwdMxcnyiZQC"
      }
    },
    {
      "cell_type": "markdown",
      "metadata": {
        "id": "lDN4kq3FOYCK"
      },
      "source": [
        "## 1. Feladat: a modell kiegészítése\n",
        "Egészítse ki az alábbi kódot úgy, hogy a modell tartalmazza a **LaneStability** és **Eyes** valószínűségi változókat is, a modell bemutatásában szereplő elnevezési konvenciónak, és feltételes valószínűségeknek megfelelően, majd futtassa le az elkészült kódblokkot:\n",
        "\n",
        "> Itt fontos megfigyelni, hogy a létrehozandó változóknak $3$ lehetséges értéke van (Tehát 'straight', 'slalom' és 'leaving' értékek a **LaneStability** változónál, illetve 'open', 'blink', 'closed' értékek az **Eyes** esetén), emiatt a feltételes valószínűségeket leíró mátrixok **három sort tartalmaznak** az eddigi változóknál látott kettő sor helyett.\n",
        "\n",
        "**Fontos:** A két változó eloszlásának az arra kijelölt helyen történő meghatározásán felül **egyéb változtatást ne hajtson végre a már meglévő kódon!**\n",
        "\n"
      ]
    },
    {
      "cell_type": "code",
      "metadata": {
        "id": "iwmZod8dPsLz"
      },
      "source": [
        "# TASK: Define the ConditionalProbabilityTables 'laneStability' and 'eyes' here\n",
        "# laneStability = ...\n",
        "# eyes = ...\n",
        "\n",
        "# SOLUTION:\n",
        "################################################################################\n",
        "# laneStability = ...\n",
        "# eyes = ...\n",
        "################################################################################\n",
        "\n",
        "model = BayesianNetwork([(\"LengthOfDrive\", \"Fatigue\"),\n",
        "                         (\"TrafficJam\", \"Fatigue\"),\n",
        "                         (\"Fatigue\", \"HeartRate\"),\n",
        "                         (\"Fatigue\", \"LaneStability\"),\n",
        "                         (\"Fatigue\", \"Eyes\")])\n",
        "\n",
        "model.add_cpds(lengthOfDrive, trafficJam, fatigue, heartRate, laneStability, eyes)"
      ],
      "execution_count": null,
      "outputs": []
    },
    {
      "cell_type": "markdown",
      "metadata": {
        "id": "1t6093rhQhE5"
      },
      "source": [
        "Az elkészült megoldást az előzőhöz hasonlóan egy *plot()* hívással tekinthetjük meg:"
      ]
    },
    {
      "cell_type": "code",
      "source": [
        "plot_model(model)"
      ],
      "metadata": {
        "id": "9w_Zcnu0V2p4"
      },
      "execution_count": null,
      "outputs": []
    },
    {
      "cell_type": "markdown",
      "metadata": {
        "id": "Bt7ERvoX6jVM"
      },
      "source": [
        "Hogyha a megoldás helyes, akkor a **LaneStability** és **Eyes** nevű csomópontok a **Fatigue** csomópont gyerekeiként szerepelnek."
      ]
    },
    {
      "cell_type": "markdown",
      "metadata": {
        "id": "-qkD2fO5VNLV"
      },
      "source": [
        "## 2. Feladat: következtetés a modellben\n",
        "\n",
        "A valószínűségi hálókban végrehajtott következtetés során az ismeretlen változók lehetséges értékeinek valószínűségére vagyunk kíváncsiak, a már megfigyelt (és így ismert) változók értékeinek függvényében.\n",
        "\n",
        "A pgmpy keretrendszerben valamely következtető (esetünkben `VariableElimination`) [`query`](https://pgmpy.org/exact_infer/ve.html#pgmpy.inference.ExactInference.VariableElimination.query) függvényének segítségével hajthatunk végre következtetést, amelynél a már ismert változók értékét egy, azok nevével indexelt dictionary-ként adhatjuk meg, visszatérési értékként pedig a lekérdezett változók eloszlását kapjuk meg a megadott evidenciák függvényében.\n",
        "\n",
        "Kezdetben feltételezzük, hogy a változók egyike sem ismert. Ekkor a változók lehetséges értékeinek aktuális valószínűségét egy üres dictionary-vel végzett `query` hívással kérdezhetjük le, majd írassuk is ki az eredményt egy egyszerű `print`-hívás segítségével:"
      ]
    },
    {
      "cell_type": "code",
      "source": [
        "from pgmpy.inference import VariableElimination\n",
        "inference = VariableElimination(model)\n",
        "\n",
        "evidence_set = {}\n",
        "\n",
        "query_result = inference.query(variables=[\"Fatigue\"],\n",
        "                               evidence=evidence_set)\n",
        "print(query_result)"
      ],
      "metadata": {
        "id": "0XBFzdB4PT4n"
      },
      "execution_count": null,
      "outputs": []
    },
    {
      "cell_type": "markdown",
      "metadata": {
        "id": "C_ZNM3oiRkbL"
      },
      "source": [
        "Az eredményből láthatjuk, hogy amennyiben nincs semmilyen előzetes tudásunk, akkor a fáradtság valószínűsége $0.42$.\n",
        "\n",
        "Tegyük fel, hogy a GPS szerint hosszú ideje úton van a sofőr, viszont a tervezett útvonalon nincs forgalmi dugó. Ekkor a hiányzó változók valószínűségét az alábbi módon kaphatjuk meg:"
      ]
    },
    {
      "cell_type": "code",
      "source": [
        "evidence_set = {\"LengthOfDrive\": \"long\",\n",
        "                \"TrafficJam\":    \"clear\"}\n",
        "\n",
        "query_result = inference.query(variables=[\"Fatigue\"],\n",
        "                               evidence=evidence_set)\n",
        "print(query_result)"
      ],
      "metadata": {
        "id": "ToTxGRNJRFqq"
      },
      "execution_count": null,
      "outputs": []
    },
    {
      "cell_type": "markdown",
      "metadata": {
        "id": "fewyham2Kg9t"
      },
      "source": [
        "Ezen eredményből megfigyelhetjük, hogy a fáradtság valószínűsége beállt a feltételes valószínűségi táblában a **LengthOfDrive**='long' és **TrafficJam**='clear' evidenciákhoz meghatározott, $0.45$-ös értékre. Ez azonban nem jelenti azt, hogy a modell jelenleg ismeretlen változóinak evidenciaként történő bevezetése ne változtathatna a valószínűségén, Bayes-hálókban ugyanis egy változó a szüleinek ismeretében csak a nem-leszármazottaitól válik függetlenné, a maradék három csomópont pedig mind a **Fatigue** változónak leszármazottja.\n",
        "\n",
        "Feltételezzük, hogy a kormányban elhelyezett szenzor azt jelzi, hogy a sofőr pulzusa normális, nincs közel az alvás során mérhető értékhez. Ekkor a valószínűségek az alábbi módon alakulnak:"
      ]
    },
    {
      "cell_type": "code",
      "source": [
        "evidence_set = {\"LengthOfDrive\": \"long\",\n",
        "                \"TrafficJam\":    \"clear\",\n",
        "                \"HeartRate\":     \"normal\"}\n",
        "\n",
        "query_result = inference.query(variables=[\"Fatigue\"],\n",
        "                               evidence=evidence_set)\n",
        "print(query_result)"
      ],
      "metadata": {
        "id": "2tf9TWh8RwW3"
      },
      "execution_count": null,
      "outputs": []
    },
    {
      "cell_type": "markdown",
      "metadata": {
        "id": "MHAYi9DxTWYB"
      },
      "source": [
        "Már a feltételes valószínűségi táblában meghatározott értékekből is látható, hogy a **HeartRate** viszonylag erősen korrelál a **Fatigue** változóval. Ebből adódóan nem meglepő, hogy a fáradtság valószínűségét ezen változó 'normal'-ra állítása $0.35$-ről ~$0.19$-re csökkentette, ugyanis az erős evidenciának számít ezen változó 'rested' értéke mellett.\n",
        "\n",
        "Tegyük fel, hogy a vezető arcát néző kamera szerint a sofőr gyakran csukja be a szemét rövidebb időre.\n",
        "Módosítsa, majd futtassa le az alábbi kódblokkot úgy, hogy a meglévő három evidencia mellett a következtetés tartalmazza az **Eyes**='blink' evidenciát is:"
      ]
    },
    {
      "cell_type": "code",
      "source": [
        "# TODO: Do the inference with the following values:\n",
        "#       - LengthOfDrive = long\n",
        "#       - TrafficJam = clear\n",
        "#       - HeartRate = normal\n",
        "#       - Eyes = blink\n",
        "\n",
        "# evidence_set = ...\n",
        "\n",
        "# SOLUTION:\n",
        "################################################################################\n",
        "# evidence_set = ...\n",
        "################################################################################\n",
        "\n",
        "query_result = inference.query(variables=[\"Fatigue\"],\n",
        "                               evidence=evidence_set)\n",
        "print(query_result)"
      ],
      "metadata": {
        "id": "h3dbRwMoSIMF"
      },
      "execution_count": null,
      "outputs": []
    },
    {
      "cell_type": "markdown",
      "metadata": {
        "id": "WC-8ZSC7yjCS"
      },
      "source": [
        "Amennyiben a következtetést megfelelően hajtotta végre, úgy a **Fatigue** változó valószínűségeként ~$0.8$-at kellett kapjon. Ha figyelembe vesszük, hogy a feltételes valószínűségi tábla szerint fáradtság esetén a gyakori pislogás esélye $0.85$, míg fáradtság hiányában csupán ~$0.05$, akkor láthatjuk, hogy az **Eyes** változó még erősebb korrelációt mutat a fáradtsággal, mint a **HeartRate** változó. Ebből adódóan érthető, hogy a fáradtság valószínűségét ezen változó evidenciaként történő bevezetése ~$0.19$-ről ~$0.8$-ra növelte.\n",
        "\n",
        "Végül pedig tegyük fel, hogy az autó külső kamerája szerint a sofőr elkezdte elhagyni a sávot. Vezesse be az alábbi kódblokkban az eddigi evidenciák mellé a **LaneStability**='leaving' értéket, majd futtassa le a blokkot:"
      ]
    },
    {
      "cell_type": "code",
      "source": [
        "# TODO: Do the inference with the following values:\n",
        "#       - LengthOfDrive = long\n",
        "#       - TrafficJam = clear\n",
        "#       - HeartRate = normal\n",
        "#       - Eyes = blink\n",
        "#       - LaneStability = leaving\n",
        "\n",
        "# evidence_set = ...\n",
        "\n",
        "# SOLUTION:\n",
        "################################################################################\n",
        "# evidence_set = ...\n",
        "################################################################################\n",
        "\n",
        "query_result = inference.query(variables=[\"Fatigue\"],\n",
        "                               evidence=evidence_set)\n",
        "print(query_result)"
      ],
      "metadata": {
        "id": "HsYiqy4qS6pq"
      },
      "execution_count": null,
      "outputs": []
    },
    {
      "cell_type": "markdown",
      "metadata": {
        "id": "ul8vPAOP0t3h"
      },
      "source": [
        "Ha jól hajtotta végre a következtetést, akkor a fáradtság valószínűsége $1$. Ez a jelenség viszonylag ritka a valószínűségszámításban, és a valószínűségi következtetésben, és ha be is vezetünk $1$ valószínűségű változó-értéket, akkor azt általában evidenciaként szoktuk értelmezni. Ha azonban alaposabban megfigyeljük a feltételes valószínűségi táblázatot, akkor láthatjuk, hogy a **LaneStability**='leaving' érték valószínűsége $0$ abban az esetben, hogyha a fáradtság értéke igaz, és nullánál nagyobb, hogyha nem. Ez röviden azt jelenti, hogy a **LaneStability**='leaving' érték mellett kizárt, hogy a fáradtság értéke hamis legyen, így tehát mindenképp teljesül, hogy **Fatigue**='fatigued'. Lényegében ugyanezt az állítást tükrözi a következtetés során kapott $P(Fatigue=fatigued|LaneStability=leaving)=1$ valószínűség is."
      ]
    },
    {
      "cell_type": "markdown",
      "metadata": {
        "id": "uRtO5g3furHY"
      },
      "source": [
        "## 3. Feladat: döntési hálók\n",
        "A valószínűségi hálókat leggyakrabban döntéshozó, vagy döntéstámogató rendszerekben szokás használni, ahol egy (vagy több) célváltozó ismert evidenciák melletti valószínűsége alapján szeretnénk meghatározni a lehetséges döntések közül a lehető legjobbat. Ennek végráhajtásához a Bayes-hálót ki kell bővítenünk úgy, hogy meghatározzuk a lehetséges döntéseket, majd hasznosság (vagy veszteség) értékeket rendelünk a célváltozó értékei és a lehetséges döntések összes kombinációjához. Az így kibővített valószínűségi hálót **döntési hálónak** nevezzük.\n",
        "\n",
        "Döntési hálókban egy adott döntés várható hasznossága (vagy vesztesége) alatt a célváltozó értékeire az adott döntés-érték párhoz meghatározott hasznosság (vagy veszteség) értékét értjük a változó-érték aktuális valószínűségével megszorozva, a szorzatot a célváltozó értékei fölött összegezve. Egy adott pillanatban mindig a legnagyobb várható hasznosságú (vagy legkisebb várható veszteségű) döntést érdemes meghozni.\n",
        "\n",
        "Tegyük fel, hogy kétféle módon tudjuk figyelmeztetni a sofőrt: egy, a kezelőfelületen megjelenő értesítéssel, vagy egy nagy hangerejű figyelmeztető hangjelzéssel. Így tehát minden időpillanatban három lehetséges döntésből kell választanunk: ne csináljunk semmit (*Idle*), jelenítsünk meg egy értesítést a kezelőfelületen (*Notify*), vagy szólaltassunk meg egy hangos figyelmeztetést (*Warning*). Egyértelmű, hogy a legrosszabb eshetőség, hogyha a sofőr elalszik a volánnál, és semmilyen módon nem figyelmeztetjük. Emellett viszont az sem jó, hogyha túlzottan gyakran küldünk figyelmeztetést, ebben az esetben ugyanis a rendszer működése zavaró lehet a sofőr számára, és fennáll az esélye, hogy kikapcsolja azt, ezen felül pedig az is előfordulhat, hogy egy nagy hangerejű hangjelzés megzavarja a sofőrt a vezetésben. Ebből kiindulva vezessük be az alábbi hasznosság értékeket a célváltozó értékeinek, és a döntéseknek lehetséges kombinációira:\n",
        "\n",
        "| $Fatigue$ | $Alarm$ | $U(Alarm|Fatigue)$ |\n",
        "|:---------:|:---------:|:------------------:|\n",
        "| $fatigued$ | $Idle$ | $-300$ |\n",
        "| $fatigued$ | $Notify$ | $10$ |\n",
        "| $fatigued$ | $Warning$ | $100$ |\n",
        "| $rested$ | $Idle$ | $10$ |\n",
        "| $rested$ | $Notify$ | $-50$ |\n",
        "| $rested$ | $Warning$ | $-100$ |\n",
        "\n",
        "A pgmpy keretrendszer jelen állapotában nem támogatja a döntési hálók létrehozását, így definiálnunk kell egy függvényt, amely meghatározza a lehetséges döntések aktuális hasznosságértékeit a valószínűségi hálón végzett következtetés eredménye alapján. Ezt az alábbi kódblokk lefuttatásával tehetjük meg:"
      ]
    },
    {
      "cell_type": "code",
      "source": [
        "from pgmpy.factors.discrete import DiscreteFactor\n",
        "\n",
        "utilities = {\n",
        "    (\"fatigued\", \"Idle\"):    -300,\n",
        "    (\"fatigued\", \"Notify\"):   10,\n",
        "    (\"fatigued\", \"Warning\"):  100,\n",
        "    (\"rested\",   \"Idle\"):     10,\n",
        "    (\"rested\",   \"Notify\"):  -50,\n",
        "    (\"rested\",   \"Warning\"): -100\n",
        "}\n",
        "\n",
        "def print_utility_values(query_result: DiscreteFactor):\n",
        "  \"\"\"\n",
        "    This function computes and prints the utilities of the possible actions,\n",
        "    based on the probability of the Fatigue variable.\n",
        "  \"\"\"\n",
        "  expected_utilities = dict()\n",
        "  for key in utilities.keys():\n",
        "    # Take the probability for the corresponding value of the 'Fatigue' variable\n",
        "    prob = query_result.get_value(Fatigue=key[0])\n",
        "    try:\n",
        "      # If we've seen this decision before, correct the expected utility.\n",
        "      expected_utilities[key[1]] += prob * utilities[key]\n",
        "    except KeyError:\n",
        "      # Otherwise create a new value for this decision.\n",
        "      expected_utilities[key[1]] = prob * utilities[key]\n",
        "\n",
        "  # Get the best decision based on the expected utility values, then print it.\n",
        "  best_decision = list(expected_utilities.keys())[0]\n",
        "  for key in expected_utilities.keys():\n",
        "    print(f\"{(key + ':').ljust(8)} {expected_utilities[key]:.2f}\")\n",
        "    if expected_utilities[best_decision] < expected_utilities[key]:\n",
        "      best_decision = key\n",
        "  print(\"The current optimal decision is: \" + best_decision)"
      ],
      "metadata": {
        "id": "m4bZZw763VLv"
      },
      "execution_count": null,
      "outputs": []
    },
    {
      "cell_type": "markdown",
      "metadata": {
        "id": "GC9GTSaPIDG5"
      },
      "source": [
        "Tegyük fel, hogy nincs forgalmi dugó, nincs hosszú ideje úton a sofőr, és a pulzusa is normális (tehát minden rendben van). Ebben a szituációban a lehetséges döntések hasznosságát és a pillanatnyi optimális döntést az alábbi módon írathatjuk ki:"
      ]
    },
    {
      "cell_type": "code",
      "source": [
        "evidence_set = {\"TrafficJam\":    \"clear\",\n",
        "                \"LengthOfDrive\": \"short\",\n",
        "                \"HeartRate\":     \"normal\"}\n",
        "\n",
        "query_result = inference.query(variables=[\"Fatigue\"],\n",
        "                               evidence=evidence_set)\n",
        "print_utility_values(query_result)"
      ],
      "metadata": {
        "id": "bhVf6J6b-nvD"
      },
      "execution_count": null,
      "outputs": []
    },
    {
      "cell_type": "markdown",
      "metadata": {
        "id": "clfVfUvWJGZR"
      },
      "source": [
        "Látható, hogy egy ehhez hasonló, normálisnak mondható szituációban a modell szerint nem érdemes semmilyen figyelmeztetést eszközölni, ugyanis a sofőr nagy valószínűséggel nem álmos.\n",
        "\n",
        "Az alábbi két kódblokkban definiáljon egy-egy olyan (legalább 4 darab evidenciából álló) bemenetet, amelyre a modell a '*Notify*' illetve a '*Warning*' cselekvést javasolja, majd futtassa le a kódblokkokat:"
      ]
    },
    {
      "cell_type": "code",
      "source": [
        "# TODO: Define an input here, to which the model suggests the 'Notify' action:\n",
        "\n",
        "# evidence_set = ...\n",
        "\n",
        "# SOLUTION: (example)\n",
        "################################################################################\n",
        "# evidence_set = ...\n",
        "################################################################################\n",
        "\n",
        "query_result = inference.query(variables=[\"Fatigue\"],\n",
        "                               evidence=evidence_set)\n",
        "print_utility_values(query_result)"
      ],
      "metadata": {
        "id": "WCOQxqUQ_bX6"
      },
      "execution_count": null,
      "outputs": []
    },
    {
      "cell_type": "code",
      "source": [
        "# TODO: Define an input here, to which the model suggests the 'Warning' action:\n",
        "\n",
        "# evidence_set = ...\n",
        "\n",
        "# SOLUTION: (example)\n",
        "################################################################################\n",
        "# evidence_set = ...\n",
        "################################################################################\n",
        "\n",
        "query_result = inference.query(variables=[\"Fatigue\"],\n",
        "                               evidence=evidence_set)\n",
        "print_utility_values(query_result)"
      ],
      "metadata": {
        "id": "Of094CbC_s58"
      },
      "execution_count": null,
      "outputs": []
    },
    {
      "cell_type": "markdown",
      "source": [
        "# **4. Alkalmazás egészségügyi környezetben**"
      ],
      "metadata": {
        "id": "OEyWnwL4iDNk"
      }
    },
    {
      "cell_type": "markdown",
      "source": [
        "A következőkben egy valós problémát fogunk megoldani szakértői tudás és paramétertanulás felhasználásával, amely a tuberkolózis és a tüdőrák diagnosztizálásához kapcsolódik.\n",
        "\n",
        "Tegyük fel, hogy az alábbi öt, bináris (igen/nem) értékű változót tudjuk megfigyelni az orvoshoz forduló betegeknél:\n",
        "- Járt-e a közelmúltban Ázsiában? (*asia*)\n",
        "- Dohányzik? (*smoke*)\n",
        "- Tapasztal hurutos köhögést? (*bronc*)\n",
        "- Tapasztal légszomjat? (*dysp*)\n",
        "- Látszik-e bármilyen elváltozás a tüdőröntgenen? (*xray*)\n",
        "\n",
        "Emellett definiáljunk három, szintén bináris értékű változót, amelyek a diagnózist írják le:\n",
        "- Tuberkolózis (*tub*)\n",
        "- Tüdőrák (*lung*)\n",
        "- Legalább egyik igaz a fenti két diagnózis közül (*illness*)\n",
        "\n",
        "A változókról az alábbi tényeket ismerjük:\n",
        "- A tuberkolózis (*tub*) valószínűségére hatással van, hogy járt-e a beteg Ázsiában vagy sem (*asia*).\n",
        "- A dohányzás (*smoke*) hurutos köhögést (*bronc*) és tüdőrákot (*lung*) okozhat.\n",
        "- Az *illness* változó értéke a *tub* és *lung* változók közötti VAGY kapcsolattal adódik.\n",
        "- Mindkét betegség (*illness*) okozhat látható elváltozást a tüdőröntgenen (*xray*).\n",
        "- Mindkét betegség (*illness*) és a hurutos köhögés (*bronc*) is okozhat légszomjat (*dysp*).\n",
        "\n",
        "A fenti tények alapján pedig az alábbi oksági struktúrát határoztuk meg:\n",
        "\n",
        "<img src=\"https://share.mit.bme.hu/index.php/s/KqEPgGoX8nx6NcN/download/asia_bnet.png\" alt=\"asia_bnet\" width=\"250\"/>\n",
        "\n",
        ">Itt a teljesség kedvéért érdemes hozzátenni, hogy egy klinikai alkalmazásban használt valószínűségi háló jellemzően ennél sokkal több tényezőt figyelembe vesz, és akár több száz csomópontot is tartalmazhat, ebben a feladatban az implementáció megkönnyítése végett egy jelentősen leegyszerűsített modellt használunk.\n",
        "\n",
        "Nyilvánvaló, hogy a diagnózis nagy bizonyossággal történő meghatározása költséges és időigényes eljárások által valósítható meg, amelyek a beteg számára is számos kellemetlenséggel járnak (pl. szövetminta hörgőtükrözéssel), emiatt fontos a felsorolt diagnózisok valószínűségének minél pontosabb előzetes becslése a fenti, könnyen megfigyelhető változók értéke alapján.\n",
        "\n",
        "A célunk egy olyan valószínűségi háló megalkotása, amely a fenti oksági struktúrát felhasználva meg tudja becsülni annak a valószínűségét, hogy a beteg szenved-e a fenti két betegség valamelyikében (más szavakkal élve: az *illness* változó értékét szeretnénk becsülni).\n",
        "\n",
        "Ehhez rendelkezésünkre áll egy nagyméretű adathalmaz, amely a fenti változókat tartalmazza diagnosztizált betegeknél. Erre azért van szükségünk, mert pusztán a változók közötti oksági struktúrát ismerjük, azok együttes eloszlását nem.\n",
        "\n",
        "Ehhez mindenek előtt állítsuk vissza a környezetet, majd töltsük be a rendelkezésre álló adatot:"
      ],
      "metadata": {
        "id": "hvthKuwNqHVA"
      }
    },
    {
      "cell_type": "code",
      "source": [
        "%reset -f\n",
        "import pandas as pd\n",
        "import numpy as np\n",
        "\n",
        "pulmonary_dataset = pd.read_csv(\"https://share.mit.bme.hu/index.php/s/fQXekNakEHH3C7c/download/pulmonary_sample.csv\")\n",
        "pulmonary_dataset"
      ],
      "metadata": {
        "id": "qTaGG8v7gepF"
      },
      "execution_count": null,
      "outputs": []
    },
    {
      "cell_type": "markdown",
      "source": [
        "# **5. Feladatbeadás**"
      ],
      "metadata": {
        "id": "QQ0oeSwFoGL9"
      }
    },
    {
      "cell_type": "markdown",
      "source": [
        "A feladat megoldásához készítsen egy függvényt, ami definiálja a Bayes-háló oksági struktúráját a fenti ábra alapján, majd a kapott adatokból megbecsüli a háló paramétereit, és a kapott bemeneti evidenciákra (tesztadat) visszaadja az *illness* változó **yes** értékének valószínűségeit!\n",
        "\n",
        "**Ezt a `lung_predictor.py` fájl alább látható szkeletonjának módosításával valósítsa meg!**\n",
        "\n",
        "A szkeletonban található `predict` függvényt módosítsa úgy, hogy az hozzon létre egy, a fenti struktúrának megfelelő, *parametrizálatlan* Bayes-hálót, majd becsülje meg a benne található változók együttes eloszlását a kapott adat (`data_train`) segítségével, végül térjen vissza a szintén paraméterként kapott teszthalmazra (`data_test`) számolt *illness* változó *yes* értékének valószínűségeivel! A tesztadatból értelemszerűen hiányozni fognak a *tub*, *lung* és *illness* oszlopok.\n",
        "\n",
        "> Tippek:\n",
        "- A [`BayesianNetwork`](https://pgmpy.org/models/bayesiannetwork.html) osztály pusztán a csomópontok és élek megadásával is inicializálható, tehát a háló létrehozásához nem szükséges megadni a változók eloszlásait.\n",
        "- A háló paramétereit a [`fit`](https://pgmpy.org/models/bayesiannetwork.html#pgmpy.models.BayesianNetwork.BayesianNetwork.fit) függvény segítségével érdemes becsülni a kapott adatokból.\n",
        "- A [`fit`](https://pgmpy.org/models/bayesiannetwork.html#pgmpy.models.BayesianNetwork.BayesianNetwork.fit) függvény használatakor a [`MaximumLikelihoodEstimator`](https://pgmpy.org/param_estimator/mle.html#maximum-likelihood-estimator) alkalmazását javasoljuk (ez az alapértelmezett) de a többi [paraméterbecslő módszerrel](https://pgmpy.org/param_estimator/base.html) is próbálkozhat.\n",
        "- A háló kis mérete miatt használható egzakt következtetés, amelynek a legegyszerűbb példája a [`VariableElimination`](https://pgmpy.org/exact_infer/ve.html) algoritmus, azonban tetszőleges módszer alkalmazható a rendelkezésre álló [egzakt következtetők](https://pgmpy.org/exact_infer/base.html) közül.\n",
        "- Az egzakt következtető módszereken belül a [`query`](https://pgmpy.org/exact_infer/ve.html#pgmpy.inference.ExactInference.VariableElimination.query) függvény segítségével kérdezhető le valamely változó(k) valószínűsége, természetesen adott bemeneti értékek (evidencia) mellett.\n",
        "- A [`query`](https://pgmpy.org/exact_infer/ve.html#pgmpy.inference.ExactInference.VariableElimination.query) függvény egyszerre csak egy bemenetet tud feldolgozni, így végig kell iterálni a kapott tesztbemeneteken (`data_test`). Ezt könnyen megtehetjük a Pandas DataFrame [`to_dict`](https://pandas.pydata.org/docs/reference/api/pandas.DataFrame.to_dict.html) függvénye segítségével az alábbi módon: `data_test.to_dict(orient=\"records\")`, amely a DataFrame sorait `dictionary`-k formájában adja vissza. Ez a formátum pontosan megegyezik azzal, amiként a  [`query`](https://pgmpy.org/exact_infer/ve.html#pgmpy.inference.ExactInference.VariableElimination.query) függvény az evidenciákat várja.\n",
        "- A [`query`](https://pgmpy.org/exact_infer/ve.html#pgmpy.inference.ExactInference.VariableElimination.query) által visszaadott `phi_query` objektumból az alábbi módon nyerhető ki a lekérdezett változó `yes` értékének valószínűsége: `phi_query.values[1]`."
      ],
      "metadata": {
        "id": "f4wG6g0zoJhx"
      }
    },
    {
      "cell_type": "code",
      "source": [
        "import pandas as pd\n",
        "import numpy as np\n",
        "from pgmpy.models import BayesianNetwork\n",
        "from pgmpy.estimators.MLE import MaximumLikelihoodEstimator\n",
        "from pgmpy.inference.ExactInference import VariableElimination\n",
        "\n",
        "def predict(data_train: pd.DataFrame, data_test: pd.DataFrame) -> np.array:\n",
        "    ######################################################\n",
        "    # TODO: create a Bayesian network, learn the parameters and return the probabilities\n",
        "    #       of the 'illness_yes' variable-value pair for the test data.\n",
        "    # ...\n",
        "    ######################################################\n",
        "    return np.array(probabilities_illness_yes)"
      ],
      "metadata": {
        "id": "8cgmZtH8i4Ao"
      },
      "execution_count": null,
      "outputs": []
    },
    {
      "cell_type": "markdown",
      "source": [
        "Az elkészült függvény az alábbi kódszakasz segítségével tesztelhető, amely néhány példabemenetre kiszámítja a modell predikcióját, és egyben bemutatja az adott bemenethez elvárt (valós) valószínűséget:"
      ],
      "metadata": {
        "id": "Bg8qYbcYet_h"
      }
    },
    {
      "cell_type": "code",
      "source": [
        "test_inputs = pd.DataFrame({\n",
        "    \"asia\":  [\"yes\", \"no\",  \"no\",  \"yes\", \"yes\", \"no\"],\n",
        "    \"smoke\": [\"yes\", \"no\",  \"yes\", \"no\",  \"yes\", \"no\"],\n",
        "    \"bronc\": [\"yes\", \"yes\", \"no\",  \"yes\", \"no\",  \"no\"],\n",
        "    \"dysp\":  [\"yes\", \"yes\", \"no\",  \"no\",  \"no\",  \"no\"],\n",
        "    \"xray\":  [\"yes\", \"yes\", \"yes\", \"no\",  \"no\",  \"no\"]\n",
        "})\n",
        "\n",
        "expected_probabilities = np.array([0.7890, 0.3093, 0.4442, 0.0007, 0.0012, 0.0001])\n",
        "predicted_probabilities = predict(pulmonary_dataset, test_inputs)\n",
        "\n",
        "test_inputs[\"expected_prob\"] = expected_probabilities\n",
        "test_inputs[\"predicted_prob\"] = predicted_probabilities\n",
        "test_inputs"
      ],
      "metadata": {
        "id": "p4_QXGPXjINr"
      },
      "execution_count": null,
      "outputs": []
    },
    {
      "cell_type": "markdown",
      "source": [
        "Végül számszerűsítsük, hogy mennyi az átlagos abszolút eltérés az elvárt és predikált valószínűségek között:"
      ],
      "metadata": {
        "id": "09SjQyzqnxkX"
      }
    },
    {
      "cell_type": "code",
      "source": [
        "mae = np.mean(np.abs(predicted_probabilities - expected_probabilities))\n",
        "\n",
        "print(f\"Mean Absolute Error: {mae:.4f}\")"
      ],
      "metadata": {
        "id": "SOc0XaqJnaBw"
      },
      "execution_count": null,
      "outputs": []
    },
    {
      "cell_type": "markdown",
      "source": [
        "A laborhoz tartozó Moodle-feladat akkor számít teljesítettnek, hogyha egy (itt nem ismertetett) tesztadaton mért átlagos abszolút hiba legfeljebb `0.02`.\n",
        "\n",
        "> **Fontos:** A feladat beadásánál figyeljen oda arra, hogy a beadott fájl neve `lung_predictor.py` legyen, és a fent látható szignatúrával azonos módon legyen benne definiálva a `predict` függvény!\n",
        "\n",
        "**Beadás**:\n",
        "\n",
        "https://edu.vik.bme.hu/mod/quiz/view.php?id=150994\n"
      ],
      "metadata": {
        "id": "H0u4IvVHfYIs"
      }
    },
    {
      "cell_type": "code",
      "source": [],
      "metadata": {
        "id": "Nhhl3di6rsrc"
      },
      "execution_count": null,
      "outputs": []
    }
  ]
}