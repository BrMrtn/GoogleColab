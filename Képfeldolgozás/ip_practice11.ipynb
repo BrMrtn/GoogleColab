{
  "nbformat": 4,
  "nbformat_minor": 0,
  "metadata": {
    "colab": {
      "name": "ip_practice11.ipynb",
      "provenance": [],
      "gpuType": "T4",
      "include_colab_link": true
    },
    "kernelspec": {
      "name": "python3",
      "display_name": "Python 3"
    },
    "accelerator": "GPU",
    "widgets": {
      "application/vnd.jupyter.widget-state+json": {
        "9115d10d70274b8eb752fb9eac6d0b54": {
          "model_module": "@jupyter-widgets/controls",
          "model_name": "HBoxModel",
          "model_module_version": "1.5.0",
          "state": {
            "_dom_classes": [],
            "_model_module": "@jupyter-widgets/controls",
            "_model_module_version": "1.5.0",
            "_model_name": "HBoxModel",
            "_view_count": null,
            "_view_module": "@jupyter-widgets/controls",
            "_view_module_version": "1.5.0",
            "_view_name": "HBoxView",
            "box_style": "",
            "children": [
              "IPY_MODEL_e0405b546b394957960a2d4f273499e3",
              "IPY_MODEL_630fa848018448838e5c111fe5b2c27e",
              "IPY_MODEL_2f2566c702e748c7a3e919af0a53a8bc"
            ],
            "layout": "IPY_MODEL_b39aab2b903a4357aac67d31c30a70d2"
          }
        },
        "e0405b546b394957960a2d4f273499e3": {
          "model_module": "@jupyter-widgets/controls",
          "model_name": "HTMLModel",
          "model_module_version": "1.5.0",
          "state": {
            "_dom_classes": [],
            "_model_module": "@jupyter-widgets/controls",
            "_model_module_version": "1.5.0",
            "_model_name": "HTMLModel",
            "_view_count": null,
            "_view_module": "@jupyter-widgets/controls",
            "_view_module_version": "1.5.0",
            "_view_name": "HTMLView",
            "description": "",
            "description_tooltip": null,
            "layout": "IPY_MODEL_0f225747a5ca49d9a6fec96f47f82f26",
            "placeholder": "​",
            "style": "IPY_MODEL_3eb4c06dee8b49f1a236c1d81f88d076",
            "value": " 32%"
          }
        },
        "630fa848018448838e5c111fe5b2c27e": {
          "model_module": "@jupyter-widgets/controls",
          "model_name": "FloatProgressModel",
          "model_module_version": "1.5.0",
          "state": {
            "_dom_classes": [],
            "_model_module": "@jupyter-widgets/controls",
            "_model_module_version": "1.5.0",
            "_model_name": "FloatProgressModel",
            "_view_count": null,
            "_view_module": "@jupyter-widgets/controls",
            "_view_module_version": "1.5.0",
            "_view_name": "ProgressView",
            "bar_style": "",
            "description": "",
            "description_tooltip": null,
            "layout": "IPY_MODEL_586da4c1e1ff477e8bf90ff5f46c8e80",
            "max": 40,
            "min": 0,
            "orientation": "horizontal",
            "style": "IPY_MODEL_4de4e2f20c1c45a298943bd4ba6d0185",
            "value": 13
          }
        },
        "2f2566c702e748c7a3e919af0a53a8bc": {
          "model_module": "@jupyter-widgets/controls",
          "model_name": "HTMLModel",
          "model_module_version": "1.5.0",
          "state": {
            "_dom_classes": [],
            "_model_module": "@jupyter-widgets/controls",
            "_model_module_version": "1.5.0",
            "_model_name": "HTMLModel",
            "_view_count": null,
            "_view_module": "@jupyter-widgets/controls",
            "_view_module_version": "1.5.0",
            "_view_name": "HTMLView",
            "description": "",
            "description_tooltip": null,
            "layout": "IPY_MODEL_46d5bb1cca844e539756e44dd4466d69",
            "placeholder": "​",
            "style": "IPY_MODEL_674c78e59cd34137994cea0cd174dd08",
            "value": " 13/40 [10:41&lt;21:57, 48.81s/it]"
          }
        },
        "b39aab2b903a4357aac67d31c30a70d2": {
          "model_module": "@jupyter-widgets/base",
          "model_name": "LayoutModel",
          "model_module_version": "1.2.0",
          "state": {
            "_model_module": "@jupyter-widgets/base",
            "_model_module_version": "1.2.0",
            "_model_name": "LayoutModel",
            "_view_count": null,
            "_view_module": "@jupyter-widgets/base",
            "_view_module_version": "1.2.0",
            "_view_name": "LayoutView",
            "align_content": null,
            "align_items": null,
            "align_self": null,
            "border": null,
            "bottom": null,
            "display": null,
            "flex": null,
            "flex_flow": null,
            "grid_area": null,
            "grid_auto_columns": null,
            "grid_auto_flow": null,
            "grid_auto_rows": null,
            "grid_column": null,
            "grid_gap": null,
            "grid_row": null,
            "grid_template_areas": null,
            "grid_template_columns": null,
            "grid_template_rows": null,
            "height": null,
            "justify_content": null,
            "justify_items": null,
            "left": null,
            "margin": null,
            "max_height": null,
            "max_width": null,
            "min_height": null,
            "min_width": null,
            "object_fit": null,
            "object_position": null,
            "order": null,
            "overflow": null,
            "overflow_x": null,
            "overflow_y": null,
            "padding": null,
            "right": null,
            "top": null,
            "visibility": null,
            "width": null
          }
        },
        "0f225747a5ca49d9a6fec96f47f82f26": {
          "model_module": "@jupyter-widgets/base",
          "model_name": "LayoutModel",
          "model_module_version": "1.2.0",
          "state": {
            "_model_module": "@jupyter-widgets/base",
            "_model_module_version": "1.2.0",
            "_model_name": "LayoutModel",
            "_view_count": null,
            "_view_module": "@jupyter-widgets/base",
            "_view_module_version": "1.2.0",
            "_view_name": "LayoutView",
            "align_content": null,
            "align_items": null,
            "align_self": null,
            "border": null,
            "bottom": null,
            "display": null,
            "flex": null,
            "flex_flow": null,
            "grid_area": null,
            "grid_auto_columns": null,
            "grid_auto_flow": null,
            "grid_auto_rows": null,
            "grid_column": null,
            "grid_gap": null,
            "grid_row": null,
            "grid_template_areas": null,
            "grid_template_columns": null,
            "grid_template_rows": null,
            "height": null,
            "justify_content": null,
            "justify_items": null,
            "left": null,
            "margin": null,
            "max_height": null,
            "max_width": null,
            "min_height": null,
            "min_width": null,
            "object_fit": null,
            "object_position": null,
            "order": null,
            "overflow": null,
            "overflow_x": null,
            "overflow_y": null,
            "padding": null,
            "right": null,
            "top": null,
            "visibility": null,
            "width": null
          }
        },
        "3eb4c06dee8b49f1a236c1d81f88d076": {
          "model_module": "@jupyter-widgets/controls",
          "model_name": "DescriptionStyleModel",
          "model_module_version": "1.5.0",
          "state": {
            "_model_module": "@jupyter-widgets/controls",
            "_model_module_version": "1.5.0",
            "_model_name": "DescriptionStyleModel",
            "_view_count": null,
            "_view_module": "@jupyter-widgets/base",
            "_view_module_version": "1.2.0",
            "_view_name": "StyleView",
            "description_width": ""
          }
        },
        "586da4c1e1ff477e8bf90ff5f46c8e80": {
          "model_module": "@jupyter-widgets/base",
          "model_name": "LayoutModel",
          "model_module_version": "1.2.0",
          "state": {
            "_model_module": "@jupyter-widgets/base",
            "_model_module_version": "1.2.0",
            "_model_name": "LayoutModel",
            "_view_count": null,
            "_view_module": "@jupyter-widgets/base",
            "_view_module_version": "1.2.0",
            "_view_name": "LayoutView",
            "align_content": null,
            "align_items": null,
            "align_self": null,
            "border": null,
            "bottom": null,
            "display": null,
            "flex": null,
            "flex_flow": null,
            "grid_area": null,
            "grid_auto_columns": null,
            "grid_auto_flow": null,
            "grid_auto_rows": null,
            "grid_column": null,
            "grid_gap": null,
            "grid_row": null,
            "grid_template_areas": null,
            "grid_template_columns": null,
            "grid_template_rows": null,
            "height": null,
            "justify_content": null,
            "justify_items": null,
            "left": null,
            "margin": null,
            "max_height": null,
            "max_width": null,
            "min_height": null,
            "min_width": null,
            "object_fit": null,
            "object_position": null,
            "order": null,
            "overflow": null,
            "overflow_x": null,
            "overflow_y": null,
            "padding": null,
            "right": null,
            "top": null,
            "visibility": null,
            "width": null
          }
        },
        "4de4e2f20c1c45a298943bd4ba6d0185": {
          "model_module": "@jupyter-widgets/controls",
          "model_name": "ProgressStyleModel",
          "model_module_version": "1.5.0",
          "state": {
            "_model_module": "@jupyter-widgets/controls",
            "_model_module_version": "1.5.0",
            "_model_name": "ProgressStyleModel",
            "_view_count": null,
            "_view_module": "@jupyter-widgets/base",
            "_view_module_version": "1.2.0",
            "_view_name": "StyleView",
            "bar_color": null,
            "description_width": ""
          }
        },
        "46d5bb1cca844e539756e44dd4466d69": {
          "model_module": "@jupyter-widgets/base",
          "model_name": "LayoutModel",
          "model_module_version": "1.2.0",
          "state": {
            "_model_module": "@jupyter-widgets/base",
            "_model_module_version": "1.2.0",
            "_model_name": "LayoutModel",
            "_view_count": null,
            "_view_module": "@jupyter-widgets/base",
            "_view_module_version": "1.2.0",
            "_view_name": "LayoutView",
            "align_content": null,
            "align_items": null,
            "align_self": null,
            "border": null,
            "bottom": null,
            "display": null,
            "flex": null,
            "flex_flow": null,
            "grid_area": null,
            "grid_auto_columns": null,
            "grid_auto_flow": null,
            "grid_auto_rows": null,
            "grid_column": null,
            "grid_gap": null,
            "grid_row": null,
            "grid_template_areas": null,
            "grid_template_columns": null,
            "grid_template_rows": null,
            "height": null,
            "justify_content": null,
            "justify_items": null,
            "left": null,
            "margin": null,
            "max_height": null,
            "max_width": null,
            "min_height": null,
            "min_width": null,
            "object_fit": null,
            "object_position": null,
            "order": null,
            "overflow": null,
            "overflow_x": null,
            "overflow_y": null,
            "padding": null,
            "right": null,
            "top": null,
            "visibility": null,
            "width": null
          }
        },
        "674c78e59cd34137994cea0cd174dd08": {
          "model_module": "@jupyter-widgets/controls",
          "model_name": "DescriptionStyleModel",
          "model_module_version": "1.5.0",
          "state": {
            "_model_module": "@jupyter-widgets/controls",
            "_model_module_version": "1.5.0",
            "_model_name": "DescriptionStyleModel",
            "_view_count": null,
            "_view_module": "@jupyter-widgets/base",
            "_view_module_version": "1.2.0",
            "_view_name": "StyleView",
            "description_width": ""
          }
        }
      }
    }
  },
  "cells": [
    {
      "cell_type": "markdown",
      "metadata": {
        "id": "view-in-github",
        "colab_type": "text"
      },
      "source": [
        "<a href=\"https://colab.research.google.com/github/BrMrtn/GoogleColab/blob/main/K%C3%A9pfeldolgoz%C3%A1s/ip_practice11.ipynb\" target=\"_parent\"><img src=\"https://colab.research.google.com/assets/colab-badge.svg\" alt=\"Open In Colab\"/></a>"
      ]
    },
    {
      "cell_type": "markdown",
      "source": [
        "# __Image Processing Practice 11__\n",
        "\n",
        "1. Definition a Convolutional Neural Network\n",
        "2. Datasets and DataLoaders\n",
        "3. Training and Validation Functions\n",
        "4. Main loop\n",
        "5. Confusion Matrix"
      ],
      "metadata": {
        "id": "kzJFSPz1rBQc"
      }
    },
    {
      "cell_type": "markdown",
      "metadata": {
        "id": "C62RYJ8TH0R2"
      },
      "source": [
        "-------------------------------\n",
        "## 0. Preparations"
      ]
    },
    {
      "cell_type": "code",
      "metadata": {
        "id": "6gZ2YbHzHx6q",
        "colab": {
          "base_uri": "https://localhost:8080/"
        },
        "outputId": "f4070edd-d0ec-4cf9-c3f5-8806ba9cd510"
      },
      "source": [
        "!pip3 install torch torchvision tqdm"
      ],
      "execution_count": null,
      "outputs": [
        {
          "output_type": "stream",
          "name": "stdout",
          "text": [
            "Looking in indexes: https://pypi.org/simple, https://us-python.pkg.dev/colab-wheels/public/simple/\n",
            "Requirement already satisfied: torch in /usr/local/lib/python3.7/dist-packages (1.12.1+cu113)\n",
            "Requirement already satisfied: torchvision in /usr/local/lib/python3.7/dist-packages (0.13.1+cu113)\n",
            "Requirement already satisfied: Pillow in /usr/local/lib/python3.7/dist-packages (7.1.2)\n",
            "Requirement already satisfied: typing-extensions in /usr/local/lib/python3.7/dist-packages (from torch) (4.1.1)\n",
            "Requirement already satisfied: numpy in /usr/local/lib/python3.7/dist-packages (from torchvision) (1.21.6)\n",
            "Requirement already satisfied: requests in /usr/local/lib/python3.7/dist-packages (from torchvision) (2.23.0)\n",
            "Requirement already satisfied: certifi>=2017.4.17 in /usr/local/lib/python3.7/dist-packages (from requests->torchvision) (2022.9.24)\n",
            "Requirement already satisfied: urllib3!=1.25.0,!=1.25.1,<1.26,>=1.21.1 in /usr/local/lib/python3.7/dist-packages (from requests->torchvision) (1.24.3)\n",
            "Requirement already satisfied: chardet<4,>=3.0.2 in /usr/local/lib/python3.7/dist-packages (from requests->torchvision) (3.0.4)\n",
            "Requirement already satisfied: idna<3,>=2.5 in /usr/local/lib/python3.7/dist-packages (from requests->torchvision) (2.10)\n"
          ]
        }
      ]
    },
    {
      "cell_type": "markdown",
      "metadata": {
        "id": "_YB-PIpQIeAP"
      },
      "source": [
        "### Checking PyTorch and CUDA"
      ]
    },
    {
      "cell_type": "code",
      "metadata": {
        "id": "Dpx7MfchIibV",
        "colab": {
          "base_uri": "https://localhost:8080/"
        },
        "outputId": "e2d7f1e4-ef07-4bb3-d251-cbc64277bb2a"
      },
      "source": [
        "import torch\n",
        "\n",
        "device = \"cuda\" if torch.cuda.is_available() else \"cpu\"\n",
        "print(\"Device:\", device)\n",
        "\n",
        "!nvcc --version"
      ],
      "execution_count": null,
      "outputs": [
        {
          "output_type": "stream",
          "name": "stdout",
          "text": [
            "Device: cuda\n",
            "nvcc: NVIDIA (R) Cuda compiler driver\n",
            "Copyright (c) 2005-2023 NVIDIA Corporation\n",
            "Built on Tue_Aug_15_22:02:13_PDT_2023\n",
            "Cuda compilation tools, release 12.2, V12.2.140\n",
            "Build cuda_12.2.r12.2/compiler.33191640_0\n"
          ]
        }
      ]
    },
    {
      "cell_type": "markdown",
      "metadata": {
        "id": "8CNu_Lu8oFiC"
      },
      "source": [
        "---------------------------\n",
        "## __1. Definition of a Convolutional Network__"
      ]
    },
    {
      "cell_type": "code",
      "metadata": {
        "id": "uCl20BPWjoUA"
      },
      "source": [
        "import numpy as np\n",
        "import torch\n",
        "import torch.nn as nn\n",
        "\n",
        "\n",
        "class Conv(nn.Module):\n",
        "  def __init__(self, in_channels, out_channels, kernel_size=3, stride=1, padding=None):\n",
        "    super().__init__()\n",
        "    padding = padding or kernel_size//2\n",
        "\n",
        "    self.conv = nn.Conv2d(in_channels=in_channels, out_channels=out_channels, kernel_size=kernel_size, stride=stride, padding=padding)\n",
        "    self.relu = nn.ReLU()\n",
        "    self.bn = nn.BatchNorm2d(num_features=out_channels)\n",
        "\n",
        "  def forward(self, x):\n",
        "    x = self.conv(x)\n",
        "    x = self.relu(x)\n",
        "    x = self.bn(x)\n",
        "\n",
        "    return x\n",
        "\n",
        "\n",
        "class ConvNet(nn.Module):\n",
        "  def __init__(self, planes, num_classes=10):\n",
        "    super().__init__()\n",
        "\n",
        "    self.conv1 = Conv(in_channels=3, out_channels=planes)\n",
        "    self.pool1 = Conv(in_channels=planes, out_channels=2*planes, stride=2)\n",
        "\n",
        "    self.conv2 = Conv(in_channels=2*planes, out_channels=2*planes)\n",
        "    self.pool2 = Conv(in_channels=2*planes, out_channels=4*planes, stride=2)\n",
        "\n",
        "    self.conv3 = Conv(in_channels=4*planes, out_channels=4*planes)\n",
        "    self.pool3 = Conv(in_channels=4*planes, out_channels=8*planes, stride=2)\n",
        "\n",
        "    self.conv4 = Conv(in_channels=8*planes, out_channels=8*planes)\n",
        "    self.pool4 = Conv(in_channels=8*planes, out_channels=16*planes, stride=2)\n",
        "\n",
        "    self.conv5 = Conv(in_channels=16*planes, out_channels=16*planes)\n",
        "    self.pool5 = Conv(in_channels=16*planes, out_channels=32*planes, stride=2)\n",
        "\n",
        "    self.classifier = nn.Conv2d(in_channels=32*planes, out_channels=10, kernel_size=1)\n",
        "\n",
        "  def forward(self, x):\n",
        "    x = self.conv1(x)\n",
        "    x = self.pool1(x)\n",
        "\n",
        "    x = self.conv2(x)\n",
        "    x = self.pool2(x)\n",
        "\n",
        "    x = self.conv3(x)\n",
        "    x = self.pool3(x)\n",
        "\n",
        "    x = self.conv4(x)\n",
        "    x = self.pool4(x)\n",
        "\n",
        "    x = self.conv5(x)\n",
        "    x = self.pool5(x)\n",
        "\n",
        "    x = self.classifier(x).squeeze()\n",
        "\n",
        "    return x"
      ],
      "execution_count": null,
      "outputs": []
    },
    {
      "cell_type": "code",
      "source": [
        "x = torch.ones(2, 3, 32, 32)\n",
        "\n",
        "model = ConvNet(planes=4)\n",
        "\n",
        "with torch.no_grad():\n",
        "  print(model(x).shape)"
      ],
      "metadata": {
        "id": "bQOVQ8AbcBD0",
        "colab": {
          "base_uri": "https://localhost:8080/"
        },
        "outputId": "7e06610b-c91a-46ee-b1cd-43137d7015bc"
      },
      "execution_count": null,
      "outputs": [
        {
          "output_type": "stream",
          "name": "stdout",
          "text": [
            "torch.Size([2, 10])\n"
          ]
        }
      ]
    },
    {
      "cell_type": "markdown",
      "metadata": {
        "id": "AH1imzgjJw14"
      },
      "source": [
        "-----------------\n",
        "## __2. Datasets and DataLoaders__\n"
      ]
    },
    {
      "cell_type": "markdown",
      "source": [
        "### Data Transforms"
      ],
      "metadata": {
        "id": "7xi-HFpcsKVz"
      }
    },
    {
      "cell_type": "code",
      "metadata": {
        "id": "1DwTepivkCSM"
      },
      "source": [
        "import torchvision\n",
        "from torchvision.transforms import v2\n",
        "\n",
        "\n",
        "train_transforms = v2.Compose([\n",
        "    v2.RandomCrop((32, 32), padding=4),\n",
        "    v2.ColorJitter(brightness=0.25, contrast=0.25, saturation=0.25, hue=0.2),\n",
        "    v2.ToImage(),\n",
        "    v2.ToDtype(torch.float32, scale=True),\n",
        "    v2.Normalize(mean=[0.49139968, 0.48215827, 0.44653124], std=[0.24703233, 0.24348505, 0.26158768])\n",
        "])\n",
        "\n",
        "val_transforms = v2.Compose([\n",
        "    v2.ToImage(),\n",
        "    v2.ToDtype(torch.float32, scale=True),\n",
        "    v2.Normalize(mean=[0.49139968, 0.48215827, 0.44653124], std=[0.24703233, 0.24348505, 0.26158768])\n",
        "])"
      ],
      "execution_count": null,
      "outputs": []
    },
    {
      "cell_type": "markdown",
      "metadata": {
        "id": "65CsUMi3J6vs"
      },
      "source": [
        "### Datasets"
      ]
    },
    {
      "cell_type": "code",
      "metadata": {
        "id": "Ai369Z2lkou3",
        "colab": {
          "base_uri": "https://localhost:8080/"
        },
        "outputId": "67fd797c-f469-41b2-cd8f-94449ded8a50"
      },
      "source": [
        "from torchvision.datasets import CIFAR10\n",
        "from torch.utils.data import Subset, DataLoader\n",
        "\n",
        "\n",
        "train_set = CIFAR10(root=\".\",\n",
        "                    train=True,\n",
        "                    transform=train_transforms,\n",
        "                    target_transform=torch.tensor,\n",
        "                    download=True)\n",
        "\n",
        "val_set = CIFAR10(root=\".\",\n",
        "                  train=False,\n",
        "                  transform=val_transforms,\n",
        "                  target_transform=torch.tensor,\n",
        "                  download=True)"
      ],
      "execution_count": null,
      "outputs": [
        {
          "output_type": "stream",
          "name": "stdout",
          "text": [
            "Downloading https://www.cs.toronto.edu/~kriz/cifar-10-python.tar.gz to ./cifar-10-python.tar.gz\n"
          ]
        },
        {
          "output_type": "stream",
          "name": "stderr",
          "text": [
            "100%|██████████| 170M/170M [00:04<00:00, 40.0MB/s]\n"
          ]
        },
        {
          "output_type": "stream",
          "name": "stdout",
          "text": [
            "Extracting ./cifar-10-python.tar.gz to .\n",
            "Files already downloaded and verified\n"
          ]
        }
      ]
    },
    {
      "cell_type": "markdown",
      "metadata": {
        "id": "QqPTvXChJ9Bx"
      },
      "source": [
        "### DataLoaders"
      ]
    },
    {
      "cell_type": "code",
      "metadata": {
        "id": "pkTHYhn-lBHH"
      },
      "source": [
        "train_loader = DataLoader(dataset=train_set,\n",
        "                          batch_size=512,\n",
        "                          num_workers=2,\n",
        "                          shuffle=True,\n",
        "                          drop_last=True)\n",
        "\n",
        "val_loader = DataLoader(dataset=val_set,\n",
        "                          batch_size=500,\n",
        "                          num_workers=2)"
      ],
      "execution_count": null,
      "outputs": []
    },
    {
      "cell_type": "markdown",
      "metadata": {
        "id": "chrOWP5xKHuj"
      },
      "source": [
        "----------------------\n",
        "## __3. Training and Validation Functions__"
      ]
    },
    {
      "cell_type": "markdown",
      "source": [
        "### Training"
      ],
      "metadata": {
        "id": "8pF9kZVgsT3D"
      }
    },
    {
      "cell_type": "code",
      "metadata": {
        "id": "IOa6MhmelJ1A"
      },
      "source": [
        "def train(model, loss_fn, dataloader, optimizer, scheduler):\n",
        "  train_loss, train_corr = 0.0, 0.0\n",
        "\n",
        "  model.train()\n",
        "  for i, (x, y_true) in enumerate(dataloader):\n",
        "    scheduler.step()\n",
        "    optimizer.zero_grad()\n",
        "    x, y_true = x.to(device), y_true.to(device)\n",
        "\n",
        "    y_pred = model(x)\n",
        "    loss = loss_fn(y_pred, y_true)\n",
        "    loss.backward()\n",
        "    optimizer.step()\n",
        "\n",
        "    train_loss += loss.item()\n",
        "    corrects = (torch.argmax(y_pred, dim=-1) == y_true).float().mean()*100\n",
        "    train_corr += corrects.item()\n",
        "\n",
        "  train_loss = train_loss / len(dataloader)\n",
        "  train_corr = train_corr / len(dataloader)\n",
        "\n",
        "  return train_loss, train_corr"
      ],
      "execution_count": null,
      "outputs": []
    },
    {
      "cell_type": "markdown",
      "metadata": {
        "id": "ZlEKXQZBKKr0"
      },
      "source": [
        "### Validation"
      ]
    },
    {
      "cell_type": "code",
      "metadata": {
        "id": "w13nbWC6ligA"
      },
      "source": [
        "def validate(model, loss_fn, dataloader):\n",
        "  val_loss, val_corr = 0.0, 0.0\n",
        "\n",
        "  model.eval()\n",
        "  with torch.no_grad():\n",
        "    for i, (x, y_true) in enumerate(dataloader):\n",
        "      x, y_true = x.to(device), y_true.to(device)\n",
        "\n",
        "      y_pred = model(x)\n",
        "      loss = loss_fn(y_pred, y_true)\n",
        "\n",
        "      val_loss += loss.item()\n",
        "      corrects = (torch.argmax(y_pred, dim=-1) == y_true).float().mean()*100\n",
        "      val_corr += corrects.item()\n",
        "\n",
        "  val_loss = val_loss / len(dataloader)\n",
        "  val_corr = val_corr / len(dataloader)\n",
        "\n",
        "  return val_loss, val_corr"
      ],
      "execution_count": null,
      "outputs": []
    },
    {
      "cell_type": "markdown",
      "source": [
        "## Learning rate scheduler"
      ],
      "metadata": {
        "id": "ZSz4B1ircDxF"
      }
    },
    {
      "cell_type": "code",
      "source": [
        "class LinearWarmupCosineAnnealScheduler():\n",
        "  def __init__(self, optimizer, num_iters, warmup_iters, min_lr, max_lr):\n",
        "    self.optimizer = optimizer\n",
        "    self.num_iters = num_iters\n",
        "    self.warmup_iters = warmup_iters\n",
        "    self.min_lr = min_lr\n",
        "    self.max_lr = max_lr\n",
        "    self.lr_range = max_lr-min_lr\n",
        "\n",
        "    self.iter = 0\n",
        "\n",
        "  def step(self):\n",
        "    if self.iter < self.warmup_iters:\n",
        "      lr = self.min_lr + self.lr_range*self.iter/self.warmup_iters\n",
        "    else:\n",
        "      phase = (self.iter-self.warmup_iters)/(self.num_iters-self.warmup_iters)\n",
        "      lr = (self.max_lr-0.5*self.lr_range) + (0.5*self.lr_range)*torch.cos(torch.pi*torch.tensor(phase))\n",
        "\n",
        "    for param_group in self.optimizer.param_groups:\n",
        "      if \"lr_scale\" in param_group:\n",
        "        param_group[\"lr\"] = lr * param_group[\"lr_scale\"]\n",
        "      else:\n",
        "        param_group[\"lr\"] = lr\n",
        "\n",
        "    self.iter += 1"
      ],
      "metadata": {
        "id": "GGZ3Y0tTVY-6"
      },
      "execution_count": null,
      "outputs": []
    },
    {
      "cell_type": "code",
      "source": [
        "import matplotlib.pyplot as plt\n",
        "\n",
        "\n",
        "class MockOptimizer:\n",
        "  def __init__(self):\n",
        "    self.param_groups = [dict(lr=0, lr_scale=1)]\n",
        "\n",
        "mock_optimizer = MockOptimizer()\n",
        "scheduler = LinearWarmupCosineAnnealScheduler(optimizer=mock_optimizer,\n",
        "                                              num_iters=20*100,\n",
        "                                              warmup_iters=4*100,\n",
        "                                              min_lr=0.5,\n",
        "                                              max_lr=1.5)\n",
        "\n",
        "lrs = []\n",
        "for i in range(20):\n",
        "  for j in range(100):\n",
        "    scheduler.step()\n",
        "    lrs.append(mock_optimizer.param_groups[0][\"lr\"])\n",
        "\n",
        "plt.plot(lrs)\n",
        "plt.xlabel(\"iteration\")\n",
        "plt.ylabel(\"learning rate\")\n",
        "plt.grid(True)\n",
        "plt.show()"
      ],
      "metadata": {
        "colab": {
          "base_uri": "https://localhost:8080/",
          "height": 469
        },
        "id": "jgOn0sZZY40w",
        "outputId": "3278a1a9-ca6e-456e-86f2-7259a543c4a3"
      },
      "execution_count": null,
      "outputs": [
        {
          "output_type": "display_data",
          "data": {
            "text/plain": [
              "<Figure size 640x480 with 1 Axes>"
            ],
            "image/png": "[encoded data removed]"
          },
          "metadata": {}
        }
      ]
    },
    {
      "cell_type": "markdown",
      "metadata": {
        "id": "r3ghg4UEKQ-S"
      },
      "source": [
        "---------------\n",
        "## __4. Main loop__"
      ]
    },
    {
      "cell_type": "code",
      "metadata": {
        "id": "TUOGKeODlpW0",
        "colab": {
          "base_uri": "https://localhost:8080/",
          "height": 295,
          "referenced_widgets": [
            "9115d10d70274b8eb752fb9eac6d0b54",
            "e0405b546b394957960a2d4f273499e3",
            "630fa848018448838e5c111fe5b2c27e",
            "2f2566c702e748c7a3e919af0a53a8bc",
            "b39aab2b903a4357aac67d31c30a70d2",
            "0f225747a5ca49d9a6fec96f47f82f26",
            "3eb4c06dee8b49f1a236c1d81f88d076",
            "586da4c1e1ff477e8bf90ff5f46c8e80",
            "4de4e2f20c1c45a298943bd4ba6d0185",
            "46d5bb1cca844e539756e44dd4466d69",
            "674c78e59cd34137994cea0cd174dd08"
          ]
        },
        "outputId": "cac024f2-508a-4d96-aa88-b442096b8933"
      },
      "source": [
        "from tqdm.notebook import trange\n",
        "import matplotlib.pyplot as plt\n",
        "from torch.optim import Adam, lr_scheduler\n",
        "\n",
        "\n",
        "MB = 1024**2\n",
        "\n",
        "# Hyperparameters\n",
        "lr = 1e-2\n",
        "num_epochs = 40\n",
        "warmup_epochs = 8\n",
        "\n",
        "model = ConvNet(planes=4)\n",
        "model = model.to(device)\n",
        "\n",
        "optimizer = Adam(model.parameters(), lr=lr)\n",
        "scheduler = LinearWarmupCosineAnnealScheduler(optimizer=optimizer,\n",
        "                                              num_iters=num_epochs*len(train_loader),\n",
        "                                              warmup_iters=warmup_epochs*len(train_loader),\n",
        "                                              min_lr=0,\n",
        "                                              max_lr=lr)\n",
        "\n",
        "loss_fn = nn.CrossEntropyLoss()\n",
        "\n",
        "train_losses = []\n",
        "train_corrs = []\n",
        "val_losses = []\n",
        "val_corrs = []\n",
        "lrs = []\n",
        "for epoch in trange(num_epochs):\n",
        "  train_loss, train_corr = train(model, loss_fn, train_loader, optimizer, scheduler)\n",
        "  val_loss, val_corr = validate(model, loss_fn, val_loader)\n",
        "\n",
        "  print(f\"Epoch: {epoch} \\tTrain loss: {train_loss:.3f} correct: {train_corr:.2f}% \\tVal loss: {val_loss:.3f} correct: {val_corr:.2f}% \\tmemory: {torch.cuda.max_memory_allocated() / MB:.2f}\")\n",
        "\n",
        "  train_losses.append(train_loss)\n",
        "  train_corrs.append(train_corr)\n",
        "  val_losses.append(val_loss)\n",
        "  val_corrs.append(val_corr)\n",
        "  lrs.append(optimizer.param_groups[0][\"lr\"])\n",
        "\n",
        "plt.plot(train_losses, label=\"Train\")\n",
        "plt.plot(val_losses, label=\"Val\")\n",
        "plt.xlabel(\"Epoch\")\n",
        "plt.ylabel(\"Loss\")\n",
        "plt.grid(True)\n",
        "plt.legend()\n",
        "plt.show()\n",
        "\n",
        "plt.plot(train_corrs, label=\"Train\")\n",
        "plt.plot(val_corrs, label=\"Val\")\n",
        "plt.xlabel(\"Epoch\")\n",
        "plt.ylabel(\"Corrects\")\n",
        "plt.grid(True)\n",
        "plt.legend()\n",
        "plt.show()\n",
        "\n",
        "plt.plot(lrs)\n",
        "plt.xlabel(\"iteration\")\n",
        "plt.ylabel(\"learning rate\")\n",
        "plt.grid(True)\n",
        "plt.show()"
      ],
      "execution_count": null,
      "outputs": [
        {
          "output_type": "display_data",
          "data": {
            "text/plain": [
              "  0%|          | 0/40 [00:00<?, ?it/s]"
            ],
            "application/vnd.jupyter.widget-view+json": {
              "version_major": 2,
              "version_minor": 0,
              "model_id": "9115d10d70274b8eb752fb9eac6d0b54"
            }
          },
          "metadata": {}
        },
        {
          "output_type": "stream",
          "name": "stdout",
          "text": [
            "Epoch: 0 \tTrain loss: 2.121 correct: 21.58% \tVal loss: 1.778 correct: 34.49% \tmemory: 49.21\n",
            "Epoch: 1 \tTrain loss: 1.745 correct: 36.08% \tVal loss: 1.552 correct: 43.56% \tmemory: 49.21\n",
            "Epoch: 2 \tTrain loss: 1.595 correct: 41.70% \tVal loss: 1.402 correct: 48.86% \tmemory: 49.21\n",
            "Epoch: 3 \tTrain loss: 1.464 correct: 47.18% \tVal loss: 1.338 correct: 51.75% \tmemory: 49.21\n",
            "Epoch: 4 \tTrain loss: 1.352 correct: 51.54% \tVal loss: 1.230 correct: 55.52% \tmemory: 49.21\n",
            "Epoch: 5 \tTrain loss: 1.239 correct: 55.49% \tVal loss: 1.148 correct: 59.45% \tmemory: 49.21\n",
            "Epoch: 6 \tTrain loss: 1.175 correct: 57.89% \tVal loss: 1.093 correct: 61.41% \tmemory: 49.21\n",
            "Epoch: 7 \tTrain loss: 1.125 correct: 59.90% \tVal loss: 1.072 correct: 61.58% \tmemory: 49.21\n",
            "Epoch: 8 \tTrain loss: 1.067 correct: 62.13% \tVal loss: 0.965 correct: 65.78% \tmemory: 49.21\n",
            "Epoch: 9 \tTrain loss: 1.026 correct: 63.68% \tVal loss: 0.937 correct: 67.00% \tmemory: 49.21\n",
            "Epoch: 10 \tTrain loss: 0.983 correct: 65.21% \tVal loss: 0.907 correct: 68.27% \tmemory: 49.21\n",
            "Epoch: 11 \tTrain loss: 0.948 correct: 66.57% \tVal loss: 0.893 correct: 68.97% \tmemory: 49.21\n",
            "Epoch: 12 \tTrain loss: 0.919 correct: 67.56% \tVal loss: 0.881 correct: 69.08% \tmemory: 49.21\n"
          ]
        }
      ]
    },
    {
      "cell_type": "markdown",
      "metadata": {
        "id": "QgEGZ8tuuWrl"
      },
      "source": [
        "---------------------\n",
        "## __5. Confusion Matrix__"
      ]
    },
    {
      "cell_type": "code",
      "metadata": {
        "id": "Ap7DnISJuZYV"
      },
      "source": [
        "for i, (x, y_true) in enumerate(val_loader):\n",
        "  confusion = torch.tensor(10, 10)\n",
        "  with torch.no_grad():\n",
        "    x = x.to(device)\n",
        "    y_pred = model(x)\n",
        "    y_pred = y_pred.to(\"cpu\")\n",
        "\n",
        "  prediction = torch.argmax(y_pred, dim=-1)\n",
        "  for j in range(len(prediction)):\n",
        "    confusion_matrix[y_true[j], y_pred[j]] += 1\n",
        "\n",
        "confusion = confusion / confusion.sum(dim=1, keepdim=True)\n",
        "\n",
        "plt.imshow(confusion)\n",
        "plt.show()"
      ],
      "execution_count": null,
      "outputs": []
    },
    {
      "cell_type": "markdown",
      "metadata": {
        "id": "Aump_RystXIL"
      },
      "source": [
        "## Vizualizáció"
      ]
    },
    {
      "cell_type": "code",
      "metadata": {
        "id": "cqzx4RQdtYix"
      },
      "source": [
        "names = [\n",
        "    \"airplane\",\n",
        "    \"automobile\",\n",
        "    \"bird\",\n",
        "    \"cat\",\n",
        "    \"deer\",\n",
        "    \"dog\",\n",
        "    \"frog\",\n",
        "    \"horse\",\n",
        "    \"ship\",\n",
        "    \"truck\"\n",
        "]\n",
        "\n",
        "inputs, labels = next(iter(val_loader))\n",
        "inputs, labels = inputs.to(device), labels.to(device)\n",
        "\n",
        "# forward\n",
        "with torch.no_grad():\n",
        "  outputs = model(inputs)\n",
        "\n",
        "_, predicted = torch.max(outputs, 1)\n",
        "\n",
        "mean = torch.Tensor((0.49139968, 0.48215827, 0.44653124)).unsqueeze(1).unsqueeze(1)\n",
        "std = torch.Tensor((0.24703233, 0.24348505, 0.26158768)).unsqueeze(1).unsqueeze(1)\n",
        "\n",
        "f, axarr = plt.subplots(2, 4,figsize=(10, 5))\n",
        "\n",
        "for i,(img,pred) in enumerate(zip(inputs,predicted)):\n",
        "    img_rescaled = img.cpu() * std + mean\n",
        "    pr = pred.cpu().item()\n",
        "    name = names[pr]\n",
        "\n",
        "    axarr[i//4,i%4].imshow(img_rescaled.permute(1,2,0))\n",
        "    axarr[i//4,i%4].set_title(name)\n",
        "    # Hide grid lines\n",
        "    axarr[i//4,i%4].grid(False)\n",
        "    # Hide axes ticks\n",
        "    axarr[i//4,i%4].set_xticks([])\n",
        "    axarr[i//4,i%4].set_yticks([])\n",
        "    if i == 7:\n",
        "        break"
      ],
      "execution_count": null,
      "outputs": []
    },
    {
      "cell_type": "markdown",
      "source": [
        "## _Extras_\n",
        "### Modern architectures and Training Techniques_\n",
        "- [Transformer architecture](https://arxiv.org/pdf/1706.03762)\n",
        "- [ViT](https://arxiv.org/pdf/2010.11929)\n",
        "- [Swin-Transformer](https://arxiv.org/pdf/2103.14030)\n",
        "- [ConvNext](https://arxiv.org/pdf/2201.03545)\n",
        "- [Masked autoencoders](https://arxiv.org/pdf/2111.06377)\n",
        "- [Decoder Denoising Pretraining](https://arxiv.org/pdf/2205.11423)\n",
        "### Special solutions for specific tasks\n",
        "- [SAM2](https://ai.meta.com/sam2/)\n",
        "- [DUSt3R](https://europe.naverlabs.com/research/publications/dust3r-geometric-3d-vision-made-easy/)\n",
        "- [NeRF](https://www.matthewtancik.com/nerf), [another](https://phog.github.io/snerg/)\n",
        "- [YOLO](https://docs.ultralytics.com/models/yolo11/)"
      ],
      "metadata": {
        "id": "Yjol3Y5gTKVQ"
      }
    },
    {
      "cell_type": "code",
      "source": [],
      "metadata": {
        "id": "MueEAjMuTmbZ"
      },
      "execution_count": null,
      "outputs": []
    }
  ]
}