{
  "cells": [
    {
      "cell_type": "markdown",
      "metadata": {
        "id": "view-in-github",
        "colab_type": "text"
      },
      "source": [
        "<a href=\"https://colab.research.google.com/github/BrMrtn/GoogleColab/blob/main/K%C3%A9pfeldolgoz%C3%A1s/ip_practice10.ipynb\" target=\"_parent\"><img src=\"https://colab.research.google.com/assets/colab-badge.svg\" alt=\"Open In Colab\"/></a>"
      ]
    },
    {
      "cell_type": "markdown",
      "metadata": {
        "id": "etxxqNjBvbYl"
      },
      "source": [
        "# __Image Processing practice 10__\n",
        "1. Random Seeds\n",
        "2. Computational Graphs & Gradient calculation\n",
        "3. Modelling and Training with low level API tools\n"
      ]
    },
    {
      "cell_type": "markdown",
      "metadata": {
        "id": "JEOY0W_9BASv"
      },
      "source": [
        "----------------------\n",
        "## 0. Preparations"
      ]
    },
    {
      "cell_type": "markdown",
      "metadata": {
        "id": "h_fXivw4A-_Z"
      },
      "source": [
        "### 0.1. Checking GPU and CUDA availability\n",
        "\n",
        "With the _!nvcc --version_ command we can check the CUDA version of our system. Remember, we only need exclamation mark (!) in notebooks to enable running Linux commands in code blocks."
      ]
    },
    {
      "cell_type": "code",
      "execution_count": 7,
      "metadata": {
        "id": "76--MCcVvY6b",
        "colab": {
          "base_uri": "https://localhost:8080/"
        },
        "outputId": "4ffd7c76-7bfb-4905-d630-b3ea0e89c8c4"
      },
      "outputs": [
        {
          "output_type": "stream",
          "name": "stdout",
          "text": [
            "nvcc: NVIDIA (R) Cuda compiler driver\n",
            "Copyright (c) 2005-2023 NVIDIA Corporation\n",
            "Built on Tue_Aug_15_22:02:13_PDT_2023\n",
            "Cuda compilation tools, release 12.2, V12.2.140\n",
            "Build cuda_12.2.r12.2/compiler.33191640_0\n"
          ]
        }
      ],
      "source": [
        "!nvcc --version"
      ]
    },
    {
      "cell_type": "markdown",
      "source": [
        "### 0.2. Installing latest torch version and tqdm for progress bars"
      ],
      "metadata": {
        "id": "qS1g2kiOBlDY"
      }
    },
    {
      "cell_type": "code",
      "source": [
        "!pip install torch tqdm"
      ],
      "metadata": {
        "colab": {
          "base_uri": "https://localhost:8080/"
        },
        "id": "fDNsJp0GBkTU",
        "outputId": "d1560b80-9bc8-471f-af77-895b76dd057b"
      },
      "execution_count": 8,
      "outputs": [
        {
          "output_type": "stream",
          "name": "stdout",
          "text": [
            "Requirement already satisfied: torch in /usr/local/lib/python3.10/dist-packages (2.5.0+cu121)\n",
            "Requirement already satisfied: tqdm in /usr/local/lib/python3.10/dist-packages (4.66.6)\n",
            "Requirement already satisfied: filelock in /usr/local/lib/python3.10/dist-packages (from torch) (3.16.1)\n",
            "Requirement already satisfied: typing-extensions>=4.8.0 in /usr/local/lib/python3.10/dist-packages (from torch) (4.12.2)\n",
            "Requirement already satisfied: networkx in /usr/local/lib/python3.10/dist-packages (from torch) (3.4.2)\n",
            "Requirement already satisfied: jinja2 in /usr/local/lib/python3.10/dist-packages (from torch) (3.1.4)\n",
            "Requirement already satisfied: fsspec in /usr/local/lib/python3.10/dist-packages (from torch) (2024.10.0)\n",
            "Requirement already satisfied: sympy==1.13.1 in /usr/local/lib/python3.10/dist-packages (from torch) (1.13.1)\n",
            "Requirement already satisfied: mpmath<1.4,>=1.1.0 in /usr/local/lib/python3.10/dist-packages (from sympy==1.13.1->torch) (1.3.0)\n",
            "Requirement already satisfied: MarkupSafe>=2.0 in /usr/local/lib/python3.10/dist-packages (from jinja2->torch) (3.0.2)\n"
          ]
        }
      ]
    },
    {
      "cell_type": "markdown",
      "metadata": {
        "id": "obfmfJQvA5h4"
      },
      "source": [
        "### Checking PyTorch version and CUDA availability from torch"
      ]
    },
    {
      "cell_type": "code",
      "source": [
        "import torch"
      ],
      "metadata": {
        "id": "YbHpHxo8Cmqm"
      },
      "execution_count": 9,
      "outputs": []
    },
    {
      "cell_type": "code",
      "execution_count": 10,
      "metadata": {
        "id": "FKndwOLlA9yu",
        "colab": {
          "base_uri": "https://localhost:8080/"
        },
        "outputId": "18d059eb-6203-4638-a4ea-6adaadecf5c0"
      },
      "outputs": [
        {
          "output_type": "stream",
          "name": "stdout",
          "text": [
            "2.5.0+cu121\n",
            "True\n"
          ]
        }
      ],
      "source": [
        "print(torch.__version__)\n",
        "print(torch.cuda.is_available())"
      ]
    },
    {
      "cell_type": "markdown",
      "metadata": {
        "id": "6cMMl7bOrLTT"
      },
      "source": [
        "--------------------------\n",
        "## __1. Understanding Random Seeds__\n",
        "\n",
        "Setting the seed of the random generator for reproducibility.\n",
        "\n",
        "If you set a specific seed, the subsequent random numbers will be the same after each setting of the same seed. Thanks to this, if we repeatedly run a cell with random generation and the seed is set at the beginning, we will get the same random numbers."
      ]
    },
    {
      "cell_type": "code",
      "source": [
        "import numpy as np"
      ],
      "metadata": {
        "id": "nmf2L9jJFg-L"
      },
      "execution_count": 11,
      "outputs": []
    },
    {
      "cell_type": "code",
      "execution_count": 12,
      "metadata": {
        "id": "1Mo_iTEDrKEa",
        "colab": {
          "base_uri": "https://localhost:8080/"
        },
        "outputId": "1189ee0d-7b76-40b0-e042-ff683ab5a4b3"
      },
      "outputs": [
        {
          "output_type": "stream",
          "name": "stdout",
          "text": [
            "[ 0.49671415 -0.1382643 ]\n",
            "[0.64768854 1.52302986]\n",
            "\n",
            "[ 0.49671415 -0.1382643 ]\n",
            "[0.64768854 1.52302986]\n"
          ]
        }
      ],
      "source": [
        "np.random.seed(42)\n",
        "print(np.random.randn(2))\n",
        "print(np.random.randn(2))\n",
        "print()\n",
        "\n",
        "np.random.seed(42)\n",
        "print(np.random.randn(2))\n",
        "print(np.random.randn(2))"
      ]
    },
    {
      "cell_type": "markdown",
      "metadata": {
        "id": "V4dC_kkGAhlE"
      },
      "source": [
        "## __2. Computational Graphs & their gradients__"
      ]
    },
    {
      "cell_type": "markdown",
      "metadata": {
        "id": "m1-kZ27PBWBu"
      },
      "source": [
        "### 2.1. Implementing a Computational Graph with NumPy\n",
        "\n",
        "### Definition of the variables and functions\n",
        "#### $\\{a, b, c, d, e\\}\\;\\epsilon\\;\\mathbb{R}^2; \\;f\\; \\epsilon\\;\\mathbb{R}$\n",
        "\n",
        "#### $\\{\\mathcal{F}_{(a, b)\\rightarrow d}, \\mathcal{F}_{(c, d)\\rightarrow e}\\}:\\mathbb{R}^{2\\times{2}}\\mapsto \\mathbb{R}^2\\; ;\\; \\mathcal{F}_{e\\rightarrow f}: \\mathbb{R}^2\\mapsto\\mathbb{R}$\n",
        "\n",
        "#### $\\mathcal{F}_{(a, b)\\rightarrow d}= \\begin{bmatrix}2*a_1 + 0.5*b_1 \\\\2*a_2 + 0.5*b_2\\end{bmatrix}$\n",
        "#### $\\mathcal{F}_{(c, d)\\rightarrow e}= \\begin{bmatrix}c_1 * d_1 \\\\c_2 * d_2\\end{bmatrix}$\n",
        "#### $\\mathcal{F}_{e\\rightarrow f}=e_1 + e_2$\n",
        "\n",
        "------------------------\n",
        "### Gradient Calculation\n",
        "- If $x\\;\\epsilon\\;\\mathbb{R}^n\\;;\\;y\\;\\epsilon\\;\\mathbb{R}^m$, then the gradient of $\\mathcal{F}_{x\\rightarrow y}:\\mathbb{R}^n\\mapsto\\mathbb{R}^m$ in case of m=1 is:\n",
        "\n",
        "#### $\\nabla\\mathcal{F}_{x\\rightarrow y} = \\begin{bmatrix}\\frac{\\delta{y}}{\\delta{x_1}} &\\frac{\\delta{y}}{\\delta{x_2}} &\\dots &\\frac{\\delta{y}}{\\delta{x_n}}\\end{bmatrix}$\n",
        "- In case of m>1 (vector valudes function) the Jacobi matrix can be used:\n",
        "\n",
        "#### $\\nabla\\mathcal{F}_{x\\rightarrow y} = \\begin{bmatrix}\\frac{\\delta{y_1}}{\\delta{x_1}} & \\dots & \\frac{\\delta{y_1}}{\\delta{x_n}}\\\\\\vdots & \\ddots & \\vdots\\\\\\frac{\\delta{y_m}}{\\delta{x_1}} & \\dots & \\frac{\\delta{y_m}}{\\delta{x_n}}\\\\\\end{bmatrix}$\n",
        "\n",
        "Gradients are traced back to the input from the output based on the chain rule. In case of a multi-input function, the gradients are traced back to the inputs separately, so that when calculating the gradient for a given input, the other inputs are replaced by their values (values marked with a hat and in bold).\n",
        "\n",
        "------------------------------\n",
        "### In case of a given computational graph\n",
        "\n",
        "#### $grad_{fe} = \\nabla \\mathcal{F}_{e\\rightarrow f}=\\begin{bmatrix}\\frac{\\delta{f}}{\\delta{e_1}} & \\frac{\\delta{f}}{\\delta{e_2}}\\end{bmatrix}=\\begin{bmatrix}1 & 1\\end{bmatrix}$\n",
        "\n",
        "#### $grad_{fc} = grad_{fe}*\\nabla\\mathcal{F}_{(c, d=\\mathbf{\\hat{d}})\\rightarrow e}= grad_{fe}*\\begin{bmatrix}\\frac{\\delta{e_1}}{\\delta{c_1}} & \\frac{\\delta{e_1}}{\\delta{c_2}}\\\\\\frac{\\delta{e_2}}{\\delta{c_1}} & \\frac{\\delta{e_2}}{\\delta{c_2}}\\end{bmatrix}=\\begin{bmatrix}1 & 1\\end{bmatrix}*\\begin{bmatrix}\\mathbf{\\hat{d}_0} & 0 \\\\ 0 & \\mathbf{\\hat{d}_1}\\end{bmatrix}=\\begin{bmatrix}\\mathbf{\\hat{d}_0} & \\mathbf{\\hat{d}_1}\\end{bmatrix}$\n",
        "\n",
        "### $grad_{fd} = grad_{fe}*\\nabla\\mathcal{F}_{(c=\\mathbf{\\hat{c}}, d)\\rightarrow e}=\\dots=\\begin{bmatrix}\\mathbf{\\hat{c}_1} & \\mathbf{\\hat{c}_2}\\end{bmatrix}$\n",
        "\n",
        "#### $grad_{fa} = grad_{fd}*\\nabla\\mathcal{F}_{(a, b=\\mathbf{\\hat{b}})\\rightarrow d}=\\dots=grad_{fd}*\\begin{bmatrix}2 & 0\\\\ 0& 2\\end{bmatrix}$\n",
        "\n",
        "#### $grad_{fb} = grad_{fd}*\\nabla\\mathcal{F}_{(a=\\hat{\\mathbf{a}}, b)\\rightarrow d}=\\dots=grad_{fd}*\\begin{bmatrix}0.5 & 0\\\\ 0 & 0.5\\end{bmatrix}$"
      ]
    },
    {
      "cell_type": "code",
      "execution_count": 13,
      "metadata": {
        "id": "nAtQ25k2Bdpq",
        "colab": {
          "base_uri": "https://localhost:8080/"
        },
        "outputId": "76676ff7-c03f-46d6-cbea-ea9dc0bc2415"
      },
      "outputs": [
        {
          "output_type": "stream",
          "name": "stdout",
          "text": [
            "[-0.46830675 -0.46827391]\n",
            "[-0.11707669 -0.11706848]\n",
            "[1.31727258 0.48498633]\n"
          ]
        }
      ],
      "source": [
        "np.random.seed(42)\n",
        "\n",
        "a = np.random.randn(2)\n",
        "b = np.random.randn(2)\n",
        "c = np.random.randn(2)\n",
        "\n",
        "d = 2*a+0.5*b\n",
        "e = c*d\n",
        "f = np.sum(e)\n",
        "\n",
        "grad_fe = np.ones(2)\n",
        "grad_fc = grad_fe*d\n",
        "grad_fd = grad_fe*c\n",
        "grad_fa = grad_fd*2\n",
        "grad_fb = grad_fd*0.5\n",
        "\n",
        "print(grad_fa)\n",
        "print(grad_fb)\n",
        "print(grad_fc)"
      ]
    },
    {
      "cell_type": "markdown",
      "metadata": {
        "id": "tyeHyMEmCkdT"
      },
      "source": [
        "### 2.2. Computational Graphs with PyTorch\n",
        "\n",
        "Determining the values and gradients of the above computational graph in the PyTorch framework can be done more simply with the help of its automatic gradient tracking and the backward method. The former prescribes to store all intermediate result between the output and the tensors marked as tracked ones. The latter performs the gradient calculations from the given output tensor backwards (toward the inputs) along the graph using the chain rule."
      ]
    },
    {
      "cell_type": "code",
      "execution_count": 14,
      "metadata": {
        "id": "aOVSPMjrCnrS",
        "colab": {
          "base_uri": "https://localhost:8080/"
        },
        "outputId": "96a82d91-7609-405b-b3ce-851ed7c2ed2d"
      },
      "outputs": [
        {
          "output_type": "stream",
          "name": "stdout",
          "text": [
            "tensor([-0.4683, -0.4683], dtype=torch.float64)\n",
            "tensor([-0.1171, -0.1171], dtype=torch.float64)\n",
            "tensor([1.3173, 0.4850], dtype=torch.float64)\n"
          ]
        }
      ],
      "source": [
        "np.random.seed(42)\n",
        "\n",
        "a = torch.tensor(np.random.randn(2), requires_grad=True)\n",
        "b = torch.tensor(np.random.randn(2), requires_grad=True)\n",
        "c = torch.tensor(np.random.randn(2), requires_grad=True)\n",
        "\n",
        "d = 2*a+0.5*b\n",
        "e = c*d\n",
        "f = torch.sum(e)\n",
        "\n",
        "f.backward()\n",
        "\n",
        "print(a.grad)\n",
        "print(b.grad)\n",
        "print(c.grad)"
      ]
    },
    {
      "cell_type": "markdown",
      "metadata": {
        "id": "kNCnh_SqBmWk"
      },
      "source": [
        "----------------\n",
        "## __3. Implementation and Training of a Simple Linear Model with the Low Level Tools of PyTorch__"
      ]
    },
    {
      "cell_type": "markdown",
      "source": [
        "### Data generator"
      ],
      "metadata": {
        "id": "vh7wG7uYfIm3"
      }
    },
    {
      "cell_type": "code",
      "source": [
        "import matplotlib.pyplot as plt"
      ],
      "metadata": {
        "id": "afEh9yaefGt_"
      },
      "execution_count": 15,
      "outputs": []
    },
    {
      "cell_type": "code",
      "source": [
        "def create_xor_data(N):\n",
        "  X = (torch.rand(N, 2)*2)-0.5\n",
        "\n",
        "  X_round = torch.round(X)\n",
        "  Y = torch.logical_xor(X_round[:, 0], X_round[:, 1])\n",
        "  Y = Y.unsqueeze(-1).float() - 0.5\n",
        "\n",
        "  return X, Y\n",
        "\n",
        "\n",
        "def visualize_xor(x, y):\n",
        "  plt.scatter(x[y.squeeze()<0.0, 0], x[y.squeeze()<0.0, 1])\n",
        "  plt.scatter(x[y.squeeze()>0.0, 0], x[y.squeeze()>0.0, 1])\n",
        "  plt.title(\"XOR data\")\n",
        "  plt.grid(True)\n",
        "  plt.show()\n",
        "\n",
        "\n",
        "x_train, y_train = create_xor_data(10000)\n",
        "visualize_xor(x_train, y_train)"
      ],
      "metadata": {
        "colab": {
          "base_uri": "https://localhost:8080/",
          "height": 452
        },
        "id": "TS1QmdgqfBmT",
        "outputId": "1b3d1581-2071-4e35-c4c2-15d4c43094fe"
      },
      "execution_count": 16,
      "outputs": [
        {
          "output_type": "display_data",
          "data": {
            "text/plain": [
              "<Figure size 640x480 with 1 Axes>"
            ],
            "image/png": "[encoded data removed]"
          },
          "metadata": {}
        }
      ]
    },
    {
      "cell_type": "markdown",
      "metadata": {
        "id": "icBWI28vEMnG"
      },
      "source": [
        "### 3.1. Defining the Linear Model\n",
        "\n",
        "First, we implement a simple linear model at the level of abstraction where the internal operation is still sufficiently transparent. For this, we define PyTorch tensors and instead of the layers of the built-in torch.nn module, we define our own layer, in which we implement essentially a simplified (non-bias) version of the torch.nn.Linear layer with basic PyTorch operations.\n",
        "\n",
        "The linear model essentially implements a neuron performing a linear transformation. The transformation creates a linear relationship between the input vector $x\\;\\epsilon\\;\\mathbb{R}^n$ and the output vector $y\\;\\epsilon\\;\\mathbb{R}^m$, i.e. the output values can be formulated as a linear combination of the input values.\n",
        "#### $W_{x\\rightarrow{y}}:\\mathbb{R}^n\\mapsto\\mathbb{R}^m$\n",
        "#### $y=\\begin{bmatrix}W_{1,1}*x_1 + W_{1,2}*x_2 + \\dots + W_{1,n}*x_n \\\\\\vdots\\\\W_{m,1}*x_1 + W_{m,2}*x_2 + \\dots + W_{m,n}*x_n \\end{bmatrix}$\n",
        "\n",
        "Based on these, it can be seen that the linear transformation can be described using a matrix consisting of m rows and n columns:\n",
        "#### $\\mathbf{y}=W*\\mathbf{x}\\;;\\quad W\\;\\epsilon\\;\\mathbb{R}^{m\\times{n}}$"
      ]
    },
    {
      "cell_type": "code",
      "source": [
        "from torch import nn"
      ],
      "metadata": {
        "id": "9TydVhWJfd1a"
      },
      "execution_count": 17,
      "outputs": []
    },
    {
      "cell_type": "code",
      "execution_count": 18,
      "metadata": {
        "id": "ezLFvS5-EaG7",
        "colab": {
          "base_uri": "https://localhost:8080/"
        },
        "outputId": "08a88b71-cb16-4289-e1c1-653947845924"
      },
      "outputs": [
        {
          "output_type": "stream",
          "name": "stdout",
          "text": [
            "torch.Size([8])\n",
            "torch.Size([16])\n"
          ]
        }
      ],
      "source": [
        "class Linear(nn.Module):\n",
        "  def __init__(self, n, m):\n",
        "    super().__init__()\n",
        "\n",
        "    self.W = nn.Parameter(torch.randn(n, m))\n",
        "\n",
        "  def forward(self, x):\n",
        "    y = x @ self.W\n",
        "\n",
        "    return y\n",
        "\n",
        "\n",
        "lin_test = Linear(8, 16)\n",
        "\n",
        "x_test = torch.randn(8)\n",
        "\n",
        "print(x_test.shape)\n",
        "print(lin_test(x_test).shape)"
      ]
    },
    {
      "cell_type": "markdown",
      "metadata": {
        "id": "W_hjFpBRKhr0"
      },
      "source": [
        "### 3.2. Training the Linear Model\n",
        "\n",
        "The training consists of the following steps:\n",
        "1. We \"call\" our model with the training inputs (forward pass)\n",
        "2. Based on the output estimated by the model and the outputs corresponding to the inputs, we determine the value of the error using an error function.\n",
        "3. The loss is propagated back to the inputs through the computational graph (model+loss function)\n",
        "4. We change the parameters of the model in directions opposite to the gradients in order to converge to the minimum of the error function.\n",
        "5. We reset the gradients of the model. If we did not do this, the gradients would accumulate during the iterations.\n",
        "6. (optional, but highly recommended) Logging the error value.\n",
        "\n",
        "The error we use is MSE[<sup>*</sup>](#mse_note) , to which we add an extra regularization error term. This regularization will penalize weights that are too large, thus preventing overfitting.\n",
        "\n",
        "<a name=\"mse_note\"></a>* Mean Squared Error"
      ]
    },
    {
      "cell_type": "code",
      "source": [
        "from tqdm.notebook import trange"
      ],
      "metadata": {
        "id": "jGfUHPcAhG9-"
      },
      "execution_count": 19,
      "outputs": []
    },
    {
      "cell_type": "code",
      "source": [
        "lr = 1e-3\n",
        "wd = 1e-4"
      ],
      "metadata": {
        "id": "8byjY4Eb-XN_"
      },
      "execution_count": 20,
      "outputs": []
    },
    {
      "cell_type": "code",
      "execution_count": 21,
      "metadata": {
        "id": "uH2JbTDcKkvd",
        "outputId": "d2861f28-ec3d-4f7c-ec0b-da7dc0214cdb",
        "colab": {
          "base_uri": "https://localhost:8080/",
          "height": 501,
          "referenced_widgets": [
            "a985f940bde74393bac2d90d3a261a84",
            "3152c844f0c3479c8f17882926c41090",
            "99056a5ac7c94b88af1f999f8d664f43",
            "ae4c421f30fb416dbc29f68a4c4f4e63",
            "93dc57ef5e71464e99fb7bd91d33b774",
            "90e19dda8ded477fb5f4810caa9a3450",
            "a0fd1dc7fb364430af3e90b3b9cfbf70",
            "9e140f478b8f44e29605d15cc0f5de0d",
            "cc5ba2346f3045a1b22b44f2737e5a35",
            "cb5ae6ba88274fe88a2ae122f46a7844",
            "24d0ce75ac5b49d39a2640d55e046a6b"
          ]
        }
      },
      "outputs": [
        {
          "output_type": "display_data",
          "data": {
            "text/plain": [
              "  0%|          | 0/10000 [00:00<?, ?it/s]"
            ],
            "application/vnd.jupyter.widget-view+json": {
              "version_major": 2,
              "version_minor": 0,
              "model_id": "a985f940bde74393bac2d90d3a261a84"
            }
          },
          "metadata": {}
        },
        {
          "output_type": "display_data",
          "data": {
            "text/plain": [
              "<Figure size 640x480 with 1 Axes>"
            ],
            "image/png": "[encoded data removed]"
          },
          "metadata": {}
        },
        {
          "output_type": "stream",
          "name": "stdout",
          "text": [
            "0.24282020330429077\n"
          ]
        }
      ],
      "source": [
        "model = Linear(2, 1)\n",
        "model.train()\n",
        "\n",
        "losses = []\n",
        "for i in trange(len(x_train)):\n",
        "  if model.W.grad is not None:\n",
        "    model.W.grad.zero_()\n",
        "\n",
        "  x, y_true = x_train[i], y_train[i]\n",
        "\n",
        "  y_pred = model(x)\n",
        "\n",
        "  loss = (y_pred-y_true)**2\n",
        "  loss.backward()\n",
        "\n",
        "  with torch.no_grad():\n",
        "    model.W -= lr*model.W.grad\n",
        "\n",
        "  losses.append(loss.item())\n",
        "\n",
        "\n",
        "plt.plot(losses)\n",
        "plt.title(\"Train loss\")\n",
        "plt.grid(True)\n",
        "plt.show()\n",
        "\n",
        "print(losses[-1])"
      ]
    },
    {
      "cell_type": "markdown",
      "metadata": {
        "id": "7CWc1SCWARXB"
      },
      "source": [
        "---------------------\n",
        "## __5. Changing to higher level PyTorch functionalities__\n",
        "Above we saw how neural nets are trained using low-level operations. In the future, we will place more emphasis on the higher-level built-in elements of the PyTorch library, which provide a general implementation for architectural elements and algorithms often used in deep learning."
      ]
    },
    {
      "cell_type": "markdown",
      "metadata": {
        "id": "PPFDRxTCHucl"
      },
      "source": [
        "### 5.1. Definition of a model with higher level tools"
      ]
    },
    {
      "cell_type": "code",
      "execution_count": 22,
      "metadata": {
        "id": "EqRJR4xLHtn_"
      },
      "outputs": [],
      "source": [
        "model = nn.Sequential(\n",
        "    nn.Linear(2, 16),\n",
        "    nn.ReLU(),\n",
        "    nn.Linear(16, 8),\n",
        "    nn.ReLU(),\n",
        "    nn.Linear(8, 1)\n",
        ")"
      ]
    },
    {
      "cell_type": "markdown",
      "metadata": {
        "id": "Td3nntqTQ_kK"
      },
      "source": [
        "### 5.2. Training with the built-in framework"
      ]
    },
    {
      "cell_type": "code",
      "source": [
        "from torch.optim import SGD\n",
        "from torch.utils.data import TensorDataset"
      ],
      "metadata": {
        "id": "OBTAx6Jz96Z-"
      },
      "execution_count": 23,
      "outputs": []
    },
    {
      "cell_type": "code",
      "execution_count": 24,
      "metadata": {
        "id": "xOpVRTbbREb9",
        "colab": {
          "base_uri": "https://localhost:8080/",
          "height": 484,
          "referenced_widgets": [
            "bd2ba058ac584d2eb4bac5325c4c23f3",
            "6d006d5fb66c43feb4390ca6c88170e1",
            "7a7e74eeebf64291a3b2d08d45f3f631",
            "b0f958cc559046189343dbaaeb1a3c1e",
            "783fcfe3cd29428fbe063110246a6831",
            "3a129d6c20c9424bb471c60363dc8b3c",
            "c9eae823a18f49cdb8f621c7792e7f6f",
            "7388392ba0a74dc9a3b323857f5008b0",
            "86d67fc9b9364f8f8331c2c71ee9d278",
            "3a3105da1736458eb1c66b166b9c7aea",
            "5d6523c6135a4e609f8f47ba7ae1c6d2"
          ]
        },
        "outputId": "16d21b02-c9b9-4a49-a5a3-ba7fe93dfb97"
      },
      "outputs": [
        {
          "output_type": "display_data",
          "data": {
            "text/plain": [
              "  0%|          | 0/10 [00:00<?, ?it/s]"
            ],
            "application/vnd.jupyter.widget-view+json": {
              "version_major": 2,
              "version_minor": 0,
              "model_id": "bd2ba058ac584d2eb4bac5325c4c23f3"
            }
          },
          "metadata": {}
        },
        {
          "output_type": "display_data",
          "data": {
            "text/plain": [
              "<Figure size 640x480 with 1 Axes>"
            ],
            "image/png": "[encoded data removed]"
          },
          "metadata": {}
        }
      ],
      "source": [
        "optimizer = SGD(model.parameters(), lr=lr)\n",
        "loss_fn = nn.MSELoss()\n",
        "\n",
        "train_set = TensorDataset(x_train, y_train)\n",
        "\n",
        "num_epochs = 10\n",
        "\n",
        "losses = []\n",
        "for epoch in trange(num_epochs):\n",
        "  running_loss = 0.0\n",
        "  for i in range(len(train_set)):\n",
        "    optimizer.zero_grad()\n",
        "\n",
        "    x, y_true = train_set[i]\n",
        "\n",
        "    y_pred = model(x)\n",
        "\n",
        "    loss = loss_fn(y_true, y_pred)\n",
        "    loss.backward()\n",
        "\n",
        "    optimizer.step()\n",
        "\n",
        "    running_loss += loss.item()\n",
        "  running_loss /= len(train_set)\n",
        "  losses.append(running_loss)\n",
        "\n",
        "\n",
        "plt.plot(losses)\n",
        "plt.title(\"Train loss\")\n",
        "plt.grid(True)\n",
        "plt.show()"
      ]
    },
    {
      "cell_type": "markdown",
      "metadata": {
        "id": "SCqchuQyWHMl"
      },
      "source": [
        "-------------------\n",
        "## __6. Training on GPUs with CUDA__\n",
        "\n",
        "Teaching complex neural networks (and, in general, the production level use of trained models) involves high computational demand. For this reason, it may be worthwhile to run our model on a device capable of high parallelization (GPUs, DSPs, etc.) or pipelining (TPUs, VPUs, FPGAs). The most common such devices are GPUs, as they can easily be used to perform general-purpose SIMD (Single Instruction Multiple Data) operations. This use is also called a GPGPU (General Purpose GPU) application. Among the two major manufacturers, Nvidia and its CUDA GPGPU programming environment are more commonly used in the deep learning frameworks, but recently AMD RocM has also received PyTorch support."
      ]
    },
    {
      "cell_type": "code",
      "execution_count": 25,
      "metadata": {
        "id": "T5imI0lgWNtp",
        "colab": {
          "base_uri": "https://localhost:8080/",
          "height": 484,
          "referenced_widgets": [
            "44dbb1359f5f46a29a60664e304e4be7",
            "a99e1585fd644f118652993fb25ece8c",
            "78438c99c9a7417b9f8faf8029a83296",
            "4eff7ee157804691bffc877f18b27c5b",
            "388be8e71246453191406b424e45f9fd",
            "ff2db2f46c6346358f0953a1213e819c",
            "8c9a555118fc42168c234dab2175ee0f",
            "f507184c179c4483bcd5cd07581b4de2",
            "6664d0ce571f4699901dba8702636574",
            "f8adee340643410e969b8302311f6073",
            "a54ef4f8014244a7a3bb4b844d610579"
          ]
        },
        "outputId": "3028fcaa-376e-4618-a2aa-8edc12881b49"
      },
      "outputs": [
        {
          "output_type": "display_data",
          "data": {
            "text/plain": [
              "  0%|          | 0/10 [00:00<?, ?it/s]"
            ],
            "application/vnd.jupyter.widget-view+json": {
              "version_major": 2,
              "version_minor": 0,
              "model_id": "44dbb1359f5f46a29a60664e304e4be7"
            }
          },
          "metadata": {}
        },
        {
          "output_type": "display_data",
          "data": {
            "text/plain": [
              "<Figure size 640x480 with 1 Axes>"
            ],
            "image/png": "[encoded data removed]"
          },
          "metadata": {}
        }
      ],
      "source": [
        "model = model.to(\"cuda\")\n",
        "\n",
        "optimizer = SGD(model.parameters(), lr=lr)\n",
        "loss_fn = nn.MSELoss()\n",
        "\n",
        "train_set = TensorDataset(x_train, y_train)\n",
        "\n",
        "num_epochs = 10\n",
        "\n",
        "losses = []\n",
        "for epoch in trange(num_epochs):\n",
        "  running_loss = 0.0\n",
        "  for i in range(len(train_set)):\n",
        "    optimizer.zero_grad()\n",
        "\n",
        "    x, y_true = train_set[i]\n",
        "    x, y_true = x.to(\"cuda\"), y_true.to(\"cuda\")\n",
        "\n",
        "    y_pred = model(x)\n",
        "\n",
        "    loss = loss_fn(y_true, y_pred)\n",
        "    loss.backward()\n",
        "\n",
        "    optimizer.step()\n",
        "\n",
        "    running_loss += loss.item()\n",
        "  running_loss /= len(train_set)\n",
        "  losses.append(running_loss)\n",
        "\n",
        "\n",
        "plt.plot(losses)\n",
        "plt.title(\"Train loss\")\n",
        "plt.grid(True)\n",
        "plt.show()"
      ]
    },
    {
      "cell_type": "markdown",
      "metadata": {
        "id": "0M2I4pr6ewTB"
      },
      "source": [
        "-------------------\n",
        "## __7. Validation__\n",
        "\n",
        "When training neural networks, the data set is usually divided into three main parts: __training__, __validation__ and __test__ sets.\n",
        "- The inputs and outputs of the teaching set are actively involved in the training. The training inputs are passed to the network and the training outputs are compared with the predictions of the network in the error function, and then the optimization takes place based on the error.\n",
        "- The usage of the validation data is more indirect than that but it is still important during training. In an epoch, we calculate the loss between the predictions and the reference outputs in \"eval\" mode. This provides an estimate of how the network performs on data that the network is not optimized on, i.e. the generalization of the network. The only problem with this data is that in different experiments, as we tune the training hyperparameters for better performance (which includes generalization), we have the potential to tune the parameters to perform well on the validation data. That is why we use the test set.\n",
        "- The test set is not used during training epochs, their role is emphasized in the evaluation of the real performance of the network. Test data can provide information about what the actual performance of the network is on data that has not played any role during training.\n",
        "\n",
        "---------------------\n",
        "### _Know your data_\n",
        "The performance of deep learning techniques (especially for supervised learning) largely depends on the quality of the data. Both training, validation and test data can be considered of good quality if they cover the \"interpretation range\" and \"value set\" of the task as best and as evenly as possible. This means that during teaching, the network should preferably be prepared uniformly for all input types, and the distribution of distinguishable output types should ideally be close to uniform. During the validation and test, we also get a real picture of the performance of the network if all possible cases are included in the performance measurement."
      ]
    },
    {
      "cell_type": "code",
      "execution_count": 25,
      "metadata": {
        "id": "iZOE9fKnexe6"
      },
      "outputs": [],
      "source": []
    }
  ],
  "metadata": {
    "colab": {
      "provenance": [],
      "name": "ip_practice10",
      "gpuType": "T4",
      "include_colab_link": true
    },
    "kernelspec": {
      "display_name": "Python 3",
      "name": "python3"
    },
    "language_info": {
      "codemirror_mode": {
        "name": "ipython",
        "version": 3
      },
      "file_extension": ".py",
      "mimetype": "text/x-python",
      "name": "python",
      "nbconvert_exporter": "python",
      "pygments_lexer": "ipython3",
      "version": "3.10.6"
    },
    "vscode": {
      "interpreter": {
        "hash": "5fb6c87ea7f1979dd9c20712fd9646546ddc6abdf3547fbca14f652bc3ca0d7c"
      }
    },
    "accelerator": "GPU",
    "widgets": {
      "application/vnd.jupyter.widget-state+json": {
        "a985f940bde74393bac2d90d3a261a84": {
          "model_module": "@jupyter-widgets/controls",
          "model_name": "HBoxModel",
          "model_module_version": "1.5.0",
          "state": {
            "_dom_classes": [],
            "_model_module": "@jupyter-widgets/controls",
            "_model_module_version": "1.5.0",
            "_model_name": "HBoxModel",
            "_view_count": null,
            "_view_module": "@jupyter-widgets/controls",
            "_view_module_version": "1.5.0",
            "_view_name": "HBoxView",
            "box_style": "",
            "children": [
              "IPY_MODEL_3152c844f0c3479c8f17882926c41090",
              "IPY_MODEL_99056a5ac7c94b88af1f999f8d664f43",
              "IPY_MODEL_ae4c421f30fb416dbc29f68a4c4f4e63"
            ],
            "layout": "IPY_MODEL_93dc57ef5e71464e99fb7bd91d33b774"
          }
        },
        "3152c844f0c3479c8f17882926c41090": {
          "model_module": "@jupyter-widgets/controls",
          "model_name": "HTMLModel",
          "model_module_version": "1.5.0",
          "state": {
            "_dom_classes": [],
            "_model_module": "@jupyter-widgets/controls",
            "_model_module_version": "1.5.0",
            "_model_name": "HTMLModel",
            "_view_count": null,
            "_view_module": "@jupyter-widgets/controls",
            "_view_module_version": "1.5.0",
            "_view_name": "HTMLView",
            "description": "",
            "description_tooltip": null,
            "layout": "IPY_MODEL_90e19dda8ded477fb5f4810caa9a3450",
            "placeholder": "​",
            "style": "IPY_MODEL_a0fd1dc7fb364430af3e90b3b9cfbf70",
            "value": "100%"
          }
        },
        "99056a5ac7c94b88af1f999f8d664f43": {
          "model_module": "@jupyter-widgets/controls",
          "model_name": "FloatProgressModel",
          "model_module_version": "1.5.0",
          "state": {
            "_dom_classes": [],
            "_model_module": "@jupyter-widgets/controls",
            "_model_module_version": "1.5.0",
            "_model_name": "FloatProgressModel",
            "_view_count": null,
            "_view_module": "@jupyter-widgets/controls",
            "_view_module_version": "1.5.0",
            "_view_name": "ProgressView",
            "bar_style": "success",
            "description": "",
            "description_tooltip": null,
            "layout": "IPY_MODEL_9e140f478b8f44e29605d15cc0f5de0d",
            "max": 10000,
            "min": 0,
            "orientation": "horizontal",
            "style": "IPY_MODEL_cc5ba2346f3045a1b22b44f2737e5a35",
            "value": 10000
          }
        },
        "ae4c421f30fb416dbc29f68a4c4f4e63": {
          "model_module": "@jupyter-widgets/controls",
          "model_name": "HTMLModel",
          "model_module_version": "1.5.0",
          "state": {
            "_dom_classes": [],
            "_model_module": "@jupyter-widgets/controls",
            "_model_module_version": "1.5.0",
            "_model_name": "HTMLModel",
            "_view_count": null,
            "_view_module": "@jupyter-widgets/controls",
            "_view_module_version": "1.5.0",
            "_view_name": "HTMLView",
            "description": "",
            "description_tooltip": null,
            "layout": "IPY_MODEL_cb5ae6ba88274fe88a2ae122f46a7844",
            "placeholder": "​",
            "style": "IPY_MODEL_24d0ce75ac5b49d39a2640d55e046a6b",
            "value": " 10000/10000 [00:03&lt;00:00, 2397.86it/s]"
          }
        },
        "93dc57ef5e71464e99fb7bd91d33b774": {
          "model_module": "@jupyter-widgets/base",
          "model_name": "LayoutModel",
          "model_module_version": "1.2.0",
          "state": {
            "_model_module": "@jupyter-widgets/base",
            "_model_module_version": "1.2.0",
            "_model_name": "LayoutModel",
            "_view_count": null,
            "_view_module": "@jupyter-widgets/base",
            "_view_module_version": "1.2.0",
            "_view_name": "LayoutView",
            "align_content": null,
            "align_items": null,
            "align_self": null,
            "border": null,
            "bottom": null,
            "display": null,
            "flex": null,
            "flex_flow": null,
            "grid_area": null,
            "grid_auto_columns": null,
            "grid_auto_flow": null,
            "grid_auto_rows": null,
            "grid_column": null,
            "grid_gap": null,
            "grid_row": null,
            "grid_template_areas": null,
            "grid_template_columns": null,
            "grid_template_rows": null,
            "height": null,
            "justify_content": null,
            "justify_items": null,
            "left": null,
            "margin": null,
            "max_height": null,
            "max_width": null,
            "min_height": null,
            "min_width": null,
            "object_fit": null,
            "object_position": null,
            "order": null,
            "overflow": null,
            "overflow_x": null,
            "overflow_y": null,
            "padding": null,
            "right": null,
            "top": null,
            "visibility": null,
            "width": null
          }
        },
        "90e19dda8ded477fb5f4810caa9a3450": {
          "model_module": "@jupyter-widgets/base",
          "model_name": "LayoutModel",
          "model_module_version": "1.2.0",
          "state": {
            "_model_module": "@jupyter-widgets/base",
            "_model_module_version": "1.2.0",
            "_model_name": "LayoutModel",
            "_view_count": null,
            "_view_module": "@jupyter-widgets/base",
            "_view_module_version": "1.2.0",
            "_view_name": "LayoutView",
            "align_content": null,
            "align_items": null,
            "align_self": null,
            "border": null,
            "bottom": null,
            "display": null,
            "flex": null,
            "flex_flow": null,
            "grid_area": null,
            "grid_auto_columns": null,
            "grid_auto_flow": null,
            "grid_auto_rows": null,
            "grid_column": null,
            "grid_gap": null,
            "grid_row": null,
            "grid_template_areas": null,
            "grid_template_columns": null,
            "grid_template_rows": null,
            "height": null,
            "justify_content": null,
            "justify_items": null,
            "left": null,
            "margin": null,
            "max_height": null,
            "max_width": null,
            "min_height": null,
            "min_width": null,
            "object_fit": null,
            "object_position": null,
            "order": null,
            "overflow": null,
            "overflow_x": null,
            "overflow_y": null,
            "padding": null,
            "right": null,
            "top": null,
            "visibility": null,
            "width": null
          }
        },
        "a0fd1dc7fb364430af3e90b3b9cfbf70": {
          "model_module": "@jupyter-widgets/controls",
          "model_name": "DescriptionStyleModel",
          "model_module_version": "1.5.0",
          "state": {
            "_model_module": "@jupyter-widgets/controls",
            "_model_module_version": "1.5.0",
            "_model_name": "DescriptionStyleModel",
            "_view_count": null,
            "_view_module": "@jupyter-widgets/base",
            "_view_module_version": "1.2.0",
            "_view_name": "StyleView",
            "description_width": ""
          }
        },
        "9e140f478b8f44e29605d15cc0f5de0d": {
          "model_module": "@jupyter-widgets/base",
          "model_name": "LayoutModel",
          "model_module_version": "1.2.0",
          "state": {
            "_model_module": "@jupyter-widgets/base",
            "_model_module_version": "1.2.0",
            "_model_name": "LayoutModel",
            "_view_count": null,
            "_view_module": "@jupyter-widgets/base",
            "_view_module_version": "1.2.0",
            "_view_name": "LayoutView",
            "align_content": null,
            "align_items": null,
            "align_self": null,
            "border": null,
            "bottom": null,
            "display": null,
            "flex": null,
            "flex_flow": null,
            "grid_area": null,
            "grid_auto_columns": null,
            "grid_auto_flow": null,
            "grid_auto_rows": null,
            "grid_column": null,
            "grid_gap": null,
            "grid_row": null,
            "grid_template_areas": null,
            "grid_template_columns": null,
            "grid_template_rows": null,
            "height": null,
            "justify_content": null,
            "justify_items": null,
            "left": null,
            "margin": null,
            "max_height": null,
            "max_width": null,
            "min_height": null,
            "min_width": null,
            "object_fit": null,
            "object_position": null,
            "order": null,
            "overflow": null,
            "overflow_x": null,
            "overflow_y": null,
            "padding": null,
            "right": null,
            "top": null,
            "visibility": null,
            "width": null
          }
        },
        "cc5ba2346f3045a1b22b44f2737e5a35": {
          "model_module": "@jupyter-widgets/controls",
          "model_name": "ProgressStyleModel",
          "model_module_version": "1.5.0",
          "state": {
            "_model_module": "@jupyter-widgets/controls",
            "_model_module_version": "1.5.0",
            "_model_name": "ProgressStyleModel",
            "_view_count": null,
            "_view_module": "@jupyter-widgets/base",
            "_view_module_version": "1.2.0",
            "_view_name": "StyleView",
            "bar_color": null,
            "description_width": ""
          }
        },
        "cb5ae6ba88274fe88a2ae122f46a7844": {
          "model_module": "@jupyter-widgets/base",
          "model_name": "LayoutModel",
          "model_module_version": "1.2.0",
          "state": {
            "_model_module": "@jupyter-widgets/base",
            "_model_module_version": "1.2.0",
            "_model_name": "LayoutModel",
            "_view_count": null,
            "_view_module": "@jupyter-widgets/base",
            "_view_module_version": "1.2.0",
            "_view_name": "LayoutView",
            "align_content": null,
            "align_items": null,
            "align_self": null,
            "border": null,
            "bottom": null,
            "display": null,
            "flex": null,
            "flex_flow": null,
            "grid_area": null,
            "grid_auto_columns": null,
            "grid_auto_flow": null,
            "grid_auto_rows": null,
            "grid_column": null,
            "grid_gap": null,
            "grid_row": null,
            "grid_template_areas": null,
            "grid_template_columns": null,
            "grid_template_rows": null,
            "height": null,
            "justify_content": null,
            "justify_items": null,
            "left": null,
            "margin": null,
            "max_height": null,
            "max_width": null,
            "min_height": null,
            "min_width": null,
            "object_fit": null,
            "object_position": null,
            "order": null,
            "overflow": null,
            "overflow_x": null,
            "overflow_y": null,
            "padding": null,
            "right": null,
            "top": null,
            "visibility": null,
            "width": null
          }
        },
        "24d0ce75ac5b49d39a2640d55e046a6b": {
          "model_module": "@jupyter-widgets/controls",
          "model_name": "DescriptionStyleModel",
          "model_module_version": "1.5.0",
          "state": {
            "_model_module": "@jupyter-widgets/controls",
            "_model_module_version": "1.5.0",
            "_model_name": "DescriptionStyleModel",
            "_view_count": null,
            "_view_module": "@jupyter-widgets/base",
            "_view_module_version": "1.2.0",
            "_view_name": "StyleView",
            "description_width": ""
          }
        },
        "bd2ba058ac584d2eb4bac5325c4c23f3": {
          "model_module": "@jupyter-widgets/controls",
          "model_name": "HBoxModel",
          "model_module_version": "1.5.0",
          "state": {
            "_dom_classes": [],
            "_model_module": "@jupyter-widgets/controls",
            "_model_module_version": "1.5.0",
            "_model_name": "HBoxModel",
            "_view_count": null,
            "_view_module": "@jupyter-widgets/controls",
            "_view_module_version": "1.5.0",
            "_view_name": "HBoxView",
            "box_style": "",
            "children": [
              "IPY_MODEL_6d006d5fb66c43feb4390ca6c88170e1",
              "IPY_MODEL_7a7e74eeebf64291a3b2d08d45f3f631",
              "IPY_MODEL_b0f958cc559046189343dbaaeb1a3c1e"
            ],
            "layout": "IPY_MODEL_783fcfe3cd29428fbe063110246a6831"
          }
        },
        "6d006d5fb66c43feb4390ca6c88170e1": {
          "model_module": "@jupyter-widgets/controls",
          "model_name": "HTMLModel",
          "model_module_version": "1.5.0",
          "state": {
            "_dom_classes": [],
            "_model_module": "@jupyter-widgets/controls",
            "_model_module_version": "1.5.0",
            "_model_name": "HTMLModel",
            "_view_count": null,
            "_view_module": "@jupyter-widgets/controls",
            "_view_module_version": "1.5.0",
            "_view_name": "HTMLView",
            "description": "",
            "description_tooltip": null,
            "layout": "IPY_MODEL_3a129d6c20c9424bb471c60363dc8b3c",
            "placeholder": "​",
            "style": "IPY_MODEL_c9eae823a18f49cdb8f621c7792e7f6f",
            "value": "100%"
          }
        },
        "7a7e74eeebf64291a3b2d08d45f3f631": {
          "model_module": "@jupyter-widgets/controls",
          "model_name": "FloatProgressModel",
          "model_module_version": "1.5.0",
          "state": {
            "_dom_classes": [],
            "_model_module": "@jupyter-widgets/controls",
            "_model_module_version": "1.5.0",
            "_model_name": "FloatProgressModel",
            "_view_count": null,
            "_view_module": "@jupyter-widgets/controls",
            "_view_module_version": "1.5.0",
            "_view_name": "ProgressView",
            "bar_style": "success",
            "description": "",
            "description_tooltip": null,
            "layout": "IPY_MODEL_7388392ba0a74dc9a3b323857f5008b0",
            "max": 10,
            "min": 0,
            "orientation": "horizontal",
            "style": "IPY_MODEL_86d67fc9b9364f8f8331c2c71ee9d278",
            "value": 10
          }
        },
        "b0f958cc559046189343dbaaeb1a3c1e": {
          "model_module": "@jupyter-widgets/controls",
          "model_name": "HTMLModel",
          "model_module_version": "1.5.0",
          "state": {
            "_dom_classes": [],
            "_model_module": "@jupyter-widgets/controls",
            "_model_module_version": "1.5.0",
            "_model_name": "HTMLModel",
            "_view_count": null,
            "_view_module": "@jupyter-widgets/controls",
            "_view_module_version": "1.5.0",
            "_view_name": "HTMLView",
            "description": "",
            "description_tooltip": null,
            "layout": "IPY_MODEL_3a3105da1736458eb1c66b166b9c7aea",
            "placeholder": "​",
            "style": "IPY_MODEL_5d6523c6135a4e609f8f47ba7ae1c6d2",
            "value": " 10/10 [01:05&lt;00:00,  6.55s/it]"
          }
        },
        "783fcfe3cd29428fbe063110246a6831": {
          "model_module": "@jupyter-widgets/base",
          "model_name": "LayoutModel",
          "model_module_version": "1.2.0",
          "state": {
            "_model_module": "@jupyter-widgets/base",
            "_model_module_version": "1.2.0",
            "_model_name": "LayoutModel",
            "_view_count": null,
            "_view_module": "@jupyter-widgets/base",
            "_view_module_version": "1.2.0",
            "_view_name": "LayoutView",
            "align_content": null,
            "align_items": null,
            "align_self": null,
            "border": null,
            "bottom": null,
            "display": null,
            "flex": null,
            "flex_flow": null,
            "grid_area": null,
            "grid_auto_columns": null,
            "grid_auto_flow": null,
            "grid_auto_rows": null,
            "grid_column": null,
            "grid_gap": null,
            "grid_row": null,
            "grid_template_areas": null,
            "grid_template_columns": null,
            "grid_template_rows": null,
            "height": null,
            "justify_content": null,
            "justify_items": null,
            "left": null,
            "margin": null,
            "max_height": null,
            "max_width": null,
            "min_height": null,
            "min_width": null,
            "object_fit": null,
            "object_position": null,
            "order": null,
            "overflow": null,
            "overflow_x": null,
            "overflow_y": null,
            "padding": null,
            "right": null,
            "top": null,
            "visibility": null,
            "width": null
          }
        },
        "3a129d6c20c9424bb471c60363dc8b3c": {
          "model_module": "@jupyter-widgets/base",
          "model_name": "LayoutModel",
          "model_module_version": "1.2.0",
          "state": {
            "_model_module": "@jupyter-widgets/base",
            "_model_module_version": "1.2.0",
            "_model_name": "LayoutModel",
            "_view_count": null,
            "_view_module": "@jupyter-widgets/base",
            "_view_module_version": "1.2.0",
            "_view_name": "LayoutView",
            "align_content": null,
            "align_items": null,
            "align_self": null,
            "border": null,
            "bottom": null,
            "display": null,
            "flex": null,
            "flex_flow": null,
            "grid_area": null,
            "grid_auto_columns": null,
            "grid_auto_flow": null,
            "grid_auto_rows": null,
            "grid_column": null,
            "grid_gap": null,
            "grid_row": null,
            "grid_template_areas": null,
            "grid_template_columns": null,
            "grid_template_rows": null,
            "height": null,
            "justify_content": null,
            "justify_items": null,
            "left": null,
            "margin": null,
            "max_height": null,
            "max_width": null,
            "min_height": null,
            "min_width": null,
            "object_fit": null,
            "object_position": null,
            "order": null,
            "overflow": null,
            "overflow_x": null,
            "overflow_y": null,
            "padding": null,
            "right": null,
            "top": null,
            "visibility": null,
            "width": null
          }
        },
        "c9eae823a18f49cdb8f621c7792e7f6f": {
          "model_module": "@jupyter-widgets/controls",
          "model_name": "DescriptionStyleModel",
          "model_module_version": "1.5.0",
          "state": {
            "_model_module": "@jupyter-widgets/controls",
            "_model_module_version": "1.5.0",
            "_model_name": "DescriptionStyleModel",
            "_view_count": null,
            "_view_module": "@jupyter-widgets/base",
            "_view_module_version": "1.2.0",
            "_view_name": "StyleView",
            "description_width": ""
          }
        },
        "7388392ba0a74dc9a3b323857f5008b0": {
          "model_module": "@jupyter-widgets/base",
          "model_name": "LayoutModel",
          "model_module_version": "1.2.0",
          "state": {
            "_model_module": "@jupyter-widgets/base",
            "_model_module_version": "1.2.0",
            "_model_name": "LayoutModel",
            "_view_count": null,
            "_view_module": "@jupyter-widgets/base",
            "_view_module_version": "1.2.0",
            "_view_name": "LayoutView",
            "align_content": null,
            "align_items": null,
            "align_self": null,
            "border": null,
            "bottom": null,
            "display": null,
            "flex": null,
            "flex_flow": null,
            "grid_area": null,
            "grid_auto_columns": null,
            "grid_auto_flow": null,
            "grid_auto_rows": null,
            "grid_column": null,
            "grid_gap": null,
            "grid_row": null,
            "grid_template_areas": null,
            "grid_template_columns": null,
            "grid_template_rows": null,
            "height": null,
            "justify_content": null,
            "justify_items": null,
            "left": null,
            "margin": null,
            "max_height": null,
            "max_width": null,
            "min_height": null,
            "min_width": null,
            "object_fit": null,
            "object_position": null,
            "order": null,
            "overflow": null,
            "overflow_x": null,
            "overflow_y": null,
            "padding": null,
            "right": null,
            "top": null,
            "visibility": null,
            "width": null
          }
        },
        "86d67fc9b9364f8f8331c2c71ee9d278": {
          "model_module": "@jupyter-widgets/controls",
          "model_name": "ProgressStyleModel",
          "model_module_version": "1.5.0",
          "state": {
            "_model_module": "@jupyter-widgets/controls",
            "_model_module_version": "1.5.0",
            "_model_name": "ProgressStyleModel",
            "_view_count": null,
            "_view_module": "@jupyter-widgets/base",
            "_view_module_version": "1.2.0",
            "_view_name": "StyleView",
            "bar_color": null,
            "description_width": ""
          }
        },
        "3a3105da1736458eb1c66b166b9c7aea": {
          "model_module": "@jupyter-widgets/base",
          "model_name": "LayoutModel",
          "model_module_version": "1.2.0",
          "state": {
            "_model_module": "@jupyter-widgets/base",
            "_model_module_version": "1.2.0",
            "_model_name": "LayoutModel",
            "_view_count": null,
            "_view_module": "@jupyter-widgets/base",
            "_view_module_version": "1.2.0",
            "_view_name": "LayoutView",
            "align_content": null,
            "align_items": null,
            "align_self": null,
            "border": null,
            "bottom": null,
            "display": null,
            "flex": null,
            "flex_flow": null,
            "grid_area": null,
            "grid_auto_columns": null,
            "grid_auto_flow": null,
            "grid_auto_rows": null,
            "grid_column": null,
            "grid_gap": null,
            "grid_row": null,
            "grid_template_areas": null,
            "grid_template_columns": null,
            "grid_template_rows": null,
            "height": null,
            "justify_content": null,
            "justify_items": null,
            "left": null,
            "margin": null,
            "max_height": null,
            "max_width": null,
            "min_height": null,
            "min_width": null,
            "object_fit": null,
            "object_position": null,
            "order": null,
            "overflow": null,
            "overflow_x": null,
            "overflow_y": null,
            "padding": null,
            "right": null,
            "top": null,
            "visibility": null,
            "width": null
          }
        },
        "5d6523c6135a4e609f8f47ba7ae1c6d2": {
          "model_module": "@jupyter-widgets/controls",
          "model_name": "DescriptionStyleModel",
          "model_module_version": "1.5.0",
          "state": {
            "_model_module": "@jupyter-widgets/controls",
            "_model_module_version": "1.5.0",
            "_model_name": "DescriptionStyleModel",
            "_view_count": null,
            "_view_module": "@jupyter-widgets/base",
            "_view_module_version": "1.2.0",
            "_view_name": "StyleView",
            "description_width": ""
          }
        },
        "44dbb1359f5f46a29a60664e304e4be7": {
          "model_module": "@jupyter-widgets/controls",
          "model_name": "HBoxModel",
          "model_module_version": "1.5.0",
          "state": {
            "_dom_classes": [],
            "_model_module": "@jupyter-widgets/controls",
            "_model_module_version": "1.5.0",
            "_model_name": "HBoxModel",
            "_view_count": null,
            "_view_module": "@jupyter-widgets/controls",
            "_view_module_version": "1.5.0",
            "_view_name": "HBoxView",
            "box_style": "",
            "children": [
              "IPY_MODEL_a99e1585fd644f118652993fb25ece8c",
              "IPY_MODEL_78438c99c9a7417b9f8faf8029a83296",
              "IPY_MODEL_4eff7ee157804691bffc877f18b27c5b"
            ],
            "layout": "IPY_MODEL_388be8e71246453191406b424e45f9fd"
          }
        },
        "a99e1585fd644f118652993fb25ece8c": {
          "model_module": "@jupyter-widgets/controls",
          "model_name": "HTMLModel",
          "model_module_version": "1.5.0",
          "state": {
            "_dom_classes": [],
            "_model_module": "@jupyter-widgets/controls",
            "_model_module_version": "1.5.0",
            "_model_name": "HTMLModel",
            "_view_count": null,
            "_view_module": "@jupyter-widgets/controls",
            "_view_module_version": "1.5.0",
            "_view_name": "HTMLView",
            "description": "",
            "description_tooltip": null,
            "layout": "IPY_MODEL_ff2db2f46c6346358f0953a1213e819c",
            "placeholder": "​",
            "style": "IPY_MODEL_8c9a555118fc42168c234dab2175ee0f",
            "value": "100%"
          }
        },
        "78438c99c9a7417b9f8faf8029a83296": {
          "model_module": "@jupyter-widgets/controls",
          "model_name": "FloatProgressModel",
          "model_module_version": "1.5.0",
          "state": {
            "_dom_classes": [],
            "_model_module": "@jupyter-widgets/controls",
            "_model_module_version": "1.5.0",
            "_model_name": "FloatProgressModel",
            "_view_count": null,
            "_view_module": "@jupyter-widgets/controls",
            "_view_module_version": "1.5.0",
            "_view_name": "ProgressView",
            "bar_style": "success",
            "description": "",
            "description_tooltip": null,
            "layout": "IPY_MODEL_f507184c179c4483bcd5cd07581b4de2",
            "max": 10,
            "min": 0,
            "orientation": "horizontal",
            "style": "IPY_MODEL_6664d0ce571f4699901dba8702636574",
            "value": 10
          }
        },
        "4eff7ee157804691bffc877f18b27c5b": {
          "model_module": "@jupyter-widgets/controls",
          "model_name": "HTMLModel",
          "model_module_version": "1.5.0",
          "state": {
            "_dom_classes": [],
            "_model_module": "@jupyter-widgets/controls",
            "_model_module_version": "1.5.0",
            "_model_name": "HTMLModel",
            "_view_count": null,
            "_view_module": "@jupyter-widgets/controls",
            "_view_module_version": "1.5.0",
            "_view_name": "HTMLView",
            "description": "",
            "description_tooltip": null,
            "layout": "IPY_MODEL_f8adee340643410e969b8302311f6073",
            "placeholder": "​",
            "style": "IPY_MODEL_a54ef4f8014244a7a3bb4b844d610579",
            "value": " 10/10 [02:01&lt;00:00, 12.04s/it]"
          }
        },
        "388be8e71246453191406b424e45f9fd": {
          "model_module": "@jupyter-widgets/base",
          "model_name": "LayoutModel",
          "model_module_version": "1.2.0",
          "state": {
            "_model_module": "@jupyter-widgets/base",
            "_model_module_version": "1.2.0",
            "_model_name": "LayoutModel",
            "_view_count": null,
            "_view_module": "@jupyter-widgets/base",
            "_view_module_version": "1.2.0",
            "_view_name": "LayoutView",
            "align_content": null,
            "align_items": null,
            "align_self": null,
            "border": null,
            "bottom": null,
            "display": null,
            "flex": null,
            "flex_flow": null,
            "grid_area": null,
            "grid_auto_columns": null,
            "grid_auto_flow": null,
            "grid_auto_rows": null,
            "grid_column": null,
            "grid_gap": null,
            "grid_row": null,
            "grid_template_areas": null,
            "grid_template_columns": null,
            "grid_template_rows": null,
            "height": null,
            "justify_content": null,
            "justify_items": null,
            "left": null,
            "margin": null,
            "max_height": null,
            "max_width": null,
            "min_height": null,
            "min_width": null,
            "object_fit": null,
            "object_position": null,
            "order": null,
            "overflow": null,
            "overflow_x": null,
            "overflow_y": null,
            "padding": null,
            "right": null,
            "top": null,
            "visibility": null,
            "width": null
          }
        },
        "ff2db2f46c6346358f0953a1213e819c": {
          "model_module": "@jupyter-widgets/base",
          "model_name": "LayoutModel",
          "model_module_version": "1.2.0",
          "state": {
            "_model_module": "@jupyter-widgets/base",
            "_model_module_version": "1.2.0",
            "_model_name": "LayoutModel",
            "_view_count": null,
            "_view_module": "@jupyter-widgets/base",
            "_view_module_version": "1.2.0",
            "_view_name": "LayoutView",
            "align_content": null,
            "align_items": null,
            "align_self": null,
            "border": null,
            "bottom": null,
            "display": null,
            "flex": null,
            "flex_flow": null,
            "grid_area": null,
            "grid_auto_columns": null,
            "grid_auto_flow": null,
            "grid_auto_rows": null,
            "grid_column": null,
            "grid_gap": null,
            "grid_row": null,
            "grid_template_areas": null,
            "grid_template_columns": null,
            "grid_template_rows": null,
            "height": null,
            "justify_content": null,
            "justify_items": null,
            "left": null,
            "margin": null,
            "max_height": null,
            "max_width": null,
            "min_height": null,
            "min_width": null,
            "object_fit": null,
            "object_position": null,
            "order": null,
            "overflow": null,
            "overflow_x": null,
            "overflow_y": null,
            "padding": null,
            "right": null,
            "top": null,
            "visibility": null,
            "width": null
          }
        },
        "8c9a555118fc42168c234dab2175ee0f": {
          "model_module": "@jupyter-widgets/controls",
          "model_name": "DescriptionStyleModel",
          "model_module_version": "1.5.0",
          "state": {
            "_model_module": "@jupyter-widgets/controls",
            "_model_module_version": "1.5.0",
            "_model_name": "DescriptionStyleModel",
            "_view_count": null,
            "_view_module": "@jupyter-widgets/base",
            "_view_module_version": "1.2.0",
            "_view_name": "StyleView",
            "description_width": ""
          }
        },
        "f507184c179c4483bcd5cd07581b4de2": {
          "model_module": "@jupyter-widgets/base",
          "model_name": "LayoutModel",
          "model_module_version": "1.2.0",
          "state": {
            "_model_module": "@jupyter-widgets/base",
            "_model_module_version": "1.2.0",
            "_model_name": "LayoutModel",
            "_view_count": null,
            "_view_module": "@jupyter-widgets/base",
            "_view_module_version": "1.2.0",
            "_view_name": "LayoutView",
            "align_content": null,
            "align_items": null,
            "align_self": null,
            "border": null,
            "bottom": null,
            "display": null,
            "flex": null,
            "flex_flow": null,
            "grid_area": null,
            "grid_auto_columns": null,
            "grid_auto_flow": null,
            "grid_auto_rows": null,
            "grid_column": null,
            "grid_gap": null,
            "grid_row": null,
            "grid_template_areas": null,
            "grid_template_columns": null,
            "grid_template_rows": null,
            "height": null,
            "justify_content": null,
            "justify_items": null,
            "left": null,
            "margin": null,
            "max_height": null,
            "max_width": null,
            "min_height": null,
            "min_width": null,
            "object_fit": null,
            "object_position": null,
            "order": null,
            "overflow": null,
            "overflow_x": null,
            "overflow_y": null,
            "padding": null,
            "right": null,
            "top": null,
            "visibility": null,
            "width": null
          }
        },
        "6664d0ce571f4699901dba8702636574": {
          "model_module": "@jupyter-widgets/controls",
          "model_name": "ProgressStyleModel",
          "model_module_version": "1.5.0",
          "state": {
            "_model_module": "@jupyter-widgets/controls",
            "_model_module_version": "1.5.0",
            "_model_name": "ProgressStyleModel",
            "_view_count": null,
            "_view_module": "@jupyter-widgets/base",
            "_view_module_version": "1.2.0",
            "_view_name": "StyleView",
            "bar_color": null,
            "description_width": ""
          }
        },
        "f8adee340643410e969b8302311f6073": {
          "model_module": "@jupyter-widgets/base",
          "model_name": "LayoutModel",
          "model_module_version": "1.2.0",
          "state": {
            "_model_module": "@jupyter-widgets/base",
            "_model_module_version": "1.2.0",
            "_model_name": "LayoutModel",
            "_view_count": null,
            "_view_module": "@jupyter-widgets/base",
            "_view_module_version": "1.2.0",
            "_view_name": "LayoutView",
            "align_content": null,
            "align_items": null,
            "align_self": null,
            "border": null,
            "bottom": null,
            "display": null,
            "flex": null,
            "flex_flow": null,
            "grid_area": null,
            "grid_auto_columns": null,
            "grid_auto_flow": null,
            "grid_auto_rows": null,
            "grid_column": null,
            "grid_gap": null,
            "grid_row": null,
            "grid_template_areas": null,
            "grid_template_columns": null,
            "grid_template_rows": null,
            "height": null,
            "justify_content": null,
            "justify_items": null,
            "left": null,
            "margin": null,
            "max_height": null,
            "max_width": null,
            "min_height": null,
            "min_width": null,
            "object_fit": null,
            "object_position": null,
            "order": null,
            "overflow": null,
            "overflow_x": null,
            "overflow_y": null,
            "padding": null,
            "right": null,
            "top": null,
            "visibility": null,
            "width": null
          }
        },
        "a54ef4f8014244a7a3bb4b844d610579": {
          "model_module": "@jupyter-widgets/controls",
          "model_name": "DescriptionStyleModel",
          "model_module_version": "1.5.0",
          "state": {
            "_model_module": "@jupyter-widgets/controls",
            "_model_module_version": "1.5.0",
            "_model_name": "DescriptionStyleModel",
            "_view_count": null,
            "_view_module": "@jupyter-widgets/base",
            "_view_module_version": "1.2.0",
            "_view_name": "StyleView",
            "description_width": ""
          }
        }
      }
    }
  },
  "nbformat": 4,
  "nbformat_minor": 0
}