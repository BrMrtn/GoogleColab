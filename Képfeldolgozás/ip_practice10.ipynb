{
  "cells": [
    {
      "cell_type": "markdown",
      "metadata": {
        "id": "view-in-github",
        "colab_type": "text"
      },
      "source": [
        "<a href=\"https://colab.research.google.com/github/BrMrtn/GoogleColab/blob/main/K%C3%A9pfeldolgoz%C3%A1s/ip_practice10.ipynb\" target=\"_parent\"><img src=\"https://colab.research.google.com/assets/colab-badge.svg\" alt=\"Open In Colab\"/></a>"
      ]
    },
    {
      "cell_type": "markdown",
      "metadata": {
        "id": "etxxqNjBvbYl"
      },
      "source": [
        "# __Image Processing practice 10__\n",
        "1. Random Seeds\n",
        "2. Computational Graphs & Gradient calculation\n",
        "3. Modelling and Training with low level API tools\n"
      ]
    },
    {
      "cell_type": "markdown",
      "metadata": {
        "id": "JEOY0W_9BASv"
      },
      "source": [
        "----------------------\n",
        "## 0. Preparations"
      ]
    },
    {
      "cell_type": "markdown",
      "metadata": {
        "id": "h_fXivw4A-_Z"
      },
      "source": [
        "### 0.1. Checking GPU and CUDA availability\n",
        "\n",
        "With the _!nvcc --version_ command we can check the CUDA version of our system. Remember, we only need exclamation mark (!) in notebooks to enable running Linux commands in code blocks."
      ]
    },
    {
      "cell_type": "code",
      "execution_count": null,
      "metadata": {
        "id": "76--MCcVvY6b",
        "colab": {
          "base_uri": "https://localhost:8080/"
        },
        "outputId": "7789610a-5343-4e1c-e37f-8b43303f9bc8"
      },
      "outputs": [
        {
          "output_type": "stream",
          "name": "stdout",
          "text": [
            "nvcc: NVIDIA (R) Cuda compiler driver\n",
            "Copyright (c) 2005-2023 NVIDIA Corporation\n",
            "Built on Tue_Aug_15_22:02:13_PDT_2023\n",
            "Cuda compilation tools, release 12.2, V12.2.140\n",
            "Build cuda_12.2.r12.2/compiler.33191640_0\n"
          ]
        }
      ],
      "source": [
        "!nvcc --version"
      ]
    },
    {
      "cell_type": "markdown",
      "source": [
        "### 0.2. Installing latest torch version and tqdm for progress bars"
      ],
      "metadata": {
        "id": "qS1g2kiOBlDY"
      }
    },
    {
      "cell_type": "code",
      "source": [
        "!pip install torch tqdm"
      ],
      "metadata": {
        "colab": {
          "base_uri": "https://localhost:8080/"
        },
        "id": "fDNsJp0GBkTU",
        "outputId": "fbd90163-f564-4b88-bcaa-3d677abc0dce"
      },
      "execution_count": null,
      "outputs": [
        {
          "output_type": "stream",
          "name": "stdout",
          "text": [
            "Requirement already satisfied: torch in /usr/local/lib/python3.10/dist-packages (2.5.0+cu121)\n",
            "Requirement already satisfied: tqdm in /usr/local/lib/python3.10/dist-packages (4.66.6)\n",
            "Requirement already satisfied: filelock in /usr/local/lib/python3.10/dist-packages (from torch) (3.16.1)\n",
            "Requirement already satisfied: typing-extensions>=4.8.0 in /usr/local/lib/python3.10/dist-packages (from torch) (4.12.2)\n",
            "Requirement already satisfied: networkx in /usr/local/lib/python3.10/dist-packages (from torch) (3.4.2)\n",
            "Requirement already satisfied: jinja2 in /usr/local/lib/python3.10/dist-packages (from torch) (3.1.4)\n",
            "Requirement already satisfied: fsspec in /usr/local/lib/python3.10/dist-packages (from torch) (2024.10.0)\n",
            "Requirement already satisfied: sympy==1.13.1 in /usr/local/lib/python3.10/dist-packages (from torch) (1.13.1)\n",
            "Requirement already satisfied: mpmath<1.4,>=1.1.0 in /usr/local/lib/python3.10/dist-packages (from sympy==1.13.1->torch) (1.3.0)\n",
            "Requirement already satisfied: MarkupSafe>=2.0 in /usr/local/lib/python3.10/dist-packages (from jinja2->torch) (3.0.2)\n"
          ]
        }
      ]
    },
    {
      "cell_type": "markdown",
      "metadata": {
        "id": "obfmfJQvA5h4"
      },
      "source": [
        "### Checking PyTorch version and CUDA availability from torch"
      ]
    },
    {
      "cell_type": "code",
      "source": [
        "import torch"
      ],
      "metadata": {
        "id": "YbHpHxo8Cmqm"
      },
      "execution_count": null,
      "outputs": []
    },
    {
      "cell_type": "code",
      "execution_count": null,
      "metadata": {
        "id": "FKndwOLlA9yu",
        "colab": {
          "base_uri": "https://localhost:8080/"
        },
        "outputId": "cc208f25-020c-49bf-f28e-4887440f0f02"
      },
      "outputs": [
        {
          "output_type": "stream",
          "name": "stdout",
          "text": [
            "2.5.0+cu121\n",
            "True\n"
          ]
        }
      ],
      "source": [
        "print(torch.__version__)\n",
        "print(torch.cuda.is_available())"
      ]
    },
    {
      "cell_type": "markdown",
      "metadata": {
        "id": "6cMMl7bOrLTT"
      },
      "source": [
        "--------------------------\n",
        "## __1. Understanding Random Seeds__\n",
        "\n",
        "Setting the seed of the random generator for reproducibility.\n",
        "\n",
        "If you set a specific seed, the subsequent random numbers will be the same after each setting of the same seed. Thanks to this, if we repeatedly run a cell with random generation and the seed is set at the beginning, we will get the same random numbers."
      ]
    },
    {
      "cell_type": "code",
      "source": [
        "import numpy as np"
      ],
      "metadata": {
        "id": "nmf2L9jJFg-L"
      },
      "execution_count": null,
      "outputs": []
    },
    {
      "cell_type": "code",
      "execution_count": null,
      "metadata": {
        "id": "1Mo_iTEDrKEa",
        "colab": {
          "base_uri": "https://localhost:8080/"
        },
        "outputId": "e520306c-02ae-4f86-b9cc-c8f339ba5046"
      },
      "outputs": [
        {
          "output_type": "stream",
          "name": "stdout",
          "text": [
            "[ 0.49671415 -0.1382643 ]\n",
            "[0.64768854 1.52302986]\n",
            "\n",
            "[ 0.49671415 -0.1382643 ]\n",
            "[0.64768854 1.52302986]\n"
          ]
        }
      ],
      "source": [
        "np.random.seed(42)\n",
        "print(np.random.randn(2))\n",
        "print(np.random.randn(2))\n",
        "print()\n",
        "\n",
        "np.random.seed(42)\n",
        "print(np.random.randn(2))\n",
        "print(np.random.randn(2))"
      ]
    },
    {
      "cell_type": "markdown",
      "metadata": {
        "id": "V4dC_kkGAhlE"
      },
      "source": [
        "## __2. Computational Graphs & their gradients__"
      ]
    },
    {
      "cell_type": "markdown",
      "metadata": {
        "id": "m1-kZ27PBWBu"
      },
      "source": [
        "### 2.1. Implementing a Computational Graph with NumPy\n",
        "\n",
        "### Definition of the variables and functions\n",
        "#### $\\{a, b, c, d, e\\}\\;\\epsilon\\;\\mathbb{R}^2; \\;f\\; \\epsilon\\;\\mathbb{R}$\n",
        "\n",
        "#### $\\{\\mathcal{F}_{(a, b)\\rightarrow d}, \\mathcal{F}_{(c, d)\\rightarrow e}\\}:\\mathbb{R}^{2\\times{2}}\\mapsto \\mathbb{R}^2\\; ;\\; \\mathcal{F}_{e\\rightarrow f}: \\mathbb{R}^2\\mapsto\\mathbb{R}$\n",
        "\n",
        "#### $\\mathcal{F}_{(a, b)\\rightarrow d}= \\begin{bmatrix}2*a_1 + 0.5*b_1 \\\\2*a_2 + 0.5*b_2\\end{bmatrix}$\n",
        "#### $\\mathcal{F}_{(c, d)\\rightarrow e}= \\begin{bmatrix}c_1 * d_1 \\\\c_2 * d_2\\end{bmatrix}$\n",
        "#### $\\mathcal{F}_{e\\rightarrow f}=e_1 + e_2$\n",
        "\n",
        "------------------------\n",
        "### Gradient Calculation\n",
        "- If $x\\;\\epsilon\\;\\mathbb{R}^n\\;;\\;y\\;\\epsilon\\;\\mathbb{R}^m$, then the gradient of $\\mathcal{F}_{x\\rightarrow y}:\\mathbb{R}^n\\mapsto\\mathbb{R}^m$ in case of m=1 is:\n",
        "\n",
        "#### $\\nabla\\mathcal{F}_{x\\rightarrow y} = \\begin{bmatrix}\\frac{\\delta{y}}{\\delta{x_1}} &\\frac{\\delta{y}}{\\delta{x_2}} &\\dots &\\frac{\\delta{y}}{\\delta{x_n}}\\end{bmatrix}$\n",
        "- In case of m>1 (vector valudes function) the Jacobi matrix can be used:\n",
        "\n",
        "#### $\\nabla\\mathcal{F}_{x\\rightarrow y} = \\begin{bmatrix}\\frac{\\delta{y_1}}{\\delta{x_1}} & \\dots & \\frac{\\delta{y_1}}{\\delta{x_n}}\\\\\\vdots & \\ddots & \\vdots\\\\\\frac{\\delta{y_m}}{\\delta{x_1}} & \\dots & \\frac{\\delta{y_m}}{\\delta{x_n}}\\\\\\end{bmatrix}$\n",
        "\n",
        "Gradients are traced back to the input from the output based on the chain rule. In case of a multi-input function, the gradients are traced back to the inputs separately, so that when calculating the gradient for a given input, the other inputs are replaced by their values (values marked with a hat and in bold).\n",
        "\n",
        "------------------------------\n",
        "### In case of a given computational graph\n",
        "\n",
        "#### $grad_{fe} = \\nabla \\mathcal{F}_{e\\rightarrow f}=\\begin{bmatrix}\\frac{\\delta{f}}{\\delta{e_1}} & \\frac{\\delta{f}}{\\delta{e_2}}\\end{bmatrix}=\\begin{bmatrix}1 & 1\\end{bmatrix}$\n",
        "\n",
        "#### $grad_{fc} = grad_{fe}*\\nabla\\mathcal{F}_{(c, d=\\mathbf{\\hat{d}})\\rightarrow e}= grad_{fe}*\\begin{bmatrix}\\frac{\\delta{e_1}}{\\delta{c_1}} & \\frac{\\delta{e_1}}{\\delta{c_2}}\\\\\\frac{\\delta{e_2}}{\\delta{c_1}} & \\frac{\\delta{e_2}}{\\delta{c_2}}\\end{bmatrix}=\\begin{bmatrix}1 & 1\\end{bmatrix}*\\begin{bmatrix}\\mathbf{\\hat{d}_0} & 0 \\\\ 0 & \\mathbf{\\hat{d}_1}\\end{bmatrix}=\\begin{bmatrix}\\mathbf{\\hat{d}_0} & \\mathbf{\\hat{d}_1}\\end{bmatrix}$\n",
        "\n",
        "### $grad_{fd} = grad_{fe}*\\nabla\\mathcal{F}_{(c=\\mathbf{\\hat{c}}, d)\\rightarrow e}=\\dots=\\begin{bmatrix}\\mathbf{\\hat{c}_1} & \\mathbf{\\hat{c}_2}\\end{bmatrix}$\n",
        "\n",
        "#### $grad_{fa} = grad_{fd}*\\nabla\\mathcal{F}_{(a, b=\\mathbf{\\hat{b}})\\rightarrow d}=\\dots=grad_{fd}*\\begin{bmatrix}2 & 0\\\\ 0& 2\\end{bmatrix}$\n",
        "\n",
        "#### $grad_{fb} = grad_{fd}*\\nabla\\mathcal{F}_{(a=\\hat{\\mathbf{a}}, b)\\rightarrow d}=\\dots=grad_{fd}*\\begin{bmatrix}0.5 & 0\\\\ 0 & 0.5\\end{bmatrix}$"
      ]
    },
    {
      "cell_type": "code",
      "execution_count": null,
      "metadata": {
        "id": "nAtQ25k2Bdpq",
        "colab": {
          "base_uri": "https://localhost:8080/"
        },
        "outputId": "c71701cb-b3c4-49ad-f47f-5eb6ca8e2f62"
      },
      "outputs": [
        {
          "output_type": "stream",
          "name": "stdout",
          "text": [
            "[-0.46830675 -0.46827391]\n",
            "[-0.11707669 -0.11706848]\n",
            "[1.31727258 0.48498633]\n"
          ]
        }
      ],
      "source": [
        "np.random.seed(42)\n",
        "\n",
        "a = np.random.randn(2)\n",
        "b = np.random.randn(2)\n",
        "c = np.random.randn(2)\n",
        "\n",
        "d = 2*a+0.5*b\n",
        "e = c*d\n",
        "f = np.sum(e)\n",
        "\n",
        "grad_fe = np.ones(2)\n",
        "grad_fc = grad_fe*d\n",
        "grad_fd = grad_fe*c\n",
        "grad_fa = grad_fd*2\n",
        "grad_fb = grad_fd*0.5\n",
        "\n",
        "print(grad_fa)\n",
        "print(grad_fb)\n",
        "print(grad_fc)"
      ]
    },
    {
      "cell_type": "markdown",
      "metadata": {
        "id": "tyeHyMEmCkdT"
      },
      "source": [
        "### 2.2. Computational Graphs with PyTorch\n",
        "\n",
        "Determining the values and gradients of the above computational graph in the PyTorch framework can be done more simply with the help of its automatic gradient tracking and the backward method. The former prescribes to store all intermediate result between the output and the tensors marked as tracked ones. The latter performs the gradient calculations from the given output tensor backwards (toward the inputs) along the graph using the chain rule."
      ]
    },
    {
      "cell_type": "code",
      "execution_count": null,
      "metadata": {
        "id": "aOVSPMjrCnrS",
        "colab": {
          "base_uri": "https://localhost:8080/"
        },
        "outputId": "d5fadd53-695f-4b4e-86a7-7cad7d53e097"
      },
      "outputs": [
        {
          "output_type": "stream",
          "name": "stdout",
          "text": [
            "tensor([-0.4683, -0.4683], dtype=torch.float64)\n",
            "tensor([-0.1171, -0.1171], dtype=torch.float64)\n",
            "tensor([1.3173, 0.4850], dtype=torch.float64)\n"
          ]
        }
      ],
      "source": [
        "np.random.seed(42)\n",
        "\n",
        "a = torch.tensor(np.random.randn(2), requires_grad=True)\n",
        "b = torch.tensor(np.random.randn(2), requires_grad=True)\n",
        "c = torch.tensor(np.random.randn(2), requires_grad=True)\n",
        "\n",
        "d = 2*a+0.5*b\n",
        "e = c*d\n",
        "f = torch.sum(e)\n",
        "\n",
        "f.backward()\n",
        "\n",
        "print(a.grad)\n",
        "print(b.grad)\n",
        "print(c.grad)"
      ]
    },
    {
      "cell_type": "markdown",
      "metadata": {
        "id": "kNCnh_SqBmWk"
      },
      "source": [
        "----------------\n",
        "## __3. Implementation and Training of a Simple Linear Model with the Low Level Tools of PyTorch__"
      ]
    },
    {
      "cell_type": "markdown",
      "source": [
        "### Data generator"
      ],
      "metadata": {
        "id": "vh7wG7uYfIm3"
      }
    },
    {
      "cell_type": "code",
      "source": [
        "import matplotlib.pyplot as plt"
      ],
      "metadata": {
        "id": "afEh9yaefGt_"
      },
      "execution_count": null,
      "outputs": []
    },
    {
      "cell_type": "code",
      "source": [
        "def create_xor_data(N):\n",
        "  X = (torch.rand(N, 2)*2)-0.5\n",
        "\n",
        "  X_round = torch.round(X)\n",
        "  Y = torch.logical_xor(X_round[:, 0], X_round[:, 1])\n",
        "  Y = Y.unsqueeze(-1).float() - 0.5\n",
        "\n",
        "  return X, Y\n",
        "\n",
        "\n",
        "def visualize_xor(x, y):\n",
        "  plt.scatter(x[y.squeeze()<0.0, 0], x[y.squeeze()<0.0, 1])\n",
        "  plt.scatter(x[y.squeeze()>0.0, 0], x[y.squeeze()>0.0, 1])\n",
        "  plt.title(\"XOR data\")\n",
        "  plt.grid(True)\n",
        "  plt.show()\n",
        "\n",
        "\n",
        "x_train, y_train = create_xor_data(10000)\n",
        "visualize_xor(x_train, y_train)"
      ],
      "metadata": {
        "colab": {
          "base_uri": "https://localhost:8080/",
          "height": 452
        },
        "id": "TS1QmdgqfBmT",
        "outputId": "1434764a-e2f9-4c2c-a6d2-a642864ff9c4"
      },
      "execution_count": null,
      "outputs": [
        {
          "output_type": "display_data",
          "data": {
            "text/plain": [
              "<Figure size 640x480 with 1 Axes>"
            ],
            "image/png": "[encoded data removed]"
          },
          "metadata": {}
        }
      ]
    },
    {
      "cell_type": "markdown",
      "metadata": {
        "id": "icBWI28vEMnG"
      },
      "source": [
        "### 3.1. Defining the Linear Model\n",
        "\n",
        "First, we implement a simple linear model at the level of abstraction where the internal operation is still sufficiently transparent. For this, we define PyTorch tensors and instead of the layers of the built-in torch.nn module, we define our own layer, in which we implement essentially a simplified (non-bias) version of the torch.nn.Linear layer with basic PyTorch operations.\n",
        "\n",
        "The linear model essentially implements a neuron performing a linear transformation. The transformation creates a linear relationship between the input vector $x\\;\\epsilon\\;\\mathbb{R}^n$ and the output vector $y\\;\\epsilon\\;\\mathbb{R}^m$, i.e. the output values can be formulated as a linear combination of the input values.\n",
        "#### $W_{x\\rightarrow{y}}:\\mathbb{R}^n\\mapsto\\mathbb{R}^m$\n",
        "#### $y=\\begin{bmatrix}W_{1,1}*x_1 + W_{1,2}*x_2 + \\dots + W_{1,n}*x_n \\\\\\vdots\\\\W_{m,1}*x_1 + W_{m,2}*x_2 + \\dots + W_{m,n}*x_n \\end{bmatrix}$\n",
        "\n",
        "Based on these, it can be seen that the linear transformation can be described using a matrix consisting of m rows and n columns:\n",
        "#### $\\mathbf{y}=W*\\mathbf{x}\\;;\\quad W\\;\\epsilon\\;\\mathbb{R}^{m\\times{n}}$"
      ]
    },
    {
      "cell_type": "code",
      "source": [
        "from torch import nn"
      ],
      "metadata": {
        "id": "9TydVhWJfd1a"
      },
      "execution_count": null,
      "outputs": []
    },
    {
      "cell_type": "code",
      "execution_count": null,
      "metadata": {
        "id": "ezLFvS5-EaG7",
        "colab": {
          "base_uri": "https://localhost:8080/"
        },
        "outputId": "842ca9da-8de3-443f-f717-df5a9bb83ff0"
      },
      "outputs": [
        {
          "output_type": "stream",
          "name": "stdout",
          "text": [
            "torch.Size([8])\n",
            "torch.Size([16])\n"
          ]
        }
      ],
      "source": [
        "class Linear(nn.Module):\n",
        "  def __init__(self, n, m):\n",
        "    super().__init__()\n",
        "\n",
        "    self.W = nn.Parameter(torch.randn(n, m))\n",
        "\n",
        "  def forward(self, x):\n",
        "    y = x @ self.W\n",
        "\n",
        "    return y\n",
        "\n",
        "\n",
        "lin_test = Linear(8, 16)\n",
        "\n",
        "x_test = torch.randn(8)\n",
        "\n",
        "print(x_test.shape)\n",
        "print(lin_test(x_test).shape)"
      ]
    },
    {
      "cell_type": "markdown",
      "metadata": {
        "id": "W_hjFpBRKhr0"
      },
      "source": [
        "### 3.2. Training the Linear Model\n",
        "\n",
        "The training consists of the following steps:\n",
        "1. We \"call\" our model with the training inputs (forward pass)\n",
        "2. Based on the output estimated by the model and the outputs corresponding to the inputs, we determine the value of the error using an error function.\n",
        "3. The loss is propagated back to the inputs through the computational graph (model+loss function)\n",
        "4. We change the parameters of the model in directions opposite to the gradients in order to converge to the minimum of the error function.\n",
        "5. We reset the gradients of the model. If we did not do this, the gradients would accumulate during the iterations.\n",
        "6. (optional, but highly recommended) Logging the error value.\n",
        "\n",
        "The error we use is MSE[<sup>*</sup>](#mse_note) , to which we add an extra regularization error term. This regularization will penalize weights that are too large, thus preventing overfitting.\n",
        "\n",
        "<a name=\"mse_note\"></a>* Mean Squared Error"
      ]
    },
    {
      "cell_type": "code",
      "source": [
        "from tqdm.notebook import trange"
      ],
      "metadata": {
        "id": "jGfUHPcAhG9-"
      },
      "execution_count": null,
      "outputs": []
    },
    {
      "cell_type": "code",
      "source": [
        "lr = 1e-3\n",
        "wd = 1e-4"
      ],
      "metadata": {
        "id": "8byjY4Eb-XN_"
      },
      "execution_count": null,
      "outputs": []
    },
    {
      "cell_type": "code",
      "execution_count": null,
      "metadata": {
        "id": "uH2JbTDcKkvd"
      },
      "outputs": [],
      "source": [
        "model = Linear(2, 1)\n",
        "model.train()\n",
        "\n",
        "losses = []\n",
        "for i in trange(len(x_train)):\n",
        "  if model.W.grad is not None:\n",
        "    model.W.grad.zero_()\n",
        "\n",
        "  x, y_true = x_train[i], y_train[i]\n",
        "\n",
        "  y_pred = model(x)\n",
        "\n",
        "  loss = (y_pred-y_true)**2\n",
        "  loss.backward()\n",
        "\n",
        "  with torch.no_grad():\n",
        "    model.W -= lr*model.W.grad\n",
        "\n",
        "  losses.append(loss.item())\n",
        "\n",
        "\n",
        "plt.plot(losses)\n",
        "plt.title(\"Train loss\")\n",
        "plt.grid(True)\n",
        "plt.show()\n",
        "\n",
        "print(losses[-1])"
      ]
    },
    {
      "cell_type": "markdown",
      "metadata": {
        "id": "7CWc1SCWARXB"
      },
      "source": [
        "---------------------\n",
        "## __5. Changing to higher level PyTorch functionalities__\n",
        "Above we saw how neural nets are trained using low-level operations. In the future, we will place more emphasis on the higher-level built-in elements of the PyTorch library, which provide a general implementation for architectural elements and algorithms often used in deep learning."
      ]
    },
    {
      "cell_type": "markdown",
      "metadata": {
        "id": "PPFDRxTCHucl"
      },
      "source": [
        "### 5.1. Definition of a model with higher level tools"
      ]
    },
    {
      "cell_type": "code",
      "execution_count": null,
      "metadata": {
        "id": "EqRJR4xLHtn_"
      },
      "outputs": [],
      "source": [
        "model = nn.Sequential(\n",
        "    nn.Linear(2, 16),\n",
        "    nn.ReLU(),\n",
        "    nn.Linear(16, 8),\n",
        "    nn.ReLU(),\n",
        "    nn.Linear(8, 1)\n",
        ")"
      ]
    },
    {
      "cell_type": "markdown",
      "metadata": {
        "id": "Td3nntqTQ_kK"
      },
      "source": [
        "### 5.2. Training with the built-in framework"
      ]
    },
    {
      "cell_type": "code",
      "source": [
        "from torch.optim import SGD\n",
        "from torch.utils.data import TensorDataset"
      ],
      "metadata": {
        "id": "OBTAx6Jz96Z-"
      },
      "execution_count": null,
      "outputs": []
    },
    {
      "cell_type": "code",
      "execution_count": null,
      "metadata": {
        "id": "xOpVRTbbREb9",
        "colab": {
          "base_uri": "https://localhost:8080/",
          "height": 397,
          "referenced_widgets": [
            "0e151cf4839048699313af9ab43e240a",
            "65f672131d56411faf2c05e1e25a6309",
            "ba6f759782394a6785344fa5c27700d1",
            "e496c93e6513460395409f6c15515fda",
            "320acce2de3f4bcd87f0a180b95d9f6d",
            "dadd37234aa445438bb52c6b4f2d9b13",
            "f1c5afd4638047bda1faacda13307f47",
            "a286cd4fc5274d2e95da9883e4ec3a08",
            "b0af9c1ec48847c99a4340c1fa272728",
            "04a8a19ee0064bad83efbc4f33b41813",
            "053b87d54bfb454dba6b84cd79f52cca"
          ]
        },
        "outputId": "d59b641d-e919-4834-e0b8-aba921c177b9"
      },
      "outputs": [
        {
          "output_type": "display_data",
          "data": {
            "text/plain": [
              "  0%|          | 0/10 [00:00<?, ?it/s]"
            ],
            "application/vnd.jupyter.widget-view+json": {
              "version_major": 2,
              "version_minor": 0,
              "model_id": "0e151cf4839048699313af9ab43e240a"
            }
          },
          "metadata": {}
        },
        {
          "output_type": "error",
          "ename": "RuntimeError",
          "evalue": "Expected all tensors to be on the same device, but found at least two devices, cuda:0 and cpu! (when checking argument for argument mat1 in method wrapper_CUDA_addmm)",
          "traceback": [
            "\u001b[0;31m---------------------------------------------------------------------------\u001b[0m",
            "\u001b[0;31mRuntimeError\u001b[0m                              Traceback (most recent call last)",
            "\u001b[0;32m<ipython-input-11-0753abfcf305>\u001b[0m in \u001b[0;36m<cell line: 9>\u001b[0;34m()\u001b[0m\n\u001b[1;32m     14\u001b[0m     \u001b[0mx\u001b[0m\u001b[0;34m,\u001b[0m \u001b[0my_true\u001b[0m \u001b[0;34m=\u001b[0m \u001b[0mtrain_set\u001b[0m\u001b[0;34m[\u001b[0m\u001b[0mi\u001b[0m\u001b[0;34m]\u001b[0m\u001b[0;34m\u001b[0m\u001b[0;34m\u001b[0m\u001b[0m\n\u001b[1;32m     15\u001b[0m \u001b[0;34m\u001b[0m\u001b[0m\n\u001b[0;32m---> 16\u001b[0;31m     \u001b[0my_pred\u001b[0m \u001b[0;34m=\u001b[0m \u001b[0mmodel\u001b[0m\u001b[0;34m(\u001b[0m\u001b[0mx\u001b[0m\u001b[0;34m)\u001b[0m\u001b[0;34m\u001b[0m\u001b[0;34m\u001b[0m\u001b[0m\n\u001b[0m\u001b[1;32m     17\u001b[0m \u001b[0;34m\u001b[0m\u001b[0m\n\u001b[1;32m     18\u001b[0m     \u001b[0mloss\u001b[0m \u001b[0;34m=\u001b[0m \u001b[0mloss_fn\u001b[0m\u001b[0;34m(\u001b[0m\u001b[0my_true\u001b[0m\u001b[0;34m,\u001b[0m \u001b[0my_pred\u001b[0m\u001b[0;34m)\u001b[0m\u001b[0;34m\u001b[0m\u001b[0;34m\u001b[0m\u001b[0m\n",
            "\u001b[0;32m/usr/local/lib/python3.10/dist-packages/torch/nn/modules/module.py\u001b[0m in \u001b[0;36m_wrapped_call_impl\u001b[0;34m(self, *args, **kwargs)\u001b[0m\n\u001b[1;32m   1734\u001b[0m             \u001b[0;32mreturn\u001b[0m \u001b[0mself\u001b[0m\u001b[0;34m.\u001b[0m\u001b[0m_compiled_call_impl\u001b[0m\u001b[0;34m(\u001b[0m\u001b[0;34m*\u001b[0m\u001b[0margs\u001b[0m\u001b[0;34m,\u001b[0m \u001b[0;34m**\u001b[0m\u001b[0mkwargs\u001b[0m\u001b[0;34m)\u001b[0m  \u001b[0;31m# type: ignore[misc]\u001b[0m\u001b[0;34m\u001b[0m\u001b[0;34m\u001b[0m\u001b[0m\n\u001b[1;32m   1735\u001b[0m         \u001b[0;32melse\u001b[0m\u001b[0;34m:\u001b[0m\u001b[0;34m\u001b[0m\u001b[0;34m\u001b[0m\u001b[0m\n\u001b[0;32m-> 1736\u001b[0;31m             \u001b[0;32mreturn\u001b[0m \u001b[0mself\u001b[0m\u001b[0;34m.\u001b[0m\u001b[0m_call_impl\u001b[0m\u001b[0;34m(\u001b[0m\u001b[0;34m*\u001b[0m\u001b[0margs\u001b[0m\u001b[0;34m,\u001b[0m \u001b[0;34m**\u001b[0m\u001b[0mkwargs\u001b[0m\u001b[0;34m)\u001b[0m\u001b[0;34m\u001b[0m\u001b[0;34m\u001b[0m\u001b[0m\n\u001b[0m\u001b[1;32m   1737\u001b[0m \u001b[0;34m\u001b[0m\u001b[0m\n\u001b[1;32m   1738\u001b[0m     \u001b[0;31m# torchrec tests the code consistency with the following code\u001b[0m\u001b[0;34m\u001b[0m\u001b[0;34m\u001b[0m\u001b[0m\n",
            "\u001b[0;32m/usr/local/lib/python3.10/dist-packages/torch/nn/modules/module.py\u001b[0m in \u001b[0;36m_call_impl\u001b[0;34m(self, *args, **kwargs)\u001b[0m\n\u001b[1;32m   1745\u001b[0m                 \u001b[0;32mor\u001b[0m \u001b[0m_global_backward_pre_hooks\u001b[0m \u001b[0;32mor\u001b[0m \u001b[0m_global_backward_hooks\u001b[0m\u001b[0;34m\u001b[0m\u001b[0;34m\u001b[0m\u001b[0m\n\u001b[1;32m   1746\u001b[0m                 or _global_forward_hooks or _global_forward_pre_hooks):\n\u001b[0;32m-> 1747\u001b[0;31m             \u001b[0;32mreturn\u001b[0m \u001b[0mforward_call\u001b[0m\u001b[0;34m(\u001b[0m\u001b[0;34m*\u001b[0m\u001b[0margs\u001b[0m\u001b[0;34m,\u001b[0m \u001b[0;34m**\u001b[0m\u001b[0mkwargs\u001b[0m\u001b[0;34m)\u001b[0m\u001b[0;34m\u001b[0m\u001b[0;34m\u001b[0m\u001b[0m\n\u001b[0m\u001b[1;32m   1748\u001b[0m \u001b[0;34m\u001b[0m\u001b[0m\n\u001b[1;32m   1749\u001b[0m         \u001b[0mresult\u001b[0m \u001b[0;34m=\u001b[0m \u001b[0;32mNone\u001b[0m\u001b[0;34m\u001b[0m\u001b[0;34m\u001b[0m\u001b[0m\n",
            "\u001b[0;32m/usr/local/lib/python3.10/dist-packages/torch/nn/modules/container.py\u001b[0m in \u001b[0;36mforward\u001b[0;34m(self, input)\u001b[0m\n\u001b[1;32m    248\u001b[0m     \u001b[0;32mdef\u001b[0m \u001b[0mforward\u001b[0m\u001b[0;34m(\u001b[0m\u001b[0mself\u001b[0m\u001b[0;34m,\u001b[0m \u001b[0minput\u001b[0m\u001b[0;34m)\u001b[0m\u001b[0;34m:\u001b[0m\u001b[0;34m\u001b[0m\u001b[0;34m\u001b[0m\u001b[0m\n\u001b[1;32m    249\u001b[0m         \u001b[0;32mfor\u001b[0m \u001b[0mmodule\u001b[0m \u001b[0;32min\u001b[0m \u001b[0mself\u001b[0m\u001b[0;34m:\u001b[0m\u001b[0;34m\u001b[0m\u001b[0;34m\u001b[0m\u001b[0m\n\u001b[0;32m--> 250\u001b[0;31m             \u001b[0minput\u001b[0m \u001b[0;34m=\u001b[0m \u001b[0mmodule\u001b[0m\u001b[0;34m(\u001b[0m\u001b[0minput\u001b[0m\u001b[0;34m)\u001b[0m\u001b[0;34m\u001b[0m\u001b[0;34m\u001b[0m\u001b[0m\n\u001b[0m\u001b[1;32m    251\u001b[0m         \u001b[0;32mreturn\u001b[0m \u001b[0minput\u001b[0m\u001b[0;34m\u001b[0m\u001b[0;34m\u001b[0m\u001b[0m\n\u001b[1;32m    252\u001b[0m \u001b[0;34m\u001b[0m\u001b[0m\n",
            "\u001b[0;32m/usr/local/lib/python3.10/dist-packages/torch/nn/modules/module.py\u001b[0m in \u001b[0;36m_wrapped_call_impl\u001b[0;34m(self, *args, **kwargs)\u001b[0m\n\u001b[1;32m   1734\u001b[0m             \u001b[0;32mreturn\u001b[0m \u001b[0mself\u001b[0m\u001b[0;34m.\u001b[0m\u001b[0m_compiled_call_impl\u001b[0m\u001b[0;34m(\u001b[0m\u001b[0;34m*\u001b[0m\u001b[0margs\u001b[0m\u001b[0;34m,\u001b[0m \u001b[0;34m**\u001b[0m\u001b[0mkwargs\u001b[0m\u001b[0;34m)\u001b[0m  \u001b[0;31m# type: ignore[misc]\u001b[0m\u001b[0;34m\u001b[0m\u001b[0;34m\u001b[0m\u001b[0m\n\u001b[1;32m   1735\u001b[0m         \u001b[0;32melse\u001b[0m\u001b[0;34m:\u001b[0m\u001b[0;34m\u001b[0m\u001b[0;34m\u001b[0m\u001b[0m\n\u001b[0;32m-> 1736\u001b[0;31m             \u001b[0;32mreturn\u001b[0m \u001b[0mself\u001b[0m\u001b[0;34m.\u001b[0m\u001b[0m_call_impl\u001b[0m\u001b[0;34m(\u001b[0m\u001b[0;34m*\u001b[0m\u001b[0margs\u001b[0m\u001b[0;34m,\u001b[0m \u001b[0;34m**\u001b[0m\u001b[0mkwargs\u001b[0m\u001b[0;34m)\u001b[0m\u001b[0;34m\u001b[0m\u001b[0;34m\u001b[0m\u001b[0m\n\u001b[0m\u001b[1;32m   1737\u001b[0m \u001b[0;34m\u001b[0m\u001b[0m\n\u001b[1;32m   1738\u001b[0m     \u001b[0;31m# torchrec tests the code consistency with the following code\u001b[0m\u001b[0;34m\u001b[0m\u001b[0;34m\u001b[0m\u001b[0m\n",
            "\u001b[0;32m/usr/local/lib/python3.10/dist-packages/torch/nn/modules/module.py\u001b[0m in \u001b[0;36m_call_impl\u001b[0;34m(self, *args, **kwargs)\u001b[0m\n\u001b[1;32m   1745\u001b[0m                 \u001b[0;32mor\u001b[0m \u001b[0m_global_backward_pre_hooks\u001b[0m \u001b[0;32mor\u001b[0m \u001b[0m_global_backward_hooks\u001b[0m\u001b[0;34m\u001b[0m\u001b[0;34m\u001b[0m\u001b[0m\n\u001b[1;32m   1746\u001b[0m                 or _global_forward_hooks or _global_forward_pre_hooks):\n\u001b[0;32m-> 1747\u001b[0;31m             \u001b[0;32mreturn\u001b[0m \u001b[0mforward_call\u001b[0m\u001b[0;34m(\u001b[0m\u001b[0;34m*\u001b[0m\u001b[0margs\u001b[0m\u001b[0;34m,\u001b[0m \u001b[0;34m**\u001b[0m\u001b[0mkwargs\u001b[0m\u001b[0;34m)\u001b[0m\u001b[0;34m\u001b[0m\u001b[0;34m\u001b[0m\u001b[0m\n\u001b[0m\u001b[1;32m   1748\u001b[0m \u001b[0;34m\u001b[0m\u001b[0m\n\u001b[1;32m   1749\u001b[0m         \u001b[0mresult\u001b[0m \u001b[0;34m=\u001b[0m \u001b[0;32mNone\u001b[0m\u001b[0;34m\u001b[0m\u001b[0;34m\u001b[0m\u001b[0m\n",
            "\u001b[0;32m/usr/local/lib/python3.10/dist-packages/torch/nn/modules/linear.py\u001b[0m in \u001b[0;36mforward\u001b[0;34m(self, input)\u001b[0m\n\u001b[1;32m    123\u001b[0m \u001b[0;34m\u001b[0m\u001b[0m\n\u001b[1;32m    124\u001b[0m     \u001b[0;32mdef\u001b[0m \u001b[0mforward\u001b[0m\u001b[0;34m(\u001b[0m\u001b[0mself\u001b[0m\u001b[0;34m,\u001b[0m \u001b[0minput\u001b[0m\u001b[0;34m:\u001b[0m \u001b[0mTensor\u001b[0m\u001b[0;34m)\u001b[0m \u001b[0;34m->\u001b[0m \u001b[0mTensor\u001b[0m\u001b[0;34m:\u001b[0m\u001b[0;34m\u001b[0m\u001b[0;34m\u001b[0m\u001b[0m\n\u001b[0;32m--> 125\u001b[0;31m         \u001b[0;32mreturn\u001b[0m \u001b[0mF\u001b[0m\u001b[0;34m.\u001b[0m\u001b[0mlinear\u001b[0m\u001b[0;34m(\u001b[0m\u001b[0minput\u001b[0m\u001b[0;34m,\u001b[0m \u001b[0mself\u001b[0m\u001b[0;34m.\u001b[0m\u001b[0mweight\u001b[0m\u001b[0;34m,\u001b[0m \u001b[0mself\u001b[0m\u001b[0;34m.\u001b[0m\u001b[0mbias\u001b[0m\u001b[0;34m)\u001b[0m\u001b[0;34m\u001b[0m\u001b[0;34m\u001b[0m\u001b[0m\n\u001b[0m\u001b[1;32m    126\u001b[0m \u001b[0;34m\u001b[0m\u001b[0m\n\u001b[1;32m    127\u001b[0m     \u001b[0;32mdef\u001b[0m \u001b[0mextra_repr\u001b[0m\u001b[0;34m(\u001b[0m\u001b[0mself\u001b[0m\u001b[0;34m)\u001b[0m \u001b[0;34m->\u001b[0m \u001b[0mstr\u001b[0m\u001b[0;34m:\u001b[0m\u001b[0;34m\u001b[0m\u001b[0;34m\u001b[0m\u001b[0m\n",
            "\u001b[0;31mRuntimeError\u001b[0m: Expected all tensors to be on the same device, but found at least two devices, cuda:0 and cpu! (when checking argument for argument mat1 in method wrapper_CUDA_addmm)"
          ]
        }
      ],
      "source": [
        "optimizer = SGD(model.parameters(), lr=lr)\n",
        "loss_fn = nn.MSELoss()\n",
        "\n",
        "train_set = TensorDataset(x_train, y_train)\n",
        "\n",
        "num_epochs = 10\n",
        "\n",
        "losses = []\n",
        "for epoch in trange(num_epochs):\n",
        "  running_loss = 0.0\n",
        "  for i in range(len(train_set)):\n",
        "    optimizer.zero_grad()\n",
        "\n",
        "    x, y_true = train_set[i]\n",
        "\n",
        "    y_pred = model(x)\n",
        "\n",
        "    loss = loss_fn(y_true, y_pred)\n",
        "    loss.backward()\n",
        "\n",
        "    optimizer.step()\n",
        "\n",
        "    running_loss += loss.item()\n",
        "  running_loss /= len(train_set)\n",
        "  losses.append(running_loss)\n",
        "\n",
        "\n",
        "plt.plot(losses)\n",
        "plt.title(\"Train loss\")\n",
        "plt.grid(True)\n",
        "plt.show()"
      ]
    },
    {
      "cell_type": "markdown",
      "metadata": {
        "id": "SCqchuQyWHMl"
      },
      "source": [
        "-------------------\n",
        "## __6. Training on GPUs with CUDA__\n",
        "\n",
        "Teaching complex neural networks (and, in general, the production level use of trained models) involves high computational demand. For this reason, it may be worthwhile to run our model on a device capable of high parallelization (GPUs, DSPs, etc.) or pipelining (TPUs, VPUs, FPGAs). The most common such devices are GPUs, as they can easily be used to perform general-purpose SIMD (Single Instruction Multiple Data) operations. This use is also called a GPGPU (General Purpose GPU) application. Among the two major manufacturers, Nvidia and its CUDA GPGPU programming environment are more commonly used in the deep learning frameworks, but recently AMD RocM has also received PyTorch support."
      ]
    },
    {
      "cell_type": "code",
      "execution_count": null,
      "metadata": {
        "id": "T5imI0lgWNtp",
        "colab": {
          "base_uri": "https://localhost:8080/",
          "height": 484,
          "referenced_widgets": [
            "3e778b0eb4d54334a12724bb8c845acb",
            "f28c82b03de242c1990a0f044d802b08",
            "0bd111fc72de471195614c70f58da2f1",
            "c23646cdbadb45a981ef4c716a2c2ea4",
            "d5d2e3c0ba764ccabb486cb24890df40",
            "40a35a63dbae4a46981b499946cc8046",
            "cc8fc7f7b3f341208ce3afc92c83fe7e",
            "d6c02e6455c64cf59facdb45bfe11f9d",
            "063fb3e6e5884891a2692a899d172104",
            "3317516e0fb9431ca43f27f66a7284a1",
            "cf16fe63f8624fc19748855640c281ff"
          ]
        },
        "outputId": "8ace3adc-24bf-4d44-c5b4-231025e1b134"
      },
      "outputs": [
        {
          "output_type": "display_data",
          "data": {
            "text/plain": [
              "  0%|          | 0/10 [00:00<?, ?it/s]"
            ],
            "application/vnd.jupyter.widget-view+json": {
              "version_major": 2,
              "version_minor": 0,
              "model_id": "3e778b0eb4d54334a12724bb8c845acb"
            }
          },
          "metadata": {}
        },
        {
          "output_type": "display_data",
          "data": {
            "text/plain": [
              "<Figure size 640x480 with 1 Axes>"
            ],
            "image/png": "[encoded data removed]"
          },
          "metadata": {}
        }
      ],
      "source": [
        "model = model.to(\"cuda\")\n",
        "\n",
        "optimizer = SGD(model.parameters(), lr=lr)\n",
        "loss_fn = nn.MSELoss()\n",
        "\n",
        "train_set = TensorDataset(x_train, y_train)\n",
        "\n",
        "num_epochs = 10\n",
        "\n",
        "losses = []\n",
        "for epoch in trange(num_epochs):\n",
        "  running_loss = 0.0\n",
        "  for i in range(len(train_set)):\n",
        "    optimizer.zero_grad()\n",
        "\n",
        "    x, y_true = train_set[i]\n",
        "    x, y_true = x.to(\"cuda\"), y_true.to(\"cuda\")\n",
        "\n",
        "    y_pred = model(x)\n",
        "\n",
        "    loss = loss_fn(y_true, y_pred)\n",
        "    loss.backward()\n",
        "\n",
        "    optimizer.step()\n",
        "\n",
        "    running_loss += loss.item()\n",
        "  running_loss /= len(train_set)\n",
        "  losses.append(running_loss)\n",
        "\n",
        "\n",
        "plt.plot(losses)\n",
        "plt.title(\"Train loss\")\n",
        "plt.grid(True)\n",
        "plt.show()"
      ]
    },
    {
      "cell_type": "markdown",
      "metadata": {
        "id": "0M2I4pr6ewTB"
      },
      "source": [
        "-------------------\n",
        "## __7. Validation__\n",
        "\n",
        "When training neural networks, the data set is usually divided into three main parts: __training__, __validation__ and __test__ sets.\n",
        "- The inputs and outputs of the teaching set are actively involved in the training. The training inputs are passed to the network and the training outputs are compared with the predictions of the network in the error function, and then the optimization takes place based on the error.\n",
        "- The usage of the validation data is more indirect than that but it is still important during training. In an epoch, we calculate the loss between the predictions and the reference outputs in \"eval\" mode. This provides an estimate of how the network performs on data that the network is not optimized on, i.e. the generalization of the network. The only problem with this data is that in different experiments, as we tune the training hyperparameters for better performance (which includes generalization), we have the potential to tune the parameters to perform well on the validation data. That is why we use the test set.\n",
        "- The test set is not used during training epochs, their role is emphasized in the evaluation of the real performance of the network. Test data can provide information about what the actual performance of the network is on data that has not played any role during training.\n",
        "\n",
        "---------------------\n",
        "### _Know your data_\n",
        "The performance of deep learning techniques (especially for supervised learning) largely depends on the quality of the data. Both training, validation and test data can be considered of good quality if they cover the \"interpretation range\" and \"value set\" of the task as best and as evenly as possible. This means that during teaching, the network should preferably be prepared uniformly for all input types, and the distribution of distinguishable output types should ideally be close to uniform. During the validation and test, we also get a real picture of the performance of the network if all possible cases are included in the performance measurement."
      ]
    },
    {
      "cell_type": "code",
      "execution_count": null,
      "metadata": {
        "id": "iZOE9fKnexe6"
      },
      "outputs": [],
      "source": []
    }
  ],
  "metadata": {
    "colab": {
      "provenance": [],
      "name": "ip_practice10",
      "gpuType": "T4",
      "include_colab_link": true
    },
    "kernelspec": {
      "display_name": "Python 3",
      "name": "python3"
    },
    "language_info": {
      "codemirror_mode": {
        "name": "ipython",
        "version": 3
      },
      "file_extension": ".py",
      "mimetype": "text/x-python",
      "name": "python",
      "nbconvert_exporter": "python",
      "pygments_lexer": "ipython3",
      "version": "3.10.6"
    },
    "vscode": {
      "interpreter": {
        "hash": "5fb6c87ea7f1979dd9c20712fd9646546ddc6abdf3547fbca14f652bc3ca0d7c"
      }
    },
    "accelerator": "GPU",
    "widgets": {
      "application/vnd.jupyter.widget-state+json": {
        "0e151cf4839048699313af9ab43e240a": {
          "model_module": "@jupyter-widgets/controls",
          "model_name": "HBoxModel",
          "model_module_version": "1.5.0",
          "state": {
            "_dom_classes": [],
            "_model_module": "@jupyter-widgets/controls",
            "_model_module_version": "1.5.0",
            "_model_name": "HBoxModel",
            "_view_count": null,
            "_view_module": "@jupyter-widgets/controls",
            "_view_module_version": "1.5.0",
            "_view_name": "HBoxView",
            "box_style": "",
            "children": [
              "IPY_MODEL_65f672131d56411faf2c05e1e25a6309",
              "IPY_MODEL_ba6f759782394a6785344fa5c27700d1",
              "IPY_MODEL_e496c93e6513460395409f6c15515fda"
            ],
            "layout": "IPY_MODEL_320acce2de3f4bcd87f0a180b95d9f6d"
          }
        },
        "65f672131d56411faf2c05e1e25a6309": {
          "model_module": "@jupyter-widgets/controls",
          "model_name": "HTMLModel",
          "model_module_version": "1.5.0",
          "state": {
            "_dom_classes": [],
            "_model_module": "@jupyter-widgets/controls",
            "_model_module_version": "1.5.0",
            "_model_name": "HTMLModel",
            "_view_count": null,
            "_view_module": "@jupyter-widgets/controls",
            "_view_module_version": "1.5.0",
            "_view_name": "HTMLView",
            "description": "",
            "description_tooltip": null,
            "layout": "IPY_MODEL_dadd37234aa445438bb52c6b4f2d9b13",
            "placeholder": "​",
            "style": "IPY_MODEL_f1c5afd4638047bda1faacda13307f47",
            "value": "  0%"
          }
        },
        "ba6f759782394a6785344fa5c27700d1": {
          "model_module": "@jupyter-widgets/controls",
          "model_name": "FloatProgressModel",
          "model_module_version": "1.5.0",
          "state": {
            "_dom_classes": [],
            "_model_module": "@jupyter-widgets/controls",
            "_model_module_version": "1.5.0",
            "_model_name": "FloatProgressModel",
            "_view_count": null,
            "_view_module": "@jupyter-widgets/controls",
            "_view_module_version": "1.5.0",
            "_view_name": "ProgressView",
            "bar_style": "danger",
            "description": "",
            "description_tooltip": null,
            "layout": "IPY_MODEL_a286cd4fc5274d2e95da9883e4ec3a08",
            "max": 10,
            "min": 0,
            "orientation": "horizontal",
            "style": "IPY_MODEL_b0af9c1ec48847c99a4340c1fa272728",
            "value": 0
          }
        },
        "e496c93e6513460395409f6c15515fda": {
          "model_module": "@jupyter-widgets/controls",
          "model_name": "HTMLModel",
          "model_module_version": "1.5.0",
          "state": {
            "_dom_classes": [],
            "_model_module": "@jupyter-widgets/controls",
            "_model_module_version": "1.5.0",
            "_model_name": "HTMLModel",
            "_view_count": null,
            "_view_module": "@jupyter-widgets/controls",
            "_view_module_version": "1.5.0",
            "_view_name": "HTMLView",
            "description": "",
            "description_tooltip": null,
            "layout": "IPY_MODEL_04a8a19ee0064bad83efbc4f33b41813",
            "placeholder": "​",
            "style": "IPY_MODEL_053b87d54bfb454dba6b84cd79f52cca",
            "value": " 0/10 [00:00&lt;?, ?it/s]"
          }
        },
        "320acce2de3f4bcd87f0a180b95d9f6d": {
          "model_module": "@jupyter-widgets/base",
          "model_name": "LayoutModel",
          "model_module_version": "1.2.0",
          "state": {
            "_model_module": "@jupyter-widgets/base",
            "_model_module_version": "1.2.0",
            "_model_name": "LayoutModel",
            "_view_count": null,
            "_view_module": "@jupyter-widgets/base",
            "_view_module_version": "1.2.0",
            "_view_name": "LayoutView",
            "align_content": null,
            "align_items": null,
            "align_self": null,
            "border": null,
            "bottom": null,
            "display": null,
            "flex": null,
            "flex_flow": null,
            "grid_area": null,
            "grid_auto_columns": null,
            "grid_auto_flow": null,
            "grid_auto_rows": null,
            "grid_column": null,
            "grid_gap": null,
            "grid_row": null,
            "grid_template_areas": null,
            "grid_template_columns": null,
            "grid_template_rows": null,
            "height": null,
            "justify_content": null,
            "justify_items": null,
            "left": null,
            "margin": null,
            "max_height": null,
            "max_width": null,
            "min_height": null,
            "min_width": null,
            "object_fit": null,
            "object_position": null,
            "order": null,
            "overflow": null,
            "overflow_x": null,
            "overflow_y": null,
            "padding": null,
            "right": null,
            "top": null,
            "visibility": null,
            "width": null
          }
        },
        "dadd37234aa445438bb52c6b4f2d9b13": {
          "model_module": "@jupyter-widgets/base",
          "model_name": "LayoutModel",
          "model_module_version": "1.2.0",
          "state": {
            "_model_module": "@jupyter-widgets/base",
            "_model_module_version": "1.2.0",
            "_model_name": "LayoutModel",
            "_view_count": null,
            "_view_module": "@jupyter-widgets/base",
            "_view_module_version": "1.2.0",
            "_view_name": "LayoutView",
            "align_content": null,
            "align_items": null,
            "align_self": null,
            "border": null,
            "bottom": null,
            "display": null,
            "flex": null,
            "flex_flow": null,
            "grid_area": null,
            "grid_auto_columns": null,
            "grid_auto_flow": null,
            "grid_auto_rows": null,
            "grid_column": null,
            "grid_gap": null,
            "grid_row": null,
            "grid_template_areas": null,
            "grid_template_columns": null,
            "grid_template_rows": null,
            "height": null,
            "justify_content": null,
            "justify_items": null,
            "left": null,
            "margin": null,
            "max_height": null,
            "max_width": null,
            "min_height": null,
            "min_width": null,
            "object_fit": null,
            "object_position": null,
            "order": null,
            "overflow": null,
            "overflow_x": null,
            "overflow_y": null,
            "padding": null,
            "right": null,
            "top": null,
            "visibility": null,
            "width": null
          }
        },
        "f1c5afd4638047bda1faacda13307f47": {
          "model_module": "@jupyter-widgets/controls",
          "model_name": "DescriptionStyleModel",
          "model_module_version": "1.5.0",
          "state": {
            "_model_module": "@jupyter-widgets/controls",
            "_model_module_version": "1.5.0",
            "_model_name": "DescriptionStyleModel",
            "_view_count": null,
            "_view_module": "@jupyter-widgets/base",
            "_view_module_version": "1.2.0",
            "_view_name": "StyleView",
            "description_width": ""
          }
        },
        "a286cd4fc5274d2e95da9883e4ec3a08": {
          "model_module": "@jupyter-widgets/base",
          "model_name": "LayoutModel",
          "model_module_version": "1.2.0",
          "state": {
            "_model_module": "@jupyter-widgets/base",
            "_model_module_version": "1.2.0",
            "_model_name": "LayoutModel",
            "_view_count": null,
            "_view_module": "@jupyter-widgets/base",
            "_view_module_version": "1.2.0",
            "_view_name": "LayoutView",
            "align_content": null,
            "align_items": null,
            "align_self": null,
            "border": null,
            "bottom": null,
            "display": null,
            "flex": null,
            "flex_flow": null,
            "grid_area": null,
            "grid_auto_columns": null,
            "grid_auto_flow": null,
            "grid_auto_rows": null,
            "grid_column": null,
            "grid_gap": null,
            "grid_row": null,
            "grid_template_areas": null,
            "grid_template_columns": null,
            "grid_template_rows": null,
            "height": null,
            "justify_content": null,
            "justify_items": null,
            "left": null,
            "margin": null,
            "max_height": null,
            "max_width": null,
            "min_height": null,
            "min_width": null,
            "object_fit": null,
            "object_position": null,
            "order": null,
            "overflow": null,
            "overflow_x": null,
            "overflow_y": null,
            "padding": null,
            "right": null,
            "top": null,
            "visibility": null,
            "width": null
          }
        },
        "b0af9c1ec48847c99a4340c1fa272728": {
          "model_module": "@jupyter-widgets/controls",
          "model_name": "ProgressStyleModel",
          "model_module_version": "1.5.0",
          "state": {
            "_model_module": "@jupyter-widgets/controls",
            "_model_module_version": "1.5.0",
            "_model_name": "ProgressStyleModel",
            "_view_count": null,
            "_view_module": "@jupyter-widgets/base",
            "_view_module_version": "1.2.0",
            "_view_name": "StyleView",
            "bar_color": null,
            "description_width": ""
          }
        },
        "04a8a19ee0064bad83efbc4f33b41813": {
          "model_module": "@jupyter-widgets/base",
          "model_name": "LayoutModel",
          "model_module_version": "1.2.0",
          "state": {
            "_model_module": "@jupyter-widgets/base",
            "_model_module_version": "1.2.0",
            "_model_name": "LayoutModel",
            "_view_count": null,
            "_view_module": "@jupyter-widgets/base",
            "_view_module_version": "1.2.0",
            "_view_name": "LayoutView",
            "align_content": null,
            "align_items": null,
            "align_self": null,
            "border": null,
            "bottom": null,
            "display": null,
            "flex": null,
            "flex_flow": null,
            "grid_area": null,
            "grid_auto_columns": null,
            "grid_auto_flow": null,
            "grid_auto_rows": null,
            "grid_column": null,
            "grid_gap": null,
            "grid_row": null,
            "grid_template_areas": null,
            "grid_template_columns": null,
            "grid_template_rows": null,
            "height": null,
            "justify_content": null,
            "justify_items": null,
            "left": null,
            "margin": null,
            "max_height": null,
            "max_width": null,
            "min_height": null,
            "min_width": null,
            "object_fit": null,
            "object_position": null,
            "order": null,
            "overflow": null,
            "overflow_x": null,
            "overflow_y": null,
            "padding": null,
            "right": null,
            "top": null,
            "visibility": null,
            "width": null
          }
        },
        "053b87d54bfb454dba6b84cd79f52cca": {
          "model_module": "@jupyter-widgets/controls",
          "model_name": "DescriptionStyleModel",
          "model_module_version": "1.5.0",
          "state": {
            "_model_module": "@jupyter-widgets/controls",
            "_model_module_version": "1.5.0",
            "_model_name": "DescriptionStyleModel",
            "_view_count": null,
            "_view_module": "@jupyter-widgets/base",
            "_view_module_version": "1.2.0",
            "_view_name": "StyleView",
            "description_width": ""
          }
        },
        "3e778b0eb4d54334a12724bb8c845acb": {
          "model_module": "@jupyter-widgets/controls",
          "model_name": "HBoxModel",
          "model_module_version": "1.5.0",
          "state": {
            "_dom_classes": [],
            "_model_module": "@jupyter-widgets/controls",
            "_model_module_version": "1.5.0",
            "_model_name": "HBoxModel",
            "_view_count": null,
            "_view_module": "@jupyter-widgets/controls",
            "_view_module_version": "1.5.0",
            "_view_name": "HBoxView",
            "box_style": "",
            "children": [
              "IPY_MODEL_f28c82b03de242c1990a0f044d802b08",
              "IPY_MODEL_0bd111fc72de471195614c70f58da2f1",
              "IPY_MODEL_c23646cdbadb45a981ef4c716a2c2ea4"
            ],
            "layout": "IPY_MODEL_d5d2e3c0ba764ccabb486cb24890df40"
          }
        },
        "f28c82b03de242c1990a0f044d802b08": {
          "model_module": "@jupyter-widgets/controls",
          "model_name": "HTMLModel",
          "model_module_version": "1.5.0",
          "state": {
            "_dom_classes": [],
            "_model_module": "@jupyter-widgets/controls",
            "_model_module_version": "1.5.0",
            "_model_name": "HTMLModel",
            "_view_count": null,
            "_view_module": "@jupyter-widgets/controls",
            "_view_module_version": "1.5.0",
            "_view_name": "HTMLView",
            "description": "",
            "description_tooltip": null,
            "layout": "IPY_MODEL_40a35a63dbae4a46981b499946cc8046",
            "placeholder": "​",
            "style": "IPY_MODEL_cc8fc7f7b3f341208ce3afc92c83fe7e",
            "value": "100%"
          }
        },
        "0bd111fc72de471195614c70f58da2f1": {
          "model_module": "@jupyter-widgets/controls",
          "model_name": "FloatProgressModel",
          "model_module_version": "1.5.0",
          "state": {
            "_dom_classes": [],
            "_model_module": "@jupyter-widgets/controls",
            "_model_module_version": "1.5.0",
            "_model_name": "FloatProgressModel",
            "_view_count": null,
            "_view_module": "@jupyter-widgets/controls",
            "_view_module_version": "1.5.0",
            "_view_name": "ProgressView",
            "bar_style": "success",
            "description": "",
            "description_tooltip": null,
            "layout": "IPY_MODEL_d6c02e6455c64cf59facdb45bfe11f9d",
            "max": 10,
            "min": 0,
            "orientation": "horizontal",
            "style": "IPY_MODEL_063fb3e6e5884891a2692a899d172104",
            "value": 10
          }
        },
        "c23646cdbadb45a981ef4c716a2c2ea4": {
          "model_module": "@jupyter-widgets/controls",
          "model_name": "HTMLModel",
          "model_module_version": "1.5.0",
          "state": {
            "_dom_classes": [],
            "_model_module": "@jupyter-widgets/controls",
            "_model_module_version": "1.5.0",
            "_model_name": "HTMLModel",
            "_view_count": null,
            "_view_module": "@jupyter-widgets/controls",
            "_view_module_version": "1.5.0",
            "_view_name": "HTMLView",
            "description": "",
            "description_tooltip": null,
            "layout": "IPY_MODEL_3317516e0fb9431ca43f27f66a7284a1",
            "placeholder": "​",
            "style": "IPY_MODEL_cf16fe63f8624fc19748855640c281ff",
            "value": " 10/10 [02:07&lt;00:00, 12.71s/it]"
          }
        },
        "d5d2e3c0ba764ccabb486cb24890df40": {
          "model_module": "@jupyter-widgets/base",
          "model_name": "LayoutModel",
          "model_module_version": "1.2.0",
          "state": {
            "_model_module": "@jupyter-widgets/base",
            "_model_module_version": "1.2.0",
            "_model_name": "LayoutModel",
            "_view_count": null,
            "_view_module": "@jupyter-widgets/base",
            "_view_module_version": "1.2.0",
            "_view_name": "LayoutView",
            "align_content": null,
            "align_items": null,
            "align_self": null,
            "border": null,
            "bottom": null,
            "display": null,
            "flex": null,
            "flex_flow": null,
            "grid_area": null,
            "grid_auto_columns": null,
            "grid_auto_flow": null,
            "grid_auto_rows": null,
            "grid_column": null,
            "grid_gap": null,
            "grid_row": null,
            "grid_template_areas": null,
            "grid_template_columns": null,
            "grid_template_rows": null,
            "height": null,
            "justify_content": null,
            "justify_items": null,
            "left": null,
            "margin": null,
            "max_height": null,
            "max_width": null,
            "min_height": null,
            "min_width": null,
            "object_fit": null,
            "object_position": null,
            "order": null,
            "overflow": null,
            "overflow_x": null,
            "overflow_y": null,
            "padding": null,
            "right": null,
            "top": null,
            "visibility": null,
            "width": null
          }
        },
        "40a35a63dbae4a46981b499946cc8046": {
          "model_module": "@jupyter-widgets/base",
          "model_name": "LayoutModel",
          "model_module_version": "1.2.0",
          "state": {
            "_model_module": "@jupyter-widgets/base",
            "_model_module_version": "1.2.0",
            "_model_name": "LayoutModel",
            "_view_count": null,
            "_view_module": "@jupyter-widgets/base",
            "_view_module_version": "1.2.0",
            "_view_name": "LayoutView",
            "align_content": null,
            "align_items": null,
            "align_self": null,
            "border": null,
            "bottom": null,
            "display": null,
            "flex": null,
            "flex_flow": null,
            "grid_area": null,
            "grid_auto_columns": null,
            "grid_auto_flow": null,
            "grid_auto_rows": null,
            "grid_column": null,
            "grid_gap": null,
            "grid_row": null,
            "grid_template_areas": null,
            "grid_template_columns": null,
            "grid_template_rows": null,
            "height": null,
            "justify_content": null,
            "justify_items": null,
            "left": null,
            "margin": null,
            "max_height": null,
            "max_width": null,
            "min_height": null,
            "min_width": null,
            "object_fit": null,
            "object_position": null,
            "order": null,
            "overflow": null,
            "overflow_x": null,
            "overflow_y": null,
            "padding": null,
            "right": null,
            "top": null,
            "visibility": null,
            "width": null
          }
        },
        "cc8fc7f7b3f341208ce3afc92c83fe7e": {
          "model_module": "@jupyter-widgets/controls",
          "model_name": "DescriptionStyleModel",
          "model_module_version": "1.5.0",
          "state": {
            "_model_module": "@jupyter-widgets/controls",
            "_model_module_version": "1.5.0",
            "_model_name": "DescriptionStyleModel",
            "_view_count": null,
            "_view_module": "@jupyter-widgets/base",
            "_view_module_version": "1.2.0",
            "_view_name": "StyleView",
            "description_width": ""
          }
        },
        "d6c02e6455c64cf59facdb45bfe11f9d": {
          "model_module": "@jupyter-widgets/base",
          "model_name": "LayoutModel",
          "model_module_version": "1.2.0",
          "state": {
            "_model_module": "@jupyter-widgets/base",
            "_model_module_version": "1.2.0",
            "_model_name": "LayoutModel",
            "_view_count": null,
            "_view_module": "@jupyter-widgets/base",
            "_view_module_version": "1.2.0",
            "_view_name": "LayoutView",
            "align_content": null,
            "align_items": null,
            "align_self": null,
            "border": null,
            "bottom": null,
            "display": null,
            "flex": null,
            "flex_flow": null,
            "grid_area": null,
            "grid_auto_columns": null,
            "grid_auto_flow": null,
            "grid_auto_rows": null,
            "grid_column": null,
            "grid_gap": null,
            "grid_row": null,
            "grid_template_areas": null,
            "grid_template_columns": null,
            "grid_template_rows": null,
            "height": null,
            "justify_content": null,
            "justify_items": null,
            "left": null,
            "margin": null,
            "max_height": null,
            "max_width": null,
            "min_height": null,
            "min_width": null,
            "object_fit": null,
            "object_position": null,
            "order": null,
            "overflow": null,
            "overflow_x": null,
            "overflow_y": null,
            "padding": null,
            "right": null,
            "top": null,
            "visibility": null,
            "width": null
          }
        },
        "063fb3e6e5884891a2692a899d172104": {
          "model_module": "@jupyter-widgets/controls",
          "model_name": "ProgressStyleModel",
          "model_module_version": "1.5.0",
          "state": {
            "_model_module": "@jupyter-widgets/controls",
            "_model_module_version": "1.5.0",
            "_model_name": "ProgressStyleModel",
            "_view_count": null,
            "_view_module": "@jupyter-widgets/base",
            "_view_module_version": "1.2.0",
            "_view_name": "StyleView",
            "bar_color": null,
            "description_width": ""
          }
        },
        "3317516e0fb9431ca43f27f66a7284a1": {
          "model_module": "@jupyter-widgets/base",
          "model_name": "LayoutModel",
          "model_module_version": "1.2.0",
          "state": {
            "_model_module": "@jupyter-widgets/base",
            "_model_module_version": "1.2.0",
            "_model_name": "LayoutModel",
            "_view_count": null,
            "_view_module": "@jupyter-widgets/base",
            "_view_module_version": "1.2.0",
            "_view_name": "LayoutView",
            "align_content": null,
            "align_items": null,
            "align_self": null,
            "border": null,
            "bottom": null,
            "display": null,
            "flex": null,
            "flex_flow": null,
            "grid_area": null,
            "grid_auto_columns": null,
            "grid_auto_flow": null,
            "grid_auto_rows": null,
            "grid_column": null,
            "grid_gap": null,
            "grid_row": null,
            "grid_template_areas": null,
            "grid_template_columns": null,
            "grid_template_rows": null,
            "height": null,
            "justify_content": null,
            "justify_items": null,
            "left": null,
            "margin": null,
            "max_height": null,
            "max_width": null,
            "min_height": null,
            "min_width": null,
            "object_fit": null,
            "object_position": null,
            "order": null,
            "overflow": null,
            "overflow_x": null,
            "overflow_y": null,
            "padding": null,
            "right": null,
            "top": null,
            "visibility": null,
            "width": null
          }
        },
        "cf16fe63f8624fc19748855640c281ff": {
          "model_module": "@jupyter-widgets/controls",
          "model_name": "DescriptionStyleModel",
          "model_module_version": "1.5.0",
          "state": {
            "_model_module": "@jupyter-widgets/controls",
            "_model_module_version": "1.5.0",
            "_model_name": "DescriptionStyleModel",
            "_view_count": null,
            "_view_module": "@jupyter-widgets/base",
            "_view_module_version": "1.2.0",
            "_view_name": "StyleView",
            "description_width": ""
          }
        }
      }
    }
  },
  "nbformat": 4,
  "nbformat_minor": 0
}