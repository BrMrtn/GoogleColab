{
  "nbformat": 4,
  "nbformat_minor": 0,
  "metadata": {
    "colab": {
      "provenance": [],
      "authorship_tag": "ABX9TyNtKBgjWMNShl+JL62oEkz0",
      "include_colab_link": true
    },
    "kernelspec": {
      "name": "python3",
      "display_name": "Python 3"
    },
    "language_info": {
      "name": "python"
    }
  },
  "cells": [
    {
      "cell_type": "markdown",
      "metadata": {
        "id": "view-in-github",
        "colab_type": "text"
      },
      "source": [
        "<a href=\"https://colab.research.google.com/github/BrMrtn/GoogleColab/blob/main/K%C3%A9pfeldolgoz%C3%A1s/khf4_vintage.ipynb\" target=\"_parent\"><img src=\"https://colab.research.google.com/assets/colab-badge.svg\" alt=\"Open In Colab\"/></a>"
      ]
    },
    {
      "cell_type": "code",
      "execution_count": 2,
      "metadata": {
        "id": "nBdinkoL3cNu"
      },
      "outputs": [],
      "source": [
        "from PIL import Image, ImageEnhance, ImageFilter, ImageOps\n",
        "import cv2\n",
        "import numpy as np\n",
        "import matplotlib.pyplot as plt"
      ]
    },
    {
      "cell_type": "code",
      "source": [
        "!wget https://raw.githubusercontent.com/BrMrtn/GoogleColab/main/resources/me.jpg"
      ],
      "metadata": {
        "id": "thWvQZRcecnm",
        "outputId": "055e382a-74ee-4e22-8f6f-3bb7d4cd9b3f",
        "colab": {
          "base_uri": "https://localhost:8080/"
        }
      },
      "execution_count": 3,
      "outputs": [
        {
          "output_type": "stream",
          "name": "stdout",
          "text": [
            "--2024-12-03 21:42:54--  https://raw.githubusercontent.com/BrMrtn/GoogleColab/main/resources/me.jpg\n",
            "Resolving raw.githubusercontent.com (raw.githubusercontent.com)... 185.199.108.133, 185.199.109.133, 185.199.110.133, ...\n",
            "Connecting to raw.githubusercontent.com (raw.githubusercontent.com)|185.199.108.133|:443... connected.\n",
            "HTTP request sent, awaiting response... 200 OK\n",
            "Length: 186400 (182K) [image/jpeg]\n",
            "Saving to: ‘me.jpg.1’\n",
            "\n",
            "me.jpg.1            100%[===================>] 182.03K  --.-KB/s    in 0.1s    \n",
            "\n",
            "2024-12-03 21:42:55 (1.26 MB/s) - ‘me.jpg.1’ saved [186400/186400]\n",
            "\n"
          ]
        }
      ]
    },
    {
      "cell_type": "code",
      "source": [
        "# Kép betöltése\n",
        "img = cv2.imread('me.jpg')\n",
        "img = cv2.cvtColor(img, cv2.COLOR_BGR2RGB)\n",
        "\n",
        "# Képszín megváltoztatása\n",
        "\n",
        "\n",
        "# Vignettálás\n",
        "\n",
        "# Gyenge kontraszt\n",
        "\n",
        "# Zaj (folt, hajtás, szakadás) hozzáadása\n",
        "\n",
        "# Képkeret"
      ],
      "metadata": {
        "id": "e2-GYQMhelWf"
      },
      "execution_count": null,
      "outputs": []
    }
  ]
}