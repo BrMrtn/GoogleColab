{
  "nbformat": 4,
  "nbformat_minor": 0,
  "metadata": {
    "colab": {
      "provenance": [],
      "authorship_tag": "ABX9TyMiu6SKgOmtLN9YzwpQRG3C",
      "include_colab_link": true
    },
    "kernelspec": {
      "name": "python3",
      "display_name": "Python 3"
    },
    "language_info": {
      "name": "python"
    }
  },
  "cells": [
    {
      "cell_type": "markdown",
      "metadata": {
        "id": "view-in-github",
        "colab_type": "text"
      },
      "source": [
        "<a href=\"https://colab.research.google.com/github/BrMrtn/GoogleColab/blob/main/K%C3%A9pfeldolgoz%C3%A1s/khf1_3_Tatcher.ipynb\" target=\"_parent\"><img src=\"https://colab.research.google.com/assets/colab-badge.svg\" alt=\"Open In Colab\"/></a>"
      ]
    },
    {
      "cell_type": "markdown",
      "source": [
        "Könyvtárak importálása"
      ],
      "metadata": {
        "id": "Z0vqA6j93tT-"
      }
    },
    {
      "cell_type": "code",
      "execution_count": null,
      "metadata": {
        "id": "Ltzo61pHsqmf"
      },
      "outputs": [],
      "source": [
        "import cv2\n",
        "import numpy as np"
      ]
    },
    {
      "cell_type": "markdown",
      "source": [
        "képek letölétése"
      ],
      "metadata": {
        "id": "ZxfIogng3wLV"
      }
    },
    {
      "cell_type": "code",
      "source": [
        "!wget https://raw.githubusercontent.com/BrMrtn/GoogleColab/main/resources/Lawrence.png\n",
        "!wget https://raw.githubusercontent.com/BrMrtn/GoogleColab/main/resources/Reynolds.png"
      ],
      "metadata": {
        "id": "DbFjL00n7iKk"
      },
      "execution_count": null,
      "outputs": []
    },
    {
      "cell_type": "code",
      "source": [
        "# Load Haar cascade classifiers for face, eyes, and mouth\n",
        "face_cascade = cv2.CascadeClassifier(cv2.data.haarcascades + 'haarcascade_frontalface_default.xml')\n",
        "eye_cascade = cv2.CascadeClassifier(cv2.data.haarcascades + 'haarcascade_eye.xml')\n",
        "mouth_cascade = cv2.CascadeClassifier(cv2.data.haarcascades + 'haarcascade_smile.xml')  # Smile as a proxy for mouth"
      ],
      "metadata": {
        "id": "Ud0v-w9n7nUA"
      },
      "execution_count": null,
      "outputs": []
    },
    {
      "cell_type": "code",
      "source": [
        "def create_thatcher_illusion(image_path):\n",
        "    # Load the image\n",
        "    image = cv2.imread(image_path)\n",
        "    gray = cv2.cvtColor(image, cv2.COLOR_BGR2GRAY)\n",
        "\n",
        "    # Detect face\n",
        "    faces = face_cascade.detectMultiScale(gray, 1.3, 5)\n",
        "    for (x, y, w, h) in faces:\n",
        "        # Draw rectangle around the face (optional)\n",
        "        # cv2.rectangle(image, (x, y), (x+w, y+h), (255, 0, 0), 2)\n",
        "\n",
        "        # Region of interest for eyes and mouth within the face\n",
        "        roi_gray = gray[y:y+h, x:x+w]\n",
        "        roi_color = image[y:y+h, x:x+w]\n",
        "\n",
        "        # Detect eyes\n",
        "        eyes = eye_cascade.detectMultiScale(roi_gray, 1.1, 10)\n",
        "        eye_regions = []\n",
        "        for (ex, ey, ew, eh) in eyes[:2]:  # Limit to first two detected eyes\n",
        "            eye_region = roi_color[ey:ey+eh, ex:ex+ew]\n",
        "            eye_regions.append((ex, ey, ew, eh, eye_region))\n",
        "\n",
        "        # Rotate each eye region\n",
        "        for (ex, ey, ew, eh, eye_region) in eye_regions:\n",
        "            rotated_eye = cv2.rotate(eye_region, cv2.ROTATE_180)\n",
        "            roi_color[ey:ey+eh, ex:ex+ew] = rotated_eye\n",
        "\n",
        "        # Detect mouth (using smile classifier as a proxy)\n",
        "        mouths = mouth_cascade.detectMultiScale(roi_gray, 1.7, 22)\n",
        "        if len(mouths) > 0:\n",
        "            (mx, my, mw, mh) = mouths[0]  # Take the first detected mouth\n",
        "            mouth_region = roi_color[my:my+mh, mx:mx+mw]\n",
        "\n",
        "            # Rotate mouth region\n",
        "            rotated_mouth = cv2.rotate(mouth_region, cv2.ROTATE_180)\n",
        "            roi_color[my:my+mh, mx:mx+mw] = rotated_mouth\n",
        "\n",
        "    # Rotate the entire image by 180 degrees\n",
        "    thatcher_image = cv2.rotate(image, cv2.ROTATE_180)\n",
        "\n",
        "    # Save and display the result\n",
        "    cv2.imwrite('thatcher_illusion.png', thatcher_image)\n",
        "    cv2.imshow('Thatcher Illusion', thatcher_image)\n",
        "    cv2.waitKey(0)\n",
        "    cv2.destroyAllWindows()\n",
        "\n",
        "# Example usage\n",
        "create_thatcher_illusion('/path/to/your/image.jpg')"
      ],
      "metadata": {
        "id": "oHiSuehC7-4x"
      },
      "execution_count": null,
      "outputs": []
    }
  ]
}